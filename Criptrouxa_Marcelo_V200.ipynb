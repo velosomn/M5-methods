{
  "cells": [
    {
      "cell_type": "markdown",
      "metadata": {
        "id": "view-in-github",
        "colab_type": "text"
      },
      "source": [
        "<a href=\"https://colab.research.google.com/github/velosomn/M5-methods/blob/master/Criptrouxa_Marcelo_V200.ipynb\" target=\"_parent\"><img src=\"https://colab.research.google.com/assets/colab-badge.svg\" alt=\"Open In Colab\"/></a>"
      ]
    },
    {
      "cell_type": "code",
      "execution_count": 1,
      "metadata": {
        "id": "FHTzjvYGJgmI",
        "scrolled": true
      },
      "outputs": [],
      "source": [
        "# This Python 3 environment comes with many helpful analytics libraries installed\n",
        "# It is defined by the kaggle/python Docker image: https://github.com/kaggle/docker-python\n",
        "# For example, here's several helpful packages to load\n",
        "\n",
        "import numpy as np # linear algebra\n",
        "import pandas as pd # data processing, CSV file I/O (e.g. pd.read_csv)\n",
        "\n",
        "# Input data files are available in the read-only \"../input/\" directory\n",
        "# For example, running this (by clicking run or pressing Shift+Enter) will list all files under the input directory\n",
        "\n",
        "import os\n",
        "for dirname, _, filenames in os.walk('/kaggle/input'):\n",
        "    for filename in filenames:\n",
        "        print(os.path.join(dirname, filename))\n",
        "\n",
        "# You can write up to 20GB to the current directory (/kaggle/working/) that gets preserved as output when you create a version using \"Save & Run All\" \n",
        "# You can also write temporary files to /kaggle/temp/, but they won't be saved outside of the current session"
      ]
    },
    {
      "cell_type": "code",
      "execution_count": 2,
      "metadata": {
        "id": "oSXRGGDCJgmM"
      },
      "outputs": [],
      "source": [
        "import pandas as pd\n",
        "import numpy as np\n",
        "from datetime import datetime\n",
        "import pickle as pk\n",
        "import os, sys, gc, time, warnings, pickle, psutil, random\n",
        "from sklearn.preprocessing import LabelEncoder\n",
        "from tqdm import tqdm\n",
        "from math import ceil\n",
        "\n",
        "warnings.filterwarnings('ignore')\n",
        "totimestamp = lambda s: np.int32(time.mktime(datetime.strptime(s, \"%d/%m/%Y\").timetuple()))"
      ]
    },
    {
      "cell_type": "code",
      "execution_count": 3,
      "metadata": {
        "id": "lN3howtHIjba"
      },
      "outputs": [],
      "source": [
        "## Simple \"Memory profilers\" to see memory usage\n",
        "def get_memory_usage():\n",
        "    return np.round(psutil.Process(os.getpid()).memory_info()[0]/2.**30, 2) \n",
        "        \n",
        "def sizeof_fmt(num, suffix='B'):\n",
        "    for unit in ['','Ki','Mi','Gi','Ti','Pi','Ei','Zi']:\n",
        "        if abs(num) < 1024.0:\n",
        "            return \"%3.1f%s%s\" % (num, unit, suffix)\n",
        "        num /= 1024.0\n",
        "    return \"%.1f%s%s\" % (num, 'Yi', suffix)"
      ]
    },
    {
      "cell_type": "code",
      "execution_count": 4,
      "metadata": {
        "id": "HAd2QihcIqOw"
      },
      "outputs": [],
      "source": [
        "## Memory Reducer\n",
        "# :df pandas dataframe to reduce size             # type: pd.DataFrame()\n",
        "# :verbose                                        # type: bool\n",
        "def reduce_mem_usage(df, verbose=True):\n",
        "    numerics = ['int16', 'int32', 'int64', 'float16', 'float32', 'float64']\n",
        "    start_mem = df.memory_usage().sum() / 1024**2    \n",
        "    for col in df.columns:\n",
        "        col_type = df[col].dtypes\n",
        "        if col_type in numerics:\n",
        "            c_min = df[col].min()\n",
        "            c_max = df[col].max()\n",
        "            if str(col_type)[:3] == 'int':\n",
        "                if c_min > np.iinfo(np.int8).min and c_max < np.iinfo(np.int8).max:\n",
        "                    df[col] = df[col].astype(np.int8)\n",
        "                elif c_min > np.iinfo(np.int16).min and c_max < np.iinfo(np.int16).max:\n",
        "                       df[col] = df[col].astype(np.int16)\n",
        "                elif c_min > np.iinfo(np.int32).min and c_max < np.iinfo(np.int32).max:\n",
        "                    df[col] = df[col].astype(np.int32)\n",
        "                elif c_min > np.iinfo(np.int64).min and c_max < np.iinfo(np.int64).max:\n",
        "                    df[col] = df[col].astype(np.int64)  \n",
        "            else:\n",
        "                if c_min > np.finfo(np.float16).min and c_max < np.finfo(np.float16).max:\n",
        "                    df[col] = df[col].astype(np.float16)\n",
        "                elif c_min > np.finfo(np.float32).min and c_max < np.finfo(np.float32).max:\n",
        "                    df[col] = df[col].astype(np.float32)\n",
        "                else:\n",
        "                    df[col] = df[col].astype(np.float64)    \n",
        "    end_mem = df.memory_usage().sum() / 1024**2\n",
        "    if verbose: print('Mem. usage decreased to {:5.2f} Mb ({:.1f}% reduction)'.format(end_mem, 100 * (start_mem - end_mem) / start_mem))\n",
        "    return df"
      ]
    },
    {
      "cell_type": "code",
      "execution_count": 5,
      "metadata": {
        "id": "8XcGA_r5I6co"
      },
      "outputs": [],
      "source": [
        "## Merging by concat to not lose dtypes\n",
        "def merge_by_concat(df1, df2, merge_on):\n",
        "    merged_gf = df1[merge_on]\n",
        "    merged_gf = merged_gf.merge(df2, on=merge_on, how='left')\n",
        "    new_columns = [col for col in list(merged_gf) if col not in merge_on]\n",
        "    df1 = pd.concat([df1, merged_gf[new_columns]], axis=1)\n",
        "    return df1"
      ]
    },
    {
      "cell_type": "code",
      "execution_count": 5,
      "metadata": {
        "id": "THuO6IafI9-b"
      },
      "outputs": [],
      "source": [
        ""
      ]
    },
    {
      "cell_type": "code",
      "execution_count": 6,
      "metadata": {
        "colab": {
          "base_uri": "https://localhost:8080/"
        },
        "id": "tvIo5C6EJgmN",
        "outputId": "a352e851-b2f6-473f-cea4-1e3882dc6779"
      },
      "outputs": [
        {
          "output_type": "stream",
          "name": "stdout",
          "text": [
            "Mounted at /content/gdrive\n",
            " asset_details.csv\n",
            " base_mod.pkl\n",
            "'Cópia de Cópia de criptotroxa (1).ipynb'\n",
            "'Cópia de Cópia de criptotroxa (2).ipynb'\n",
            "'Cópia de Cópia de criptotroxa (3).ipynb'\n",
            "'Cópia de Cópia de criptotroxa.ipynb'\n",
            "'Cópia de criptotroxa.ipynb'\n",
            "'Cópia de criptotroxa Marcelo (1).ipynb'\n",
            "'Cópia de criptotroxa Marcelo (2).ipynb'\n",
            "'Cópia de criptotroxa Marcelo (3) (1).ipynb'\n",
            "'Cópia de criptotroxa Marcelo (3).ipynb'\n",
            "'Cópia de criptotroxa Marcelo (4).ipynb'\n",
            "'Cópia de criptotroxa Marcelo.ipynb'\n",
            " example_sample_submission.csv\n",
            " example_test.csv\n",
            " mod_lgbm\n",
            " mod_lin_reg\n",
            " mod_multi_out\n",
            " mod_xgb\n",
            " supplemental_train.csv.zip\n",
            " treinocompactado.zip\n"
          ]
        }
      ],
      "source": [
        "from google.colab import drive\n",
        "drive.mount('/content/gdrive')\n",
        "!ls \"gdrive/My Drive/Colab Notebooks/Kaggle/g_research_competition\""
      ]
    },
    {
      "cell_type": "code",
      "execution_count": null,
      "metadata": {
        "colab": {
          "base_uri": "https://localhost:8080/",
          "height": 270
        },
        "id": "TV-tki04JgmP",
        "outputId": "2217b6c6-ae35-4856-a33c-032a077cde08"
      },
      "outputs": [
        {
          "ename": "ParserError",
          "evalue": "ignored",
          "output_type": "error",
          "traceback": [
            "\u001b[0;31m---------------------------------------------------------------------------\u001b[0m",
            "\u001b[0;31mParserError\u001b[0m                               Traceback (most recent call last)",
            "\u001b[0;32m<ipython-input-7-e5826143831a>\u001b[0m in \u001b[0;36m<module>\u001b[0;34m()\u001b[0m\n\u001b[1;32m      2\u001b[0m \u001b[0mbase_treino\u001b[0m\u001b[0;34m=\u001b[0m\u001b[0;36m0\u001b[0m\u001b[0;34m\u001b[0m\u001b[0;34m\u001b[0m\u001b[0m\n\u001b[1;32m      3\u001b[0m \u001b[0;32mwith\u001b[0m \u001b[0mzipfile\u001b[0m\u001b[0;34m.\u001b[0m\u001b[0mZipFile\u001b[0m\u001b[0;34m(\u001b[0m\u001b[0;34m\"gdrive/My Drive/Colab Notebooks/Kaggle/g_research_competition/treinocompactado.zip\"\u001b[0m\u001b[0;34m,\u001b[0m \u001b[0;34m'r'\u001b[0m\u001b[0;34m)\u001b[0m \u001b[0;32mas\u001b[0m \u001b[0mzip_ref\u001b[0m\u001b[0;34m:\u001b[0m\u001b[0;34m\u001b[0m\u001b[0;34m\u001b[0m\u001b[0m\n\u001b[0;32m----> 4\u001b[0;31m   \u001b[0mbase_treino\u001b[0m \u001b[0;34m=\u001b[0m \u001b[0mpd\u001b[0m\u001b[0;34m.\u001b[0m\u001b[0mread_csv\u001b[0m\u001b[0;34m(\u001b[0m\u001b[0mzip_ref\u001b[0m\u001b[0;34m.\u001b[0m\u001b[0mopen\u001b[0m\u001b[0;34m(\u001b[0m\u001b[0;34m'train.csv'\u001b[0m\u001b[0;34m)\u001b[0m\u001b[0;34m)\u001b[0m\u001b[0;34m\u001b[0m\u001b[0;34m\u001b[0m\u001b[0m\n\u001b[0m",
            "\u001b[0;32m/usr/local/lib/python3.7/dist-packages/pandas/util/_decorators.py\u001b[0m in \u001b[0;36mwrapper\u001b[0;34m(*args, **kwargs)\u001b[0m\n\u001b[1;32m    309\u001b[0m                     \u001b[0mstacklevel\u001b[0m\u001b[0;34m=\u001b[0m\u001b[0mstacklevel\u001b[0m\u001b[0;34m,\u001b[0m\u001b[0;34m\u001b[0m\u001b[0;34m\u001b[0m\u001b[0m\n\u001b[1;32m    310\u001b[0m                 )\n\u001b[0;32m--> 311\u001b[0;31m             \u001b[0;32mreturn\u001b[0m \u001b[0mfunc\u001b[0m\u001b[0;34m(\u001b[0m\u001b[0;34m*\u001b[0m\u001b[0margs\u001b[0m\u001b[0;34m,\u001b[0m \u001b[0;34m**\u001b[0m\u001b[0mkwargs\u001b[0m\u001b[0;34m)\u001b[0m\u001b[0;34m\u001b[0m\u001b[0;34m\u001b[0m\u001b[0m\n\u001b[0m\u001b[1;32m    312\u001b[0m \u001b[0;34m\u001b[0m\u001b[0m\n\u001b[1;32m    313\u001b[0m         \u001b[0;32mreturn\u001b[0m \u001b[0mwrapper\u001b[0m\u001b[0;34m\u001b[0m\u001b[0;34m\u001b[0m\u001b[0m\n",
            "\u001b[0;32m/usr/local/lib/python3.7/dist-packages/pandas/io/parsers/readers.py\u001b[0m in \u001b[0;36mread_csv\u001b[0;34m(filepath_or_buffer, sep, delimiter, header, names, index_col, usecols, squeeze, prefix, mangle_dupe_cols, dtype, engine, converters, true_values, false_values, skipinitialspace, skiprows, skipfooter, nrows, na_values, keep_default_na, na_filter, verbose, skip_blank_lines, parse_dates, infer_datetime_format, keep_date_col, date_parser, dayfirst, cache_dates, iterator, chunksize, compression, thousands, decimal, lineterminator, quotechar, quoting, doublequote, escapechar, comment, encoding, encoding_errors, dialect, error_bad_lines, warn_bad_lines, on_bad_lines, delim_whitespace, low_memory, memory_map, float_precision, storage_options)\u001b[0m\n\u001b[1;32m    584\u001b[0m     \u001b[0mkwds\u001b[0m\u001b[0;34m.\u001b[0m\u001b[0mupdate\u001b[0m\u001b[0;34m(\u001b[0m\u001b[0mkwds_defaults\u001b[0m\u001b[0;34m)\u001b[0m\u001b[0;34m\u001b[0m\u001b[0;34m\u001b[0m\u001b[0m\n\u001b[1;32m    585\u001b[0m \u001b[0;34m\u001b[0m\u001b[0m\n\u001b[0;32m--> 586\u001b[0;31m     \u001b[0;32mreturn\u001b[0m \u001b[0m_read\u001b[0m\u001b[0;34m(\u001b[0m\u001b[0mfilepath_or_buffer\u001b[0m\u001b[0;34m,\u001b[0m \u001b[0mkwds\u001b[0m\u001b[0;34m)\u001b[0m\u001b[0;34m\u001b[0m\u001b[0;34m\u001b[0m\u001b[0m\n\u001b[0m\u001b[1;32m    587\u001b[0m \u001b[0;34m\u001b[0m\u001b[0m\n\u001b[1;32m    588\u001b[0m \u001b[0;34m\u001b[0m\u001b[0m\n",
            "\u001b[0;32m/usr/local/lib/python3.7/dist-packages/pandas/io/parsers/readers.py\u001b[0m in \u001b[0;36m_read\u001b[0;34m(filepath_or_buffer, kwds)\u001b[0m\n\u001b[1;32m    486\u001b[0m \u001b[0;34m\u001b[0m\u001b[0m\n\u001b[1;32m    487\u001b[0m     \u001b[0;32mwith\u001b[0m \u001b[0mparser\u001b[0m\u001b[0;34m:\u001b[0m\u001b[0;34m\u001b[0m\u001b[0;34m\u001b[0m\u001b[0m\n\u001b[0;32m--> 488\u001b[0;31m         \u001b[0;32mreturn\u001b[0m \u001b[0mparser\u001b[0m\u001b[0;34m.\u001b[0m\u001b[0mread\u001b[0m\u001b[0;34m(\u001b[0m\u001b[0mnrows\u001b[0m\u001b[0;34m)\u001b[0m\u001b[0;34m\u001b[0m\u001b[0;34m\u001b[0m\u001b[0m\n\u001b[0m\u001b[1;32m    489\u001b[0m \u001b[0;34m\u001b[0m\u001b[0m\n\u001b[1;32m    490\u001b[0m \u001b[0;34m\u001b[0m\u001b[0m\n",
            "\u001b[0;32m/usr/local/lib/python3.7/dist-packages/pandas/io/parsers/readers.py\u001b[0m in \u001b[0;36mread\u001b[0;34m(self, nrows)\u001b[0m\n\u001b[1;32m   1045\u001b[0m     \u001b[0;32mdef\u001b[0m \u001b[0mread\u001b[0m\u001b[0;34m(\u001b[0m\u001b[0mself\u001b[0m\u001b[0;34m,\u001b[0m \u001b[0mnrows\u001b[0m\u001b[0;34m=\u001b[0m\u001b[0;32mNone\u001b[0m\u001b[0;34m)\u001b[0m\u001b[0;34m:\u001b[0m\u001b[0;34m\u001b[0m\u001b[0;34m\u001b[0m\u001b[0m\n\u001b[1;32m   1046\u001b[0m         \u001b[0mnrows\u001b[0m \u001b[0;34m=\u001b[0m \u001b[0mvalidate_integer\u001b[0m\u001b[0;34m(\u001b[0m\u001b[0;34m\"nrows\"\u001b[0m\u001b[0;34m,\u001b[0m \u001b[0mnrows\u001b[0m\u001b[0;34m)\u001b[0m\u001b[0;34m\u001b[0m\u001b[0;34m\u001b[0m\u001b[0m\n\u001b[0;32m-> 1047\u001b[0;31m         \u001b[0mindex\u001b[0m\u001b[0;34m,\u001b[0m \u001b[0mcolumns\u001b[0m\u001b[0;34m,\u001b[0m \u001b[0mcol_dict\u001b[0m \u001b[0;34m=\u001b[0m \u001b[0mself\u001b[0m\u001b[0;34m.\u001b[0m\u001b[0m_engine\u001b[0m\u001b[0;34m.\u001b[0m\u001b[0mread\u001b[0m\u001b[0;34m(\u001b[0m\u001b[0mnrows\u001b[0m\u001b[0;34m)\u001b[0m\u001b[0;34m\u001b[0m\u001b[0;34m\u001b[0m\u001b[0m\n\u001b[0m\u001b[1;32m   1048\u001b[0m \u001b[0;34m\u001b[0m\u001b[0m\n\u001b[1;32m   1049\u001b[0m         \u001b[0;32mif\u001b[0m \u001b[0mindex\u001b[0m \u001b[0;32mis\u001b[0m \u001b[0;32mNone\u001b[0m\u001b[0;34m:\u001b[0m\u001b[0;34m\u001b[0m\u001b[0;34m\u001b[0m\u001b[0m\n",
            "\u001b[0;32m/usr/local/lib/python3.7/dist-packages/pandas/io/parsers/c_parser_wrapper.py\u001b[0m in \u001b[0;36mread\u001b[0;34m(self, nrows)\u001b[0m\n\u001b[1;32m    222\u001b[0m         \u001b[0;32mtry\u001b[0m\u001b[0;34m:\u001b[0m\u001b[0;34m\u001b[0m\u001b[0;34m\u001b[0m\u001b[0m\n\u001b[1;32m    223\u001b[0m             \u001b[0;32mif\u001b[0m \u001b[0mself\u001b[0m\u001b[0;34m.\u001b[0m\u001b[0mlow_memory\u001b[0m\u001b[0;34m:\u001b[0m\u001b[0;34m\u001b[0m\u001b[0;34m\u001b[0m\u001b[0m\n\u001b[0;32m--> 224\u001b[0;31m                 \u001b[0mchunks\u001b[0m \u001b[0;34m=\u001b[0m \u001b[0mself\u001b[0m\u001b[0;34m.\u001b[0m\u001b[0m_reader\u001b[0m\u001b[0;34m.\u001b[0m\u001b[0mread_low_memory\u001b[0m\u001b[0;34m(\u001b[0m\u001b[0mnrows\u001b[0m\u001b[0;34m)\u001b[0m\u001b[0;34m\u001b[0m\u001b[0;34m\u001b[0m\u001b[0m\n\u001b[0m\u001b[1;32m    225\u001b[0m                 \u001b[0;31m# destructive to chunks\u001b[0m\u001b[0;34m\u001b[0m\u001b[0;34m\u001b[0m\u001b[0;34m\u001b[0m\u001b[0m\n\u001b[1;32m    226\u001b[0m                 \u001b[0mdata\u001b[0m \u001b[0;34m=\u001b[0m \u001b[0m_concatenate_chunks\u001b[0m\u001b[0;34m(\u001b[0m\u001b[0mchunks\u001b[0m\u001b[0;34m)\u001b[0m\u001b[0;34m\u001b[0m\u001b[0;34m\u001b[0m\u001b[0m\n",
            "\u001b[0;32m/usr/local/lib/python3.7/dist-packages/pandas/_libs/parsers.pyx\u001b[0m in \u001b[0;36mpandas._libs.parsers.TextReader.read_low_memory\u001b[0;34m()\u001b[0m\n",
            "\u001b[0;32m/usr/local/lib/python3.7/dist-packages/pandas/_libs/parsers.pyx\u001b[0m in \u001b[0;36mpandas._libs.parsers.TextReader._read_rows\u001b[0;34m()\u001b[0m\n",
            "\u001b[0;32m/usr/local/lib/python3.7/dist-packages/pandas/_libs/parsers.pyx\u001b[0m in \u001b[0;36mpandas._libs.parsers.TextReader._tokenize_rows\u001b[0;34m()\u001b[0m\n",
            "\u001b[0;32m/usr/local/lib/python3.7/dist-packages/pandas/_libs/parsers.pyx\u001b[0m in \u001b[0;36mpandas._libs.parsers.raise_parser_error\u001b[0;34m()\u001b[0m\n",
            "\u001b[0;31mParserError\u001b[0m: Error tokenizing data. C error: Calling read(nbytes) on source failed. Try engine='python'."
          ]
        }
      ],
      "source": [
        "import zipfile\n",
        "base_treino=0\n",
        "with zipfile.ZipFile(\"gdrive/My Drive/Colab Notebooks/Kaggle/g_research_competition/treinocompactado.zip\", 'r') as zip_ref:\n",
        "  base_treino = pd.read_csv(zip_ref.open('train.csv'))"
      ]
    },
    {
      "cell_type": "code",
      "execution_count": null,
      "metadata": {
        "id": "PlY5AqTAJgmQ"
      },
      "outputs": [],
      "source": [
        "base_treino[\"dia_semana\"]=pd.to_datetime(base_treino['timestamp'], unit='s').dt.dayofweek\n",
        "base_treino['hora'] = pd.to_datetime(base_treino['timestamp'], unit='s').dt.hour"
      ]
    },
    {
      "cell_type": "code",
      "execution_count": null,
      "metadata": {
        "id": "n1QT5A8VJgmR"
      },
      "outputs": [],
      "source": [
        "base_treino.sample(100)"
      ]
    },
    {
      "cell_type": "markdown",
      "metadata": {
        "id": "uluATR9kJgmS"
      },
      "source": [
        ""
      ]
    },
    {
      "cell_type": "code",
      "execution_count": null,
      "metadata": {
        "colab": {
          "base_uri": "https://localhost:8080/"
        },
        "id": "crUZbP3WJgmV",
        "outputId": "6cb04a34-6b1d-407c-c51f-1a253b41f9ef"
      },
      "outputs": [
        {
          "data": {
            "text/plain": [
              "(24236806, 12)"
            ]
          },
          "execution_count": 10,
          "metadata": {},
          "output_type": "execute_result"
        }
      ],
      "source": [
        "base_treino.shape"
      ]
    },
    {
      "cell_type": "code",
      "execution_count": null,
      "metadata": {
        "colab": {
          "base_uri": "https://localhost:8080/"
        },
        "id": "NyE1AmTzDGf_",
        "outputId": "e8a3786c-5448-4cee-afcf-fd4655e14831"
      },
      "outputs": [
        {
          "name": "stdout",
          "output_type": "stream",
          "text": [
            "     Reduced grid_df:   2.2GiB\n"
          ]
        }
      ],
      "source": [
        "print(\"{:>20}: {:>8}\".format('Reduced grid_df',sizeof_fmt(base_treino.memory_usage(index=True).sum())))"
      ]
    },
    {
      "cell_type": "markdown",
      "metadata": {
        "id": "Ajn7LDI_JgmX"
      },
      "source": [
        "# 1. Estruturar uma base por asset"
      ]
    },
    {
      "cell_type": "code",
      "execution_count": null,
      "metadata": {
        "id": "u3AmLydaJgmY"
      },
      "outputs": [],
      "source": [
        "assets = {x: base_treino[base_treino.Asset_ID == x].drop('Asset_ID', axis=1) for x in base_treino.Asset_ID.unique()}"
      ]
    },
    {
      "cell_type": "code",
      "execution_count": null,
      "metadata": {
        "colab": {
          "base_uri": "https://localhost:8080/"
        },
        "id": "IFs_62EhKaxD",
        "outputId": "0ab33995-d0f4-46f0-a8d4-97942a64c852"
      },
      "outputs": [
        {
          "data": {
            "text/plain": [
              "1    -0.014399\n",
              "9    -0.015875\n",
              "17   -0.015410\n",
              "25   -0.012524\n",
              "33   -0.005940\n",
              "Name: Target, dtype: float64"
            ]
          },
          "execution_count": 13,
          "metadata": {},
          "output_type": "execute_result"
        }
      ],
      "source": [
        "assets[0][\"Target\"].head()"
      ]
    },
    {
      "cell_type": "code",
      "execution_count": null,
      "metadata": {
        "id": "fITL7j95KidN"
      },
      "outputs": [],
      "source": [
        "#base_treino = reduce_mem_usage(base_treino)"
      ]
    },
    {
      "cell_type": "markdown",
      "metadata": {
        "id": "booPMK9lJgmZ"
      },
      "source": [
        "Exemplo :\n",
        "    assets = {2:base_treino[base_treino.Asset_ID==2],3:base_treino[base_treino.Asset_ID==3]...}"
      ]
    },
    {
      "cell_type": "code",
      "execution_count": null,
      "metadata": {
        "colab": {
          "base_uri": "https://localhost:8080/",
          "height": 206
        },
        "id": "7UN2gfdbJgma",
        "outputId": "7e3335c1-29b7-4cb3-a536-890c97851a9b"
      },
      "outputs": [
        {
          "data": {
            "text/html": [
              "\n",
              "  <div id=\"df-b0ef9478-6eeb-4728-9053-aa0aa612ad6e\">\n",
              "    <div class=\"colab-df-container\">\n",
              "      <div>\n",
              "<style scoped>\n",
              "    .dataframe tbody tr th:only-of-type {\n",
              "        vertical-align: middle;\n",
              "    }\n",
              "\n",
              "    .dataframe tbody tr th {\n",
              "        vertical-align: top;\n",
              "    }\n",
              "\n",
              "    .dataframe thead th {\n",
              "        text-align: right;\n",
              "    }\n",
              "</style>\n",
              "<table border=\"1\" class=\"dataframe\">\n",
              "  <thead>\n",
              "    <tr style=\"text-align: right;\">\n",
              "      <th></th>\n",
              "      <th>timestamp</th>\n",
              "      <th>Count</th>\n",
              "      <th>Open</th>\n",
              "      <th>High</th>\n",
              "      <th>Low</th>\n",
              "      <th>Close</th>\n",
              "      <th>Volume</th>\n",
              "      <th>VWAP</th>\n",
              "      <th>Target</th>\n",
              "      <th>dia_semana</th>\n",
              "      <th>hora</th>\n",
              "    </tr>\n",
              "  </thead>\n",
              "  <tbody>\n",
              "    <tr>\n",
              "      <th>1</th>\n",
              "      <td>1514764860</td>\n",
              "      <td>5.0</td>\n",
              "      <td>8.5300</td>\n",
              "      <td>8.5300</td>\n",
              "      <td>8.5300</td>\n",
              "      <td>8.5300</td>\n",
              "      <td>78.38</td>\n",
              "      <td>8.530000</td>\n",
              "      <td>-0.014399</td>\n",
              "      <td>0</td>\n",
              "      <td>0</td>\n",
              "    </tr>\n",
              "    <tr>\n",
              "      <th>9</th>\n",
              "      <td>1514764920</td>\n",
              "      <td>7.0</td>\n",
              "      <td>8.5300</td>\n",
              "      <td>8.5300</td>\n",
              "      <td>8.5145</td>\n",
              "      <td>8.5145</td>\n",
              "      <td>71.39</td>\n",
              "      <td>8.520215</td>\n",
              "      <td>-0.015875</td>\n",
              "      <td>0</td>\n",
              "      <td>0</td>\n",
              "    </tr>\n",
              "    <tr>\n",
              "      <th>17</th>\n",
              "      <td>1514764980</td>\n",
              "      <td>45.0</td>\n",
              "      <td>8.5065</td>\n",
              "      <td>8.5299</td>\n",
              "      <td>8.4848</td>\n",
              "      <td>8.4848</td>\n",
              "      <td>1546.82</td>\n",
              "      <td>8.501394</td>\n",
              "      <td>-0.015410</td>\n",
              "      <td>0</td>\n",
              "      <td>0</td>\n",
              "    </tr>\n",
              "    <tr>\n",
              "      <th>25</th>\n",
              "      <td>1514765040</td>\n",
              "      <td>14.0</td>\n",
              "      <td>8.5009</td>\n",
              "      <td>8.5066</td>\n",
              "      <td>8.4744</td>\n",
              "      <td>8.5009</td>\n",
              "      <td>125.80</td>\n",
              "      <td>8.479810</td>\n",
              "      <td>-0.012524</td>\n",
              "      <td>0</td>\n",
              "      <td>0</td>\n",
              "    </tr>\n",
              "    <tr>\n",
              "      <th>33</th>\n",
              "      <td>1514765100</td>\n",
              "      <td>5.0</td>\n",
              "      <td>8.5007</td>\n",
              "      <td>8.5007</td>\n",
              "      <td>8.4560</td>\n",
              "      <td>8.4560</td>\n",
              "      <td>125.01</td>\n",
              "      <td>8.458435</td>\n",
              "      <td>-0.005940</td>\n",
              "      <td>0</td>\n",
              "      <td>0</td>\n",
              "    </tr>\n",
              "  </tbody>\n",
              "</table>\n",
              "</div>\n",
              "      <button class=\"colab-df-convert\" onclick=\"convertToInteractive('df-b0ef9478-6eeb-4728-9053-aa0aa612ad6e')\"\n",
              "              title=\"Convert this dataframe to an interactive table.\"\n",
              "              style=\"display:none;\">\n",
              "        \n",
              "  <svg xmlns=\"http://www.w3.org/2000/svg\" height=\"24px\"viewBox=\"0 0 24 24\"\n",
              "       width=\"24px\">\n",
              "    <path d=\"M0 0h24v24H0V0z\" fill=\"none\"/>\n",
              "    <path d=\"M18.56 5.44l.94 2.06.94-2.06 2.06-.94-2.06-.94-.94-2.06-.94 2.06-2.06.94zm-11 1L8.5 8.5l.94-2.06 2.06-.94-2.06-.94L8.5 2.5l-.94 2.06-2.06.94zm10 10l.94 2.06.94-2.06 2.06-.94-2.06-.94-.94-2.06-.94 2.06-2.06.94z\"/><path d=\"M17.41 7.96l-1.37-1.37c-.4-.4-.92-.59-1.43-.59-.52 0-1.04.2-1.43.59L10.3 9.45l-7.72 7.72c-.78.78-.78 2.05 0 2.83L4 21.41c.39.39.9.59 1.41.59.51 0 1.02-.2 1.41-.59l7.78-7.78 2.81-2.81c.8-.78.8-2.07 0-2.86zM5.41 20L4 18.59l7.72-7.72 1.47 1.35L5.41 20z\"/>\n",
              "  </svg>\n",
              "      </button>\n",
              "      \n",
              "  <style>\n",
              "    .colab-df-container {\n",
              "      display:flex;\n",
              "      flex-wrap:wrap;\n",
              "      gap: 12px;\n",
              "    }\n",
              "\n",
              "    .colab-df-convert {\n",
              "      background-color: #E8F0FE;\n",
              "      border: none;\n",
              "      border-radius: 50%;\n",
              "      cursor: pointer;\n",
              "      display: none;\n",
              "      fill: #1967D2;\n",
              "      height: 32px;\n",
              "      padding: 0 0 0 0;\n",
              "      width: 32px;\n",
              "    }\n",
              "\n",
              "    .colab-df-convert:hover {\n",
              "      background-color: #E2EBFA;\n",
              "      box-shadow: 0px 1px 2px rgba(60, 64, 67, 0.3), 0px 1px 3px 1px rgba(60, 64, 67, 0.15);\n",
              "      fill: #174EA6;\n",
              "    }\n",
              "\n",
              "    [theme=dark] .colab-df-convert {\n",
              "      background-color: #3B4455;\n",
              "      fill: #D2E3FC;\n",
              "    }\n",
              "\n",
              "    [theme=dark] .colab-df-convert:hover {\n",
              "      background-color: #434B5C;\n",
              "      box-shadow: 0px 1px 3px 1px rgba(0, 0, 0, 0.15);\n",
              "      filter: drop-shadow(0px 1px 2px rgba(0, 0, 0, 0.3));\n",
              "      fill: #FFFFFF;\n",
              "    }\n",
              "  </style>\n",
              "\n",
              "      <script>\n",
              "        const buttonEl =\n",
              "          document.querySelector('#df-b0ef9478-6eeb-4728-9053-aa0aa612ad6e button.colab-df-convert');\n",
              "        buttonEl.style.display =\n",
              "          google.colab.kernel.accessAllowed ? 'block' : 'none';\n",
              "\n",
              "        async function convertToInteractive(key) {\n",
              "          const element = document.querySelector('#df-b0ef9478-6eeb-4728-9053-aa0aa612ad6e');\n",
              "          const dataTable =\n",
              "            await google.colab.kernel.invokeFunction('convertToInteractive',\n",
              "                                                     [key], {});\n",
              "          if (!dataTable) return;\n",
              "\n",
              "          const docLinkHtml = 'Like what you see? Visit the ' +\n",
              "            '<a target=\"_blank\" href=https://colab.research.google.com/notebooks/data_table.ipynb>data table notebook</a>'\n",
              "            + ' to learn more about interactive tables.';\n",
              "          element.innerHTML = '';\n",
              "          dataTable['output_type'] = 'display_data';\n",
              "          await google.colab.output.renderOutput(dataTable, element);\n",
              "          const docLink = document.createElement('div');\n",
              "          docLink.innerHTML = docLinkHtml;\n",
              "          element.appendChild(docLink);\n",
              "        }\n",
              "      </script>\n",
              "    </div>\n",
              "  </div>\n",
              "  "
            ],
            "text/plain": [
              "     timestamp  Count    Open    High  ...      VWAP    Target  dia_semana  hora\n",
              "1   1514764860    5.0  8.5300  8.5300  ...  8.530000 -0.014399           0     0\n",
              "9   1514764920    7.0  8.5300  8.5300  ...  8.520215 -0.015875           0     0\n",
              "17  1514764980   45.0  8.5065  8.5299  ...  8.501394 -0.015410           0     0\n",
              "25  1514765040   14.0  8.5009  8.5066  ...  8.479810 -0.012524           0     0\n",
              "33  1514765100    5.0  8.5007  8.5007  ...  8.458435 -0.005940           0     0\n",
              "\n",
              "[5 rows x 11 columns]"
            ]
          },
          "execution_count": 15,
          "metadata": {},
          "output_type": "execute_result"
        }
      ],
      "source": [
        "assets[0].head()"
      ]
    },
    {
      "cell_type": "markdown",
      "metadata": {
        "id": "p0K1nMDsJgma"
      },
      "source": [
        "# 2. Tratamento inicial"
      ]
    },
    {
      "cell_type": "markdown",
      "metadata": {
        "id": "i3PIoPkrJgma"
      },
      "source": [
        "## 2.1 Timestamp como index"
      ]
    },
    {
      "cell_type": "code",
      "execution_count": null,
      "metadata": {
        "id": "2zg-mOvLJgmb"
      },
      "outputs": [],
      "source": [
        "for asset in assets:\n",
        "    assets[asset] = assets[asset].set_index('timestamp').sort_index()"
      ]
    },
    {
      "cell_type": "code",
      "execution_count": null,
      "metadata": {
        "colab": {
          "base_uri": "https://localhost:8080/",
          "height": 238
        },
        "id": "EaiKcWnbJgmb",
        "outputId": "b966dbc4-a88f-4a22-d17c-433236e82a4f"
      },
      "outputs": [
        {
          "data": {
            "text/html": [
              "\n",
              "  <div id=\"df-1720c08f-d71c-4f81-8d58-ad01a86900a0\">\n",
              "    <div class=\"colab-df-container\">\n",
              "      <div>\n",
              "<style scoped>\n",
              "    .dataframe tbody tr th:only-of-type {\n",
              "        vertical-align: middle;\n",
              "    }\n",
              "\n",
              "    .dataframe tbody tr th {\n",
              "        vertical-align: top;\n",
              "    }\n",
              "\n",
              "    .dataframe thead th {\n",
              "        text-align: right;\n",
              "    }\n",
              "</style>\n",
              "<table border=\"1\" class=\"dataframe\">\n",
              "  <thead>\n",
              "    <tr style=\"text-align: right;\">\n",
              "      <th></th>\n",
              "      <th>Count</th>\n",
              "      <th>Open</th>\n",
              "      <th>High</th>\n",
              "      <th>Low</th>\n",
              "      <th>Close</th>\n",
              "      <th>Volume</th>\n",
              "      <th>VWAP</th>\n",
              "      <th>Target</th>\n",
              "      <th>dia_semana</th>\n",
              "      <th>hora</th>\n",
              "    </tr>\n",
              "    <tr>\n",
              "      <th>timestamp</th>\n",
              "      <th></th>\n",
              "      <th></th>\n",
              "      <th></th>\n",
              "      <th></th>\n",
              "      <th></th>\n",
              "      <th></th>\n",
              "      <th></th>\n",
              "      <th></th>\n",
              "      <th></th>\n",
              "      <th></th>\n",
              "    </tr>\n",
              "  </thead>\n",
              "  <tbody>\n",
              "    <tr>\n",
              "      <th>1514764860</th>\n",
              "      <td>5.0</td>\n",
              "      <td>8.5300</td>\n",
              "      <td>8.5300</td>\n",
              "      <td>8.5300</td>\n",
              "      <td>8.5300</td>\n",
              "      <td>78.38</td>\n",
              "      <td>8.530000</td>\n",
              "      <td>-0.014399</td>\n",
              "      <td>0</td>\n",
              "      <td>0</td>\n",
              "    </tr>\n",
              "    <tr>\n",
              "      <th>1514764920</th>\n",
              "      <td>7.0</td>\n",
              "      <td>8.5300</td>\n",
              "      <td>8.5300</td>\n",
              "      <td>8.5145</td>\n",
              "      <td>8.5145</td>\n",
              "      <td>71.39</td>\n",
              "      <td>8.520215</td>\n",
              "      <td>-0.015875</td>\n",
              "      <td>0</td>\n",
              "      <td>0</td>\n",
              "    </tr>\n",
              "    <tr>\n",
              "      <th>1514764980</th>\n",
              "      <td>45.0</td>\n",
              "      <td>8.5065</td>\n",
              "      <td>8.5299</td>\n",
              "      <td>8.4848</td>\n",
              "      <td>8.4848</td>\n",
              "      <td>1546.82</td>\n",
              "      <td>8.501394</td>\n",
              "      <td>-0.015410</td>\n",
              "      <td>0</td>\n",
              "      <td>0</td>\n",
              "    </tr>\n",
              "    <tr>\n",
              "      <th>1514765040</th>\n",
              "      <td>14.0</td>\n",
              "      <td>8.5009</td>\n",
              "      <td>8.5066</td>\n",
              "      <td>8.4744</td>\n",
              "      <td>8.5009</td>\n",
              "      <td>125.80</td>\n",
              "      <td>8.479810</td>\n",
              "      <td>-0.012524</td>\n",
              "      <td>0</td>\n",
              "      <td>0</td>\n",
              "    </tr>\n",
              "    <tr>\n",
              "      <th>1514765100</th>\n",
              "      <td>5.0</td>\n",
              "      <td>8.5007</td>\n",
              "      <td>8.5007</td>\n",
              "      <td>8.4560</td>\n",
              "      <td>8.4560</td>\n",
              "      <td>125.01</td>\n",
              "      <td>8.458435</td>\n",
              "      <td>-0.005940</td>\n",
              "      <td>0</td>\n",
              "      <td>0</td>\n",
              "    </tr>\n",
              "  </tbody>\n",
              "</table>\n",
              "</div>\n",
              "      <button class=\"colab-df-convert\" onclick=\"convertToInteractive('df-1720c08f-d71c-4f81-8d58-ad01a86900a0')\"\n",
              "              title=\"Convert this dataframe to an interactive table.\"\n",
              "              style=\"display:none;\">\n",
              "        \n",
              "  <svg xmlns=\"http://www.w3.org/2000/svg\" height=\"24px\"viewBox=\"0 0 24 24\"\n",
              "       width=\"24px\">\n",
              "    <path d=\"M0 0h24v24H0V0z\" fill=\"none\"/>\n",
              "    <path d=\"M18.56 5.44l.94 2.06.94-2.06 2.06-.94-2.06-.94-.94-2.06-.94 2.06-2.06.94zm-11 1L8.5 8.5l.94-2.06 2.06-.94-2.06-.94L8.5 2.5l-.94 2.06-2.06.94zm10 10l.94 2.06.94-2.06 2.06-.94-2.06-.94-.94-2.06-.94 2.06-2.06.94z\"/><path d=\"M17.41 7.96l-1.37-1.37c-.4-.4-.92-.59-1.43-.59-.52 0-1.04.2-1.43.59L10.3 9.45l-7.72 7.72c-.78.78-.78 2.05 0 2.83L4 21.41c.39.39.9.59 1.41.59.51 0 1.02-.2 1.41-.59l7.78-7.78 2.81-2.81c.8-.78.8-2.07 0-2.86zM5.41 20L4 18.59l7.72-7.72 1.47 1.35L5.41 20z\"/>\n",
              "  </svg>\n",
              "      </button>\n",
              "      \n",
              "  <style>\n",
              "    .colab-df-container {\n",
              "      display:flex;\n",
              "      flex-wrap:wrap;\n",
              "      gap: 12px;\n",
              "    }\n",
              "\n",
              "    .colab-df-convert {\n",
              "      background-color: #E8F0FE;\n",
              "      border: none;\n",
              "      border-radius: 50%;\n",
              "      cursor: pointer;\n",
              "      display: none;\n",
              "      fill: #1967D2;\n",
              "      height: 32px;\n",
              "      padding: 0 0 0 0;\n",
              "      width: 32px;\n",
              "    }\n",
              "\n",
              "    .colab-df-convert:hover {\n",
              "      background-color: #E2EBFA;\n",
              "      box-shadow: 0px 1px 2px rgba(60, 64, 67, 0.3), 0px 1px 3px 1px rgba(60, 64, 67, 0.15);\n",
              "      fill: #174EA6;\n",
              "    }\n",
              "\n",
              "    [theme=dark] .colab-df-convert {\n",
              "      background-color: #3B4455;\n",
              "      fill: #D2E3FC;\n",
              "    }\n",
              "\n",
              "    [theme=dark] .colab-df-convert:hover {\n",
              "      background-color: #434B5C;\n",
              "      box-shadow: 0px 1px 3px 1px rgba(0, 0, 0, 0.15);\n",
              "      filter: drop-shadow(0px 1px 2px rgba(0, 0, 0, 0.3));\n",
              "      fill: #FFFFFF;\n",
              "    }\n",
              "  </style>\n",
              "\n",
              "      <script>\n",
              "        const buttonEl =\n",
              "          document.querySelector('#df-1720c08f-d71c-4f81-8d58-ad01a86900a0 button.colab-df-convert');\n",
              "        buttonEl.style.display =\n",
              "          google.colab.kernel.accessAllowed ? 'block' : 'none';\n",
              "\n",
              "        async function convertToInteractive(key) {\n",
              "          const element = document.querySelector('#df-1720c08f-d71c-4f81-8d58-ad01a86900a0');\n",
              "          const dataTable =\n",
              "            await google.colab.kernel.invokeFunction('convertToInteractive',\n",
              "                                                     [key], {});\n",
              "          if (!dataTable) return;\n",
              "\n",
              "          const docLinkHtml = 'Like what you see? Visit the ' +\n",
              "            '<a target=\"_blank\" href=https://colab.research.google.com/notebooks/data_table.ipynb>data table notebook</a>'\n",
              "            + ' to learn more about interactive tables.';\n",
              "          element.innerHTML = '';\n",
              "          dataTable['output_type'] = 'display_data';\n",
              "          await google.colab.output.renderOutput(dataTable, element);\n",
              "          const docLink = document.createElement('div');\n",
              "          docLink.innerHTML = docLinkHtml;\n",
              "          element.appendChild(docLink);\n",
              "        }\n",
              "      </script>\n",
              "    </div>\n",
              "  </div>\n",
              "  "
            ],
            "text/plain": [
              "            Count    Open    High     Low  ...      VWAP    Target  dia_semana  hora\n",
              "timestamp                                  ...                                      \n",
              "1514764860    5.0  8.5300  8.5300  8.5300  ...  8.530000 -0.014399           0     0\n",
              "1514764920    7.0  8.5300  8.5300  8.5145  ...  8.520215 -0.015875           0     0\n",
              "1514764980   45.0  8.5065  8.5299  8.4848  ...  8.501394 -0.015410           0     0\n",
              "1514765040   14.0  8.5009  8.5066  8.4744  ...  8.479810 -0.012524           0     0\n",
              "1514765100    5.0  8.5007  8.5007  8.4560  ...  8.458435 -0.005940           0     0\n",
              "\n",
              "[5 rows x 10 columns]"
            ]
          },
          "execution_count": 17,
          "metadata": {},
          "output_type": "execute_result"
        }
      ],
      "source": [
        "assets[0].head()"
      ]
    },
    {
      "cell_type": "markdown",
      "metadata": {
        "id": "zNDSg4kpJgmb"
      },
      "source": [
        "## 2.2 Tratamento dos missings"
      ]
    },
    {
      "cell_type": "code",
      "execution_count": null,
      "metadata": {
        "id": "UNNU0jaBJgmc"
      },
      "outputs": [],
      "source": [
        "# Função para uso futuro\n",
        "def preenche_missing():\n",
        "    return 0"
      ]
    },
    {
      "cell_type": "code",
      "execution_count": null,
      "metadata": {
        "id": "vCEKqeCFJgmc"
      },
      "outputs": [],
      "source": [
        "for asset in assets:\n",
        "    assets[asset] = assets[asset].reindex(range(assets[asset].index[0], assets[asset].index[-1] + 60, 60), method='pad').replace([np.inf, -np.inf], np.nan)"
      ]
    },
    {
      "cell_type": "code",
      "execution_count": null,
      "metadata": {
        "colab": {
          "base_uri": "https://localhost:8080/"
        },
        "id": "SUunCfQEJgmc",
        "outputId": "1def8999-cfbe-4054-fb2a-982c1599c3f2"
      },
      "outputs": [
        {
          "name": "stdout",
          "output_type": "stream",
          "text": [
            "<class 'pandas.core.frame.DataFrame'>\n",
            "RangeIndex: 1956960 entries, 1514764860 to 1632182400\n",
            "Data columns (total 10 columns):\n",
            " #   Column      Non-Null Count    Dtype  \n",
            "---  ------      --------------    -----  \n",
            " 0   Count       1956960 non-null  float64\n",
            " 1   Open        1956960 non-null  float64\n",
            " 2   High        1956960 non-null  float64\n",
            " 3   Low         1956960 non-null  float64\n",
            " 4   Close       1956960 non-null  float64\n",
            " 5   Volume      1956960 non-null  float64\n",
            " 6   VWAP        1956960 non-null  float64\n",
            " 7   Target      1929248 non-null  float64\n",
            " 8   dia_semana  1956960 non-null  int64  \n",
            " 9   hora        1956960 non-null  int64  \n",
            "dtypes: float64(8), int64(2)\n",
            "memory usage: 149.3 MB\n"
          ]
        }
      ],
      "source": [
        "assets[0].info(show_counts=True)"
      ]
    },
    {
      "cell_type": "code",
      "execution_count": null,
      "metadata": {
        "colab": {
          "base_uri": "https://localhost:8080/"
        },
        "id": "2xZ9ALiuJgmd",
        "outputId": "122eee01-8aaa-4436-e3d9-22a927be56da"
      },
      "outputs": [
        {
          "name": "stdout",
          "output_type": "stream",
          "text": [
            "-----2-----\n",
            "60    1956959\n",
            "Name: timestamp, dtype: int64\n",
            "-----0-----\n",
            "60    1956959\n",
            "Name: timestamp, dtype: int64\n",
            "-----1-----\n",
            "60    1956959\n",
            "Name: timestamp, dtype: int64\n",
            "-----5-----\n",
            "60    1956959\n",
            "Name: timestamp, dtype: int64\n",
            "-----7-----\n",
            "60    1956959\n",
            "Name: timestamp, dtype: int64\n",
            "-----6-----\n",
            "60    1956959\n",
            "Name: timestamp, dtype: int64\n",
            "-----9-----\n",
            "60    1956959\n",
            "Name: timestamp, dtype: int64\n",
            "-----11-----\n",
            "60    1956959\n",
            "Name: timestamp, dtype: int64\n",
            "-----13-----\n",
            "60    1903823\n",
            "Name: timestamp, dtype: int64\n",
            "-----12-----\n",
            "60    1889287\n",
            "Name: timestamp, dtype: int64\n",
            "-----3-----\n",
            "60    1803769\n",
            "Name: timestamp, dtype: int64\n",
            "-----8-----\n",
            "60    1772153\n",
            "Name: timestamp, dtype: int64\n",
            "-----10-----\n",
            "60    1770279\n",
            "Name: timestamp, dtype: int64\n",
            "-----4-----\n",
            "60    1285046\n",
            "Name: timestamp, dtype: int64\n"
          ]
        }
      ],
      "source": [
        "for asset in assets:\n",
        "    print(f'-----{asset}-----')\n",
        "    print((assets[asset].index[1:] - assets[asset].index[:-1]).value_counts().head())"
      ]
    },
    {
      "cell_type": "markdown",
      "metadata": {
        "id": "LdwdOcp1Jgmd"
      },
      "source": [
        "# 3. Criação de features"
      ]
    },
    {
      "cell_type": "markdown",
      "metadata": {
        "id": "CQQmGzksJgmd"
      },
      "source": [
        "## 3.1 Features gerais - vai ter para todos assets"
      ]
    },
    {
      "cell_type": "markdown",
      "metadata": {
        "id": "wdNX7yxzJgmd"
      },
      "source": [
        "Fazer a construção de features usando funções, pra facilitar a aplicação nos assets"
      ]
    },
    {
      "cell_type": "markdown",
      "metadata": {
        "id": "nDjWZLg_Jgme"
      },
      "source": [
        "Features já existentes\n",
        "* timestamp: All timestamps are returned as second Unix timestamps (the number of seconds elapsed since 1970-01-01 00:00:00.000 UTC). Timestamps in this dataset are multiple of 60, indicating minute-by-minute data.\n",
        "* Asset_ID: The asset ID corresponding to one of the crytocurrencies (e.g. Asset_ID = 1 for Bitcoin). The mapping from Asset_ID to crypto asset is contained in asset_details.csv.\n",
        "* Count: Total number of trades in the time interval (last minute).\n",
        "* Open: Opening price of the time interval (in USD).\n",
        "* High: Highest price reached during time interval (in USD).\n",
        "* Low: Lowest price reached during time interval (in USD).\n",
        "* Close: Closing price of the time interval (in USD).\n",
        "* Volume: Quantity of asset bought or sold, displayed in base currency USD.\n",
        "* VWAP: The average price of the asset over the time interval, weighted by volume. VWAP is an aggregated form of trade data.\n",
        "* Target: Residual log-returns for the asset over a 15 minute horizon."
      ]
    },
    {
      "cell_type": "markdown",
      "metadata": {
        "id": "I9qvB2EnJgme"
      },
      "source": [
        "Ideias de features\n",
        "* Dia da semana\n",
        "* Feriados Americanos e Chineses\n",
        "* Volatilidade exponencial - http://ferramentasdoinvestidor.com.br/gestao-de-risco/volatilidade-ewma-no-excel/\n",
        "* Indice de força relativa\n",
        "* Médias moveis\n",
        "* Bandas de bollinger\n",
        "* MACD\n",
        "* Agulhada do DIDI - https://www.investimentonabolsa.com/2014/11/saiba-utilizar-agulhada-do-didi.html\n",
        "* Analise de fourrier - https://journals.sagepub.com/doi/pdf/10.5772/56839\n",
        "* Nuvens de ichimoku - https://www.investopedia.com/terms/i/ichimoku-cloud.asp\n",
        "* numero de transações de bitcoin - observar interesse do publico em cripto"
      ]
    },
    {
      "cell_type": "code",
      "execution_count": null,
      "metadata": {
        "id": "2it9aTEzJgme"
      },
      "outputs": [],
      "source": [
        "#def media_movel_30(precos):\n",
        "#    return precos.rolling(30).mean()\n",
        "\n",
        "def media_movel(precos,intervalo):\n",
        "    return precos.rolling(intervalo).mean().astype(\"float64\")"
      ]
    },
    {
      "cell_type": "code",
      "execution_count": null,
      "metadata": {
        "id": "kQpAdvJfJgmf"
      },
      "outputs": [],
      "source": [
        "def get_bollinger_bands(dfbol, rate=30):\n",
        "    sma = np.array(dfbol.rolling(rate).mean())\n",
        "    std = np.array(dfbol.rolling(rate).std())\n",
        "    boll_up =  sma + std * 2 # Calculate top band\n",
        "    boll_down = sma - std * 2 # Calculate bottom band\n",
        "    boll=np.zeros(dfbol.size)\n",
        "    preco=np.array(dfbol)\n",
        "    indexes = list(range(dfbol.size))\n",
        "    for i in indexes:\n",
        "        if boll_up[i]<preco[i]:\n",
        "            boll[i]=1\n",
        "        elif boll_down[i]>preco[i]:\n",
        "            boll[i]=-1\n",
        "        else:\n",
        "            boll[i]=0\n",
        "    return boll"
      ]
    },
    {
      "cell_type": "code",
      "execution_count": null,
      "metadata": {
        "id": "IEZJfh2hJgmf"
      },
      "outputs": [],
      "source": [
        "def agulhada_didi(dfagu):\n",
        "    didi3 = np.array(dfagu.rolling(3).mean())\n",
        "    didi8 = np.array(dfagu.rolling(8).mean())\n",
        "    didi20 = np.array(dfagu.rolling(20).mean())\n",
        "    Didi=np.zeros(dfagu.size)\n",
        "    indexes = list(range(dfagu.size))\n",
        "    for i in indexes:\n",
        "        if ((didi3[i]>didi8[i]) & (didi8[i]>didi20[i])):\n",
        "            Didi[i]=1\n",
        "        else:\n",
        "            Didi[i]=0\n",
        "    return Didi"
      ]
    },
    {
      "cell_type": "code",
      "execution_count": null,
      "metadata": {
        "id": "Q7zqFZ5AJgmf"
      },
      "outputs": [],
      "source": [
        "    def MACD(dfmacd):\n",
        "        exp1 = dfmacd.ewm(span=12, adjust=False).mean()\n",
        "        exp2 = dfmacd.ewm(span=26, adjust=False).mean()\n",
        "        diff = exp1-exp2\n",
        "        diff_np=np.array(diff)\n",
        "        exp3 = np.array(diff.ewm(span=9, adjust=False).mean())\n",
        "        MACD=np.zeros(dfmacd.size)\n",
        "        indexes = list(range(dfmacd.size))\n",
        "        for i in indexes:\n",
        "            if (diff_np[i]>=exp3[i]):\n",
        "                MACD[i]=1\n",
        "            else:\n",
        "                MACD[i]=-1        \n",
        "        return MACD"
      ]
    },
    {
      "cell_type": "code",
      "execution_count": null,
      "metadata": {
        "id": "kFcFSv03Jgmf"
      },
      "outputs": [],
      "source": [
        "def willR (dfw,dfhigh,dflow,bins):\n",
        "    high = [np.array(dfhigh.rolling(bins).max(),dtype=float)-np.array(dfw,dtype=float)]\n",
        "    low = [np.array(dfhigh.rolling(bins).max(),dtype=float)-np.array(dflow.rolling(bins).min(),dtype=float)]\n",
        "    #\n",
        "    willr = np.transpose(np.nan_to_num(np.true_divide(high,low,out=np.zeros_like(high), where=low!=0)*(-100)))\n",
        "    \n",
        "    willr_flag=np.zeros(dfw.size)\n",
        "    indexes = list(range(dfw.size))\n",
        "    for i in indexes:\n",
        "        if (willr[i]>-20):\n",
        "            willr_flag[i]=1\n",
        "        elif (willr[i]<-80):\n",
        "            willr_flag[i]=-1\n",
        "        else:\n",
        "            willr_flag[i]=0\n",
        "\n",
        "    return willr,willr_flag"
      ]
    },
    {
      "cell_type": "code",
      "execution_count": null,
      "metadata": {
        "id": "yVtj2RblJgmg"
      },
      "outputs": [],
      "source": [
        "def log_return(series, periods=1):\n",
        "    return np.log(series.astype(\"float64\")).diff(periods=periods)"
      ]
    },
    {
      "cell_type": "code",
      "execution_count": null,
      "metadata": {
        "id": "rV3FcnAUWG8K"
      },
      "outputs": [],
      "source": [
        "def upper_shadow_percent(df): return (df['High'] / np.maximum(df['Close'], df['Open'])) -1\n",
        "def lower_shadow_percent(df): return (np.minimum(df['Close'], df['Open']) / df['Low']) -1\n",
        "\n",
        "def upper_shadow_15_perc(df): return (df['High'].rolling(window=15, min_periods=1).max() / np.maximum(df['Close'], df['Open']).shift(15)) -1\n",
        "def lower_shadow_15_perc(df): return (np.minimum(df['Close'], df['Open']).shift(15) / df['Low'].rolling(window=15, min_periods=1).min()) -1"
      ]
    },
    {
      "cell_type": "code",
      "execution_count": null,
      "metadata": {
        "id": "AmMrVddnJgmg"
      },
      "outputs": [],
      "source": [
        ""
      ]
    },
    {
      "cell_type": "code",
      "execution_count": null,
      "metadata": {
        "id": "38Lk6IpjJgmg"
      },
      "outputs": [],
      "source": [
        "for base in assets:\n",
        "    \n",
        "    #simple moving average\n",
        "    for i in [7,15,30,60,180]:\n",
        "      assets[base]['SMA_'+str(i)] = media_movel(assets[base]['Close'],i)\n",
        "      assets[base]['SMA_'+str(i)].fillna(method='bfill',inplace=True)\n",
        "    \n",
        "    #log simple moving average\n",
        "    for i in [7,14,30,60,180]:\n",
        "      assets[base]['log_SMA_'+str(i)] = np.log(media_movel(assets[base]['Close'],i))\n",
        "      assets[base]['log_SMA_'+str(i)].fillna(method='bfill',inplace=True)\n",
        "\n",
        "    \n",
        "    #log cumulative moving average\n",
        "    assets[base]['log_CMA_30'] = np.log(assets[base]['Close'].expanding(30).mean())\n",
        "    assets[base]['log_CMA_15'] = np.log(assets[base]['Close'].expanding(15).mean())\n",
        "    assets[base]['log_CMA_30'].fillna(method='bfill',inplace=True)\n",
        "    assets[base]['log_CMA_15'].fillna(method='bfill',inplace=True)\n",
        "\n",
        "    \n",
        "    #log exponential moving average\n",
        "    assets[base]['log_EWM_30'] = np.log(assets[base]['Close'].ewm(span=30).mean())\n",
        "    assets[base]['log_EWM_15'] = np.log(assets[base]['Close'].ewm(span=15).mean())\n",
        "    assets[base]['log_EWM_30'].fillna(method='bfill',inplace=True)\n",
        "    assets[base]['log_EWM_15'].fillna(method='bfill',inplace=True)\n",
        "\n",
        "\n",
        "\n",
        "    #Bollinger\n",
        "    assets[base]['boll_30'] = get_bollinger_bands(assets[base]['Close'],30)\n",
        "    #DIDI Index\n",
        "    assets[base]['Didi'] = agulhada_didi(assets[base]['Close'])\n",
        "    #MACD\n",
        "    assets[base]['MACD'] = MACD(assets[base]['Close'])\n",
        "    #Williams R\n",
        "    assets[base]['willr'],assets[base]['willr_flag'] = willR(assets[base]['Close'],assets[base]['High'],assets[base]['Low'],14)\n",
        "    #Log do Retorno\n",
        "    assets[base][\"log_ret\"]=log_return(assets[base]['Close'])[1:]\n",
        "    assets[base]['log_ret'].fillna(method='bfill',inplace=True)\n",
        "\n",
        "    assets[base][\"upper_shadow_perc\"]=upper_shadow_percent(assets[base])[1:]\n",
        "    assets[base]['upper_shadow_perc'].fillna(method='bfill',inplace=True)\n",
        "    assets[base][\"lower_shadow_perc\"]=lower_shadow_percent(assets[base])[1:]\n",
        "    assets[base]['lower_shadow_perc'].fillna(method='bfill',inplace=True)\n",
        "\n",
        "    assets[base][\"upper_shadow_15_perc\"]=upper_shadow_15_perc(assets[base])[1:]\n",
        "    assets[base]['upper_shadow_15_perc'].fillna(method='bfill',inplace=True)\n",
        "\n",
        "    assets[base][\"lower_shadow_15_perc\"]=lower_shadow_15_perc(assets[base])[1:]\n",
        "    assets[base]['lower_shadow_15_perc'].fillna(method='bfill',inplace=True)\n",
        "\n",
        "    assets[base][\"Target\"].fillna(method='pad',inplace=True)\n",
        "\n"
      ]
    },
    {
      "cell_type": "code",
      "execution_count": null,
      "metadata": {
        "colab": {
          "base_uri": "https://localhost:8080/"
        },
        "id": "T6YOIlVqD7LQ",
        "outputId": "1a29f890-ff3c-442e-8383-ae28b8b84d70"
      },
      "outputs": [
        {
          "name": "stdout",
          "output_type": "stream",
          "text": [
            "Mem. usage decreased to 123.18 Mb (75.7% reduction)\n",
            "Mem. usage decreased to 126.91 Mb (75.0% reduction)\n",
            "Mem. usage decreased to 126.91 Mb (75.0% reduction)\n",
            "Mem. usage decreased to 130.64 Mb (74.3% reduction)\n",
            "Mem. usage decreased to 130.64 Mb (74.3% reduction)\n",
            "Mem. usage decreased to 130.64 Mb (74.3% reduction)\n",
            "Mem. usage decreased to 126.91 Mb (75.0% reduction)\n",
            "Mem. usage decreased to 123.18 Mb (75.7% reduction)\n",
            "Mem. usage decreased to 123.46 Mb (75.0% reduction)\n",
            "Mem. usage decreased to 122.52 Mb (75.0% reduction)\n",
            "Mem. usage decreased to 120.41 Mb (74.3% reduction)\n",
            "Mem. usage decreased to 114.92 Mb (75.0% reduction)\n",
            "Mem. usage decreased to 111.43 Mb (75.7% reduction)\n",
            "Mem. usage decreased to 85.79 Mb (74.3% reduction)\n"
          ]
        }
      ],
      "source": [
        "for base in assets:\n",
        "  assets[base]=reduce_mem_usage(assets[base])"
      ]
    },
    {
      "cell_type": "code",
      "execution_count": null,
      "metadata": {
        "id": "-_Etz41OGnZJ"
      },
      "outputs": [],
      "source": [
        "# pk.dump(assets,open('gdrive/My Drive/Colab Notebooks/Kaggle/g_research_competition/base_mod.pkl','wb'))"
      ]
    },
    {
      "cell_type": "code",
      "execution_count": 7,
      "metadata": {
        "id": "L1Ldt6CTmjNo"
      },
      "outputs": [],
      "source": [
        "assets=pk.load(open('gdrive/My Drive/Colab Notebooks/Kaggle/g_research_competition/base_mod.pkl','rb'))"
      ]
    },
    {
      "cell_type": "code",
      "execution_count": 8,
      "metadata": {
        "id": "hCfIKLplRDHb"
      },
      "outputs": [],
      "source": [
        "# del base_treino"
      ]
    },
    {
      "cell_type": "code",
      "execution_count": 9,
      "metadata": {
        "colab": {
          "base_uri": "https://localhost:8080/",
          "height": 518
        },
        "id": "8eYm_uvGJgmg",
        "outputId": "0f012ca1-aa8e-4796-ae7c-bc60c6d12e49"
      },
      "outputs": [
        {
          "output_type": "execute_result",
          "data": {
            "text/html": [
              "\n",
              "  <div id=\"df-22a3460c-142d-466d-ad9f-48ef22e1a4fa\">\n",
              "    <div class=\"colab-df-container\">\n",
              "      <div>\n",
              "<style scoped>\n",
              "    .dataframe tbody tr th:only-of-type {\n",
              "        vertical-align: middle;\n",
              "    }\n",
              "\n",
              "    .dataframe tbody tr th {\n",
              "        vertical-align: top;\n",
              "    }\n",
              "\n",
              "    .dataframe thead th {\n",
              "        text-align: right;\n",
              "    }\n",
              "</style>\n",
              "<table border=\"1\" class=\"dataframe\">\n",
              "  <thead>\n",
              "    <tr style=\"text-align: right;\">\n",
              "      <th></th>\n",
              "      <th>Count</th>\n",
              "      <th>Open</th>\n",
              "      <th>High</th>\n",
              "      <th>Low</th>\n",
              "      <th>Close</th>\n",
              "      <th>Volume</th>\n",
              "      <th>VWAP</th>\n",
              "      <th>Target</th>\n",
              "      <th>dia_semana</th>\n",
              "      <th>hora</th>\n",
              "      <th>...</th>\n",
              "      <th>boll_30</th>\n",
              "      <th>Didi</th>\n",
              "      <th>MACD</th>\n",
              "      <th>willr</th>\n",
              "      <th>willr_flag</th>\n",
              "      <th>log_ret</th>\n",
              "      <th>upper_shadow_perc</th>\n",
              "      <th>lower_shadow_perc</th>\n",
              "      <th>upper_shadow_15_perc</th>\n",
              "      <th>lower_shadow_15_perc</th>\n",
              "    </tr>\n",
              "    <tr>\n",
              "      <th>timestamp</th>\n",
              "      <th></th>\n",
              "      <th></th>\n",
              "      <th></th>\n",
              "      <th></th>\n",
              "      <th></th>\n",
              "      <th></th>\n",
              "      <th></th>\n",
              "      <th></th>\n",
              "      <th></th>\n",
              "      <th></th>\n",
              "      <th></th>\n",
              "      <th></th>\n",
              "      <th></th>\n",
              "      <th></th>\n",
              "      <th></th>\n",
              "      <th></th>\n",
              "      <th></th>\n",
              "      <th></th>\n",
              "      <th></th>\n",
              "      <th></th>\n",
              "      <th></th>\n",
              "    </tr>\n",
              "  </thead>\n",
              "  <tbody>\n",
              "    <tr>\n",
              "      <th>1618534740</th>\n",
              "      <td>1981.0</td>\n",
              "      <td>533.500000</td>\n",
              "      <td>536.000000</td>\n",
              "      <td>533.500000</td>\n",
              "      <td>534.500000</td>\n",
              "      <td>6837.198730</td>\n",
              "      <td>535.000000</td>\n",
              "      <td>-0.007721</td>\n",
              "      <td>4</td>\n",
              "      <td>0</td>\n",
              "      <td>...</td>\n",
              "      <td>0.0</td>\n",
              "      <td>0.0</td>\n",
              "      <td>-1.0</td>\n",
              "      <td>-59.312500</td>\n",
              "      <td>0.0</td>\n",
              "      <td>0.001474</td>\n",
              "      <td>0.002623</td>\n",
              "      <td>0.000586</td>\n",
              "      <td>0.000552</td>\n",
              "      <td>0.011200</td>\n",
              "    </tr>\n",
              "    <tr>\n",
              "      <th>1578592800</th>\n",
              "      <td>11.0</td>\n",
              "      <td>14.250000</td>\n",
              "      <td>14.250000</td>\n",
              "      <td>14.242188</td>\n",
              "      <td>14.242188</td>\n",
              "      <td>19.670000</td>\n",
              "      <td>14.242188</td>\n",
              "      <td>0.001918</td>\n",
              "      <td>3</td>\n",
              "      <td>18</td>\n",
              "      <td>...</td>\n",
              "      <td>0.0</td>\n",
              "      <td>0.0</td>\n",
              "      <td>-1.0</td>\n",
              "      <td>-86.750000</td>\n",
              "      <td>-1.0</td>\n",
              "      <td>-0.000576</td>\n",
              "      <td>0.000000</td>\n",
              "      <td>0.000000</td>\n",
              "      <td>-0.001433</td>\n",
              "      <td>0.003218</td>\n",
              "    </tr>\n",
              "    <tr>\n",
              "      <th>1615384020</th>\n",
              "      <td>688.0</td>\n",
              "      <td>285.250000</td>\n",
              "      <td>285.500000</td>\n",
              "      <td>285.000000</td>\n",
              "      <td>285.250000</td>\n",
              "      <td>2283.016357</td>\n",
              "      <td>285.250000</td>\n",
              "      <td>-0.002428</td>\n",
              "      <td>2</td>\n",
              "      <td>13</td>\n",
              "      <td>...</td>\n",
              "      <td>0.0</td>\n",
              "      <td>0.0</td>\n",
              "      <td>-1.0</td>\n",
              "      <td>-79.000000</td>\n",
              "      <td>0.0</td>\n",
              "      <td>0.000380</td>\n",
              "      <td>0.000775</td>\n",
              "      <td>0.000945</td>\n",
              "      <td>0.006927</td>\n",
              "      <td>0.004017</td>\n",
              "    </tr>\n",
              "    <tr>\n",
              "      <th>1546576740</th>\n",
              "      <td>22.0</td>\n",
              "      <td>5.894531</td>\n",
              "      <td>5.894531</td>\n",
              "      <td>5.886719</td>\n",
              "      <td>5.886719</td>\n",
              "      <td>3342.060059</td>\n",
              "      <td>5.890625</td>\n",
              "      <td>0.000731</td>\n",
              "      <td>4</td>\n",
              "      <td>4</td>\n",
              "      <td>...</td>\n",
              "      <td>-1.0</td>\n",
              "      <td>0.0</td>\n",
              "      <td>-1.0</td>\n",
              "      <td>-99.750000</td>\n",
              "      <td>-1.0</td>\n",
              "      <td>-0.001290</td>\n",
              "      <td>0.000000</td>\n",
              "      <td>0.000017</td>\n",
              "      <td>0.004147</td>\n",
              "      <td>0.002583</td>\n",
              "    </tr>\n",
              "    <tr>\n",
              "      <th>1537615920</th>\n",
              "      <td>1.0</td>\n",
              "      <td>10.109375</td>\n",
              "      <td>10.109375</td>\n",
              "      <td>10.109375</td>\n",
              "      <td>10.109375</td>\n",
              "      <td>1.500000</td>\n",
              "      <td>10.109375</td>\n",
              "      <td>-0.002670</td>\n",
              "      <td>5</td>\n",
              "      <td>11</td>\n",
              "      <td>...</td>\n",
              "      <td>0.0</td>\n",
              "      <td>0.0</td>\n",
              "      <td>1.0</td>\n",
              "      <td>-3.507812</td>\n",
              "      <td>1.0</td>\n",
              "      <td>0.001158</td>\n",
              "      <td>0.000000</td>\n",
              "      <td>0.000000</td>\n",
              "      <td>0.000079</td>\n",
              "      <td>0.003843</td>\n",
              "    </tr>\n",
              "    <tr>\n",
              "      <th>...</th>\n",
              "      <td>...</td>\n",
              "      <td>...</td>\n",
              "      <td>...</td>\n",
              "      <td>...</td>\n",
              "      <td>...</td>\n",
              "      <td>...</td>\n",
              "      <td>...</td>\n",
              "      <td>...</td>\n",
              "      <td>...</td>\n",
              "      <td>...</td>\n",
              "      <td>...</td>\n",
              "      <td>...</td>\n",
              "      <td>...</td>\n",
              "      <td>...</td>\n",
              "      <td>...</td>\n",
              "      <td>...</td>\n",
              "      <td>...</td>\n",
              "      <td>...</td>\n",
              "      <td>...</td>\n",
              "      <td>...</td>\n",
              "      <td>...</td>\n",
              "    </tr>\n",
              "    <tr>\n",
              "      <th>1559429040</th>\n",
              "      <td>17.0</td>\n",
              "      <td>32.937500</td>\n",
              "      <td>32.937500</td>\n",
              "      <td>32.875000</td>\n",
              "      <td>32.906250</td>\n",
              "      <td>480.140015</td>\n",
              "      <td>32.906250</td>\n",
              "      <td>-0.002199</td>\n",
              "      <td>5</td>\n",
              "      <td>22</td>\n",
              "      <td>...</td>\n",
              "      <td>0.0</td>\n",
              "      <td>1.0</td>\n",
              "      <td>1.0</td>\n",
              "      <td>-24.062500</td>\n",
              "      <td>0.0</td>\n",
              "      <td>-0.001883</td>\n",
              "      <td>0.000206</td>\n",
              "      <td>0.000632</td>\n",
              "      <td>0.008896</td>\n",
              "      <td>-0.000083</td>\n",
              "    </tr>\n",
              "    <tr>\n",
              "      <th>1622000280</th>\n",
              "      <td>833.0</td>\n",
              "      <td>359.000000</td>\n",
              "      <td>360.000000</td>\n",
              "      <td>358.750000</td>\n",
              "      <td>359.750000</td>\n",
              "      <td>2371.370850</td>\n",
              "      <td>359.250000</td>\n",
              "      <td>0.002752</td>\n",
              "      <td>2</td>\n",
              "      <td>3</td>\n",
              "      <td>...</td>\n",
              "      <td>0.0</td>\n",
              "      <td>0.0</td>\n",
              "      <td>-1.0</td>\n",
              "      <td>-4.019531</td>\n",
              "      <td>1.0</td>\n",
              "      <td>0.002039</td>\n",
              "      <td>0.000186</td>\n",
              "      <td>0.000711</td>\n",
              "      <td>0.004570</td>\n",
              "      <td>0.003500</td>\n",
              "    </tr>\n",
              "    <tr>\n",
              "      <th>1583623500</th>\n",
              "      <td>35.0</td>\n",
              "      <td>20.046875</td>\n",
              "      <td>20.046875</td>\n",
              "      <td>20.031250</td>\n",
              "      <td>20.031250</td>\n",
              "      <td>489.170013</td>\n",
              "      <td>20.031250</td>\n",
              "      <td>0.000827</td>\n",
              "      <td>5</td>\n",
              "      <td>23</td>\n",
              "      <td>...</td>\n",
              "      <td>0.0</td>\n",
              "      <td>0.0</td>\n",
              "      <td>-1.0</td>\n",
              "      <td>-67.437500</td>\n",
              "      <td>0.0</td>\n",
              "      <td>-0.000723</td>\n",
              "      <td>0.000000</td>\n",
              "      <td>0.000145</td>\n",
              "      <td>0.000253</td>\n",
              "      <td>0.005241</td>\n",
              "    </tr>\n",
              "    <tr>\n",
              "      <th>1592995320</th>\n",
              "      <td>144.0</td>\n",
              "      <td>16.093750</td>\n",
              "      <td>16.140625</td>\n",
              "      <td>16.093750</td>\n",
              "      <td>16.140625</td>\n",
              "      <td>1767.849976</td>\n",
              "      <td>16.109375</td>\n",
              "      <td>-0.002329</td>\n",
              "      <td>2</td>\n",
              "      <td>10</td>\n",
              "      <td>...</td>\n",
              "      <td>0.0</td>\n",
              "      <td>0.0</td>\n",
              "      <td>-1.0</td>\n",
              "      <td>-51.718750</td>\n",
              "      <td>0.0</td>\n",
              "      <td>0.002848</td>\n",
              "      <td>0.000242</td>\n",
              "      <td>0.000280</td>\n",
              "      <td>0.000043</td>\n",
              "      <td>0.018143</td>\n",
              "    </tr>\n",
              "    <tr>\n",
              "      <th>1626066060</th>\n",
              "      <td>263.0</td>\n",
              "      <td>327.750000</td>\n",
              "      <td>328.000000</td>\n",
              "      <td>327.500000</td>\n",
              "      <td>327.500000</td>\n",
              "      <td>810.747498</td>\n",
              "      <td>327.750000</td>\n",
              "      <td>-0.000879</td>\n",
              "      <td>0</td>\n",
              "      <td>5</td>\n",
              "      <td>...</td>\n",
              "      <td>0.0</td>\n",
              "      <td>0.0</td>\n",
              "      <td>-1.0</td>\n",
              "      <td>-99.500000</td>\n",
              "      <td>-1.0</td>\n",
              "      <td>-0.000383</td>\n",
              "      <td>0.000250</td>\n",
              "      <td>0.000014</td>\n",
              "      <td>0.001131</td>\n",
              "      <td>0.001189</td>\n",
              "    </tr>\n",
              "  </tbody>\n",
              "</table>\n",
              "<p>100 rows × 34 columns</p>\n",
              "</div>\n",
              "      <button class=\"colab-df-convert\" onclick=\"convertToInteractive('df-22a3460c-142d-466d-ad9f-48ef22e1a4fa')\"\n",
              "              title=\"Convert this dataframe to an interactive table.\"\n",
              "              style=\"display:none;\">\n",
              "        \n",
              "  <svg xmlns=\"http://www.w3.org/2000/svg\" height=\"24px\"viewBox=\"0 0 24 24\"\n",
              "       width=\"24px\">\n",
              "    <path d=\"M0 0h24v24H0V0z\" fill=\"none\"/>\n",
              "    <path d=\"M18.56 5.44l.94 2.06.94-2.06 2.06-.94-2.06-.94-.94-2.06-.94 2.06-2.06.94zm-11 1L8.5 8.5l.94-2.06 2.06-.94-2.06-.94L8.5 2.5l-.94 2.06-2.06.94zm10 10l.94 2.06.94-2.06 2.06-.94-2.06-.94-.94-2.06-.94 2.06-2.06.94z\"/><path d=\"M17.41 7.96l-1.37-1.37c-.4-.4-.92-.59-1.43-.59-.52 0-1.04.2-1.43.59L10.3 9.45l-7.72 7.72c-.78.78-.78 2.05 0 2.83L4 21.41c.39.39.9.59 1.41.59.51 0 1.02-.2 1.41-.59l7.78-7.78 2.81-2.81c.8-.78.8-2.07 0-2.86zM5.41 20L4 18.59l7.72-7.72 1.47 1.35L5.41 20z\"/>\n",
              "  </svg>\n",
              "      </button>\n",
              "      \n",
              "  <style>\n",
              "    .colab-df-container {\n",
              "      display:flex;\n",
              "      flex-wrap:wrap;\n",
              "      gap: 12px;\n",
              "    }\n",
              "\n",
              "    .colab-df-convert {\n",
              "      background-color: #E8F0FE;\n",
              "      border: none;\n",
              "      border-radius: 50%;\n",
              "      cursor: pointer;\n",
              "      display: none;\n",
              "      fill: #1967D2;\n",
              "      height: 32px;\n",
              "      padding: 0 0 0 0;\n",
              "      width: 32px;\n",
              "    }\n",
              "\n",
              "    .colab-df-convert:hover {\n",
              "      background-color: #E2EBFA;\n",
              "      box-shadow: 0px 1px 2px rgba(60, 64, 67, 0.3), 0px 1px 3px 1px rgba(60, 64, 67, 0.15);\n",
              "      fill: #174EA6;\n",
              "    }\n",
              "\n",
              "    [theme=dark] .colab-df-convert {\n",
              "      background-color: #3B4455;\n",
              "      fill: #D2E3FC;\n",
              "    }\n",
              "\n",
              "    [theme=dark] .colab-df-convert:hover {\n",
              "      background-color: #434B5C;\n",
              "      box-shadow: 0px 1px 3px 1px rgba(0, 0, 0, 0.15);\n",
              "      filter: drop-shadow(0px 1px 2px rgba(0, 0, 0, 0.3));\n",
              "      fill: #FFFFFF;\n",
              "    }\n",
              "  </style>\n",
              "\n",
              "      <script>\n",
              "        const buttonEl =\n",
              "          document.querySelector('#df-22a3460c-142d-466d-ad9f-48ef22e1a4fa button.colab-df-convert');\n",
              "        buttonEl.style.display =\n",
              "          google.colab.kernel.accessAllowed ? 'block' : 'none';\n",
              "\n",
              "        async function convertToInteractive(key) {\n",
              "          const element = document.querySelector('#df-22a3460c-142d-466d-ad9f-48ef22e1a4fa');\n",
              "          const dataTable =\n",
              "            await google.colab.kernel.invokeFunction('convertToInteractive',\n",
              "                                                     [key], {});\n",
              "          if (!dataTable) return;\n",
              "\n",
              "          const docLinkHtml = 'Like what you see? Visit the ' +\n",
              "            '<a target=\"_blank\" href=https://colab.research.google.com/notebooks/data_table.ipynb>data table notebook</a>'\n",
              "            + ' to learn more about interactive tables.';\n",
              "          element.innerHTML = '';\n",
              "          dataTable['output_type'] = 'display_data';\n",
              "          await google.colab.output.renderOutput(dataTable, element);\n",
              "          const docLink = document.createElement('div');\n",
              "          docLink.innerHTML = docLinkHtml;\n",
              "          element.appendChild(docLink);\n",
              "        }\n",
              "      </script>\n",
              "    </div>\n",
              "  </div>\n",
              "  "
            ],
            "text/plain": [
              "             Count        Open        High         Low       Close  \\\n",
              "timestamp                                                            \n",
              "1618534740  1981.0  533.500000  536.000000  533.500000  534.500000   \n",
              "1578592800    11.0   14.250000   14.250000   14.242188   14.242188   \n",
              "1615384020   688.0  285.250000  285.500000  285.000000  285.250000   \n",
              "1546576740    22.0    5.894531    5.894531    5.886719    5.886719   \n",
              "1537615920     1.0   10.109375   10.109375   10.109375   10.109375   \n",
              "...            ...         ...         ...         ...         ...   \n",
              "1559429040    17.0   32.937500   32.937500   32.875000   32.906250   \n",
              "1622000280   833.0  359.000000  360.000000  358.750000  359.750000   \n",
              "1583623500    35.0   20.046875   20.046875   20.031250   20.031250   \n",
              "1592995320   144.0   16.093750   16.140625   16.093750   16.140625   \n",
              "1626066060   263.0  327.750000  328.000000  327.500000  327.500000   \n",
              "\n",
              "                 Volume        VWAP    Target  dia_semana  hora  ...  boll_30  \\\n",
              "timestamp                                                        ...            \n",
              "1618534740  6837.198730  535.000000 -0.007721           4     0  ...      0.0   \n",
              "1578592800    19.670000   14.242188  0.001918           3    18  ...      0.0   \n",
              "1615384020  2283.016357  285.250000 -0.002428           2    13  ...      0.0   \n",
              "1546576740  3342.060059    5.890625  0.000731           4     4  ...     -1.0   \n",
              "1537615920     1.500000   10.109375 -0.002670           5    11  ...      0.0   \n",
              "...                 ...         ...       ...         ...   ...  ...      ...   \n",
              "1559429040   480.140015   32.906250 -0.002199           5    22  ...      0.0   \n",
              "1622000280  2371.370850  359.250000  0.002752           2     3  ...      0.0   \n",
              "1583623500   489.170013   20.031250  0.000827           5    23  ...      0.0   \n",
              "1592995320  1767.849976   16.109375 -0.002329           2    10  ...      0.0   \n",
              "1626066060   810.747498  327.750000 -0.000879           0     5  ...      0.0   \n",
              "\n",
              "            Didi  MACD      willr  willr_flag   log_ret  upper_shadow_perc  \\\n",
              "timestamp                                                                    \n",
              "1618534740   0.0  -1.0 -59.312500         0.0  0.001474           0.002623   \n",
              "1578592800   0.0  -1.0 -86.750000        -1.0 -0.000576           0.000000   \n",
              "1615384020   0.0  -1.0 -79.000000         0.0  0.000380           0.000775   \n",
              "1546576740   0.0  -1.0 -99.750000        -1.0 -0.001290           0.000000   \n",
              "1537615920   0.0   1.0  -3.507812         1.0  0.001158           0.000000   \n",
              "...          ...   ...        ...         ...       ...                ...   \n",
              "1559429040   1.0   1.0 -24.062500         0.0 -0.001883           0.000206   \n",
              "1622000280   0.0  -1.0  -4.019531         1.0  0.002039           0.000186   \n",
              "1583623500   0.0  -1.0 -67.437500         0.0 -0.000723           0.000000   \n",
              "1592995320   0.0  -1.0 -51.718750         0.0  0.002848           0.000242   \n",
              "1626066060   0.0  -1.0 -99.500000        -1.0 -0.000383           0.000250   \n",
              "\n",
              "            lower_shadow_perc  upper_shadow_15_perc  lower_shadow_15_perc  \n",
              "timestamp                                                                  \n",
              "1618534740           0.000586              0.000552              0.011200  \n",
              "1578592800           0.000000             -0.001433              0.003218  \n",
              "1615384020           0.000945              0.006927              0.004017  \n",
              "1546576740           0.000017              0.004147              0.002583  \n",
              "1537615920           0.000000              0.000079              0.003843  \n",
              "...                       ...                   ...                   ...  \n",
              "1559429040           0.000632              0.008896             -0.000083  \n",
              "1622000280           0.000711              0.004570              0.003500  \n",
              "1583623500           0.000145              0.000253              0.005241  \n",
              "1592995320           0.000280              0.000043              0.018143  \n",
              "1626066060           0.000014              0.001131              0.001189  \n",
              "\n",
              "[100 rows x 34 columns]"
            ]
          },
          "metadata": {},
          "execution_count": 9
        }
      ],
      "source": [
        "assets[0].sample(100)"
      ]
    },
    {
      "cell_type": "code",
      "execution_count": 10,
      "metadata": {
        "colab": {
          "base_uri": "https://localhost:8080/"
        },
        "id": "mfAvnTw7PaUP",
        "outputId": "1567f7ff-3ba5-4a81-858e-7b8920522b6c"
      },
      "outputs": [
        {
          "output_type": "execute_result",
          "data": {
            "text/plain": [
              "Count                   0\n",
              "Open                    0\n",
              "High                    0\n",
              "Low                     0\n",
              "Close                   0\n",
              "Volume                  0\n",
              "VWAP                    0\n",
              "Target                  0\n",
              "dia_semana              0\n",
              "hora                    0\n",
              "SMA_7                   0\n",
              "SMA_15                  0\n",
              "SMA_30                  0\n",
              "SMA_60                  0\n",
              "SMA_180                 0\n",
              "log_SMA_7               0\n",
              "log_SMA_14              0\n",
              "log_SMA_30              0\n",
              "log_SMA_60              0\n",
              "log_SMA_180             0\n",
              "log_CMA_30              0\n",
              "log_CMA_15              0\n",
              "log_EWM_30              0\n",
              "log_EWM_15              0\n",
              "boll_30                 0\n",
              "Didi                    0\n",
              "MACD                    0\n",
              "willr                   0\n",
              "willr_flag              0\n",
              "log_ret                 0\n",
              "upper_shadow_perc       0\n",
              "lower_shadow_perc       0\n",
              "upper_shadow_15_perc    0\n",
              "lower_shadow_15_perc    0\n",
              "dtype: int64"
            ]
          },
          "metadata": {},
          "execution_count": 10
        }
      ],
      "source": [
        "assets[1].isnull().sum()"
      ]
    },
    {
      "cell_type": "code",
      "execution_count": 10,
      "metadata": {
        "id": "l0EBUAaDJx7p"
      },
      "outputs": [],
      "source": [
        ""
      ]
    },
    {
      "cell_type": "markdown",
      "metadata": {
        "id": "NneI_-HbJgmh"
      },
      "source": [
        "## 3.2 Features específicas (opcionais)"
      ]
    },
    {
      "cell_type": "markdown",
      "metadata": {
        "id": "-zqviE18Jgmh"
      },
      "source": [
        "### 3.2.1 BTC"
      ]
    },
    {
      "cell_type": "code",
      "execution_count": 10,
      "metadata": {
        "id": "xLWVFW7_Jgmh"
      },
      "outputs": [],
      "source": [
        ""
      ]
    },
    {
      "cell_type": "markdown",
      "metadata": {
        "id": "c_TLQZJ7Jgmh"
      },
      "source": [
        "### 3.2.1 ETH"
      ]
    },
    {
      "cell_type": "code",
      "execution_count": 10,
      "metadata": {
        "id": "ba53Ikj5Jgmh"
      },
      "outputs": [],
      "source": [
        ""
      ]
    },
    {
      "cell_type": "markdown",
      "metadata": {
        "id": "wdIMnIDuJgmh"
      },
      "source": [
        "# 4. Modelagem"
      ]
    },
    {
      "cell_type": "markdown",
      "metadata": {
        "id": "iPfONeuYJgmh"
      },
      "source": [
        "## 4.1 Quebra de treino/validação/teste"
      ]
    },
    {
      "cell_type": "code",
      "execution_count": 11,
      "metadata": {
        "id": "r7jUoYcuClvg"
      },
      "outputs": [],
      "source": [
        "# list_periodos = []\n",
        "\n",
        "# for asset in base_treino.Asset_ID.unique():\n",
        "#     maximo = base_treino[base_treino.Asset_ID == asset].timestamp.max()\n",
        "#     minimo = base_treino[base_treino.Asset_ID == asset].timestamp.min()\n",
        "#     list_periodos.append([asset,minimo,maximo])\n",
        "    \n",
        "# df_periodos = pd.DataFrame(list_periodos, columns=['asset','min','max'])\n",
        "# df_periodos['min'] = pd.to_datetime(df_periodos['min'], unit='s')\n",
        "# df_periodos['max'] = pd.to_datetime(df_periodos['max'], unit='s')\n",
        "# df_periodos.sort_values('min')"
      ]
    },
    {
      "cell_type": "code",
      "execution_count": 11,
      "metadata": {
        "id": "Z1ftzZRMBQ8X"
      },
      "outputs": [],
      "source": [
        ""
      ]
    },
    {
      "cell_type": "code",
      "execution_count": 11,
      "metadata": {
        "id": "5NIvdlLhDvcH"
      },
      "outputs": [],
      "source": [
        ""
      ]
    },
    {
      "cell_type": "code",
      "execution_count": 12,
      "metadata": {
        "id": "YLKvJPbHJBbt"
      },
      "outputs": [],
      "source": [
        "# y_treino={x: np.array(assets[x].loc[totimestamp(\"01/01/2020\"):totimestamp(\"01/04/2021\")][\"Target\"]) for x in assets.keys()}"
      ]
    },
    {
      "cell_type": "code",
      "execution_count": 13,
      "metadata": {
        "id": "10n89ftCJRZF"
      },
      "outputs": [],
      "source": [
        "# y_teste={x: np.array(assets[x].loc[totimestamp(\"01/04/2021\"):totimestamp(\"01/07/2021\")][\"Target\"]) for x in assets.keys()}"
      ]
    },
    {
      "cell_type": "code",
      "execution_count": 14,
      "metadata": {
        "id": "uD7EnswjGAZO"
      },
      "outputs": [],
      "source": [
        "# x_treino = {x: assets[x].loc[totimestamp(\"01/01/2020\"):totimestamp(\"01/04/2021\")].drop(['Open', 'High', 'Low', 'Close', 'VWAP','Target'], axis=1) for x in assets.keys()}"
      ]
    },
    {
      "cell_type": "code",
      "execution_count": 15,
      "metadata": {
        "id": "4jQcsbJdIUoO"
      },
      "outputs": [],
      "source": [
        "# x_teste = {x: assets[x].loc[totimestamp(\"01/04/2021\"):totimestamp(\"01/07/2021\")].drop(['Open', 'High', 'Low', 'Close', 'VWAP','Target'], axis=1) for x in assets.keys()}"
      ]
    },
    {
      "cell_type": "code",
      "execution_count": 16,
      "metadata": {
        "id": "ZfZozc0MY1Kb"
      },
      "outputs": [],
      "source": [
        "from sklearn.preprocessing import StandardScaler\n",
        "# simple preprocessing of the data \n",
        "scaler = StandardScaler()"
      ]
    },
    {
      "cell_type": "code",
      "execution_count": 17,
      "metadata": {
        "id": "qkIZXVcXYj4u"
      },
      "outputs": [],
      "source": [
        "x_treino = {x: scaler.fit_transform(assets[x].loc[totimestamp(\"01/01/2020\"):totimestamp(\"01/04/2021\")].drop(['Open', 'High', 'Low', 'Close', 'VWAP','Target'], axis=1)) for x in assets.keys()}\n",
        "\n",
        "x_teste = {x: scaler.fit_transform(assets[x].loc[totimestamp(\"02/04/2021\"):totimestamp(\"01/07/2021\")].drop(['Open', 'High', 'Low', 'Close', 'VWAP','Target'], axis=1)) for x in assets.keys()}\n",
        "\n",
        "x_valid = {x: scaler.fit_transform(assets[x].loc[totimestamp(\"02/07/2021\"):totimestamp(\"01/09/2021\")].drop(['Open', 'High', 'Low', 'Close', 'VWAP','Target'], axis=1)) for x in assets.keys()}\n",
        "\n",
        "\n"
      ]
    },
    {
      "cell_type": "code",
      "execution_count": 18,
      "metadata": {
        "id": "rRDYBrbqZZ4Y"
      },
      "outputs": [],
      "source": [
        "y_treino={x: (np.array(assets[x].loc[totimestamp(\"01/01/2020\"):totimestamp(\"01/04/2021\")][\"Target\"])) for x in assets.keys()}\n",
        "\n",
        "y_teste={x: (np.array(assets[x].loc[totimestamp(\"02/04/2021\"):totimestamp(\"01/07/2021\")][\"Target\"])) for x in assets.keys()}\n",
        "\n",
        "y_valid={x: np.array(assets[x].loc[totimestamp(\"02/07/2021\"):totimestamp(\"01/09/2021\")][\"Target\"]) for x in assets.keys()}\n"
      ]
    },
    {
      "cell_type": "markdown",
      "source": [
        "4.12 Bases para modelo multioutput"
      ],
      "metadata": {
        "id": "ngaEtH1skvst"
      }
    },
    {
      "cell_type": "code",
      "source": [
        "x_all_treino = np.concatenate((x_treino[0], x_treino[1],x_treino[2],x_treino[3],x_treino[4],x_treino[5],x_treino[6],x_treino[7],x_treino[8],x_treino[9],x_treino[10],x_treino[11],x_treino[12],x_treino[13]), axis=1)\n",
        "\n",
        "x_all_teste = np.concatenate((x_teste[0], x_teste[1],x_teste[2],x_teste[3],x_teste[4],x_teste[5],x_teste[6],x_teste[7],x_teste[8],x_teste[9],x_teste[10],x_teste[11],x_teste[12],x_teste[13]), axis=1)\n",
        "\n",
        "x_all_valid = np.concatenate((x_valid[0], x_valid[1],x_valid[2],x_valid[3],x_valid[4],x_valid[5],x_valid[6],x_valid[7],x_valid[8],x_valid[9],x_valid[10],x_valid[11],x_valid[12],x_valid[13]), axis=1)\n"
      ],
      "metadata": {
        "id": "cGj2zGBR6mlK"
      },
      "execution_count": 40,
      "outputs": []
    },
    {
      "cell_type": "code",
      "source": [
        "y_all_treino = np.column_stack((y_treino[0], y_treino[1],y_treino[2],y_treino[3],y_treino[4],y_treino[5],y_treino[6],y_treino[7],y_treino[8],y_treino[9],y_treino[10],y_treino[11],y_treino[12],y_treino[13]))\n",
        "\n",
        "y_all_teste = np.column_stack((y_teste[0], y_teste[1],y_teste[2],y_teste[3],y_teste[4],y_teste[5],y_teste[6],y_teste[7],y_teste[8],y_teste[9],y_teste[10],y_teste[11],y_teste[12],y_teste[13]))\n",
        "\n",
        "y_all_valid = np.column_stack((y_valid[0], y_valid[1],y_valid[2],y_valid[3],y_valid[4],y_valid[5],y_valid[6],y_valid[7],y_valid[8],y_valid[9],y_valid[10],y_valid[11],y_valid[12],y_valid[13]))"
      ],
      "metadata": {
        "id": "LeyrMH99kgUF"
      },
      "execution_count": 41,
      "outputs": []
    },
    {
      "cell_type": "markdown",
      "metadata": {
        "id": "qlOy9dNyJgmi"
      },
      "source": [
        "## 4.2 Modelo baseline"
      ]
    },
    {
      "cell_type": "code",
      "execution_count": null,
      "metadata": {
        "id": "AEv3VDuQc-WU"
      },
      "outputs": [],
      "source": [
        "modelos_reg_lin ={}\n",
        "import pickle as pk\n",
        "from sklearn import linear_model\n",
        "for base in assets:\n",
        "  modelos_reg_lin[base] = linear_model.Ridge(alpha=.1)\n",
        "  modelos_reg_lin[base].fit(x_treino[base], y_treino[base])\n",
        "  pk.dump(modelos_reg_lin[base],open('gdrive/My Drive/Colab Notebooks/Kaggle/g_research_competition/mod_lin_reg/modelo_lin_reg'+str(base)+'.pkl','wb'))"
      ]
    },
    {
      "cell_type": "code",
      "execution_count": null,
      "metadata": {
        "id": "u8_Hto8l35eI"
      },
      "outputs": [],
      "source": [
        "del  modelos_reg_lin"
      ]
    },
    {
      "cell_type": "markdown",
      "metadata": {
        "id": "2_gMRgPnJgmj"
      },
      "source": [
        "## 4.3 Modelagem freestyle"
      ]
    },
    {
      "cell_type": "code",
      "execution_count": null,
      "metadata": {
        "colab": {
          "base_uri": "https://localhost:8080/",
          "height": 362
        },
        "id": "X69CktIjd4AX",
        "outputId": "e99ece07-1618-4be3-c7cd-5d99aebeb958"
      },
      "outputs": [
        {
          "output_type": "error",
          "ename": "KeyboardInterrupt",
          "evalue": "ignored",
          "traceback": [
            "\u001b[0;31m---------------------------------------------------------------------------\u001b[0m",
            "\u001b[0;31mKeyboardInterrupt\u001b[0m                         Traceback (most recent call last)",
            "\u001b[0;32m<ipython-input-42-a3a9f55229a2>\u001b[0m in \u001b[0;36m<module>\u001b[0;34m()\u001b[0m\n\u001b[1;32m      3\u001b[0m \u001b[0;34m\u001b[0m\u001b[0m\n\u001b[1;32m      4\u001b[0m \u001b[0mmlr\u001b[0m \u001b[0;34m=\u001b[0m \u001b[0mMultiOutputRegressor\u001b[0m\u001b[0;34m(\u001b[0m\u001b[0mlinear_model\u001b[0m\u001b[0;34m.\u001b[0m\u001b[0mRidge\u001b[0m\u001b[0;34m(\u001b[0m\u001b[0malpha\u001b[0m\u001b[0;34m=\u001b[0m\u001b[0;36m.1\u001b[0m\u001b[0;34m)\u001b[0m\u001b[0;34m)\u001b[0m\u001b[0;34m\u001b[0m\u001b[0;34m\u001b[0m\u001b[0m\n\u001b[0;32m----> 5\u001b[0;31m \u001b[0mmlr\u001b[0m\u001b[0;34m.\u001b[0m\u001b[0mfit\u001b[0m\u001b[0;34m(\u001b[0m\u001b[0mX_all_train\u001b[0m\u001b[0;34m,\u001b[0m\u001b[0my_all_train\u001b[0m\u001b[0;34m)\u001b[0m\u001b[0;34m\u001b[0m\u001b[0;34m\u001b[0m\u001b[0m\n\u001b[0m",
            "\u001b[0;32m/usr/local/lib/python3.7/dist-packages/sklearn/multioutput.py\u001b[0m in \u001b[0;36mfit\u001b[0;34m(self, X, y, sample_weight, **fit_params)\u001b[0m\n\u001b[1;32m    204\u001b[0m                 \u001b[0mself\u001b[0m\u001b[0;34m.\u001b[0m\u001b[0mestimator\u001b[0m\u001b[0;34m,\u001b[0m \u001b[0mX\u001b[0m\u001b[0;34m,\u001b[0m \u001b[0my\u001b[0m\u001b[0;34m[\u001b[0m\u001b[0;34m:\u001b[0m\u001b[0;34m,\u001b[0m \u001b[0mi\u001b[0m\u001b[0;34m]\u001b[0m\u001b[0;34m,\u001b[0m \u001b[0msample_weight\u001b[0m\u001b[0;34m,\u001b[0m \u001b[0;34m**\u001b[0m\u001b[0mfit_params_validated\u001b[0m\u001b[0;34m\u001b[0m\u001b[0;34m\u001b[0m\u001b[0m\n\u001b[1;32m    205\u001b[0m             )\n\u001b[0;32m--> 206\u001b[0;31m             \u001b[0;32mfor\u001b[0m \u001b[0mi\u001b[0m \u001b[0;32min\u001b[0m \u001b[0mrange\u001b[0m\u001b[0;34m(\u001b[0m\u001b[0my\u001b[0m\u001b[0;34m.\u001b[0m\u001b[0mshape\u001b[0m\u001b[0;34m[\u001b[0m\u001b[0;36m1\u001b[0m\u001b[0;34m]\u001b[0m\u001b[0;34m)\u001b[0m\u001b[0;34m\u001b[0m\u001b[0;34m\u001b[0m\u001b[0m\n\u001b[0m\u001b[1;32m    207\u001b[0m         )\n\u001b[1;32m    208\u001b[0m \u001b[0;34m\u001b[0m\u001b[0m\n",
            "\u001b[0;32m/usr/local/lib/python3.7/dist-packages/joblib/parallel.py\u001b[0m in \u001b[0;36m__call__\u001b[0;34m(self, iterable)\u001b[0m\n\u001b[1;32m   1044\u001b[0m                 \u001b[0mself\u001b[0m\u001b[0;34m.\u001b[0m\u001b[0m_iterating\u001b[0m \u001b[0;34m=\u001b[0m \u001b[0mself\u001b[0m\u001b[0;34m.\u001b[0m\u001b[0m_original_iterator\u001b[0m \u001b[0;32mis\u001b[0m \u001b[0;32mnot\u001b[0m \u001b[0;32mNone\u001b[0m\u001b[0;34m\u001b[0m\u001b[0;34m\u001b[0m\u001b[0m\n\u001b[1;32m   1045\u001b[0m \u001b[0;34m\u001b[0m\u001b[0m\n\u001b[0;32m-> 1046\u001b[0;31m             \u001b[0;32mwhile\u001b[0m \u001b[0mself\u001b[0m\u001b[0;34m.\u001b[0m\u001b[0mdispatch_one_batch\u001b[0m\u001b[0;34m(\u001b[0m\u001b[0miterator\u001b[0m\u001b[0;34m)\u001b[0m\u001b[0;34m:\u001b[0m\u001b[0;34m\u001b[0m\u001b[0;34m\u001b[0m\u001b[0m\n\u001b[0m\u001b[1;32m   1047\u001b[0m                 \u001b[0;32mpass\u001b[0m\u001b[0;34m\u001b[0m\u001b[0;34m\u001b[0m\u001b[0m\n\u001b[1;32m   1048\u001b[0m \u001b[0;34m\u001b[0m\u001b[0m\n",
            "\u001b[0;32m/usr/local/lib/python3.7/dist-packages/joblib/parallel.py\u001b[0m in \u001b[0;36mdispatch_one_batch\u001b[0;34m(self, iterator)\u001b[0m\n\u001b[1;32m    859\u001b[0m                 \u001b[0;32mreturn\u001b[0m \u001b[0;32mFalse\u001b[0m\u001b[0;34m\u001b[0m\u001b[0;34m\u001b[0m\u001b[0m\n\u001b[1;32m    860\u001b[0m             \u001b[0;32melse\u001b[0m\u001b[0;34m:\u001b[0m\u001b[0;34m\u001b[0m\u001b[0;34m\u001b[0m\u001b[0m\n\u001b[0;32m--> 861\u001b[0;31m                 \u001b[0mself\u001b[0m\u001b[0;34m.\u001b[0m\u001b[0m_dispatch\u001b[0m\u001b[0;34m(\u001b[0m\u001b[0mtasks\u001b[0m\u001b[0;34m)\u001b[0m\u001b[0;34m\u001b[0m\u001b[0;34m\u001b[0m\u001b[0m\n\u001b[0m\u001b[1;32m    862\u001b[0m                 \u001b[0;32mreturn\u001b[0m \u001b[0;32mTrue\u001b[0m\u001b[0;34m\u001b[0m\u001b[0;34m\u001b[0m\u001b[0m\n\u001b[1;32m    863\u001b[0m \u001b[0;34m\u001b[0m\u001b[0m\n",
            "\u001b[0;32m/usr/local/lib/python3.7/dist-packages/joblib/parallel.py\u001b[0m in \u001b[0;36m_dispatch\u001b[0;34m(self, batch)\u001b[0m\n\u001b[1;32m    777\u001b[0m         \u001b[0;32mwith\u001b[0m \u001b[0mself\u001b[0m\u001b[0;34m.\u001b[0m\u001b[0m_lock\u001b[0m\u001b[0;34m:\u001b[0m\u001b[0;34m\u001b[0m\u001b[0;34m\u001b[0m\u001b[0m\n\u001b[1;32m    778\u001b[0m             \u001b[0mjob_idx\u001b[0m \u001b[0;34m=\u001b[0m \u001b[0mlen\u001b[0m\u001b[0;34m(\u001b[0m\u001b[0mself\u001b[0m\u001b[0;34m.\u001b[0m\u001b[0m_jobs\u001b[0m\u001b[0;34m)\u001b[0m\u001b[0;34m\u001b[0m\u001b[0;34m\u001b[0m\u001b[0m\n\u001b[0;32m--> 779\u001b[0;31m             \u001b[0mjob\u001b[0m \u001b[0;34m=\u001b[0m \u001b[0mself\u001b[0m\u001b[0;34m.\u001b[0m\u001b[0m_backend\u001b[0m\u001b[0;34m.\u001b[0m\u001b[0mapply_async\u001b[0m\u001b[0;34m(\u001b[0m\u001b[0mbatch\u001b[0m\u001b[0;34m,\u001b[0m \u001b[0mcallback\u001b[0m\u001b[0;34m=\u001b[0m\u001b[0mcb\u001b[0m\u001b[0;34m)\u001b[0m\u001b[0;34m\u001b[0m\u001b[0;34m\u001b[0m\u001b[0m\n\u001b[0m\u001b[1;32m    780\u001b[0m             \u001b[0;31m# A job can complete so quickly than its callback is\u001b[0m\u001b[0;34m\u001b[0m\u001b[0;34m\u001b[0m\u001b[0;34m\u001b[0m\u001b[0m\n\u001b[1;32m    781\u001b[0m             \u001b[0;31m# called before we get here, causing self._jobs to\u001b[0m\u001b[0;34m\u001b[0m\u001b[0;34m\u001b[0m\u001b[0;34m\u001b[0m\u001b[0m\n",
            "\u001b[0;32m/usr/local/lib/python3.7/dist-packages/joblib/_parallel_backends.py\u001b[0m in \u001b[0;36mapply_async\u001b[0;34m(self, func, callback)\u001b[0m\n\u001b[1;32m    206\u001b[0m     \u001b[0;32mdef\u001b[0m \u001b[0mapply_async\u001b[0m\u001b[0;34m(\u001b[0m\u001b[0mself\u001b[0m\u001b[0;34m,\u001b[0m \u001b[0mfunc\u001b[0m\u001b[0;34m,\u001b[0m \u001b[0mcallback\u001b[0m\u001b[0;34m=\u001b[0m\u001b[0;32mNone\u001b[0m\u001b[0;34m)\u001b[0m\u001b[0;34m:\u001b[0m\u001b[0;34m\u001b[0m\u001b[0;34m\u001b[0m\u001b[0m\n\u001b[1;32m    207\u001b[0m         \u001b[0;34m\"\"\"Schedule a func to be run\"\"\"\u001b[0m\u001b[0;34m\u001b[0m\u001b[0;34m\u001b[0m\u001b[0m\n\u001b[0;32m--> 208\u001b[0;31m         \u001b[0mresult\u001b[0m \u001b[0;34m=\u001b[0m \u001b[0mImmediateResult\u001b[0m\u001b[0;34m(\u001b[0m\u001b[0mfunc\u001b[0m\u001b[0;34m)\u001b[0m\u001b[0;34m\u001b[0m\u001b[0;34m\u001b[0m\u001b[0m\n\u001b[0m\u001b[1;32m    209\u001b[0m         \u001b[0;32mif\u001b[0m \u001b[0mcallback\u001b[0m\u001b[0;34m:\u001b[0m\u001b[0;34m\u001b[0m\u001b[0;34m\u001b[0m\u001b[0m\n\u001b[1;32m    210\u001b[0m             \u001b[0mcallback\u001b[0m\u001b[0;34m(\u001b[0m\u001b[0mresult\u001b[0m\u001b[0;34m)\u001b[0m\u001b[0;34m\u001b[0m\u001b[0;34m\u001b[0m\u001b[0m\n",
            "\u001b[0;32m/usr/local/lib/python3.7/dist-packages/joblib/_parallel_backends.py\u001b[0m in \u001b[0;36m__init__\u001b[0;34m(self, batch)\u001b[0m\n\u001b[1;32m    570\u001b[0m         \u001b[0;31m# Don't delay the application, to avoid keeping the input\u001b[0m\u001b[0;34m\u001b[0m\u001b[0;34m\u001b[0m\u001b[0;34m\u001b[0m\u001b[0m\n\u001b[1;32m    571\u001b[0m         \u001b[0;31m# arguments in memory\u001b[0m\u001b[0;34m\u001b[0m\u001b[0;34m\u001b[0m\u001b[0;34m\u001b[0m\u001b[0m\n\u001b[0;32m--> 572\u001b[0;31m         \u001b[0mself\u001b[0m\u001b[0;34m.\u001b[0m\u001b[0mresults\u001b[0m \u001b[0;34m=\u001b[0m \u001b[0mbatch\u001b[0m\u001b[0;34m(\u001b[0m\u001b[0;34m)\u001b[0m\u001b[0;34m\u001b[0m\u001b[0;34m\u001b[0m\u001b[0m\n\u001b[0m\u001b[1;32m    573\u001b[0m \u001b[0;34m\u001b[0m\u001b[0m\n\u001b[1;32m    574\u001b[0m     \u001b[0;32mdef\u001b[0m \u001b[0mget\u001b[0m\u001b[0;34m(\u001b[0m\u001b[0mself\u001b[0m\u001b[0;34m)\u001b[0m\u001b[0;34m:\u001b[0m\u001b[0;34m\u001b[0m\u001b[0;34m\u001b[0m\u001b[0m\n",
            "\u001b[0;32m/usr/local/lib/python3.7/dist-packages/joblib/parallel.py\u001b[0m in \u001b[0;36m__call__\u001b[0;34m(self)\u001b[0m\n\u001b[1;32m    261\u001b[0m         \u001b[0;32mwith\u001b[0m \u001b[0mparallel_backend\u001b[0m\u001b[0;34m(\u001b[0m\u001b[0mself\u001b[0m\u001b[0;34m.\u001b[0m\u001b[0m_backend\u001b[0m\u001b[0;34m,\u001b[0m \u001b[0mn_jobs\u001b[0m\u001b[0;34m=\u001b[0m\u001b[0mself\u001b[0m\u001b[0;34m.\u001b[0m\u001b[0m_n_jobs\u001b[0m\u001b[0;34m)\u001b[0m\u001b[0;34m:\u001b[0m\u001b[0;34m\u001b[0m\u001b[0;34m\u001b[0m\u001b[0m\n\u001b[1;32m    262\u001b[0m             return [func(*args, **kwargs)\n\u001b[0;32m--> 263\u001b[0;31m                     for func, args, kwargs in self.items]\n\u001b[0m\u001b[1;32m    264\u001b[0m \u001b[0;34m\u001b[0m\u001b[0m\n\u001b[1;32m    265\u001b[0m     \u001b[0;32mdef\u001b[0m \u001b[0m__reduce__\u001b[0m\u001b[0;34m(\u001b[0m\u001b[0mself\u001b[0m\u001b[0;34m)\u001b[0m\u001b[0;34m:\u001b[0m\u001b[0;34m\u001b[0m\u001b[0;34m\u001b[0m\u001b[0m\n",
            "\u001b[0;32m/usr/local/lib/python3.7/dist-packages/joblib/parallel.py\u001b[0m in \u001b[0;36m<listcomp>\u001b[0;34m(.0)\u001b[0m\n\u001b[1;32m    261\u001b[0m         \u001b[0;32mwith\u001b[0m \u001b[0mparallel_backend\u001b[0m\u001b[0;34m(\u001b[0m\u001b[0mself\u001b[0m\u001b[0;34m.\u001b[0m\u001b[0m_backend\u001b[0m\u001b[0;34m,\u001b[0m \u001b[0mn_jobs\u001b[0m\u001b[0;34m=\u001b[0m\u001b[0mself\u001b[0m\u001b[0;34m.\u001b[0m\u001b[0m_n_jobs\u001b[0m\u001b[0;34m)\u001b[0m\u001b[0;34m:\u001b[0m\u001b[0;34m\u001b[0m\u001b[0;34m\u001b[0m\u001b[0m\n\u001b[1;32m    262\u001b[0m             return [func(*args, **kwargs)\n\u001b[0;32m--> 263\u001b[0;31m                     for func, args, kwargs in self.items]\n\u001b[0m\u001b[1;32m    264\u001b[0m \u001b[0;34m\u001b[0m\u001b[0m\n\u001b[1;32m    265\u001b[0m     \u001b[0;32mdef\u001b[0m \u001b[0m__reduce__\u001b[0m\u001b[0;34m(\u001b[0m\u001b[0mself\u001b[0m\u001b[0;34m)\u001b[0m\u001b[0;34m:\u001b[0m\u001b[0;34m\u001b[0m\u001b[0;34m\u001b[0m\u001b[0m\n",
            "\u001b[0;32m/usr/local/lib/python3.7/dist-packages/sklearn/utils/fixes.py\u001b[0m in \u001b[0;36m__call__\u001b[0;34m(self, *args, **kwargs)\u001b[0m\n\u001b[1;32m    214\u001b[0m     \u001b[0;32mdef\u001b[0m \u001b[0m__call__\u001b[0m\u001b[0;34m(\u001b[0m\u001b[0mself\u001b[0m\u001b[0;34m,\u001b[0m \u001b[0;34m*\u001b[0m\u001b[0margs\u001b[0m\u001b[0;34m,\u001b[0m \u001b[0;34m**\u001b[0m\u001b[0mkwargs\u001b[0m\u001b[0;34m)\u001b[0m\u001b[0;34m:\u001b[0m\u001b[0;34m\u001b[0m\u001b[0;34m\u001b[0m\u001b[0m\n\u001b[1;32m    215\u001b[0m         \u001b[0;32mwith\u001b[0m \u001b[0mconfig_context\u001b[0m\u001b[0;34m(\u001b[0m\u001b[0;34m**\u001b[0m\u001b[0mself\u001b[0m\u001b[0;34m.\u001b[0m\u001b[0mconfig\u001b[0m\u001b[0;34m)\u001b[0m\u001b[0;34m:\u001b[0m\u001b[0;34m\u001b[0m\u001b[0;34m\u001b[0m\u001b[0m\n\u001b[0;32m--> 216\u001b[0;31m             \u001b[0;32mreturn\u001b[0m \u001b[0mself\u001b[0m\u001b[0;34m.\u001b[0m\u001b[0mfunction\u001b[0m\u001b[0;34m(\u001b[0m\u001b[0;34m*\u001b[0m\u001b[0margs\u001b[0m\u001b[0;34m,\u001b[0m \u001b[0;34m**\u001b[0m\u001b[0mkwargs\u001b[0m\u001b[0;34m)\u001b[0m\u001b[0;34m\u001b[0m\u001b[0;34m\u001b[0m\u001b[0m\n\u001b[0m\u001b[1;32m    217\u001b[0m \u001b[0;34m\u001b[0m\u001b[0m\n\u001b[1;32m    218\u001b[0m \u001b[0;34m\u001b[0m\u001b[0m\n",
            "\u001b[0;32m/usr/local/lib/python3.7/dist-packages/sklearn/multioutput.py\u001b[0m in \u001b[0;36m_fit_estimator\u001b[0;34m(estimator, X, y, sample_weight, **fit_params)\u001b[0m\n\u001b[1;32m     42\u001b[0m         \u001b[0mestimator\u001b[0m\u001b[0;34m.\u001b[0m\u001b[0mfit\u001b[0m\u001b[0;34m(\u001b[0m\u001b[0mX\u001b[0m\u001b[0;34m,\u001b[0m \u001b[0my\u001b[0m\u001b[0;34m,\u001b[0m \u001b[0msample_weight\u001b[0m\u001b[0;34m=\u001b[0m\u001b[0msample_weight\u001b[0m\u001b[0;34m,\u001b[0m \u001b[0;34m**\u001b[0m\u001b[0mfit_params\u001b[0m\u001b[0;34m)\u001b[0m\u001b[0;34m\u001b[0m\u001b[0;34m\u001b[0m\u001b[0m\n\u001b[1;32m     43\u001b[0m     \u001b[0;32melse\u001b[0m\u001b[0;34m:\u001b[0m\u001b[0;34m\u001b[0m\u001b[0;34m\u001b[0m\u001b[0m\n\u001b[0;32m---> 44\u001b[0;31m         \u001b[0mestimator\u001b[0m\u001b[0;34m.\u001b[0m\u001b[0mfit\u001b[0m\u001b[0;34m(\u001b[0m\u001b[0mX\u001b[0m\u001b[0;34m,\u001b[0m \u001b[0my\u001b[0m\u001b[0;34m,\u001b[0m \u001b[0;34m**\u001b[0m\u001b[0mfit_params\u001b[0m\u001b[0;34m)\u001b[0m\u001b[0;34m\u001b[0m\u001b[0;34m\u001b[0m\u001b[0m\n\u001b[0m\u001b[1;32m     45\u001b[0m     \u001b[0;32mreturn\u001b[0m \u001b[0mestimator\u001b[0m\u001b[0;34m\u001b[0m\u001b[0;34m\u001b[0m\u001b[0m\n\u001b[1;32m     46\u001b[0m \u001b[0;34m\u001b[0m\u001b[0m\n",
            "\u001b[0;32m/usr/local/lib/python3.7/dist-packages/sklearn/linear_model/_ridge.py\u001b[0m in \u001b[0;36mfit\u001b[0;34m(self, X, y, sample_weight)\u001b[0m\n\u001b[1;32m   1009\u001b[0m             \u001b[0my_numeric\u001b[0m\u001b[0;34m=\u001b[0m\u001b[0;32mTrue\u001b[0m\u001b[0;34m,\u001b[0m\u001b[0;34m\u001b[0m\u001b[0;34m\u001b[0m\u001b[0m\n\u001b[1;32m   1010\u001b[0m         )\n\u001b[0;32m-> 1011\u001b[0;31m         \u001b[0;32mreturn\u001b[0m \u001b[0msuper\u001b[0m\u001b[0;34m(\u001b[0m\u001b[0;34m)\u001b[0m\u001b[0;34m.\u001b[0m\u001b[0mfit\u001b[0m\u001b[0;34m(\u001b[0m\u001b[0mX\u001b[0m\u001b[0;34m,\u001b[0m \u001b[0my\u001b[0m\u001b[0;34m,\u001b[0m \u001b[0msample_weight\u001b[0m\u001b[0;34m=\u001b[0m\u001b[0msample_weight\u001b[0m\u001b[0;34m)\u001b[0m\u001b[0;34m\u001b[0m\u001b[0;34m\u001b[0m\u001b[0m\n\u001b[0m\u001b[1;32m   1012\u001b[0m \u001b[0;34m\u001b[0m\u001b[0m\n\u001b[1;32m   1013\u001b[0m \u001b[0;34m\u001b[0m\u001b[0m\n",
            "\u001b[0;32m/usr/local/lib/python3.7/dist-packages/sklearn/linear_model/_ridge.py\u001b[0m in \u001b[0;36mfit\u001b[0;34m(self, X, y, sample_weight)\u001b[0m\n\u001b[1;32m    793\u001b[0m                 \u001b[0mreturn_intercept\u001b[0m\u001b[0;34m=\u001b[0m\u001b[0;32mFalse\u001b[0m\u001b[0;34m,\u001b[0m\u001b[0;34m\u001b[0m\u001b[0;34m\u001b[0m\u001b[0m\n\u001b[1;32m    794\u001b[0m                 \u001b[0mcheck_input\u001b[0m\u001b[0;34m=\u001b[0m\u001b[0;32mFalse\u001b[0m\u001b[0;34m,\u001b[0m\u001b[0;34m\u001b[0m\u001b[0;34m\u001b[0m\u001b[0m\n\u001b[0;32m--> 795\u001b[0;31m                 \u001b[0;34m**\u001b[0m\u001b[0mparams\u001b[0m\u001b[0;34m,\u001b[0m\u001b[0;34m\u001b[0m\u001b[0;34m\u001b[0m\u001b[0m\n\u001b[0m\u001b[1;32m    796\u001b[0m             )\n\u001b[1;32m    797\u001b[0m             \u001b[0mself\u001b[0m\u001b[0;34m.\u001b[0m\u001b[0m_set_intercept\u001b[0m\u001b[0;34m(\u001b[0m\u001b[0mX_offset\u001b[0m\u001b[0;34m,\u001b[0m \u001b[0my_offset\u001b[0m\u001b[0;34m,\u001b[0m \u001b[0mX_scale\u001b[0m\u001b[0;34m)\u001b[0m\u001b[0;34m\u001b[0m\u001b[0;34m\u001b[0m\u001b[0m\n",
            "\u001b[0;32m/usr/local/lib/python3.7/dist-packages/sklearn/linear_model/_ridge.py\u001b[0m in \u001b[0;36m_ridge_regression\u001b[0;34m(X, y, alpha, sample_weight, solver, max_iter, tol, verbose, positive, random_state, return_n_iter, return_intercept, X_scale, X_offset, check_input)\u001b[0m\n\u001b[1;32m    655\u001b[0m         \u001b[0;32mif\u001b[0m \u001b[0msparse\u001b[0m\u001b[0;34m.\u001b[0m\u001b[0missparse\u001b[0m\u001b[0;34m(\u001b[0m\u001b[0mX\u001b[0m\u001b[0;34m)\u001b[0m\u001b[0;34m:\u001b[0m\u001b[0;34m\u001b[0m\u001b[0;34m\u001b[0m\u001b[0m\n\u001b[1;32m    656\u001b[0m             \u001b[0;32mraise\u001b[0m \u001b[0mTypeError\u001b[0m\u001b[0;34m(\u001b[0m\u001b[0;34m\"SVD solver does not support sparse inputs currently\"\u001b[0m\u001b[0;34m)\u001b[0m\u001b[0;34m\u001b[0m\u001b[0;34m\u001b[0m\u001b[0m\n\u001b[0;32m--> 657\u001b[0;31m         \u001b[0mcoef\u001b[0m \u001b[0;34m=\u001b[0m \u001b[0m_solve_svd\u001b[0m\u001b[0;34m(\u001b[0m\u001b[0mX\u001b[0m\u001b[0;34m,\u001b[0m \u001b[0my\u001b[0m\u001b[0;34m,\u001b[0m \u001b[0malpha\u001b[0m\u001b[0;34m)\u001b[0m\u001b[0;34m\u001b[0m\u001b[0;34m\u001b[0m\u001b[0m\n\u001b[0m\u001b[1;32m    658\u001b[0m \u001b[0;34m\u001b[0m\u001b[0m\n\u001b[1;32m    659\u001b[0m     \u001b[0;32mif\u001b[0m \u001b[0mravel\u001b[0m\u001b[0;34m:\u001b[0m\u001b[0;34m\u001b[0m\u001b[0;34m\u001b[0m\u001b[0m\n",
            "\u001b[0;32m/usr/local/lib/python3.7/dist-packages/sklearn/linear_model/_ridge.py\u001b[0m in \u001b[0;36m_solve_svd\u001b[0;34m(X, y, alpha)\u001b[0m\n\u001b[1;32m    228\u001b[0m \u001b[0;34m\u001b[0m\u001b[0m\n\u001b[1;32m    229\u001b[0m \u001b[0;32mdef\u001b[0m \u001b[0m_solve_svd\u001b[0m\u001b[0;34m(\u001b[0m\u001b[0mX\u001b[0m\u001b[0;34m,\u001b[0m \u001b[0my\u001b[0m\u001b[0;34m,\u001b[0m \u001b[0malpha\u001b[0m\u001b[0;34m)\u001b[0m\u001b[0;34m:\u001b[0m\u001b[0;34m\u001b[0m\u001b[0;34m\u001b[0m\u001b[0m\n\u001b[0;32m--> 230\u001b[0;31m     \u001b[0mU\u001b[0m\u001b[0;34m,\u001b[0m \u001b[0ms\u001b[0m\u001b[0;34m,\u001b[0m \u001b[0mVt\u001b[0m \u001b[0;34m=\u001b[0m \u001b[0mlinalg\u001b[0m\u001b[0;34m.\u001b[0m\u001b[0msvd\u001b[0m\u001b[0;34m(\u001b[0m\u001b[0mX\u001b[0m\u001b[0;34m,\u001b[0m \u001b[0mfull_matrices\u001b[0m\u001b[0;34m=\u001b[0m\u001b[0;32mFalse\u001b[0m\u001b[0;34m)\u001b[0m\u001b[0;34m\u001b[0m\u001b[0;34m\u001b[0m\u001b[0m\n\u001b[0m\u001b[1;32m    231\u001b[0m     \u001b[0midx\u001b[0m \u001b[0;34m=\u001b[0m \u001b[0ms\u001b[0m \u001b[0;34m>\u001b[0m \u001b[0;36m1e-15\u001b[0m  \u001b[0;31m# same default value as scipy.linalg.pinv\u001b[0m\u001b[0;34m\u001b[0m\u001b[0;34m\u001b[0m\u001b[0m\n\u001b[1;32m    232\u001b[0m     \u001b[0ms_nnz\u001b[0m \u001b[0;34m=\u001b[0m \u001b[0ms\u001b[0m\u001b[0;34m[\u001b[0m\u001b[0midx\u001b[0m\u001b[0;34m]\u001b[0m\u001b[0;34m[\u001b[0m\u001b[0;34m:\u001b[0m\u001b[0;34m,\u001b[0m \u001b[0mnp\u001b[0m\u001b[0;34m.\u001b[0m\u001b[0mnewaxis\u001b[0m\u001b[0;34m]\u001b[0m\u001b[0;34m\u001b[0m\u001b[0;34m\u001b[0m\u001b[0m\n",
            "\u001b[0;32m/usr/local/lib/python3.7/dist-packages/scipy/linalg/decomp_svd.py\u001b[0m in \u001b[0;36msvd\u001b[0;34m(a, full_matrices, compute_uv, overwrite_a, check_finite, lapack_driver)\u001b[0m\n\u001b[1;32m    127\u001b[0m     \u001b[0;31m# perform decomposition\u001b[0m\u001b[0;34m\u001b[0m\u001b[0;34m\u001b[0m\u001b[0;34m\u001b[0m\u001b[0m\n\u001b[1;32m    128\u001b[0m     u, s, v, info = gesXd(a1, compute_uv=compute_uv, lwork=lwork,\n\u001b[0;32m--> 129\u001b[0;31m                           full_matrices=full_matrices, overwrite_a=overwrite_a)\n\u001b[0m\u001b[1;32m    130\u001b[0m \u001b[0;34m\u001b[0m\u001b[0m\n\u001b[1;32m    131\u001b[0m     \u001b[0;32mif\u001b[0m \u001b[0minfo\u001b[0m \u001b[0;34m>\u001b[0m \u001b[0;36m0\u001b[0m\u001b[0;34m:\u001b[0m\u001b[0;34m\u001b[0m\u001b[0;34m\u001b[0m\u001b[0m\n",
            "\u001b[0;31mKeyboardInterrupt\u001b[0m: "
          ]
        }
      ],
      "source": [
        "from sklearn.linear_model import LinearRegression\n",
        "from sklearn.multioutput import MultiOutputRegressor\n",
        "\n",
        "mlr = MultiOutputRegressor(linear_model.Ridge(alpha=.1))\n",
        "mlr.fit(x_all_treino,y_all_treino)"
      ]
    },
    {
      "cell_type": "code",
      "execution_count": null,
      "metadata": {
        "id": "YHR7_7HTfd4J"
      },
      "outputs": [],
      "source": [
        "pk.dump(mlr,open('gdrive/My Drive/Colab Notebooks/Kaggle/g_research_competition/modelo_multi_output.pkl','wb'))"
      ]
    },
    {
      "cell_type": "markdown",
      "metadata": {
        "id": "DSxrFqBnJzpL"
      },
      "source": [
        "4.4 MODELAGEM MARCELO"
      ]
    },
    {
      "cell_type": "markdown",
      "metadata": {
        "id": "Yt9MZ9YjAafq"
      },
      "source": [
        "4.41 MODELO XGB COM PARAMETER SAMPLER"
      ]
    },
    {
      "cell_type": "code",
      "execution_count": null,
      "metadata": {
        "id": "eUvChFpVAY6f"
      },
      "outputs": [],
      "source": [
        "# from sklearn.model_selection import ParameterSampler\n",
        "# param_dist = {\n",
        "#     \"n_estimators\": [100],\n",
        "#     \"max_depth\": [4,6],\n",
        "#     \"colsample_bytree\":[0.9],\n",
        "#     \"min_samples_split\": [5],\n",
        "#     \"reg_lambda\":[7],\n",
        "#     \"reg_alpha\": [6],\n",
        "#     \"eta\":[0.05],\n",
        "#     \"scale_pos_weight\": [15],\n",
        "#     \"learning_rate\": [0.2],\n",
        "#     \"gamma\":[0.1],\n",
        "#     \"n_jobs\":[-1]\n",
        "#     # \"missing\":[0]\n",
        "\n",
        "# }\n",
        "# params_set=ParameterSampler(param_dist,2,random_state=0)"
      ]
    },
    {
      "cell_type": "code",
      "source": [
        "from sklearn.model_selection import ParameterSampler\n",
        "param_dist = {\n",
        "    \"n_estimators\": [100],\n",
        "    \"max_depth\": [4,6,11],\n",
        "    \"colsample_bytree\":[0.75],\n",
        "    \"subsample\": [0.9],\n",
        "    \"learning_rate\": [0.06],\n",
        "    \"n_jobs\":[-1]\n",
        "    # \"missing\":[0]\n",
        "\n",
        "}\n",
        "params_set=ParameterSampler(param_dist,3,random_state=0)"
      ],
      "metadata": {
        "id": "zhsxspTxjXba"
      },
      "execution_count": null,
      "outputs": []
    },
    {
      "cell_type": "code",
      "source": [
        ""
      ],
      "metadata": {
        "id": "NnsCLQytjasV"
      },
      "execution_count": null,
      "outputs": []
    },
    {
      "cell_type": "code",
      "execution_count": null,
      "metadata": {
        "id": "8EPs4893caUC"
      },
      "outputs": [],
      "source": [
        "# #Função objetivo customizada\n",
        "# from typing import Tuple\n",
        "# import xgboost as xgb\n",
        "# def rmsle_xgb(predt: np.ndarray, dtrain: xgb.DMatrix) -> Tuple[str, float]:\n",
        "#     ''' Root mean squared log error metric.'''\n",
        "#     y = dtrain.get_label()\n",
        "#     predt[predt < -1] = -1 + 1e-6\n",
        "#     elements = np.power(np.log1p(y) - np.log1p(predt), 2)\n",
        "#     return 'PyRMSLE', float(np.sqrt(np.sum(elements) / len(y)))"
      ]
    },
    {
      "cell_type": "code",
      "execution_count": null,
      "metadata": {
        "id": "-Ni8qQAFWuOh"
      },
      "outputs": [],
      "source": [
        ""
      ]
    },
    {
      "cell_type": "code",
      "execution_count": null,
      "metadata": {
        "id": "Fq9aAU5pO1sW"
      },
      "outputs": [],
      "source": [
        "def arruma_n_estimators(row):\n",
        "  best_iter=row[\"best_iter\"]\n",
        "  params_inicial = row[\"params_iter\"]\n",
        "  params_com_early = {**params_inicial, **{'n_estimators':best_iter +1}}\n",
        "  return params_com_early"
      ]
    },
    {
      "cell_type": "code",
      "execution_count": null,
      "metadata": {
        "id": "KZVle8WMPkCC"
      },
      "outputs": [],
      "source": [
        "from tqdm import tqdm_notebook\n",
        "import tqdm"
      ]
    },
    {
      "cell_type": "code",
      "execution_count": null,
      "metadata": {
        "id": "8bhqKAtFKyJ2"
      },
      "outputs": [],
      "source": [
        "# https://xgboost.readthedocs.io/en/stable/tutorials/custom_metric_obj.html"
      ]
    },
    {
      "cell_type": "code",
      "execution_count": null,
      "metadata": {
        "id": "zRlbHy5JPW8Z"
      },
      "outputs": [],
      "source": [
        "def roda_grid(params,x_train,y_train,eval_set,eval_metric,early_stopping_rounds=5,metrica=\"rmse\"):\n",
        "  for k,i in tqdm.tqdm(enumerate(params,1)):\n",
        "    regressor=xgb.XGBRegressor (objective=\"reg:squarederror\", seed=0,**i)\n",
        "\n",
        "    regressor.fit(x_train,y_train,eval_set=eval_set,eval_metric=eval_metric,verbose=False,early_stopping_rounds=early_stopping_rounds)\n",
        "\n",
        "    if k==1:\n",
        "      df_result=pd.DataFrame()\n",
        "      df_result[\"best_treino\"]=[regressor.evals_result()[\"validation_0\"][metrica][regressor.best_iteration]]\n",
        "      df_result[\"best_test\"]=[regressor.evals_result()[\"validation_1\"][metrica][regressor.best_iteration]]\n",
        "      df_result[\"best_iter\"]=regressor.best_iteration\n",
        "      df_result[\"Combination\"]=k\n",
        "      df_result[\"params_iter\"]=[i.copy()]\n",
        "    else:\n",
        "      aux=pd.DataFrame()\n",
        "      aux[\"best_treino\"]=[regressor.evals_result()[\"validation_0\"][metrica][regressor.best_iteration]]\n",
        "      aux[\"best_test\"]=[regressor.evals_result()[\"validation_1\"][metrica][regressor.best_iteration]]\n",
        "      aux[\"best_iter\"]=regressor.best_iteration\n",
        "      aux[\"Combination\"]=k\n",
        "      aux[\"params_iter\"]=[i.copy()]\n",
        "\n",
        "\n",
        "      df_result=df_result.append(aux).reset_index(drop=True)\n",
        "      df_result[\"params_com_early\"]=df_result.apply(arruma_n_estimators, axis=1)\n",
        "      df_result[\"diff\"]=df_result[\"best_treino\"] - df_result[\"best_test\"]\n",
        "      df_result=(df_result.sort_values(by=[\"best_test\",\"diff\", \"best_iter\"],ascending=[True,True,True]).reset_index(drop=True))\n",
        "\n",
        "  return df_result"
      ]
    },
    {
      "cell_type": "code",
      "execution_count": null,
      "metadata": {
        "colab": {
          "base_uri": "https://localhost:8080/"
        },
        "id": "FcAxPPsqTfh-",
        "outputId": "890afa45-f041-47ae-b446-532c959154fe"
      },
      "outputs": [
        {
          "output_type": "stream",
          "name": "stdout",
          "text": [
            "0\n"
          ]
        },
        {
          "output_type": "stream",
          "name": "stderr",
          "text": [
            "2it [04:22, 131.19s/it]\n"
          ]
        }
      ],
      "source": [
        "df_result={}\n",
        "best_params={}\n",
        "eval_set={}\n",
        "# for base in assets:\n",
        "base=0\n",
        "eval_set[base] = [(x_treino[base],y_treino[base]),(x_teste[base],y_teste[base])]\n",
        "print(base)\n",
        "df_result[base]=roda_grid(params_set, x_treino[base], y_treino[base],eval_set[base],eval_metric=\"rmse\",metrica=\"rmse\")\n",
        "best_params[base]=df_result[base].loc[0,\"params_com_early\"]\n"
      ]
    },
    {
      "cell_type": "code",
      "execution_count": null,
      "metadata": {
        "id": "XBIc-i0TrG80"
      },
      "outputs": [],
      "source": [
        "modelos_xgb ={}\n",
        "import pickle as pk\n",
        "for base in assets:\n",
        "  modelos_xgb[base] = xgb.XGBRegressor(objective=\"reg:squarederror\",**best_params[base])\n",
        "  modelos_xgb[base].fit(x_treino[base], y_treino[base],eval_metric=\"rmse\",eval_set=eval_set[base])\n",
        "  pk.dump(modelos_xgb[base],open('gdrive/My Drive/Colab Notebooks/Kaggle/g_research_competition/mod_xgb/modelo_xgb'+str(base)+'.pkl','wb'))"
      ]
    },
    {
      "cell_type": "code",
      "execution_count": null,
      "metadata": {
        "id": "W33F8n7xtepn"
      },
      "outputs": [],
      "source": [
        "del modelos_xgb"
      ]
    },
    {
      "cell_type": "code",
      "source": [
        "modelos_xgb ={}\n",
        "base=0\n",
        "modelos_xgb[base] = xgb.XGBRegressor(objective=\"reg:squarederror\",**best_params[base])\n",
        "modelos_xgb[base].fit(x_treino[base], y_treino[base],eval_metric=\"rmse\",eval_set=eval_set[base])\n",
        "predito=modelos_xgb[base].predict(x_teste[base])\n",
        "predito"
      ],
      "metadata": {
        "colab": {
          "base_uri": "https://localhost:8080/"
        },
        "id": "RFqbU88t1OSK",
        "outputId": "47a82971-f452-42da-f5ab-28138097cf6e"
      },
      "execution_count": null,
      "outputs": [
        {
          "output_type": "stream",
          "name": "stdout",
          "text": [
            "[0]\tvalidation_0-rmse:0.469925\tvalidation_1-rmse:0.470009\n",
            "[1]\tvalidation_0-rmse:0.441785\tvalidation_1-rmse:0.441813\n",
            "[2]\tvalidation_0-rmse:0.41522\tvalidation_1-rmse:0.41531\n",
            "[3]\tvalidation_0-rmse:0.390352\tvalidation_1-rmse:0.390397\n",
            "[4]\tvalidation_0-rmse:0.366933\tvalidation_1-rmse:0.36698\n",
            "[5]\tvalidation_0-rmse:0.344924\tvalidation_1-rmse:0.344966\n",
            "[6]\tvalidation_0-rmse:0.324249\tvalidation_1-rmse:0.324276\n",
            "[7]\tvalidation_0-rmse:0.304788\tvalidation_1-rmse:0.304826\n",
            "[8]\tvalidation_0-rmse:0.286496\tvalidation_1-rmse:0.286542\n",
            "[9]\tvalidation_0-rmse:0.269301\tvalidation_1-rmse:0.269357\n",
            "[10]\tvalidation_0-rmse:0.253166\tvalidation_1-rmse:0.253204\n",
            "[11]\tvalidation_0-rmse:0.237973\tvalidation_1-rmse:0.238019\n",
            "[12]\tvalidation_0-rmse:0.223696\tvalidation_1-rmse:0.223747\n",
            "[13]\tvalidation_0-rmse:0.210278\tvalidation_1-rmse:0.21033\n",
            "[14]\tvalidation_0-rmse:0.197668\tvalidation_1-rmse:0.19772\n",
            "[15]\tvalidation_0-rmse:0.185812\tvalidation_1-rmse:0.185866\n",
            "[16]\tvalidation_0-rmse:0.17467\tvalidation_1-rmse:0.174725\n",
            "[17]\tvalidation_0-rmse:0.164196\tvalidation_1-rmse:0.164253\n",
            "[18]\tvalidation_0-rmse:0.154351\tvalidation_1-rmse:0.154409\n",
            "[19]\tvalidation_0-rmse:0.145095\tvalidation_1-rmse:0.145156\n",
            "[20]\tvalidation_0-rmse:0.136397\tvalidation_1-rmse:0.13646\n",
            "[21]\tvalidation_0-rmse:0.128221\tvalidation_1-rmse:0.128285\n",
            "[22]\tvalidation_0-rmse:0.120536\tvalidation_1-rmse:0.120602\n",
            "[23]\tvalidation_0-rmse:0.113312\tvalidation_1-rmse:0.113381\n",
            "[24]\tvalidation_0-rmse:0.106523\tvalidation_1-rmse:0.106594\n",
            "[25]\tvalidation_0-rmse:0.100141\tvalidation_1-rmse:0.100248\n",
            "[26]\tvalidation_0-rmse:0.094142\tvalidation_1-rmse:0.094252\n",
            "[27]\tvalidation_0-rmse:0.088505\tvalidation_1-rmse:0.088618\n",
            "[28]\tvalidation_0-rmse:0.083206\tvalidation_1-rmse:0.08359\n",
            "[29]\tvalidation_0-rmse:0.078226\tvalidation_1-rmse:0.078724\n",
            "[30]\tvalidation_0-rmse:0.073545\tvalidation_1-rmse:0.074296\n",
            "[31]\tvalidation_0-rmse:0.069146\tvalidation_1-rmse:0.069909\n",
            "[32]\tvalidation_0-rmse:0.065011\tvalidation_1-rmse:0.065781\n",
            "[33]\tvalidation_0-rmse:0.061126\tvalidation_1-rmse:0.061901\n",
            "[34]\tvalidation_0-rmse:0.057475\tvalidation_1-rmse:0.058281\n",
            "[35]\tvalidation_0-rmse:0.054044\tvalidation_1-rmse:0.054852\n",
            "[36]\tvalidation_0-rmse:0.05082\tvalidation_1-rmse:0.052581\n",
            "[37]\tvalidation_0-rmse:0.04779\tvalidation_1-rmse:0.050569\n",
            "[38]\tvalidation_0-rmse:0.044943\tvalidation_1-rmse:0.047737\n",
            "[39]\tvalidation_0-rmse:0.042269\tvalidation_1-rmse:0.046081\n",
            "[40]\tvalidation_0-rmse:0.039756\tvalidation_1-rmse:0.043585\n",
            "[41]\tvalidation_0-rmse:0.037395\tvalidation_1-rmse:0.041143\n",
            "[42]\tvalidation_0-rmse:0.035178\tvalidation_1-rmse:0.038568\n",
            "[43]\tvalidation_0-rmse:0.033096\tvalidation_1-rmse:0.036491\n",
            "[44]\tvalidation_0-rmse:0.031139\tvalidation_1-rmse:0.035309\n",
            "[45]\tvalidation_0-rmse:0.029302\tvalidation_1-rmse:0.033758\n",
            "[46]\tvalidation_0-rmse:0.027577\tvalidation_1-rmse:0.03175\n",
            "[47]\tvalidation_0-rmse:0.025958\tvalidation_1-rmse:0.030738\n",
            "[48]\tvalidation_0-rmse:0.024438\tvalidation_1-rmse:0.029649\n",
            "[49]\tvalidation_0-rmse:0.023012\tvalidation_1-rmse:0.027966\n",
            "[50]\tvalidation_0-rmse:0.021673\tvalidation_1-rmse:0.026074\n",
            "[51]\tvalidation_0-rmse:0.020418\tvalidation_1-rmse:0.024956\n",
            "[52]\tvalidation_0-rmse:0.01924\tvalidation_1-rmse:0.024298\n",
            "[53]\tvalidation_0-rmse:0.018137\tvalidation_1-rmse:0.022342\n",
            "[54]\tvalidation_0-rmse:0.017102\tvalidation_1-rmse:0.021681\n",
            "[55]\tvalidation_0-rmse:0.016133\tvalidation_1-rmse:0.020646\n",
            "[56]\tvalidation_0-rmse:0.015225\tvalidation_1-rmse:0.01927\n",
            "[57]\tvalidation_0-rmse:0.014375\tvalidation_1-rmse:0.018987\n",
            "[58]\tvalidation_0-rmse:0.01358\tvalidation_1-rmse:0.018192\n",
            "[59]\tvalidation_0-rmse:0.012835\tvalidation_1-rmse:0.017513\n",
            "[60]\tvalidation_0-rmse:0.012141\tvalidation_1-rmse:0.016429\n",
            "[61]\tvalidation_0-rmse:0.011491\tvalidation_1-rmse:0.015865\n",
            "[62]\tvalidation_0-rmse:0.010885\tvalidation_1-rmse:0.015334\n",
            "[63]\tvalidation_0-rmse:0.01032\tvalidation_1-rmse:0.014818\n",
            "[64]\tvalidation_0-rmse:0.009793\tvalidation_1-rmse:0.014342\n",
            "[65]\tvalidation_0-rmse:0.009302\tvalidation_1-rmse:0.013779\n",
            "[66]\tvalidation_0-rmse:0.008847\tvalidation_1-rmse:0.01337\n",
            "[67]\tvalidation_0-rmse:0.008423\tvalidation_1-rmse:0.012862\n",
            "[68]\tvalidation_0-rmse:0.008031\tvalidation_1-rmse:0.012147\n",
            "[69]\tvalidation_0-rmse:0.007667\tvalidation_1-rmse:0.011077\n",
            "[70]\tvalidation_0-rmse:0.007331\tvalidation_1-rmse:0.010804\n",
            "[71]\tvalidation_0-rmse:0.00702\tvalidation_1-rmse:0.010752\n",
            "[72]\tvalidation_0-rmse:0.006733\tvalidation_1-rmse:0.010513\n",
            "[73]\tvalidation_0-rmse:0.006468\tvalidation_1-rmse:0.010293\n",
            "[74]\tvalidation_0-rmse:0.006225\tvalidation_1-rmse:0.010102\n",
            "[75]\tvalidation_0-rmse:0.006002\tvalidation_1-rmse:0.009993\n",
            "[76]\tvalidation_0-rmse:0.005798\tvalidation_1-rmse:0.009897\n",
            "[77]\tvalidation_0-rmse:0.005612\tvalidation_1-rmse:0.009681\n",
            "[78]\tvalidation_0-rmse:0.005443\tvalidation_1-rmse:0.009539\n",
            "[79]\tvalidation_0-rmse:0.005288\tvalidation_1-rmse:0.009409\n",
            "[80]\tvalidation_0-rmse:0.005143\tvalidation_1-rmse:0.00929\n",
            "[81]\tvalidation_0-rmse:0.005015\tvalidation_1-rmse:0.009184\n"
          ]
        },
        {
          "output_type": "execute_result",
          "data": {
            "text/plain": [
              "array([0.01231262, 0.01266712, 0.01353884, ..., 0.01179057, 0.01247266,\n",
              "       0.01247266], dtype=float32)"
            ]
          },
          "metadata": {},
          "execution_count": 45
        }
      ]
    },
    {
      "cell_type": "code",
      "source": [
        "print('Test score for XGB:'+ str(base), f\"{np.corrcoef(predito, y_teste[base])[0,1]:.2f}\")"
      ],
      "metadata": {
        "colab": {
          "base_uri": "https://localhost:8080/"
        },
        "id": "6JXfWbM_xaT1",
        "outputId": "fb136961-33b1-4f88-c29a-39b5ba4450fd"
      },
      "execution_count": null,
      "outputs": [
        {
          "output_type": "stream",
          "name": "stdout",
          "text": [
            "Test score for XGB:0 0.02\n"
          ]
        }
      ]
    },
    {
      "cell_type": "code",
      "source": [
        "predito=modelos_xgb[base].predict(x_valid[base])\n",
        "predito"
      ],
      "metadata": {
        "colab": {
          "base_uri": "https://localhost:8080/"
        },
        "id": "AicAJAPO6jeP",
        "outputId": "f125ba95-4824-4314-e18c-47404079152f"
      },
      "execution_count": null,
      "outputs": [
        {
          "output_type": "execute_result",
          "data": {
            "text/plain": [
              "array([0.01300594, 0.01480502, 0.01480502, ..., 0.00330222, 0.00330222,\n",
              "       0.00330222], dtype=float32)"
            ]
          },
          "metadata": {},
          "execution_count": 47
        }
      ]
    },
    {
      "cell_type": "code",
      "source": [
        "print('Test score for XGB:'+ str(base), f\"{np.corrcoef(predito, y_valid[base])[0,1]:.2f}\")"
      ],
      "metadata": {
        "colab": {
          "base_uri": "https://localhost:8080/"
        },
        "id": "oWKYbVtX73NG",
        "outputId": "a0016cbe-b176-4ebb-e68c-92f7e81d1db5"
      },
      "execution_count": null,
      "outputs": [
        {
          "output_type": "stream",
          "name": "stdout",
          "text": [
            "Test score for XGB:0 0.00\n"
          ]
        }
      ]
    },
    {
      "cell_type": "markdown",
      "metadata": {
        "id": "rWGKzeJI9tNz"
      },
      "source": [
        "4.42 MODELO LGBM COM PARAMETER SAMPLER"
      ]
    },
    {
      "cell_type": "code",
      "execution_count": 50,
      "metadata": {
        "id": "uuQgKLoyZhQ8"
      },
      "outputs": [],
      "source": [
        "from sklearn.model_selection import ParameterSampler\n",
        "param_dist_LGBM = {\n",
        "    \"learning_rate\": [0.06,0.2,0.5],\n",
        "    \"n_estimators\": [150],\n",
        "    \"max_depth\": [4,6,10],\n",
        "    \"colsample_bytree\":[0.9],\n",
        "    # \"min_samples_split\": [2,4,5],\n",
        "    \"reg_lambda\":[1,7],\n",
        "    \"reg_alpha\": [0,6],\n",
        "    # \"scale_pos_weight\": [15],\n",
        "    \"n_jobs\":[-1]\n",
        "\n",
        "}\n",
        "params_set_LGBM=ParameterSampler(param_dist_LGBM,40,random_state=0)"
      ]
    },
    {
      "cell_type": "code",
      "execution_count": 51,
      "metadata": {
        "id": "OnosiOwr-UY1"
      },
      "outputs": [],
      "source": [
        "#Função objetivo customizada\n",
        "from lightgbm import LGBMRegressor\n",
        "def rmsle_LGBM(y_true, y_pred):\n",
        "    return 'RMSLE', np.sqrt(np.mean(np.power(np.log1p(y_pred) - np.log1p(y_true), 2))), False"
      ]
    },
    {
      "cell_type": "code",
      "execution_count": 52,
      "metadata": {
        "id": "ef4Z35pHMmB3"
      },
      "outputs": [],
      "source": [
        "#Função personalizada que avalia os resultados\n",
        "\n",
        "def feval_func(preds, train_data):\n",
        "   # Define a formula that evaluates the results\n",
        "    return ('feval_func_name', eval_result, False)"
      ]
    },
    {
      "cell_type": "code",
      "execution_count": 53,
      "metadata": {
        "id": "lP2TQKX_-g42"
      },
      "outputs": [],
      "source": [
        "def arruma_n_estimators(row):\n",
        "  best_iter=row[\"best_iter\"]\n",
        "  params_inicial = row[\"params_iter\"]\n",
        "  params_com_early = {**params_inicial, **{'n_estimators':best_iter +1}}\n",
        "  return params_com_early"
      ]
    },
    {
      "cell_type": "code",
      "execution_count": 54,
      "metadata": {
        "id": "BNhYHS2T-jvZ"
      },
      "outputs": [],
      "source": [
        "from tqdm import tqdm_notebook\n",
        "import tqdm"
      ]
    },
    {
      "cell_type": "code",
      "execution_count": 55,
      "metadata": {
        "id": "W-oERjL9MRH3"
      },
      "outputs": [],
      "source": [
        "# https://www.kaggle.com/c/m5-forecasting-accuracy/discussion/140564"
      ]
    },
    {
      "cell_type": "code",
      "execution_count": 56,
      "metadata": {
        "id": "DGTnC2nE--jn"
      },
      "outputs": [],
      "source": [
        "def roda_grid_LGBM(params,x_train,y_train,eval_set,eval_metric,early_stopping_rounds=5,metrica=\"rmse\"):\n",
        "  for k,i in tqdm.tqdm(enumerate(params,1)):\n",
        "    regressor=LGBMRegressor (objective='regression', seed=0,**i)\n",
        "\n",
        "    regressor.fit(x_train,y_train,eval_set=eval_set,eval_metric=eval_metric,verbose=False,early_stopping_rounds=early_stopping_rounds)\n",
        "\n",
        "    if k==1:\n",
        "      df_result=pd.DataFrame()\n",
        "      df_result[\"best_treino\"]=[regressor.evals_result_[\"training\"][metrica][regressor.best_iteration_]]\n",
        "      df_result[\"best_test\"]=[regressor.evals_result_[\"valid_1\"][metrica][regressor.best_iteration_]]\n",
        "      df_result[\"best_iter\"]=regressor.best_iteration_\n",
        "      df_result[\"Combination\"]=k\n",
        "      df_result[\"params_iter\"]=[i.copy()]\n",
        "    else:\n",
        "      aux=pd.DataFrame()\n",
        "      aux[\"best_treino\"]=[regressor.evals_result_[\"training\"][metrica][regressor.best_iteration_]]\n",
        "      aux[\"best_test\"]=[regressor.evals_result_[\"valid_1\"][metrica][regressor.best_iteration_]]\n",
        "      aux[\"best_iter\"]=regressor.best_iteration_\n",
        "      aux[\"Combination\"]=k\n",
        "      aux[\"params_iter\"]=[i.copy()]\n",
        "\n",
        "\n",
        "      df_result=df_result.append(aux).reset_index(drop=True)\n",
        "      df_result[\"params_com_early\"]=df_result.apply(arruma_n_estimators, axis=1)\n",
        "      df_result[\"diff\"]=df_result[\"best_treino\"] - df_result[\"best_test\"]\n",
        "      df_result=(df_result.sort_values(by=[\"best_test\",\"diff\", \"best_iter\"],ascending=[True,True,True]).reset_index(drop=True))\n",
        "\n",
        "  return df_result"
      ]
    },
    {
      "cell_type": "code",
      "execution_count": null,
      "metadata": {
        "colab": {
          "background_save": true,
          "base_uri": "https://localhost:8080/"
        },
        "id": "wiLrPfVF_XIn",
        "outputId": "6d137a22-3679-401e-daa0-e806d987c8c1"
      },
      "outputs": [
        {
          "output_type": "stream",
          "name": "stdout",
          "text": [
            "2\n"
          ]
        },
        {
          "output_type": "stream",
          "name": "stderr",
          "text": [
            "36it [01:32,  2.57s/it]\n"
          ]
        },
        {
          "output_type": "stream",
          "name": "stdout",
          "text": [
            "0\n"
          ]
        },
        {
          "output_type": "stream",
          "name": "stderr",
          "text": [
            "34it [01:07,  1.82s/it]"
          ]
        }
      ],
      "source": [
        "df_result_LGBM={}\n",
        "best_params_LGBM={}\n",
        "eval_set_LGBM={}\n",
        "for base in assets:\n",
        "  eval_set_LGBM[base] = [(x_treino[base],y_treino[base]),(x_teste[base],y_teste[base])]\n",
        "  print(base)\n",
        "  df_result_LGBM[base]=roda_grid_LGBM(params_set_LGBM, x_treino[base], y_treino[base],eval_set=eval_set_LGBM[base],eval_metric=\"rmse\")\n",
        "  # df_result_LGBM[base]=roda_grid_LGBM(params_set_LGBM, x_treino[base], y_treino[base],eval_set=eval_set_LGBM[base],eval_metric=rmsle_LGBM)\n",
        "  best_params_LGBM[base]=df_result_LGBM[base].loc[0,\"params_com_early\"]\n"
      ]
    },
    {
      "cell_type": "code",
      "execution_count": null,
      "metadata": {
        "colab": {
          "background_save": true
        },
        "id": "Rp7CCvixAJGV"
      },
      "outputs": [],
      "source": [
        "modelos_LGBM ={}\n",
        "import pickle as pk\n",
        "for base in assets:\n",
        "  modelos_LGBM[base] = LGBMRegressor(objective=\"regression\",**best_params_LGBM[base])\n",
        "  modelos_LGBM[base].fit(x_treino[base], y_treino[base],eval_metric=rmsle_LGBM,eval_set=eval_set_LGBM[base],verbose=False)\n",
        "  pk.dump(modelos_LGBM[base],open('gdrive/My Drive/Colab Notebooks/Kaggle/g_research_competition/modelo_lgbm'+str(base)+'.pkl','wb'))"
      ]
    },
    {
      "cell_type": "markdown",
      "metadata": {
        "id": "zVGyGSjqJgmj"
      },
      "source": [
        "# 5. Avaliação dos resultados"
      ]
    },
    {
      "cell_type": "markdown",
      "metadata": {
        "id": "KF0_L53gck66"
      },
      "source": [
        "5.1 Avaliação MODELO"
      ]
    },
    {
      "cell_type": "code",
      "execution_count": 48,
      "metadata": {
        "colab": {
          "base_uri": "https://localhost:8080/"
        },
        "id": "MbxCaXAIUTKC",
        "outputId": "ff508b69-e450-4ecb-dd42-a264c3efee03"
      },
      "outputs": [
        {
          "output_type": "stream",
          "name": "stdout",
          "text": [
            "Teste Moeda:2\n",
            "Test score for LR baseline:2 0.07\n",
            "Test score for XGB:2 0.03\n",
            "Teste score for LGBM:2 0.03\n",
            "Teste score for MULTIOUTPUT:2 0.01\n",
            "FIM\n",
            "Teste Moeda:0\n",
            "Test score for LR baseline:0 -0.02\n",
            "Test score for XGB:0 0.02\n",
            "Teste score for LGBM:0 0.01\n",
            "Teste score for MULTIOUTPUT:0 0.00\n",
            "FIM\n",
            "Teste Moeda:1\n",
            "Test score for LR baseline:1 0.02\n",
            "Test score for XGB:1 -0.01\n",
            "Teste score for LGBM:1 0.01\n",
            "Teste score for MULTIOUTPUT:1 0.03\n",
            "FIM\n",
            "Teste Moeda:5\n",
            "Test score for LR baseline:5 0.04\n",
            "Test score for XGB:5 0.01\n",
            "Teste score for LGBM:5 0.02\n",
            "Teste score for MULTIOUTPUT:5 0.11\n",
            "FIM\n",
            "Teste Moeda:7\n",
            "Test score for LR baseline:7 0.01\n",
            "Test score for XGB:7 -0.00\n",
            "Teste score for LGBM:7 -0.01\n",
            "Teste score for MULTIOUTPUT:7 0.17\n",
            "FIM\n",
            "Teste Moeda:6\n",
            "Test score for LR baseline:6 0.03\n",
            "Test score for XGB:6 -0.01\n",
            "Teste score for LGBM:6 0.03\n",
            "Teste score for MULTIOUTPUT:6 0.15\n",
            "FIM\n",
            "Teste Moeda:9\n",
            "Test score for LR baseline:9 0.04\n",
            "Test score for XGB:9 0.00\n",
            "Teste score for LGBM:9 0.05\n",
            "Teste score for MULTIOUTPUT:9 0.05\n",
            "FIM\n",
            "Teste Moeda:11\n",
            "Test score for LR baseline:11 -0.00\n",
            "Test score for XGB:11 0.02\n",
            "Teste score for LGBM:11 0.00\n",
            "Teste score for MULTIOUTPUT:11 0.07\n",
            "FIM\n",
            "Teste Moeda:13\n",
            "Test score for LR baseline:13 -0.02\n",
            "Test score for XGB:13 0.01\n",
            "Teste score for LGBM:13 -0.01\n",
            "Teste score for MULTIOUTPUT:13 0.01\n",
            "FIM\n",
            "Teste Moeda:12\n",
            "Test score for LR baseline:12 0.05\n",
            "Test score for XGB:12 0.01\n",
            "Teste score for LGBM:12 0.00\n",
            "Teste score for MULTIOUTPUT:12 0.13\n",
            "FIM\n",
            "Teste Moeda:3\n",
            "Test score for LR baseline:3 0.09\n",
            "Test score for XGB:3 0.01\n",
            "Teste score for LGBM:3 0.05\n",
            "Teste score for MULTIOUTPUT:3 0.04\n",
            "FIM\n",
            "Teste Moeda:8\n",
            "Test score for LR baseline:8 0.00\n",
            "Test score for XGB:8 0.00\n",
            "Teste score for LGBM:8 0.00\n",
            "Teste score for MULTIOUTPUT:8 0.12\n",
            "FIM\n",
            "Teste Moeda:10\n",
            "Test score for LR baseline:10 0.01\n",
            "Test score for XGB:10 -0.00\n",
            "Teste score for LGBM:10 0.01\n",
            "Teste score for MULTIOUTPUT:10 0.11\n",
            "FIM\n",
            "Teste Moeda:4\n",
            "Test score for LR baseline:4 0.07\n",
            "Test score for XGB:4 0.02\n",
            "Teste score for LGBM:4 0.02\n",
            "Teste score for MULTIOUTPUT:4 0.05\n",
            "FIM\n"
          ]
        }
      ],
      "source": [
        "predito_test_reg_lin={}\n",
        "predito_test_xgb={}\n",
        "predito_test_lgbm={}\n",
        "\n",
        "from sklearn.linear_model import LinearRegression\n",
        "from sklearn.multioutput import MultiOutputRegressor\n",
        "\n",
        "mlr=pk.load(open('gdrive/My Drive/Colab Notebooks/Kaggle/g_research_competition/mod_multi_out/modelo_multi_output.pkl','rb'))\n",
        "y_pred_all_teste = mlr.predict(x_all_teste)\n",
        "\n",
        "for base in assets:\n",
        "\n",
        "  print('Teste Moeda:' + str(base))\n",
        "\n",
        "  modelos_reg_lin=pk.load(open('gdrive/My Drive/Colab Notebooks/Kaggle/g_research_competition/mod_lin_reg/modelo_lin_reg'+str(base)+'.pkl','rb'))\n",
        "  predito_test_reg_lin[base]=modelos_reg_lin.predict(x_teste[base])\n",
        "  print('Test score for LR baseline:'+ str(base), f\"{np.corrcoef(predito_test_reg_lin[base], y_teste[base])[0,1]:.2f}\")\n",
        "\n",
        "\n",
        "\n",
        "  modelos_xgb=pk.load(open('gdrive/My Drive/Colab Notebooks/Kaggle/g_research_competition/mod_xgb/modelo_xgb'+str(base)+'.pkl','rb'))\n",
        "  predito_test_xgb[base]=modelos_xgb.predict(x_teste[base])\n",
        "  print('Test score for XGB:'+ str(base), f\"{np.corrcoef(predito_test_xgb[base], y_teste[base])[0,1]:.2f}\")\n",
        "\n",
        "\n",
        "\n",
        "  modelos_lgbm=pk.load(open('gdrive/My Drive/Colab Notebooks/Kaggle/g_research_competition/mod_lgbm/modelo_lgbm'+str(base)+'.pkl','rb'))\n",
        "  predito_test_lgbm[base]=modelos_lgbm.predict(x_teste[base])\n",
        "  print('Teste score for LGBM:'+ str(base), f\"{np.corrcoef(predito_test_lgbm[base], y_teste[base])[0,1]:.2f}\")\n",
        "\n",
        "\n",
        "  print('Teste score for MULTIOUTPUT:'+ str(base), f\"{np.corrcoef(y_pred_all_teste[base], y_all_teste[base])[0,1]:.2f}\")\n",
        "\n",
        "  print(\"FIM\")\n"
      ]
    },
    {
      "cell_type": "code",
      "execution_count": 49,
      "metadata": {
        "colab": {
          "base_uri": "https://localhost:8080/"
        },
        "id": "d_CcMkolcjkH",
        "outputId": "9d69a35d-1a61-4f27-8be9-c0856b814740"
      },
      "outputs": [
        {
          "output_type": "stream",
          "name": "stdout",
          "text": [
            "Validação Moeda:2\n",
            "Valid score for LR baseline:2 0.00\n",
            "Valid score for XGB:2 0.00\n",
            "Valid score for LGBM:2 0.03\n",
            "Teste score for MULTIOUTPUT:2 -0.36\n",
            "FIM\n",
            "Validação Moeda:0\n",
            "Valid score for LR baseline:0 -0.02\n",
            "Valid score for XGB:0 0.01\n",
            "Valid score for LGBM:0 0.03\n",
            "Teste score for MULTIOUTPUT:0 -0.42\n",
            "FIM\n",
            "Validação Moeda:1\n",
            "Valid score for LR baseline:1 0.06\n",
            "Valid score for XGB:1 -0.01\n",
            "Valid score for LGBM:1 0.03\n",
            "Teste score for MULTIOUTPUT:1 -0.37\n",
            "FIM\n",
            "Validação Moeda:5\n",
            "Valid score for LR baseline:5 0.02\n",
            "Valid score for XGB:5 0.01\n",
            "Valid score for LGBM:5 0.03\n",
            "Teste score for MULTIOUTPUT:5 -0.32\n",
            "FIM\n",
            "Validação Moeda:7\n",
            "Valid score for LR baseline:7 0.02\n",
            "Valid score for XGB:7 0.01\n",
            "Valid score for LGBM:7 0.00\n",
            "Teste score for MULTIOUTPUT:7 -0.09\n",
            "FIM\n",
            "Validação Moeda:6\n",
            "Valid score for LR baseline:6 0.01\n",
            "Valid score for XGB:6 -0.01\n",
            "Valid score for LGBM:6 -0.00\n",
            "Teste score for MULTIOUTPUT:6 -0.29\n",
            "FIM\n",
            "Validação Moeda:9\n",
            "Valid score for LR baseline:9 0.04\n",
            "Valid score for XGB:9 -0.00\n",
            "Valid score for LGBM:9 0.05\n",
            "Teste score for MULTIOUTPUT:9 -0.01\n",
            "FIM\n",
            "Validação Moeda:11\n",
            "Valid score for LR baseline:11 0.03\n",
            "Valid score for XGB:11 0.01\n",
            "Valid score for LGBM:11 0.01\n",
            "Teste score for MULTIOUTPUT:11 0.00\n",
            "FIM\n",
            "Validação Moeda:13\n",
            "Valid score for LR baseline:13 0.02\n",
            "Valid score for XGB:13 -0.01\n",
            "Valid score for LGBM:13 -0.01\n",
            "Teste score for MULTIOUTPUT:13 -0.01\n",
            "FIM\n",
            "Validação Moeda:12\n",
            "Valid score for LR baseline:12 0.05\n",
            "Valid score for XGB:12 0.03\n",
            "Valid score for LGBM:12 0.00\n",
            "Teste score for MULTIOUTPUT:12 -0.24\n",
            "FIM\n",
            "Validação Moeda:3\n",
            "Valid score for LR baseline:3 0.04\n",
            "Valid score for XGB:3 -0.02\n",
            "Valid score for LGBM:3 0.04\n",
            "Teste score for MULTIOUTPUT:3 -0.37\n",
            "FIM\n",
            "Validação Moeda:8\n",
            "Valid score for LR baseline:8 0.02\n",
            "Valid score for XGB:8 0.00\n",
            "Valid score for LGBM:8 0.00\n",
            "Teste score for MULTIOUTPUT:8 -0.07\n",
            "FIM\n",
            "Validação Moeda:10\n",
            "Valid score for LR baseline:10 0.03\n",
            "Valid score for XGB:10 0.02\n",
            "Valid score for LGBM:10 0.02\n",
            "Teste score for MULTIOUTPUT:10 0.09\n",
            "FIM\n",
            "Validação Moeda:4\n",
            "Valid score for LR baseline:4 0.02\n",
            "Valid score for XGB:4 0.01\n",
            "Valid score for LGBM:4 0.01\n",
            "Teste score for MULTIOUTPUT:4 -0.27\n",
            "FIM\n"
          ]
        }
      ],
      "source": [
        "predito_valid_reg_lin={}\n",
        "predito_valid_xgb={}\n",
        "predito_valid_lgbm={}\n",
        "\n",
        "from sklearn.linear_model import LinearRegression\n",
        "from sklearn.multioutput import MultiOutputRegressor\n",
        "\n",
        "mlr=pk.load(open('gdrive/My Drive/Colab Notebooks/Kaggle/g_research_competition/mod_multi_out/modelo_multi_output.pkl','rb'))\n",
        "y_pred_all_valid= mlr.predict(x_all_valid)\n",
        "\n",
        "\n",
        "for base in assets:\n",
        "  print('Validação Moeda:' + str(base))\n",
        "\n",
        "  modelos_reg_lin=pk.load(open('gdrive/My Drive/Colab Notebooks/Kaggle/g_research_competition/mod_lin_reg/modelo_lin_reg'+str(base)+'.pkl','rb'))\n",
        "  # modelo=pk.load(open('gdrive/My Drive/Colab Notebooks/Kaggle/g_research_competition/modelo_'+str(base)+'.pkl','rb'))\n",
        "  predito_valid_reg_lin[base]=modelos_reg_lin.predict(x_valid[base])\n",
        "  print('Valid score for LR baseline:'+ str(base), f\"{np.corrcoef(predito_valid_reg_lin[base], y_valid[base])[0,1]:.2f}\")\n",
        "\n",
        "\n",
        "\n",
        "  modelos_xgb=pk.load(open('gdrive/My Drive/Colab Notebooks/Kaggle/g_research_competition/mod_xgb/modelo_xgb'+str(base)+'.pkl','rb'))\n",
        "  # modelo=pk.load(open('gdrive/My Drive/Colab Notebooks/Kaggle/g_research_competition/modelo_'+str(base)+'.pkl','rb'))\n",
        "  predito_valid_xgb[base]=modelos_xgb.predict(x_valid[base])\n",
        "  print('Valid score for XGB:'+ str(base), f\"{np.corrcoef(predito_valid_xgb[base], y_valid[base])[0,1]:.2f}\")\n",
        "\n",
        "\n",
        "\n",
        "  modelos_lgbm=pk.load(open('gdrive/My Drive/Colab Notebooks/Kaggle/g_research_competition/mod_lgbm/modelo_lgbm'+str(base)+'.pkl','rb'))\n",
        "  # modelo=pk.load(open('gdrive/My Drive/Colab Notebooks/Kaggle/g_research_competition/modelo_'+str(base)+'.pkl','rb'))\n",
        "  predito_valid_lgbm[base]=modelos_lgbm.predict(x_valid[base])\n",
        "  print('Valid score for LGBM:'+ str(base), f\"{np.corrcoef(predito_valid_lgbm[base], y_valid[base])[0,1]:.2f}\")\n",
        "\n",
        "\n",
        "  \n",
        "  print('Teste score for MULTIOUTPUT:'+ str(base), f\"{np.corrcoef(y_pred_all_valid[base], y_all_valid[base])[0,1]:.2f}\")\n",
        "\n",
        "  print('FIM')\n",
        "  \n"
      ]
    },
    {
      "cell_type": "code",
      "source": [
        ""
      ],
      "metadata": {
        "id": "MS8dznsqmtZy"
      },
      "execution_count": null,
      "outputs": []
    }
  ],
  "metadata": {
    "colab": {
      "collapsed_sections": [
        "zNDSg4kpJgmb"
      ],
      "name": "Criptrouxa Marcelo V200.ipynb",
      "provenance": [],
      "include_colab_link": true
    },
    "kernelspec": {
      "display_name": "Python 3",
      "language": "python",
      "name": "python3"
    },
    "language_info": {
      "codemirror_mode": {
        "name": "ipython",
        "version": 3
      },
      "file_extension": ".py",
      "mimetype": "text/x-python",
      "name": "python",
      "nbconvert_exporter": "python",
      "pygments_lexer": "ipython3",
      "version": "3.7.12"
    }
  },
  "nbformat": 4,
  "nbformat_minor": 0
}