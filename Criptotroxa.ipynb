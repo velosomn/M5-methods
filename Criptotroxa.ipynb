{
  "cells": [
    {
      "cell_type": "markdown",
      "metadata": {
        "id": "view-in-github",
        "colab_type": "text"
      },
      "source": [
        "<a href=\"https://colab.research.google.com/github/velosomn/M5-methods/blob/master/Criptotroxa.ipynb\" target=\"_parent\"><img src=\"https://colab.research.google.com/assets/colab-badge.svg\" alt=\"Open In Colab\"/></a>"
      ]
    },
    {
      "cell_type": "code",
      "execution_count": 1,
      "metadata": {
        "id": "FHTzjvYGJgmI",
        "scrolled": true
      },
      "outputs": [],
      "source": [
        "# This Python 3 environment comes with many helpful analytics libraries installed\n",
        "# It is defined by the kaggle/python Docker image: https://github.com/kaggle/docker-python\n",
        "# For example, here's several helpful packages to load\n",
        "\n",
        "import numpy as np # linear algebra\n",
        "import pandas as pd # data processing, CSV file I/O (e.g. pd.read_csv)\n",
        "\n",
        "# Input data files are available in the read-only \"../input/\" directory\n",
        "# For example, running this (by clicking run or pressing Shift+Enter) will list all files under the input directory\n",
        "\n",
        "import os\n",
        "for dirname, _, filenames in os.walk('/kaggle/input'):\n",
        "    for filename in filenames:\n",
        "        print(os.path.join(dirname, filename))\n",
        "\n",
        "# You can write up to 20GB to the current directory (/kaggle/working/) that gets preserved as output when you create a version using \"Save & Run All\" \n",
        "# You can also write temporary files to /kaggle/temp/, but they won't be saved outside of the current session"
      ]
    },
    {
      "cell_type": "code",
      "execution_count": 2,
      "metadata": {
        "id": "oSXRGGDCJgmM"
      },
      "outputs": [],
      "source": [
        "import pandas as pd\n",
        "import numpy as np\n",
        "from datetime import datetime\n",
        "import os, sys, gc, time, warnings, pickle, psutil, random\n",
        "from sklearn.preprocessing import LabelEncoder\n",
        "from tqdm import tqdm\n",
        "from math import ceil\n",
        "\n",
        "warnings.filterwarnings('ignore')\n",
        "totimestamp = lambda s: np.int32(time.mktime(datetime.strptime(s, \"%d/%m/%Y\").timetuple()))"
      ]
    },
    {
      "cell_type": "code",
      "source": [
        "## Simple \"Memory profilers\" to see memory usage\n",
        "def get_memory_usage():\n",
        "    return np.round(psutil.Process(os.getpid()).memory_info()[0]/2.**30, 2) \n",
        "        \n",
        "def sizeof_fmt(num, suffix='B'):\n",
        "    for unit in ['','Ki','Mi','Gi','Ti','Pi','Ei','Zi']:\n",
        "        if abs(num) < 1024.0:\n",
        "            return \"%3.1f%s%s\" % (num, unit, suffix)\n",
        "        num /= 1024.0\n",
        "    return \"%.1f%s%s\" % (num, 'Yi', suffix)"
      ],
      "metadata": {
        "id": "lN3howtHIjba"
      },
      "execution_count": 3,
      "outputs": []
    },
    {
      "cell_type": "code",
      "source": [
        "## Memory Reducer\n",
        "# :df pandas dataframe to reduce size             # type: pd.DataFrame()\n",
        "# :verbose                                        # type: bool\n",
        "def reduce_mem_usage(df, verbose=True):\n",
        "    numerics = ['int16', 'int32', 'int64', 'float16', 'float32', 'float64']\n",
        "    start_mem = df.memory_usage().sum() / 1024**2    \n",
        "    for col in df.columns:\n",
        "        col_type = df[col].dtypes\n",
        "        if col_type in numerics:\n",
        "            c_min = df[col].min()\n",
        "            c_max = df[col].max()\n",
        "            if str(col_type)[:3] == 'int':\n",
        "                if c_min > np.iinfo(np.int8).min and c_max < np.iinfo(np.int8).max:\n",
        "                    df[col] = df[col].astype(np.int8)\n",
        "                elif c_min > np.iinfo(np.int16).min and c_max < np.iinfo(np.int16).max:\n",
        "                       df[col] = df[col].astype(np.int16)\n",
        "                elif c_min > np.iinfo(np.int32).min and c_max < np.iinfo(np.int32).max:\n",
        "                    df[col] = df[col].astype(np.int32)\n",
        "                elif c_min > np.iinfo(np.int64).min and c_max < np.iinfo(np.int64).max:\n",
        "                    df[col] = df[col].astype(np.int64)  \n",
        "            else:\n",
        "                if c_min > np.finfo(np.float16).min and c_max < np.finfo(np.float16).max:\n",
        "                    df[col] = df[col].astype(np.float16)\n",
        "                elif c_min > np.finfo(np.float32).min and c_max < np.finfo(np.float32).max:\n",
        "                    df[col] = df[col].astype(np.float32)\n",
        "                else:\n",
        "                    df[col] = df[col].astype(np.float64)    \n",
        "    end_mem = df.memory_usage().sum() / 1024**2\n",
        "    if verbose: print('Mem. usage decreased to {:5.2f} Mb ({:.1f}% reduction)'.format(end_mem, 100 * (start_mem - end_mem) / start_mem))\n",
        "    return df"
      ],
      "metadata": {
        "id": "HAd2QihcIqOw"
      },
      "execution_count": 4,
      "outputs": []
    },
    {
      "cell_type": "code",
      "source": [
        "## Merging by concat to not lose dtypes\n",
        "def merge_by_concat(df1, df2, merge_on):\n",
        "    merged_gf = df1[merge_on]\n",
        "    merged_gf = merged_gf.merge(df2, on=merge_on, how='left')\n",
        "    new_columns = [col for col in list(merged_gf) if col not in merge_on]\n",
        "    df1 = pd.concat([df1, merged_gf[new_columns]], axis=1)\n",
        "    return df1"
      ],
      "metadata": {
        "id": "8XcGA_r5I6co"
      },
      "execution_count": 5,
      "outputs": []
    },
    {
      "cell_type": "code",
      "source": [
        ""
      ],
      "metadata": {
        "id": "THuO6IafI9-b"
      },
      "execution_count": 5,
      "outputs": []
    },
    {
      "cell_type": "code",
      "execution_count": 6,
      "metadata": {
        "colab": {
          "base_uri": "https://localhost:8080/"
        },
        "id": "tvIo5C6EJgmN",
        "outputId": "be66e782-7534-4b05-8cae-e1b4a8bbb163"
      },
      "outputs": [
        {
          "output_type": "stream",
          "name": "stdout",
          "text": [
            "Mounted at /content/gdrive\n",
            " asset_details.csv\t\t example_test.csv\n",
            "'Cópia de criptotroxa.ipynb'\t supplemental_train.csv.zip\n",
            " example_sample_submission.csv\t treinocompactado.zip\n"
          ]
        }
      ],
      "source": [
        "from google.colab import drive\n",
        "drive.mount('/content/gdrive')\n",
        "!ls \"gdrive/My Drive/Colab Notebooks/Kaggle/g_research_competition\""
      ]
    },
    {
      "cell_type": "code",
      "execution_count": 7,
      "metadata": {
        "id": "TV-tki04JgmP"
      },
      "outputs": [],
      "source": [
        "import zipfile\n",
        "base_treino=0\n",
        "with zipfile.ZipFile(\"gdrive/My Drive/Colab Notebooks/Kaggle/g_research_competition/treinocompactado.zip\", 'r') as zip_ref:\n",
        "  base_treino = pd.read_csv(zip_ref.open('train.csv'))"
      ]
    },
    {
      "cell_type": "code",
      "execution_count": 8,
      "metadata": {
        "id": "PlY5AqTAJgmQ"
      },
      "outputs": [],
      "source": [
        "base_treino[\"dia_semana\"]=pd.to_datetime(base_treino['timestamp'], unit='s').dt.dayofweek\n",
        "base_treino['hora'] = pd.to_datetime(base_treino['timestamp'], unit='s').dt.hour"
      ]
    },
    {
      "cell_type": "code",
      "execution_count": 9,
      "metadata": {
        "colab": {
          "base_uri": "https://localhost:8080/",
          "height": 424
        },
        "id": "n1QT5A8VJgmR",
        "outputId": "70edea4a-c86a-42dc-93cb-624044924569"
      },
      "outputs": [
        {
          "output_type": "execute_result",
          "data": {
            "text/html": [
              "\n",
              "  <div id=\"df-bb03edf3-8bc5-49ec-908f-2a5ac14774c4\">\n",
              "    <div class=\"colab-df-container\">\n",
              "      <div>\n",
              "<style scoped>\n",
              "    .dataframe tbody tr th:only-of-type {\n",
              "        vertical-align: middle;\n",
              "    }\n",
              "\n",
              "    .dataframe tbody tr th {\n",
              "        vertical-align: top;\n",
              "    }\n",
              "\n",
              "    .dataframe thead th {\n",
              "        text-align: right;\n",
              "    }\n",
              "</style>\n",
              "<table border=\"1\" class=\"dataframe\">\n",
              "  <thead>\n",
              "    <tr style=\"text-align: right;\">\n",
              "      <th></th>\n",
              "      <th>timestamp</th>\n",
              "      <th>Asset_ID</th>\n",
              "      <th>Count</th>\n",
              "      <th>Open</th>\n",
              "      <th>High</th>\n",
              "      <th>Low</th>\n",
              "      <th>Close</th>\n",
              "      <th>Volume</th>\n",
              "      <th>VWAP</th>\n",
              "      <th>Target</th>\n",
              "      <th>dia_semana</th>\n",
              "      <th>hora</th>\n",
              "    </tr>\n",
              "  </thead>\n",
              "  <tbody>\n",
              "    <tr>\n",
              "      <th>11316860</th>\n",
              "      <td>1574431980</td>\n",
              "      <td>12</td>\n",
              "      <td>205.0</td>\n",
              "      <td>0.053470</td>\n",
              "      <td>0.054400</td>\n",
              "      <td>0.053308</td>\n",
              "      <td>0.053720</td>\n",
              "      <td>919324.957443</td>\n",
              "      <td>0.053559</td>\n",
              "      <td>-0.000616</td>\n",
              "      <td>4</td>\n",
              "      <td>14</td>\n",
              "    </tr>\n",
              "    <tr>\n",
              "      <th>8497254</th>\n",
              "      <td>1560764460</td>\n",
              "      <td>4</td>\n",
              "      <td>5.0</td>\n",
              "      <td>0.003166</td>\n",
              "      <td>0.003168</td>\n",
              "      <td>0.003165</td>\n",
              "      <td>0.003165</td>\n",
              "      <td>13.000000</td>\n",
              "      <td>0.003166</td>\n",
              "      <td>0.000948</td>\n",
              "      <td>0</td>\n",
              "      <td>9</td>\n",
              "    </tr>\n",
              "    <tr>\n",
              "      <th>14515921</th>\n",
              "      <td>1589821740</td>\n",
              "      <td>13</td>\n",
              "      <td>64.0</td>\n",
              "      <td>0.015339</td>\n",
              "      <td>0.015350</td>\n",
              "      <td>0.015302</td>\n",
              "      <td>0.015321</td>\n",
              "      <td>646149.324300</td>\n",
              "      <td>0.015327</td>\n",
              "      <td>-0.000809</td>\n",
              "      <td>0</td>\n",
              "      <td>17</td>\n",
              "    </tr>\n",
              "    <tr>\n",
              "      <th>2197546</th>\n",
              "      <td>1529003460</td>\n",
              "      <td>3</td>\n",
              "      <td>97.0</td>\n",
              "      <td>0.169999</td>\n",
              "      <td>0.170700</td>\n",
              "      <td>0.169211</td>\n",
              "      <td>0.169767</td>\n",
              "      <td>575864.315318</td>\n",
              "      <td>0.169583</td>\n",
              "      <td>0.003310</td>\n",
              "      <td>3</td>\n",
              "      <td>19</td>\n",
              "    </tr>\n",
              "    <tr>\n",
              "      <th>18150868</th>\n",
              "      <td>1606082940</td>\n",
              "      <td>2</td>\n",
              "      <td>105.0</td>\n",
              "      <td>295.970000</td>\n",
              "      <td>296.500000</td>\n",
              "      <td>295.440000</td>\n",
              "      <td>295.920000</td>\n",
              "      <td>140.051132</td>\n",
              "      <td>295.989065</td>\n",
              "      <td>-0.004833</td>\n",
              "      <td>6</td>\n",
              "      <td>22</td>\n",
              "    </tr>\n",
              "    <tr>\n",
              "      <th>...</th>\n",
              "      <td>...</td>\n",
              "      <td>...</td>\n",
              "      <td>...</td>\n",
              "      <td>...</td>\n",
              "      <td>...</td>\n",
              "      <td>...</td>\n",
              "      <td>...</td>\n",
              "      <td>...</td>\n",
              "      <td>...</td>\n",
              "      <td>...</td>\n",
              "      <td>...</td>\n",
              "      <td>...</td>\n",
              "    </tr>\n",
              "    <tr>\n",
              "      <th>8274887</th>\n",
              "      <td>1559734800</td>\n",
              "      <td>7</td>\n",
              "      <td>64.0</td>\n",
              "      <td>8.119333</td>\n",
              "      <td>8.137500</td>\n",
              "      <td>8.097700</td>\n",
              "      <td>8.112567</td>\n",
              "      <td>2225.042293</td>\n",
              "      <td>8.115380</td>\n",
              "      <td>0.003409</td>\n",
              "      <td>2</td>\n",
              "      <td>11</td>\n",
              "    </tr>\n",
              "    <tr>\n",
              "      <th>12480384</th>\n",
              "      <td>1580095080</td>\n",
              "      <td>2</td>\n",
              "      <td>123.0</td>\n",
              "      <td>357.858000</td>\n",
              "      <td>358.710000</td>\n",
              "      <td>357.270000</td>\n",
              "      <td>358.182000</td>\n",
              "      <td>142.413375</td>\n",
              "      <td>358.000379</td>\n",
              "      <td>-0.001328</td>\n",
              "      <td>0</td>\n",
              "      <td>3</td>\n",
              "    </tr>\n",
              "    <tr>\n",
              "      <th>19351520</th>\n",
              "      <td>1611240600</td>\n",
              "      <td>1</td>\n",
              "      <td>6227.0</td>\n",
              "      <td>31594.775714</td>\n",
              "      <td>31631.000000</td>\n",
              "      <td>31355.000000</td>\n",
              "      <td>31506.675714</td>\n",
              "      <td>518.227601</td>\n",
              "      <td>31518.853738</td>\n",
              "      <td>-0.001976</td>\n",
              "      <td>3</td>\n",
              "      <td>14</td>\n",
              "    </tr>\n",
              "    <tr>\n",
              "      <th>1730224</th>\n",
              "      <td>1526481780</td>\n",
              "      <td>2</td>\n",
              "      <td>21.0</td>\n",
              "      <td>1258.958000</td>\n",
              "      <td>1263.270000</td>\n",
              "      <td>1255.320000</td>\n",
              "      <td>1258.674000</td>\n",
              "      <td>15.808233</td>\n",
              "      <td>1257.651462</td>\n",
              "      <td>0.001893</td>\n",
              "      <td>2</td>\n",
              "      <td>14</td>\n",
              "    </tr>\n",
              "    <tr>\n",
              "      <th>16233040</th>\n",
              "      <td>1597726740</td>\n",
              "      <td>5</td>\n",
              "      <td>363.0</td>\n",
              "      <td>3.726720</td>\n",
              "      <td>3.735800</td>\n",
              "      <td>3.723000</td>\n",
              "      <td>3.728360</td>\n",
              "      <td>34316.295121</td>\n",
              "      <td>3.727987</td>\n",
              "      <td>0.001507</td>\n",
              "      <td>1</td>\n",
              "      <td>4</td>\n",
              "    </tr>\n",
              "  </tbody>\n",
              "</table>\n",
              "<p>100 rows × 12 columns</p>\n",
              "</div>\n",
              "      <button class=\"colab-df-convert\" onclick=\"convertToInteractive('df-bb03edf3-8bc5-49ec-908f-2a5ac14774c4')\"\n",
              "              title=\"Convert this dataframe to an interactive table.\"\n",
              "              style=\"display:none;\">\n",
              "        \n",
              "  <svg xmlns=\"http://www.w3.org/2000/svg\" height=\"24px\"viewBox=\"0 0 24 24\"\n",
              "       width=\"24px\">\n",
              "    <path d=\"M0 0h24v24H0V0z\" fill=\"none\"/>\n",
              "    <path d=\"M18.56 5.44l.94 2.06.94-2.06 2.06-.94-2.06-.94-.94-2.06-.94 2.06-2.06.94zm-11 1L8.5 8.5l.94-2.06 2.06-.94-2.06-.94L8.5 2.5l-.94 2.06-2.06.94zm10 10l.94 2.06.94-2.06 2.06-.94-2.06-.94-.94-2.06-.94 2.06-2.06.94z\"/><path d=\"M17.41 7.96l-1.37-1.37c-.4-.4-.92-.59-1.43-.59-.52 0-1.04.2-1.43.59L10.3 9.45l-7.72 7.72c-.78.78-.78 2.05 0 2.83L4 21.41c.39.39.9.59 1.41.59.51 0 1.02-.2 1.41-.59l7.78-7.78 2.81-2.81c.8-.78.8-2.07 0-2.86zM5.41 20L4 18.59l7.72-7.72 1.47 1.35L5.41 20z\"/>\n",
              "  </svg>\n",
              "      </button>\n",
              "      \n",
              "  <style>\n",
              "    .colab-df-container {\n",
              "      display:flex;\n",
              "      flex-wrap:wrap;\n",
              "      gap: 12px;\n",
              "    }\n",
              "\n",
              "    .colab-df-convert {\n",
              "      background-color: #E8F0FE;\n",
              "      border: none;\n",
              "      border-radius: 50%;\n",
              "      cursor: pointer;\n",
              "      display: none;\n",
              "      fill: #1967D2;\n",
              "      height: 32px;\n",
              "      padding: 0 0 0 0;\n",
              "      width: 32px;\n",
              "    }\n",
              "\n",
              "    .colab-df-convert:hover {\n",
              "      background-color: #E2EBFA;\n",
              "      box-shadow: 0px 1px 2px rgba(60, 64, 67, 0.3), 0px 1px 3px 1px rgba(60, 64, 67, 0.15);\n",
              "      fill: #174EA6;\n",
              "    }\n",
              "\n",
              "    [theme=dark] .colab-df-convert {\n",
              "      background-color: #3B4455;\n",
              "      fill: #D2E3FC;\n",
              "    }\n",
              "\n",
              "    [theme=dark] .colab-df-convert:hover {\n",
              "      background-color: #434B5C;\n",
              "      box-shadow: 0px 1px 3px 1px rgba(0, 0, 0, 0.15);\n",
              "      filter: drop-shadow(0px 1px 2px rgba(0, 0, 0, 0.3));\n",
              "      fill: #FFFFFF;\n",
              "    }\n",
              "  </style>\n",
              "\n",
              "      <script>\n",
              "        const buttonEl =\n",
              "          document.querySelector('#df-bb03edf3-8bc5-49ec-908f-2a5ac14774c4 button.colab-df-convert');\n",
              "        buttonEl.style.display =\n",
              "          google.colab.kernel.accessAllowed ? 'block' : 'none';\n",
              "\n",
              "        async function convertToInteractive(key) {\n",
              "          const element = document.querySelector('#df-bb03edf3-8bc5-49ec-908f-2a5ac14774c4');\n",
              "          const dataTable =\n",
              "            await google.colab.kernel.invokeFunction('convertToInteractive',\n",
              "                                                     [key], {});\n",
              "          if (!dataTable) return;\n",
              "\n",
              "          const docLinkHtml = 'Like what you see? Visit the ' +\n",
              "            '<a target=\"_blank\" href=https://colab.research.google.com/notebooks/data_table.ipynb>data table notebook</a>'\n",
              "            + ' to learn more about interactive tables.';\n",
              "          element.innerHTML = '';\n",
              "          dataTable['output_type'] = 'display_data';\n",
              "          await google.colab.output.renderOutput(dataTable, element);\n",
              "          const docLink = document.createElement('div');\n",
              "          docLink.innerHTML = docLinkHtml;\n",
              "          element.appendChild(docLink);\n",
              "        }\n",
              "      </script>\n",
              "    </div>\n",
              "  </div>\n",
              "  "
            ],
            "text/plain": [
              "           timestamp  Asset_ID   Count  ...    Target  dia_semana  hora\n",
              "11316860  1574431980        12   205.0  ... -0.000616           4    14\n",
              "8497254   1560764460         4     5.0  ...  0.000948           0     9\n",
              "14515921  1589821740        13    64.0  ... -0.000809           0    17\n",
              "2197546   1529003460         3    97.0  ...  0.003310           3    19\n",
              "18150868  1606082940         2   105.0  ... -0.004833           6    22\n",
              "...              ...       ...     ...  ...       ...         ...   ...\n",
              "8274887   1559734800         7    64.0  ...  0.003409           2    11\n",
              "12480384  1580095080         2   123.0  ... -0.001328           0     3\n",
              "19351520  1611240600         1  6227.0  ... -0.001976           3    14\n",
              "1730224   1526481780         2    21.0  ...  0.001893           2    14\n",
              "16233040  1597726740         5   363.0  ...  0.001507           1     4\n",
              "\n",
              "[100 rows x 12 columns]"
            ]
          },
          "metadata": {},
          "execution_count": 9
        }
      ],
      "source": [
        "base_treino.sample(100)"
      ]
    },
    {
      "cell_type": "markdown",
      "metadata": {
        "id": "uluATR9kJgmS"
      },
      "source": [
        ""
      ]
    },
    {
      "cell_type": "code",
      "execution_count": 10,
      "metadata": {
        "colab": {
          "base_uri": "https://localhost:8080/"
        },
        "id": "crUZbP3WJgmV",
        "outputId": "057a87fd-7ff3-4aac-8bd1-38c2b0c4667c"
      },
      "outputs": [
        {
          "output_type": "execute_result",
          "data": {
            "text/plain": [
              "(24236806, 12)"
            ]
          },
          "metadata": {},
          "execution_count": 10
        }
      ],
      "source": [
        "base_treino.shape"
      ]
    },
    {
      "cell_type": "code",
      "source": [
        "print(\"{:>20}: {:>8}\".format('Reduced grid_df',sizeof_fmt(base_treino.memory_usage(index=True).sum())))"
      ],
      "metadata": {
        "colab": {
          "base_uri": "https://localhost:8080/"
        },
        "id": "NyE1AmTzDGf_",
        "outputId": "a9f70f81-b536-4a72-e51f-67af1b09cf71"
      },
      "execution_count": 11,
      "outputs": [
        {
          "output_type": "stream",
          "name": "stdout",
          "text": [
            "     Reduced grid_df:   2.2GiB\n"
          ]
        }
      ]
    },
    {
      "cell_type": "markdown",
      "metadata": {
        "id": "Ajn7LDI_JgmX"
      },
      "source": [
        "# 1. Estruturar uma base por asset"
      ]
    },
    {
      "cell_type": "code",
      "execution_count": 12,
      "metadata": {
        "id": "u3AmLydaJgmY"
      },
      "outputs": [],
      "source": [
        "assets = {x: base_treino[base_treino.Asset_ID == x].drop('Asset_ID', axis=1) for x in base_treino.Asset_ID.unique()}"
      ]
    },
    {
      "cell_type": "code",
      "source": [
        "assets[0][\"Target\"].head()"
      ],
      "metadata": {
        "colab": {
          "base_uri": "https://localhost:8080/"
        },
        "id": "IFs_62EhKaxD",
        "outputId": "a4b505a2-aeba-46d8-aa14-34b7ddbe074c"
      },
      "execution_count": 13,
      "outputs": [
        {
          "output_type": "execute_result",
          "data": {
            "text/plain": [
              "1    -0.014399\n",
              "9    -0.015875\n",
              "17   -0.015410\n",
              "25   -0.012524\n",
              "33   -0.005940\n",
              "Name: Target, dtype: float64"
            ]
          },
          "metadata": {},
          "execution_count": 13
        }
      ]
    },
    {
      "cell_type": "code",
      "source": [
        "#base_treino = reduce_mem_usage(base_treino)"
      ],
      "metadata": {
        "id": "fITL7j95KidN"
      },
      "execution_count": 14,
      "outputs": []
    },
    {
      "cell_type": "markdown",
      "metadata": {
        "id": "booPMK9lJgmZ"
      },
      "source": [
        "Exemplo :\n",
        "    assets = {2:base_treino[base_treino.Asset_ID==2],3:base_treino[base_treino.Asset_ID==3]...}"
      ]
    },
    {
      "cell_type": "code",
      "execution_count": 15,
      "metadata": {
        "colab": {
          "base_uri": "https://localhost:8080/",
          "height": 206
        },
        "id": "7UN2gfdbJgma",
        "outputId": "595a4745-ad53-4e2a-831a-d17ed3355a8a"
      },
      "outputs": [
        {
          "output_type": "execute_result",
          "data": {
            "text/html": [
              "\n",
              "  <div id=\"df-463ad659-03e0-4dd2-98a8-f8a40d2bccb7\">\n",
              "    <div class=\"colab-df-container\">\n",
              "      <div>\n",
              "<style scoped>\n",
              "    .dataframe tbody tr th:only-of-type {\n",
              "        vertical-align: middle;\n",
              "    }\n",
              "\n",
              "    .dataframe tbody tr th {\n",
              "        vertical-align: top;\n",
              "    }\n",
              "\n",
              "    .dataframe thead th {\n",
              "        text-align: right;\n",
              "    }\n",
              "</style>\n",
              "<table border=\"1\" class=\"dataframe\">\n",
              "  <thead>\n",
              "    <tr style=\"text-align: right;\">\n",
              "      <th></th>\n",
              "      <th>timestamp</th>\n",
              "      <th>Count</th>\n",
              "      <th>Open</th>\n",
              "      <th>High</th>\n",
              "      <th>Low</th>\n",
              "      <th>Close</th>\n",
              "      <th>Volume</th>\n",
              "      <th>VWAP</th>\n",
              "      <th>Target</th>\n",
              "      <th>dia_semana</th>\n",
              "      <th>hora</th>\n",
              "    </tr>\n",
              "  </thead>\n",
              "  <tbody>\n",
              "    <tr>\n",
              "      <th>1</th>\n",
              "      <td>1514764860</td>\n",
              "      <td>5.0</td>\n",
              "      <td>8.5300</td>\n",
              "      <td>8.5300</td>\n",
              "      <td>8.5300</td>\n",
              "      <td>8.5300</td>\n",
              "      <td>78.38</td>\n",
              "      <td>8.530000</td>\n",
              "      <td>-0.014399</td>\n",
              "      <td>0</td>\n",
              "      <td>0</td>\n",
              "    </tr>\n",
              "    <tr>\n",
              "      <th>9</th>\n",
              "      <td>1514764920</td>\n",
              "      <td>7.0</td>\n",
              "      <td>8.5300</td>\n",
              "      <td>8.5300</td>\n",
              "      <td>8.5145</td>\n",
              "      <td>8.5145</td>\n",
              "      <td>71.39</td>\n",
              "      <td>8.520215</td>\n",
              "      <td>-0.015875</td>\n",
              "      <td>0</td>\n",
              "      <td>0</td>\n",
              "    </tr>\n",
              "    <tr>\n",
              "      <th>17</th>\n",
              "      <td>1514764980</td>\n",
              "      <td>45.0</td>\n",
              "      <td>8.5065</td>\n",
              "      <td>8.5299</td>\n",
              "      <td>8.4848</td>\n",
              "      <td>8.4848</td>\n",
              "      <td>1546.82</td>\n",
              "      <td>8.501394</td>\n",
              "      <td>-0.015410</td>\n",
              "      <td>0</td>\n",
              "      <td>0</td>\n",
              "    </tr>\n",
              "    <tr>\n",
              "      <th>25</th>\n",
              "      <td>1514765040</td>\n",
              "      <td>14.0</td>\n",
              "      <td>8.5009</td>\n",
              "      <td>8.5066</td>\n",
              "      <td>8.4744</td>\n",
              "      <td>8.5009</td>\n",
              "      <td>125.80</td>\n",
              "      <td>8.479810</td>\n",
              "      <td>-0.012524</td>\n",
              "      <td>0</td>\n",
              "      <td>0</td>\n",
              "    </tr>\n",
              "    <tr>\n",
              "      <th>33</th>\n",
              "      <td>1514765100</td>\n",
              "      <td>5.0</td>\n",
              "      <td>8.5007</td>\n",
              "      <td>8.5007</td>\n",
              "      <td>8.4560</td>\n",
              "      <td>8.4560</td>\n",
              "      <td>125.01</td>\n",
              "      <td>8.458435</td>\n",
              "      <td>-0.005940</td>\n",
              "      <td>0</td>\n",
              "      <td>0</td>\n",
              "    </tr>\n",
              "  </tbody>\n",
              "</table>\n",
              "</div>\n",
              "      <button class=\"colab-df-convert\" onclick=\"convertToInteractive('df-463ad659-03e0-4dd2-98a8-f8a40d2bccb7')\"\n",
              "              title=\"Convert this dataframe to an interactive table.\"\n",
              "              style=\"display:none;\">\n",
              "        \n",
              "  <svg xmlns=\"http://www.w3.org/2000/svg\" height=\"24px\"viewBox=\"0 0 24 24\"\n",
              "       width=\"24px\">\n",
              "    <path d=\"M0 0h24v24H0V0z\" fill=\"none\"/>\n",
              "    <path d=\"M18.56 5.44l.94 2.06.94-2.06 2.06-.94-2.06-.94-.94-2.06-.94 2.06-2.06.94zm-11 1L8.5 8.5l.94-2.06 2.06-.94-2.06-.94L8.5 2.5l-.94 2.06-2.06.94zm10 10l.94 2.06.94-2.06 2.06-.94-2.06-.94-.94-2.06-.94 2.06-2.06.94z\"/><path d=\"M17.41 7.96l-1.37-1.37c-.4-.4-.92-.59-1.43-.59-.52 0-1.04.2-1.43.59L10.3 9.45l-7.72 7.72c-.78.78-.78 2.05 0 2.83L4 21.41c.39.39.9.59 1.41.59.51 0 1.02-.2 1.41-.59l7.78-7.78 2.81-2.81c.8-.78.8-2.07 0-2.86zM5.41 20L4 18.59l7.72-7.72 1.47 1.35L5.41 20z\"/>\n",
              "  </svg>\n",
              "      </button>\n",
              "      \n",
              "  <style>\n",
              "    .colab-df-container {\n",
              "      display:flex;\n",
              "      flex-wrap:wrap;\n",
              "      gap: 12px;\n",
              "    }\n",
              "\n",
              "    .colab-df-convert {\n",
              "      background-color: #E8F0FE;\n",
              "      border: none;\n",
              "      border-radius: 50%;\n",
              "      cursor: pointer;\n",
              "      display: none;\n",
              "      fill: #1967D2;\n",
              "      height: 32px;\n",
              "      padding: 0 0 0 0;\n",
              "      width: 32px;\n",
              "    }\n",
              "\n",
              "    .colab-df-convert:hover {\n",
              "      background-color: #E2EBFA;\n",
              "      box-shadow: 0px 1px 2px rgba(60, 64, 67, 0.3), 0px 1px 3px 1px rgba(60, 64, 67, 0.15);\n",
              "      fill: #174EA6;\n",
              "    }\n",
              "\n",
              "    [theme=dark] .colab-df-convert {\n",
              "      background-color: #3B4455;\n",
              "      fill: #D2E3FC;\n",
              "    }\n",
              "\n",
              "    [theme=dark] .colab-df-convert:hover {\n",
              "      background-color: #434B5C;\n",
              "      box-shadow: 0px 1px 3px 1px rgba(0, 0, 0, 0.15);\n",
              "      filter: drop-shadow(0px 1px 2px rgba(0, 0, 0, 0.3));\n",
              "      fill: #FFFFFF;\n",
              "    }\n",
              "  </style>\n",
              "\n",
              "      <script>\n",
              "        const buttonEl =\n",
              "          document.querySelector('#df-463ad659-03e0-4dd2-98a8-f8a40d2bccb7 button.colab-df-convert');\n",
              "        buttonEl.style.display =\n",
              "          google.colab.kernel.accessAllowed ? 'block' : 'none';\n",
              "\n",
              "        async function convertToInteractive(key) {\n",
              "          const element = document.querySelector('#df-463ad659-03e0-4dd2-98a8-f8a40d2bccb7');\n",
              "          const dataTable =\n",
              "            await google.colab.kernel.invokeFunction('convertToInteractive',\n",
              "                                                     [key], {});\n",
              "          if (!dataTable) return;\n",
              "\n",
              "          const docLinkHtml = 'Like what you see? Visit the ' +\n",
              "            '<a target=\"_blank\" href=https://colab.research.google.com/notebooks/data_table.ipynb>data table notebook</a>'\n",
              "            + ' to learn more about interactive tables.';\n",
              "          element.innerHTML = '';\n",
              "          dataTable['output_type'] = 'display_data';\n",
              "          await google.colab.output.renderOutput(dataTable, element);\n",
              "          const docLink = document.createElement('div');\n",
              "          docLink.innerHTML = docLinkHtml;\n",
              "          element.appendChild(docLink);\n",
              "        }\n",
              "      </script>\n",
              "    </div>\n",
              "  </div>\n",
              "  "
            ],
            "text/plain": [
              "     timestamp  Count    Open    High  ...      VWAP    Target  dia_semana  hora\n",
              "1   1514764860    5.0  8.5300  8.5300  ...  8.530000 -0.014399           0     0\n",
              "9   1514764920    7.0  8.5300  8.5300  ...  8.520215 -0.015875           0     0\n",
              "17  1514764980   45.0  8.5065  8.5299  ...  8.501394 -0.015410           0     0\n",
              "25  1514765040   14.0  8.5009  8.5066  ...  8.479810 -0.012524           0     0\n",
              "33  1514765100    5.0  8.5007  8.5007  ...  8.458435 -0.005940           0     0\n",
              "\n",
              "[5 rows x 11 columns]"
            ]
          },
          "metadata": {},
          "execution_count": 15
        }
      ],
      "source": [
        "assets[0].head()"
      ]
    },
    {
      "cell_type": "markdown",
      "metadata": {
        "id": "p0K1nMDsJgma"
      },
      "source": [
        "# 2. Tratamento inicial"
      ]
    },
    {
      "cell_type": "markdown",
      "metadata": {
        "id": "i3PIoPkrJgma"
      },
      "source": [
        "## 2.1 Timestamp como index"
      ]
    },
    {
      "cell_type": "code",
      "execution_count": 16,
      "metadata": {
        "id": "2zg-mOvLJgmb"
      },
      "outputs": [],
      "source": [
        "for asset in assets:\n",
        "    assets[asset] = assets[asset].set_index('timestamp').sort_index()"
      ]
    },
    {
      "cell_type": "code",
      "execution_count": 17,
      "metadata": {
        "colab": {
          "base_uri": "https://localhost:8080/",
          "height": 238
        },
        "id": "EaiKcWnbJgmb",
        "outputId": "5b3407ce-cb9c-465e-8b2d-bacfddcf32fc"
      },
      "outputs": [
        {
          "output_type": "execute_result",
          "data": {
            "text/html": [
              "\n",
              "  <div id=\"df-4bd722b7-c91e-4980-8f32-e77ed2e8e75d\">\n",
              "    <div class=\"colab-df-container\">\n",
              "      <div>\n",
              "<style scoped>\n",
              "    .dataframe tbody tr th:only-of-type {\n",
              "        vertical-align: middle;\n",
              "    }\n",
              "\n",
              "    .dataframe tbody tr th {\n",
              "        vertical-align: top;\n",
              "    }\n",
              "\n",
              "    .dataframe thead th {\n",
              "        text-align: right;\n",
              "    }\n",
              "</style>\n",
              "<table border=\"1\" class=\"dataframe\">\n",
              "  <thead>\n",
              "    <tr style=\"text-align: right;\">\n",
              "      <th></th>\n",
              "      <th>Count</th>\n",
              "      <th>Open</th>\n",
              "      <th>High</th>\n",
              "      <th>Low</th>\n",
              "      <th>Close</th>\n",
              "      <th>Volume</th>\n",
              "      <th>VWAP</th>\n",
              "      <th>Target</th>\n",
              "      <th>dia_semana</th>\n",
              "      <th>hora</th>\n",
              "    </tr>\n",
              "    <tr>\n",
              "      <th>timestamp</th>\n",
              "      <th></th>\n",
              "      <th></th>\n",
              "      <th></th>\n",
              "      <th></th>\n",
              "      <th></th>\n",
              "      <th></th>\n",
              "      <th></th>\n",
              "      <th></th>\n",
              "      <th></th>\n",
              "      <th></th>\n",
              "    </tr>\n",
              "  </thead>\n",
              "  <tbody>\n",
              "    <tr>\n",
              "      <th>1514764860</th>\n",
              "      <td>5.0</td>\n",
              "      <td>8.5300</td>\n",
              "      <td>8.5300</td>\n",
              "      <td>8.5300</td>\n",
              "      <td>8.5300</td>\n",
              "      <td>78.38</td>\n",
              "      <td>8.530000</td>\n",
              "      <td>-0.014399</td>\n",
              "      <td>0</td>\n",
              "      <td>0</td>\n",
              "    </tr>\n",
              "    <tr>\n",
              "      <th>1514764920</th>\n",
              "      <td>7.0</td>\n",
              "      <td>8.5300</td>\n",
              "      <td>8.5300</td>\n",
              "      <td>8.5145</td>\n",
              "      <td>8.5145</td>\n",
              "      <td>71.39</td>\n",
              "      <td>8.520215</td>\n",
              "      <td>-0.015875</td>\n",
              "      <td>0</td>\n",
              "      <td>0</td>\n",
              "    </tr>\n",
              "    <tr>\n",
              "      <th>1514764980</th>\n",
              "      <td>45.0</td>\n",
              "      <td>8.5065</td>\n",
              "      <td>8.5299</td>\n",
              "      <td>8.4848</td>\n",
              "      <td>8.4848</td>\n",
              "      <td>1546.82</td>\n",
              "      <td>8.501394</td>\n",
              "      <td>-0.015410</td>\n",
              "      <td>0</td>\n",
              "      <td>0</td>\n",
              "    </tr>\n",
              "    <tr>\n",
              "      <th>1514765040</th>\n",
              "      <td>14.0</td>\n",
              "      <td>8.5009</td>\n",
              "      <td>8.5066</td>\n",
              "      <td>8.4744</td>\n",
              "      <td>8.5009</td>\n",
              "      <td>125.80</td>\n",
              "      <td>8.479810</td>\n",
              "      <td>-0.012524</td>\n",
              "      <td>0</td>\n",
              "      <td>0</td>\n",
              "    </tr>\n",
              "    <tr>\n",
              "      <th>1514765100</th>\n",
              "      <td>5.0</td>\n",
              "      <td>8.5007</td>\n",
              "      <td>8.5007</td>\n",
              "      <td>8.4560</td>\n",
              "      <td>8.4560</td>\n",
              "      <td>125.01</td>\n",
              "      <td>8.458435</td>\n",
              "      <td>-0.005940</td>\n",
              "      <td>0</td>\n",
              "      <td>0</td>\n",
              "    </tr>\n",
              "  </tbody>\n",
              "</table>\n",
              "</div>\n",
              "      <button class=\"colab-df-convert\" onclick=\"convertToInteractive('df-4bd722b7-c91e-4980-8f32-e77ed2e8e75d')\"\n",
              "              title=\"Convert this dataframe to an interactive table.\"\n",
              "              style=\"display:none;\">\n",
              "        \n",
              "  <svg xmlns=\"http://www.w3.org/2000/svg\" height=\"24px\"viewBox=\"0 0 24 24\"\n",
              "       width=\"24px\">\n",
              "    <path d=\"M0 0h24v24H0V0z\" fill=\"none\"/>\n",
              "    <path d=\"M18.56 5.44l.94 2.06.94-2.06 2.06-.94-2.06-.94-.94-2.06-.94 2.06-2.06.94zm-11 1L8.5 8.5l.94-2.06 2.06-.94-2.06-.94L8.5 2.5l-.94 2.06-2.06.94zm10 10l.94 2.06.94-2.06 2.06-.94-2.06-.94-.94-2.06-.94 2.06-2.06.94z\"/><path d=\"M17.41 7.96l-1.37-1.37c-.4-.4-.92-.59-1.43-.59-.52 0-1.04.2-1.43.59L10.3 9.45l-7.72 7.72c-.78.78-.78 2.05 0 2.83L4 21.41c.39.39.9.59 1.41.59.51 0 1.02-.2 1.41-.59l7.78-7.78 2.81-2.81c.8-.78.8-2.07 0-2.86zM5.41 20L4 18.59l7.72-7.72 1.47 1.35L5.41 20z\"/>\n",
              "  </svg>\n",
              "      </button>\n",
              "      \n",
              "  <style>\n",
              "    .colab-df-container {\n",
              "      display:flex;\n",
              "      flex-wrap:wrap;\n",
              "      gap: 12px;\n",
              "    }\n",
              "\n",
              "    .colab-df-convert {\n",
              "      background-color: #E8F0FE;\n",
              "      border: none;\n",
              "      border-radius: 50%;\n",
              "      cursor: pointer;\n",
              "      display: none;\n",
              "      fill: #1967D2;\n",
              "      height: 32px;\n",
              "      padding: 0 0 0 0;\n",
              "      width: 32px;\n",
              "    }\n",
              "\n",
              "    .colab-df-convert:hover {\n",
              "      background-color: #E2EBFA;\n",
              "      box-shadow: 0px 1px 2px rgba(60, 64, 67, 0.3), 0px 1px 3px 1px rgba(60, 64, 67, 0.15);\n",
              "      fill: #174EA6;\n",
              "    }\n",
              "\n",
              "    [theme=dark] .colab-df-convert {\n",
              "      background-color: #3B4455;\n",
              "      fill: #D2E3FC;\n",
              "    }\n",
              "\n",
              "    [theme=dark] .colab-df-convert:hover {\n",
              "      background-color: #434B5C;\n",
              "      box-shadow: 0px 1px 3px 1px rgba(0, 0, 0, 0.15);\n",
              "      filter: drop-shadow(0px 1px 2px rgba(0, 0, 0, 0.3));\n",
              "      fill: #FFFFFF;\n",
              "    }\n",
              "  </style>\n",
              "\n",
              "      <script>\n",
              "        const buttonEl =\n",
              "          document.querySelector('#df-4bd722b7-c91e-4980-8f32-e77ed2e8e75d button.colab-df-convert');\n",
              "        buttonEl.style.display =\n",
              "          google.colab.kernel.accessAllowed ? 'block' : 'none';\n",
              "\n",
              "        async function convertToInteractive(key) {\n",
              "          const element = document.querySelector('#df-4bd722b7-c91e-4980-8f32-e77ed2e8e75d');\n",
              "          const dataTable =\n",
              "            await google.colab.kernel.invokeFunction('convertToInteractive',\n",
              "                                                     [key], {});\n",
              "          if (!dataTable) return;\n",
              "\n",
              "          const docLinkHtml = 'Like what you see? Visit the ' +\n",
              "            '<a target=\"_blank\" href=https://colab.research.google.com/notebooks/data_table.ipynb>data table notebook</a>'\n",
              "            + ' to learn more about interactive tables.';\n",
              "          element.innerHTML = '';\n",
              "          dataTable['output_type'] = 'display_data';\n",
              "          await google.colab.output.renderOutput(dataTable, element);\n",
              "          const docLink = document.createElement('div');\n",
              "          docLink.innerHTML = docLinkHtml;\n",
              "          element.appendChild(docLink);\n",
              "        }\n",
              "      </script>\n",
              "    </div>\n",
              "  </div>\n",
              "  "
            ],
            "text/plain": [
              "            Count    Open    High     Low  ...      VWAP    Target  dia_semana  hora\n",
              "timestamp                                  ...                                      \n",
              "1514764860    5.0  8.5300  8.5300  8.5300  ...  8.530000 -0.014399           0     0\n",
              "1514764920    7.0  8.5300  8.5300  8.5145  ...  8.520215 -0.015875           0     0\n",
              "1514764980   45.0  8.5065  8.5299  8.4848  ...  8.501394 -0.015410           0     0\n",
              "1514765040   14.0  8.5009  8.5066  8.4744  ...  8.479810 -0.012524           0     0\n",
              "1514765100    5.0  8.5007  8.5007  8.4560  ...  8.458435 -0.005940           0     0\n",
              "\n",
              "[5 rows x 10 columns]"
            ]
          },
          "metadata": {},
          "execution_count": 17
        }
      ],
      "source": [
        "assets[0].head()"
      ]
    },
    {
      "cell_type": "markdown",
      "metadata": {
        "id": "zNDSg4kpJgmb"
      },
      "source": [
        "## 2.2 Tratamento dos missings"
      ]
    },
    {
      "cell_type": "code",
      "execution_count": 18,
      "metadata": {
        "id": "UNNU0jaBJgmc"
      },
      "outputs": [],
      "source": [
        "# Função para uso futuro\n",
        "def preenche_missing():\n",
        "    return 0"
      ]
    },
    {
      "cell_type": "code",
      "execution_count": 19,
      "metadata": {
        "id": "vCEKqeCFJgmc"
      },
      "outputs": [],
      "source": [
        "for asset in assets:\n",
        "    assets[asset] = assets[asset].reindex(range(assets[asset].index[0], assets[asset].index[-1] + 60, 60), method='pad').replace([np.inf, -np.inf], np.nan)"
      ]
    },
    {
      "cell_type": "code",
      "execution_count": 20,
      "metadata": {
        "colab": {
          "base_uri": "https://localhost:8080/"
        },
        "id": "SUunCfQEJgmc",
        "outputId": "d1c5c193-dba0-422c-be9d-3f73db59eb55"
      },
      "outputs": [
        {
          "output_type": "stream",
          "name": "stdout",
          "text": [
            "<class 'pandas.core.frame.DataFrame'>\n",
            "RangeIndex: 1956960 entries, 1514764860 to 1632182400\n",
            "Data columns (total 10 columns):\n",
            " #   Column      Non-Null Count    Dtype  \n",
            "---  ------      --------------    -----  \n",
            " 0   Count       1956960 non-null  float64\n",
            " 1   Open        1956960 non-null  float64\n",
            " 2   High        1956960 non-null  float64\n",
            " 3   Low         1956960 non-null  float64\n",
            " 4   Close       1956960 non-null  float64\n",
            " 5   Volume      1956960 non-null  float64\n",
            " 6   VWAP        1956960 non-null  float64\n",
            " 7   Target      1929248 non-null  float64\n",
            " 8   dia_semana  1956960 non-null  int64  \n",
            " 9   hora        1956960 non-null  int64  \n",
            "dtypes: float64(8), int64(2)\n",
            "memory usage: 149.3 MB\n"
          ]
        }
      ],
      "source": [
        "assets[0].info(show_counts=True)"
      ]
    },
    {
      "cell_type": "code",
      "execution_count": 21,
      "metadata": {
        "colab": {
          "base_uri": "https://localhost:8080/"
        },
        "id": "2xZ9ALiuJgmd",
        "outputId": "8c80411f-9922-43e7-da9a-154aba7014fd"
      },
      "outputs": [
        {
          "output_type": "stream",
          "name": "stdout",
          "text": [
            "-----2-----\n",
            "60    1956959\n",
            "Name: timestamp, dtype: int64\n",
            "-----0-----\n",
            "60    1956959\n",
            "Name: timestamp, dtype: int64\n",
            "-----1-----\n",
            "60    1956959\n",
            "Name: timestamp, dtype: int64\n",
            "-----5-----\n",
            "60    1956959\n",
            "Name: timestamp, dtype: int64\n",
            "-----7-----\n",
            "60    1956959\n",
            "Name: timestamp, dtype: int64\n",
            "-----6-----\n",
            "60    1956959\n",
            "Name: timestamp, dtype: int64\n",
            "-----9-----\n",
            "60    1956959\n",
            "Name: timestamp, dtype: int64\n",
            "-----11-----\n",
            "60    1956959\n",
            "Name: timestamp, dtype: int64\n",
            "-----13-----\n",
            "60    1903823\n",
            "Name: timestamp, dtype: int64\n",
            "-----12-----\n",
            "60    1889287\n",
            "Name: timestamp, dtype: int64\n",
            "-----3-----\n",
            "60    1803769\n",
            "Name: timestamp, dtype: int64\n",
            "-----8-----\n",
            "60    1772153\n",
            "Name: timestamp, dtype: int64\n",
            "-----10-----\n",
            "60    1770279\n",
            "Name: timestamp, dtype: int64\n",
            "-----4-----\n",
            "60    1285046\n",
            "Name: timestamp, dtype: int64\n"
          ]
        }
      ],
      "source": [
        "for asset in assets:\n",
        "    print(f'-----{asset}-----')\n",
        "    print((assets[asset].index[1:] - assets[asset].index[:-1]).value_counts().head())"
      ]
    },
    {
      "cell_type": "markdown",
      "metadata": {
        "id": "LdwdOcp1Jgmd"
      },
      "source": [
        "# 3. Criação de features"
      ]
    },
    {
      "cell_type": "markdown",
      "metadata": {
        "id": "CQQmGzksJgmd"
      },
      "source": [
        "## 3.1 Features gerais - vai ter para todos assets"
      ]
    },
    {
      "cell_type": "markdown",
      "metadata": {
        "id": "wdNX7yxzJgmd"
      },
      "source": [
        "Fazer a construção de features usando funções, pra facilitar a aplicação nos assets"
      ]
    },
    {
      "cell_type": "markdown",
      "metadata": {
        "id": "nDjWZLg_Jgme"
      },
      "source": [
        "Features já existentes\n",
        "* timestamp: All timestamps are returned as second Unix timestamps (the number of seconds elapsed since 1970-01-01 00:00:00.000 UTC). Timestamps in this dataset are multiple of 60, indicating minute-by-minute data.\n",
        "* Asset_ID: The asset ID corresponding to one of the crytocurrencies (e.g. Asset_ID = 1 for Bitcoin). The mapping from Asset_ID to crypto asset is contained in asset_details.csv.\n",
        "* Count: Total number of trades in the time interval (last minute).\n",
        "* Open: Opening price of the time interval (in USD).\n",
        "* High: Highest price reached during time interval (in USD).\n",
        "* Low: Lowest price reached during time interval (in USD).\n",
        "* Close: Closing price of the time interval (in USD).\n",
        "* Volume: Quantity of asset bought or sold, displayed in base currency USD.\n",
        "* VWAP: The average price of the asset over the time interval, weighted by volume. VWAP is an aggregated form of trade data.\n",
        "* Target: Residual log-returns for the asset over a 15 minute horizon."
      ]
    },
    {
      "cell_type": "markdown",
      "metadata": {
        "id": "I9qvB2EnJgme"
      },
      "source": [
        "Ideias de features\n",
        "* Dia da semana\n",
        "* Feriados Americanos e Chineses\n",
        "* Volatilidade exponencial - http://ferramentasdoinvestidor.com.br/gestao-de-risco/volatilidade-ewma-no-excel/\n",
        "* Indice de força relativa\n",
        "* Médias moveis\n",
        "* Bandas de bollinger\n",
        "* MACD\n",
        "* Agulhada do DIDI - https://www.investimentonabolsa.com/2014/11/saiba-utilizar-agulhada-do-didi.html\n",
        "* Analise de fourrier - https://journals.sagepub.com/doi/pdf/10.5772/56839\n",
        "* Nuvens de ichimoku - https://www.investopedia.com/terms/i/ichimoku-cloud.asp\n",
        "* numero de transações de bitcoin - observar interesse do publico em cripto"
      ]
    },
    {
      "cell_type": "code",
      "execution_count": 22,
      "metadata": {
        "id": "2it9aTEzJgme"
      },
      "outputs": [],
      "source": [
        "#def media_movel_30(precos):\n",
        "#    return precos.rolling(30).mean()\n",
        "\n",
        "def media_movel(precos,intervalo):\n",
        "    return precos.rolling(intervalo).mean().astype(\"float64\")"
      ]
    },
    {
      "cell_type": "code",
      "execution_count": 23,
      "metadata": {
        "id": "kQpAdvJfJgmf"
      },
      "outputs": [],
      "source": [
        "def get_bollinger_bands(dfbol, rate=30):\n",
        "    sma = np.array(dfbol.rolling(rate).mean())\n",
        "    std = np.array(dfbol.rolling(rate).std())\n",
        "    boll_up =  sma + std * 2 # Calculate top band\n",
        "    boll_down = sma - std * 2 # Calculate bottom band\n",
        "    boll=np.zeros(dfbol.size)\n",
        "    preco=np.array(dfbol)\n",
        "    indexes = list(range(dfbol.size))\n",
        "    for i in indexes:\n",
        "        if boll_up[i]<preco[i]:\n",
        "            boll[i]=1\n",
        "        elif boll_down[i]>preco[i]:\n",
        "            boll[i]=-1\n",
        "        else:\n",
        "            boll[i]=0\n",
        "    return boll"
      ]
    },
    {
      "cell_type": "code",
      "execution_count": 24,
      "metadata": {
        "id": "IEZJfh2hJgmf"
      },
      "outputs": [],
      "source": [
        "def agulhada_didi(dfagu):\n",
        "    didi3 = np.array(dfagu.rolling(3).mean())\n",
        "    didi8 = np.array(dfagu.rolling(8).mean())\n",
        "    didi20 = np.array(dfagu.rolling(20).mean())\n",
        "    Didi=np.zeros(dfagu.size)\n",
        "    indexes = list(range(dfagu.size))\n",
        "    for i in indexes:\n",
        "        if ((didi3[i]>didi8[i]) & (didi8[i]>didi20[i])):\n",
        "            Didi[i]=1\n",
        "        else:\n",
        "            Didi[i]=0\n",
        "    return Didi"
      ]
    },
    {
      "cell_type": "code",
      "execution_count": 25,
      "metadata": {
        "id": "Q7zqFZ5AJgmf"
      },
      "outputs": [],
      "source": [
        "    def MACD(dfmacd):\n",
        "        exp1 = dfmacd.ewm(span=12, adjust=False).mean()\n",
        "        exp2 = dfmacd.ewm(span=26, adjust=False).mean()\n",
        "        diff = exp1-exp2\n",
        "        diff_np=np.array(diff)\n",
        "        exp3 = np.array(diff.ewm(span=9, adjust=False).mean())\n",
        "        MACD=np.zeros(dfmacd.size)\n",
        "        indexes = list(range(dfmacd.size))\n",
        "        for i in indexes:\n",
        "            if (diff_np[i]>=exp3[i]):\n",
        "                MACD[i]=1\n",
        "            else:\n",
        "                MACD[i]=-1        \n",
        "        return MACD"
      ]
    },
    {
      "cell_type": "code",
      "execution_count": 26,
      "metadata": {
        "id": "kFcFSv03Jgmf"
      },
      "outputs": [],
      "source": [
        "def willR (dfw,dfhigh,dflow,bins):\n",
        "    high = [np.array(dfhigh.rolling(bins).max(),dtype=float)-np.array(dfw,dtype=float)]\n",
        "    low = [np.array(dfhigh.rolling(bins).max(),dtype=float)-np.array(dflow.rolling(bins).min(),dtype=float)]\n",
        "    #\n",
        "    willr = np.transpose(np.nan_to_num(np.true_divide(high,low,out=np.zeros_like(high), where=low!=0)*(-100)))\n",
        "    \n",
        "    willr_flag=np.zeros(dfw.size)\n",
        "    indexes = list(range(dfw.size))\n",
        "    for i in indexes:\n",
        "        if (willr[i]>-20):\n",
        "            willr_flag[i]=1\n",
        "        elif (willr[i]<-80):\n",
        "            willr_flag[i]=-1\n",
        "        else:\n",
        "            willr_flag[i]=0\n",
        "\n",
        "    return willr,willr_flag"
      ]
    },
    {
      "cell_type": "code",
      "execution_count": 27,
      "metadata": {
        "id": "yVtj2RblJgmg"
      },
      "outputs": [],
      "source": [
        "def log_return(series, periods=1):\n",
        "    return np.log(series.astype(\"float64\")).diff(periods=periods)"
      ]
    },
    {
      "cell_type": "code",
      "source": [
        "def upper_shadow_percent(df): return (df['High'] / np.maximum(df['Close'], df['Open'])) -1\n",
        "def lower_shadow_percent(df): return (np.minimum(df['Close'], df['Open']) / df['Low']) -1\n",
        "\n",
        "def upper_shadow_15_perc(df): return (df['High'].rolling(window=15, min_periods=1).max() / np.maximum(df['Close'], df['Open']).shift(15)) -1\n",
        "def lower_shadow_15_perc(df): return (np.minimum(df['Close'], df['Open']).shift(15) / df['Low'].rolling(window=15, min_periods=1).min()) -1"
      ],
      "metadata": {
        "id": "rV3FcnAUWG8K"
      },
      "execution_count": 28,
      "outputs": []
    },
    {
      "cell_type": "code",
      "execution_count": 28,
      "metadata": {
        "id": "AmMrVddnJgmg"
      },
      "outputs": [],
      "source": [
        ""
      ]
    },
    {
      "cell_type": "code",
      "execution_count": 29,
      "metadata": {
        "id": "38Lk6IpjJgmg"
      },
      "outputs": [],
      "source": [
        "for base in assets:\n",
        "    \n",
        "    #simple moving average\n",
        "    for i in [7,15,30,60,180]:\n",
        "      assets[base]['SMA_'+str(i)] = media_movel(assets[base]['Close'],i)\n",
        "      assets[base]['SMA_'+str(i)].fillna(method='bfill',inplace=True)\n",
        "    \n",
        "    #log simple moving average\n",
        "    for i in [7,14,30,60,180]:\n",
        "      assets[base]['log_SMA_'+str(i)] = np.log(media_movel(assets[base]['Close'],i))\n",
        "      assets[base]['log_SMA_'+str(i)].fillna(method='bfill',inplace=True)\n",
        "\n",
        "    \n",
        "    #log cumulative moving average\n",
        "    assets[base]['log_CMA_30'] = np.log(assets[base]['Close'].expanding(30).mean())\n",
        "    assets[base]['log_CMA_15'] = np.log(assets[base]['Close'].expanding(15).mean())\n",
        "    assets[base]['log_CMA_30'].fillna(method='bfill',inplace=True)\n",
        "    assets[base]['log_CMA_15'].fillna(method='bfill',inplace=True)\n",
        "\n",
        "    \n",
        "    #log exponential moving average\n",
        "    assets[base]['log_EWM_30'] = np.log(assets[base]['Close'].ewm(span=30).mean())\n",
        "    assets[base]['log_EWM_15'] = np.log(assets[base]['Close'].ewm(span=15).mean())\n",
        "    assets[base]['log_EWM_30'].fillna(method='bfill',inplace=True)\n",
        "    assets[base]['log_EWM_15'].fillna(method='bfill',inplace=True)\n",
        "\n",
        "\n",
        "\n",
        "    #Bollinger\n",
        "    assets[base]['boll_30'] = get_bollinger_bands(assets[base]['Close'],30)\n",
        "    #DIDI Index\n",
        "    assets[base]['Didi'] = agulhada_didi(assets[base]['Close'])\n",
        "    #MACD\n",
        "    assets[base]['MACD'] = MACD(assets[base]['Close'])\n",
        "    #Williams R\n",
        "    assets[base]['willr'],assets[base]['willr_flag'] = willR(assets[base]['Close'],assets[base]['High'],assets[base]['Low'],14)\n",
        "    #Log do Retorno\n",
        "    assets[base][\"log_ret\"]=log_return(assets[base]['Close'])[1:]\n",
        "    assets[base]['log_ret'].fillna(method='bfill',inplace=True)\n",
        "\n",
        "    assets[base][\"upper_shadow_perc\"]=upper_shadow_percent(assets[base])[1:]\n",
        "    assets[base]['upper_shadow_perc'].fillna(method='bfill',inplace=True)\n",
        "    assets[base][\"lower_shadow_perc\"]=lower_shadow_percent(assets[base])[1:]\n",
        "    assets[base]['lower_shadow_perc'].fillna(method='bfill',inplace=True)\n",
        "\n",
        "    assets[base][\"upper_shadow_15_perc\"]=upper_shadow_15_perc(assets[base])[1:]\n",
        "    assets[base]['upper_shadow_15_perc'].fillna(method='bfill',inplace=True)\n",
        "\n",
        "    assets[base][\"lower_shadow_15_perc\"]=lower_shadow_15_perc(assets[base])[1:]\n",
        "    assets[base]['lower_shadow_15_perc'].fillna(method='bfill',inplace=True)\n",
        "\n",
        "    assets[base][\"Target\"].fillna(method='pad',inplace=True)\n",
        "\n"
      ]
    },
    {
      "cell_type": "code",
      "source": [
        "for base in assets:\n",
        "  assets[base]=reduce_mem_usage(assets[base])"
      ],
      "metadata": {
        "colab": {
          "base_uri": "https://localhost:8080/"
        },
        "id": "T6YOIlVqD7LQ",
        "outputId": "f545a0e6-9aef-4b1b-fa7e-e6034d678d32"
      },
      "execution_count": 30,
      "outputs": [
        {
          "output_type": "stream",
          "name": "stdout",
          "text": [
            "Mem. usage decreased to 123.18 Mb (75.7% reduction)\n",
            "Mem. usage decreased to 126.91 Mb (75.0% reduction)\n",
            "Mem. usage decreased to 126.91 Mb (75.0% reduction)\n",
            "Mem. usage decreased to 130.64 Mb (74.3% reduction)\n",
            "Mem. usage decreased to 130.64 Mb (74.3% reduction)\n",
            "Mem. usage decreased to 130.64 Mb (74.3% reduction)\n",
            "Mem. usage decreased to 126.91 Mb (75.0% reduction)\n",
            "Mem. usage decreased to 123.18 Mb (75.7% reduction)\n",
            "Mem. usage decreased to 123.46 Mb (75.0% reduction)\n",
            "Mem. usage decreased to 122.52 Mb (75.0% reduction)\n",
            "Mem. usage decreased to 120.41 Mb (74.3% reduction)\n",
            "Mem. usage decreased to 114.92 Mb (75.0% reduction)\n",
            "Mem. usage decreased to 111.43 Mb (75.7% reduction)\n",
            "Mem. usage decreased to 85.79 Mb (74.3% reduction)\n"
          ]
        }
      ]
    },
    {
      "cell_type": "code",
      "source": [
        "del base_treino"
      ],
      "metadata": {
        "id": "hCfIKLplRDHb"
      },
      "execution_count": 31,
      "outputs": []
    },
    {
      "cell_type": "code",
      "source": [
        "pk.dump(assets,open('gdrive/My Drive/Colab Notebooks/Kaggle/g_research_competition/base_mod.pkl','wb'))"
      ],
      "metadata": {
        "id": "-_Etz41OGnZJ"
      },
      "execution_count": null,
      "outputs": []
    },
    {
      "cell_type": "code",
      "execution_count": 32,
      "metadata": {
        "colab": {
          "base_uri": "https://localhost:8080/",
          "height": 519
        },
        "id": "8eYm_uvGJgmg",
        "outputId": "cb3ecac8-c67a-4aad-f250-227221d99c52"
      },
      "outputs": [
        {
          "output_type": "execute_result",
          "data": {
            "text/html": [
              "\n",
              "  <div id=\"df-1b76c058-257a-4b3c-b95f-8fc0b3753e9a\">\n",
              "    <div class=\"colab-df-container\">\n",
              "      <div>\n",
              "<style scoped>\n",
              "    .dataframe tbody tr th:only-of-type {\n",
              "        vertical-align: middle;\n",
              "    }\n",
              "\n",
              "    .dataframe tbody tr th {\n",
              "        vertical-align: top;\n",
              "    }\n",
              "\n",
              "    .dataframe thead th {\n",
              "        text-align: right;\n",
              "    }\n",
              "</style>\n",
              "<table border=\"1\" class=\"dataframe\">\n",
              "  <thead>\n",
              "    <tr style=\"text-align: right;\">\n",
              "      <th></th>\n",
              "      <th>Count</th>\n",
              "      <th>Open</th>\n",
              "      <th>High</th>\n",
              "      <th>Low</th>\n",
              "      <th>Close</th>\n",
              "      <th>Volume</th>\n",
              "      <th>VWAP</th>\n",
              "      <th>Target</th>\n",
              "      <th>dia_semana</th>\n",
              "      <th>hora</th>\n",
              "      <th>SMA_7</th>\n",
              "      <th>SMA_15</th>\n",
              "      <th>SMA_30</th>\n",
              "      <th>SMA_60</th>\n",
              "      <th>SMA_180</th>\n",
              "      <th>log_SMA_7</th>\n",
              "      <th>log_SMA_14</th>\n",
              "      <th>log_SMA_30</th>\n",
              "      <th>log_SMA_60</th>\n",
              "      <th>log_SMA_180</th>\n",
              "      <th>log_CMA_30</th>\n",
              "      <th>log_CMA_15</th>\n",
              "      <th>log_EWM_30</th>\n",
              "      <th>log_EWM_15</th>\n",
              "      <th>boll_30</th>\n",
              "      <th>Didi</th>\n",
              "      <th>MACD</th>\n",
              "      <th>willr</th>\n",
              "      <th>willr_flag</th>\n",
              "      <th>log_ret</th>\n",
              "      <th>upper_shadow_perc</th>\n",
              "      <th>lower_shadow_perc</th>\n",
              "      <th>upper_shadow_15_perc</th>\n",
              "      <th>lower_shadow_15_perc</th>\n",
              "    </tr>\n",
              "    <tr>\n",
              "      <th>timestamp</th>\n",
              "      <th></th>\n",
              "      <th></th>\n",
              "      <th></th>\n",
              "      <th></th>\n",
              "      <th></th>\n",
              "      <th></th>\n",
              "      <th></th>\n",
              "      <th></th>\n",
              "      <th></th>\n",
              "      <th></th>\n",
              "      <th></th>\n",
              "      <th></th>\n",
              "      <th></th>\n",
              "      <th></th>\n",
              "      <th></th>\n",
              "      <th></th>\n",
              "      <th></th>\n",
              "      <th></th>\n",
              "      <th></th>\n",
              "      <th></th>\n",
              "      <th></th>\n",
              "      <th></th>\n",
              "      <th></th>\n",
              "      <th></th>\n",
              "      <th></th>\n",
              "      <th></th>\n",
              "      <th></th>\n",
              "      <th></th>\n",
              "      <th></th>\n",
              "      <th></th>\n",
              "      <th></th>\n",
              "      <th></th>\n",
              "      <th></th>\n",
              "      <th></th>\n",
              "    </tr>\n",
              "  </thead>\n",
              "  <tbody>\n",
              "    <tr>\n",
              "      <th>1611161820</th>\n",
              "      <td>272.0</td>\n",
              "      <td>41.968750</td>\n",
              "      <td>42.000000</td>\n",
              "      <td>41.906250</td>\n",
              "      <td>42.000000</td>\n",
              "      <td>4713.448242</td>\n",
              "      <td>41.968750</td>\n",
              "      <td>-0.001318</td>\n",
              "      <td>2</td>\n",
              "      <td>16</td>\n",
              "      <td>42.031250</td>\n",
              "      <td>42.000000</td>\n",
              "      <td>41.875000</td>\n",
              "      <td>41.406250</td>\n",
              "      <td>41.406250</td>\n",
              "      <td>3.738281</td>\n",
              "      <td>3.738281</td>\n",
              "      <td>3.734375</td>\n",
              "      <td>3.722656</td>\n",
              "      <td>3.722656</td>\n",
              "      <td>2.884766</td>\n",
              "      <td>2.884766</td>\n",
              "      <td>3.734375</td>\n",
              "      <td>3.736328</td>\n",
              "      <td>0.0</td>\n",
              "      <td>0.0</td>\n",
              "      <td>-1.0</td>\n",
              "      <td>-49.718750</td>\n",
              "      <td>0.0</td>\n",
              "      <td>-0.000714</td>\n",
              "      <td>0.000600</td>\n",
              "      <td>0.001637</td>\n",
              "      <td>0.004936</td>\n",
              "      <td>0.004776</td>\n",
              "    </tr>\n",
              "    <tr>\n",
              "      <th>1612950000</th>\n",
              "      <td>2374.0</td>\n",
              "      <td>143.500000</td>\n",
              "      <td>143.625000</td>\n",
              "      <td>142.500000</td>\n",
              "      <td>142.750000</td>\n",
              "      <td>13368.830078</td>\n",
              "      <td>143.000000</td>\n",
              "      <td>-0.006847</td>\n",
              "      <td>2</td>\n",
              "      <td>9</td>\n",
              "      <td>144.000000</td>\n",
              "      <td>144.625000</td>\n",
              "      <td>145.500000</td>\n",
              "      <td>145.625000</td>\n",
              "      <td>140.000000</td>\n",
              "      <td>4.968750</td>\n",
              "      <td>4.972656</td>\n",
              "      <td>4.980469</td>\n",
              "      <td>4.980469</td>\n",
              "      <td>4.941406</td>\n",
              "      <td>2.917969</td>\n",
              "      <td>2.917969</td>\n",
              "      <td>4.976562</td>\n",
              "      <td>4.972656</td>\n",
              "      <td>-1.0</td>\n",
              "      <td>0.0</td>\n",
              "      <td>-1.0</td>\n",
              "      <td>-95.750000</td>\n",
              "      <td>-1.0</td>\n",
              "      <td>-0.005753</td>\n",
              "      <td>0.001230</td>\n",
              "      <td>0.001117</td>\n",
              "      <td>-0.002850</td>\n",
              "      <td>0.025543</td>\n",
              "    </tr>\n",
              "    <tr>\n",
              "      <th>1593507720</th>\n",
              "      <td>13.0</td>\n",
              "      <td>15.382812</td>\n",
              "      <td>15.390625</td>\n",
              "      <td>15.382812</td>\n",
              "      <td>15.382812</td>\n",
              "      <td>282.950012</td>\n",
              "      <td>15.382812</td>\n",
              "      <td>0.002716</td>\n",
              "      <td>1</td>\n",
              "      <td>9</td>\n",
              "      <td>15.375000</td>\n",
              "      <td>15.382812</td>\n",
              "      <td>15.382812</td>\n",
              "      <td>15.375000</td>\n",
              "      <td>15.390625</td>\n",
              "      <td>2.732422</td>\n",
              "      <td>2.732422</td>\n",
              "      <td>2.732422</td>\n",
              "      <td>2.732422</td>\n",
              "      <td>2.734375</td>\n",
              "      <td>2.757812</td>\n",
              "      <td>2.757812</td>\n",
              "      <td>2.732422</td>\n",
              "      <td>2.732422</td>\n",
              "      <td>0.0</td>\n",
              "      <td>0.0</td>\n",
              "      <td>1.0</td>\n",
              "      <td>-20.296875</td>\n",
              "      <td>0.0</td>\n",
              "      <td>0.000026</td>\n",
              "      <td>0.000071</td>\n",
              "      <td>0.000032</td>\n",
              "      <td>0.000227</td>\n",
              "      <td>0.001360</td>\n",
              "    </tr>\n",
              "    <tr>\n",
              "      <th>1574024100</th>\n",
              "      <td>28.0</td>\n",
              "      <td>20.078125</td>\n",
              "      <td>20.093750</td>\n",
              "      <td>20.062500</td>\n",
              "      <td>20.093750</td>\n",
              "      <td>440.040009</td>\n",
              "      <td>20.078125</td>\n",
              "      <td>-0.000838</td>\n",
              "      <td>6</td>\n",
              "      <td>20</td>\n",
              "      <td>20.093750</td>\n",
              "      <td>20.125000</td>\n",
              "      <td>20.171875</td>\n",
              "      <td>20.171875</td>\n",
              "      <td>20.187500</td>\n",
              "      <td>3.000000</td>\n",
              "      <td>3.001953</td>\n",
              "      <td>3.003906</td>\n",
              "      <td>3.003906</td>\n",
              "      <td>3.003906</td>\n",
              "      <td>2.746094</td>\n",
              "      <td>2.746094</td>\n",
              "      <td>3.001953</td>\n",
              "      <td>3.001953</td>\n",
              "      <td>0.0</td>\n",
              "      <td>0.0</td>\n",
              "      <td>-1.0</td>\n",
              "      <td>-83.125000</td>\n",
              "      <td>-1.0</td>\n",
              "      <td>0.000503</td>\n",
              "      <td>0.000204</td>\n",
              "      <td>0.000633</td>\n",
              "      <td>0.000648</td>\n",
              "      <td>0.006855</td>\n",
              "    </tr>\n",
              "    <tr>\n",
              "      <th>1606353420</th>\n",
              "      <td>178.0</td>\n",
              "      <td>31.437500</td>\n",
              "      <td>31.500000</td>\n",
              "      <td>31.437500</td>\n",
              "      <td>31.468750</td>\n",
              "      <td>4273.525879</td>\n",
              "      <td>31.468750</td>\n",
              "      <td>0.001023</td>\n",
              "      <td>3</td>\n",
              "      <td>1</td>\n",
              "      <td>31.531250</td>\n",
              "      <td>31.609375</td>\n",
              "      <td>31.593750</td>\n",
              "      <td>31.593750</td>\n",
              "      <td>31.484375</td>\n",
              "      <td>3.451172</td>\n",
              "      <td>3.453125</td>\n",
              "      <td>3.453125</td>\n",
              "      <td>3.453125</td>\n",
              "      <td>3.449219</td>\n",
              "      <td>2.833984</td>\n",
              "      <td>2.833984</td>\n",
              "      <td>3.453125</td>\n",
              "      <td>3.451172</td>\n",
              "      <td>0.0</td>\n",
              "      <td>0.0</td>\n",
              "      <td>-1.0</td>\n",
              "      <td>-85.687500</td>\n",
              "      <td>-1.0</td>\n",
              "      <td>0.000855</td>\n",
              "      <td>0.001093</td>\n",
              "      <td>0.000309</td>\n",
              "      <td>0.007584</td>\n",
              "      <td>0.002417</td>\n",
              "    </tr>\n",
              "    <tr>\n",
              "      <th>...</th>\n",
              "      <td>...</td>\n",
              "      <td>...</td>\n",
              "      <td>...</td>\n",
              "      <td>...</td>\n",
              "      <td>...</td>\n",
              "      <td>...</td>\n",
              "      <td>...</td>\n",
              "      <td>...</td>\n",
              "      <td>...</td>\n",
              "      <td>...</td>\n",
              "      <td>...</td>\n",
              "      <td>...</td>\n",
              "      <td>...</td>\n",
              "      <td>...</td>\n",
              "      <td>...</td>\n",
              "      <td>...</td>\n",
              "      <td>...</td>\n",
              "      <td>...</td>\n",
              "      <td>...</td>\n",
              "      <td>...</td>\n",
              "      <td>...</td>\n",
              "      <td>...</td>\n",
              "      <td>...</td>\n",
              "      <td>...</td>\n",
              "      <td>...</td>\n",
              "      <td>...</td>\n",
              "      <td>...</td>\n",
              "      <td>...</td>\n",
              "      <td>...</td>\n",
              "      <td>...</td>\n",
              "      <td>...</td>\n",
              "      <td>...</td>\n",
              "      <td>...</td>\n",
              "      <td>...</td>\n",
              "    </tr>\n",
              "    <tr>\n",
              "      <th>1542381120</th>\n",
              "      <td>16.0</td>\n",
              "      <td>8.101562</td>\n",
              "      <td>8.101562</td>\n",
              "      <td>8.085938</td>\n",
              "      <td>8.085938</td>\n",
              "      <td>2540.989990</td>\n",
              "      <td>8.085938</td>\n",
              "      <td>-0.002024</td>\n",
              "      <td>4</td>\n",
              "      <td>15</td>\n",
              "      <td>8.101562</td>\n",
              "      <td>8.117188</td>\n",
              "      <td>8.140625</td>\n",
              "      <td>8.156250</td>\n",
              "      <td>8.156250</td>\n",
              "      <td>2.091797</td>\n",
              "      <td>2.093750</td>\n",
              "      <td>2.097656</td>\n",
              "      <td>2.099609</td>\n",
              "      <td>2.099609</td>\n",
              "      <td>2.478516</td>\n",
              "      <td>2.478516</td>\n",
              "      <td>2.095703</td>\n",
              "      <td>2.093750</td>\n",
              "      <td>0.0</td>\n",
              "      <td>0.0</td>\n",
              "      <td>-1.0</td>\n",
              "      <td>-92.000000</td>\n",
              "      <td>-1.0</td>\n",
              "      <td>-0.002348</td>\n",
              "      <td>0.000000</td>\n",
              "      <td>0.000433</td>\n",
              "      <td>0.000000</td>\n",
              "      <td>0.009171</td>\n",
              "    </tr>\n",
              "    <tr>\n",
              "      <th>1596454680</th>\n",
              "      <td>190.0</td>\n",
              "      <td>22.406250</td>\n",
              "      <td>22.437500</td>\n",
              "      <td>22.375000</td>\n",
              "      <td>22.406250</td>\n",
              "      <td>3874.399902</td>\n",
              "      <td>22.406250</td>\n",
              "      <td>-0.002296</td>\n",
              "      <td>0</td>\n",
              "      <td>11</td>\n",
              "      <td>22.390625</td>\n",
              "      <td>22.390625</td>\n",
              "      <td>22.250000</td>\n",
              "      <td>22.125000</td>\n",
              "      <td>21.859375</td>\n",
              "      <td>3.109375</td>\n",
              "      <td>3.109375</td>\n",
              "      <td>3.103516</td>\n",
              "      <td>3.095703</td>\n",
              "      <td>3.083984</td>\n",
              "      <td>2.763672</td>\n",
              "      <td>2.763672</td>\n",
              "      <td>3.103516</td>\n",
              "      <td>3.107422</td>\n",
              "      <td>0.0</td>\n",
              "      <td>0.0</td>\n",
              "      <td>-1.0</td>\n",
              "      <td>-37.250000</td>\n",
              "      <td>0.0</td>\n",
              "      <td>0.001500</td>\n",
              "      <td>0.000767</td>\n",
              "      <td>0.001466</td>\n",
              "      <td>0.009621</td>\n",
              "      <td>-0.002895</td>\n",
              "    </tr>\n",
              "    <tr>\n",
              "      <th>1518525060</th>\n",
              "      <td>20.0</td>\n",
              "      <td>8.945312</td>\n",
              "      <td>8.953125</td>\n",
              "      <td>8.937500</td>\n",
              "      <td>8.945312</td>\n",
              "      <td>801.349976</td>\n",
              "      <td>8.945312</td>\n",
              "      <td>0.005596</td>\n",
              "      <td>1</td>\n",
              "      <td>12</td>\n",
              "      <td>8.937500</td>\n",
              "      <td>8.921875</td>\n",
              "      <td>8.906250</td>\n",
              "      <td>8.898438</td>\n",
              "      <td>8.851562</td>\n",
              "      <td>2.189453</td>\n",
              "      <td>2.189453</td>\n",
              "      <td>2.185547</td>\n",
              "      <td>2.185547</td>\n",
              "      <td>2.181641</td>\n",
              "      <td>2.566406</td>\n",
              "      <td>2.566406</td>\n",
              "      <td>2.187500</td>\n",
              "      <td>2.189453</td>\n",
              "      <td>0.0</td>\n",
              "      <td>1.0</td>\n",
              "      <td>1.0</td>\n",
              "      <td>-1.877930</td>\n",
              "      <td>1.0</td>\n",
              "      <td>-0.000022</td>\n",
              "      <td>0.000201</td>\n",
              "      <td>0.001007</td>\n",
              "      <td>0.003836</td>\n",
              "      <td>0.008118</td>\n",
              "    </tr>\n",
              "    <tr>\n",
              "      <th>1570639560</th>\n",
              "      <td>34.0</td>\n",
              "      <td>17.312500</td>\n",
              "      <td>17.343750</td>\n",
              "      <td>17.296875</td>\n",
              "      <td>17.328125</td>\n",
              "      <td>752.020020</td>\n",
              "      <td>17.328125</td>\n",
              "      <td>-0.001775</td>\n",
              "      <td>2</td>\n",
              "      <td>16</td>\n",
              "      <td>17.328125</td>\n",
              "      <td>17.343750</td>\n",
              "      <td>17.390625</td>\n",
              "      <td>17.375000</td>\n",
              "      <td>17.328125</td>\n",
              "      <td>2.851562</td>\n",
              "      <td>2.853516</td>\n",
              "      <td>2.855469</td>\n",
              "      <td>2.855469</td>\n",
              "      <td>2.853516</td>\n",
              "      <td>2.732422</td>\n",
              "      <td>2.732422</td>\n",
              "      <td>2.853516</td>\n",
              "      <td>2.853516</td>\n",
              "      <td>0.0</td>\n",
              "      <td>0.0</td>\n",
              "      <td>-1.0</td>\n",
              "      <td>-78.187500</td>\n",
              "      <td>0.0</td>\n",
              "      <td>0.000814</td>\n",
              "      <td>0.000618</td>\n",
              "      <td>0.000630</td>\n",
              "      <td>0.005356</td>\n",
              "      <td>0.003735</td>\n",
              "    </tr>\n",
              "    <tr>\n",
              "      <th>1623774480</th>\n",
              "      <td>320.0</td>\n",
              "      <td>367.500000</td>\n",
              "      <td>367.750000</td>\n",
              "      <td>367.250000</td>\n",
              "      <td>367.250000</td>\n",
              "      <td>952.012573</td>\n",
              "      <td>367.500000</td>\n",
              "      <td>0.000967</td>\n",
              "      <td>1</td>\n",
              "      <td>16</td>\n",
              "      <td>367.500000</td>\n",
              "      <td>367.500000</td>\n",
              "      <td>367.500000</td>\n",
              "      <td>366.750000</td>\n",
              "      <td>367.000000</td>\n",
              "      <td>5.906250</td>\n",
              "      <td>5.906250</td>\n",
              "      <td>5.906250</td>\n",
              "      <td>5.906250</td>\n",
              "      <td>5.906250</td>\n",
              "      <td>3.990234</td>\n",
              "      <td>3.990234</td>\n",
              "      <td>5.906250</td>\n",
              "      <td>5.906250</td>\n",
              "      <td>0.0</td>\n",
              "      <td>0.0</td>\n",
              "      <td>-1.0</td>\n",
              "      <td>-79.437500</td>\n",
              "      <td>0.0</td>\n",
              "      <td>-0.000636</td>\n",
              "      <td>0.000750</td>\n",
              "      <td>0.000118</td>\n",
              "      <td>0.000545</td>\n",
              "      <td>0.002531</td>\n",
              "    </tr>\n",
              "  </tbody>\n",
              "</table>\n",
              "<p>100 rows × 34 columns</p>\n",
              "</div>\n",
              "      <button class=\"colab-df-convert\" onclick=\"convertToInteractive('df-1b76c058-257a-4b3c-b95f-8fc0b3753e9a')\"\n",
              "              title=\"Convert this dataframe to an interactive table.\"\n",
              "              style=\"display:none;\">\n",
              "        \n",
              "  <svg xmlns=\"http://www.w3.org/2000/svg\" height=\"24px\"viewBox=\"0 0 24 24\"\n",
              "       width=\"24px\">\n",
              "    <path d=\"M0 0h24v24H0V0z\" fill=\"none\"/>\n",
              "    <path d=\"M18.56 5.44l.94 2.06.94-2.06 2.06-.94-2.06-.94-.94-2.06-.94 2.06-2.06.94zm-11 1L8.5 8.5l.94-2.06 2.06-.94-2.06-.94L8.5 2.5l-.94 2.06-2.06.94zm10 10l.94 2.06.94-2.06 2.06-.94-2.06-.94-.94-2.06-.94 2.06-2.06.94z\"/><path d=\"M17.41 7.96l-1.37-1.37c-.4-.4-.92-.59-1.43-.59-.52 0-1.04.2-1.43.59L10.3 9.45l-7.72 7.72c-.78.78-.78 2.05 0 2.83L4 21.41c.39.39.9.59 1.41.59.51 0 1.02-.2 1.41-.59l7.78-7.78 2.81-2.81c.8-.78.8-2.07 0-2.86zM5.41 20L4 18.59l7.72-7.72 1.47 1.35L5.41 20z\"/>\n",
              "  </svg>\n",
              "      </button>\n",
              "      \n",
              "  <style>\n",
              "    .colab-df-container {\n",
              "      display:flex;\n",
              "      flex-wrap:wrap;\n",
              "      gap: 12px;\n",
              "    }\n",
              "\n",
              "    .colab-df-convert {\n",
              "      background-color: #E8F0FE;\n",
              "      border: none;\n",
              "      border-radius: 50%;\n",
              "      cursor: pointer;\n",
              "      display: none;\n",
              "      fill: #1967D2;\n",
              "      height: 32px;\n",
              "      padding: 0 0 0 0;\n",
              "      width: 32px;\n",
              "    }\n",
              "\n",
              "    .colab-df-convert:hover {\n",
              "      background-color: #E2EBFA;\n",
              "      box-shadow: 0px 1px 2px rgba(60, 64, 67, 0.3), 0px 1px 3px 1px rgba(60, 64, 67, 0.15);\n",
              "      fill: #174EA6;\n",
              "    }\n",
              "\n",
              "    [theme=dark] .colab-df-convert {\n",
              "      background-color: #3B4455;\n",
              "      fill: #D2E3FC;\n",
              "    }\n",
              "\n",
              "    [theme=dark] .colab-df-convert:hover {\n",
              "      background-color: #434B5C;\n",
              "      box-shadow: 0px 1px 3px 1px rgba(0, 0, 0, 0.15);\n",
              "      filter: drop-shadow(0px 1px 2px rgba(0, 0, 0, 0.3));\n",
              "      fill: #FFFFFF;\n",
              "    }\n",
              "  </style>\n",
              "\n",
              "      <script>\n",
              "        const buttonEl =\n",
              "          document.querySelector('#df-1b76c058-257a-4b3c-b95f-8fc0b3753e9a button.colab-df-convert');\n",
              "        buttonEl.style.display =\n",
              "          google.colab.kernel.accessAllowed ? 'block' : 'none';\n",
              "\n",
              "        async function convertToInteractive(key) {\n",
              "          const element = document.querySelector('#df-1b76c058-257a-4b3c-b95f-8fc0b3753e9a');\n",
              "          const dataTable =\n",
              "            await google.colab.kernel.invokeFunction('convertToInteractive',\n",
              "                                                     [key], {});\n",
              "          if (!dataTable) return;\n",
              "\n",
              "          const docLinkHtml = 'Like what you see? Visit the ' +\n",
              "            '<a target=\"_blank\" href=https://colab.research.google.com/notebooks/data_table.ipynb>data table notebook</a>'\n",
              "            + ' to learn more about interactive tables.';\n",
              "          element.innerHTML = '';\n",
              "          dataTable['output_type'] = 'display_data';\n",
              "          await google.colab.output.renderOutput(dataTable, element);\n",
              "          const docLink = document.createElement('div');\n",
              "          docLink.innerHTML = docLinkHtml;\n",
              "          element.appendChild(docLink);\n",
              "        }\n",
              "      </script>\n",
              "    </div>\n",
              "  </div>\n",
              "  "
            ],
            "text/plain": [
              "             Count        Open  ...  upper_shadow_15_perc  lower_shadow_15_perc\n",
              "timestamp                       ...                                            \n",
              "1611161820   272.0   41.968750  ...              0.004936              0.004776\n",
              "1612950000  2374.0  143.500000  ...             -0.002850              0.025543\n",
              "1593507720    13.0   15.382812  ...              0.000227              0.001360\n",
              "1574024100    28.0   20.078125  ...              0.000648              0.006855\n",
              "1606353420   178.0   31.437500  ...              0.007584              0.002417\n",
              "...            ...         ...  ...                   ...                   ...\n",
              "1542381120    16.0    8.101562  ...              0.000000              0.009171\n",
              "1596454680   190.0   22.406250  ...              0.009621             -0.002895\n",
              "1518525060    20.0    8.945312  ...              0.003836              0.008118\n",
              "1570639560    34.0   17.312500  ...              0.005356              0.003735\n",
              "1623774480   320.0  367.500000  ...              0.000545              0.002531\n",
              "\n",
              "[100 rows x 34 columns]"
            ]
          },
          "metadata": {},
          "execution_count": 32
        }
      ],
      "source": [
        "assets[0].sample(100)"
      ]
    },
    {
      "cell_type": "code",
      "execution_count": 33,
      "metadata": {
        "colab": {
          "base_uri": "https://localhost:8080/"
        },
        "id": "mfAvnTw7PaUP",
        "outputId": "df31bad8-85a9-46bc-b1e1-e97f2c165934"
      },
      "outputs": [
        {
          "output_type": "execute_result",
          "data": {
            "text/plain": [
              "Count                   0\n",
              "Open                    0\n",
              "High                    0\n",
              "Low                     0\n",
              "Close                   0\n",
              "Volume                  0\n",
              "VWAP                    0\n",
              "Target                  0\n",
              "dia_semana              0\n",
              "hora                    0\n",
              "SMA_7                   0\n",
              "SMA_15                  0\n",
              "SMA_30                  0\n",
              "SMA_60                  0\n",
              "SMA_180                 0\n",
              "log_SMA_7               0\n",
              "log_SMA_14              0\n",
              "log_SMA_30              0\n",
              "log_SMA_60              0\n",
              "log_SMA_180             0\n",
              "log_CMA_30              0\n",
              "log_CMA_15              0\n",
              "log_EWM_30              0\n",
              "log_EWM_15              0\n",
              "boll_30                 0\n",
              "Didi                    0\n",
              "MACD                    0\n",
              "willr                   0\n",
              "willr_flag              0\n",
              "log_ret                 0\n",
              "upper_shadow_perc       0\n",
              "lower_shadow_perc       0\n",
              "upper_shadow_15_perc    0\n",
              "lower_shadow_15_perc    0\n",
              "dtype: int64"
            ]
          },
          "metadata": {},
          "execution_count": 33
        }
      ],
      "source": [
        "assets[1].isnull().sum()"
      ]
    },
    {
      "cell_type": "code",
      "source": [
        ""
      ],
      "metadata": {
        "id": "l0EBUAaDJx7p"
      },
      "execution_count": 33,
      "outputs": []
    },
    {
      "cell_type": "markdown",
      "metadata": {
        "id": "NneI_-HbJgmh"
      },
      "source": [
        "## 3.2 Features específicas (opcionais)"
      ]
    },
    {
      "cell_type": "markdown",
      "metadata": {
        "id": "-zqviE18Jgmh"
      },
      "source": [
        "### 3.2.1 BTC"
      ]
    },
    {
      "cell_type": "code",
      "execution_count": null,
      "metadata": {
        "id": "xLWVFW7_Jgmh"
      },
      "outputs": [],
      "source": [
        ""
      ]
    },
    {
      "cell_type": "markdown",
      "metadata": {
        "id": "c_TLQZJ7Jgmh"
      },
      "source": [
        "### 3.2.1 ETH"
      ]
    },
    {
      "cell_type": "code",
      "execution_count": null,
      "metadata": {
        "id": "ba53Ikj5Jgmh"
      },
      "outputs": [],
      "source": [
        ""
      ]
    },
    {
      "cell_type": "markdown",
      "metadata": {
        "id": "wdIMnIDuJgmh"
      },
      "source": [
        "# 4. Modelagem"
      ]
    },
    {
      "cell_type": "markdown",
      "metadata": {
        "id": "iPfONeuYJgmh"
      },
      "source": [
        "## 4.1 Quebra de treino/validação/teste"
      ]
    },
    {
      "cell_type": "code",
      "execution_count": null,
      "metadata": {
        "id": "r7jUoYcuClvg"
      },
      "outputs": [],
      "source": [
        "# list_periodos = []\n",
        "\n",
        "# for asset in base_treino.Asset_ID.unique():\n",
        "#     maximo = base_treino[base_treino.Asset_ID == asset].timestamp.max()\n",
        "#     minimo = base_treino[base_treino.Asset_ID == asset].timestamp.min()\n",
        "#     list_periodos.append([asset,minimo,maximo])\n",
        "    \n",
        "# df_periodos = pd.DataFrame(list_periodos, columns=['asset','min','max'])\n",
        "# df_periodos['min'] = pd.to_datetime(df_periodos['min'], unit='s')\n",
        "# df_periodos['max'] = pd.to_datetime(df_periodos['max'], unit='s')\n",
        "# df_periodos.sort_values('min')"
      ]
    },
    {
      "cell_type": "code",
      "execution_count": null,
      "metadata": {
        "id": "Z1ftzZRMBQ8X"
      },
      "outputs": [],
      "source": [
        ""
      ]
    },
    {
      "cell_type": "code",
      "source": [
        ""
      ],
      "metadata": {
        "id": "5NIvdlLhDvcH"
      },
      "execution_count": null,
      "outputs": []
    },
    {
      "cell_type": "code",
      "execution_count": 34,
      "metadata": {
        "id": "YLKvJPbHJBbt"
      },
      "outputs": [],
      "source": [
        "y_treino={x: np.array(assets[x].loc[totimestamp(\"01/01/2020\"):totimestamp(\"01/04/2021\")][\"Target\"]) for x in assets.keys()}"
      ]
    },
    {
      "cell_type": "code",
      "execution_count": 35,
      "metadata": {
        "id": "10n89ftCJRZF"
      },
      "outputs": [],
      "source": [
        "y_teste={x: np.array(assets[x].loc[totimestamp(\"01/04/2021\"):totimestamp(\"01/07/2021\")][\"Target\"]) for x in assets.keys()}"
      ]
    },
    {
      "cell_type": "code",
      "execution_count": 36,
      "metadata": {
        "id": "uD7EnswjGAZO"
      },
      "outputs": [],
      "source": [
        "x_treino = {x: assets[x].loc[totimestamp(\"01/01/2020\"):totimestamp(\"01/04/2021\")].drop(['Open', 'High', 'Low', 'Close', 'VWAP','Target'], axis=1) for x in assets.keys()}"
      ]
    },
    {
      "cell_type": "code",
      "execution_count": 88,
      "metadata": {
        "id": "4jQcsbJdIUoO"
      },
      "outputs": [],
      "source": [
        "x_teste = {x: assets[x].loc[totimestamp(\"01/04/2021\"):totimestamp(\"01/07/2021\")].drop(['Open', 'High', 'Low', 'Close', 'VWAP','Target'], axis=1) for x in assets.keys()}"
      ]
    },
    {
      "cell_type": "markdown",
      "metadata": {
        "id": "qlOy9dNyJgmi"
      },
      "source": [
        "## 4.2 Modelo baseline"
      ]
    },
    {
      "cell_type": "markdown",
      "metadata": {
        "id": "2_gMRgPnJgmj"
      },
      "source": [
        "## 4.3 Modelagem freestyle"
      ]
    },
    {
      "cell_type": "code",
      "execution_count": null,
      "metadata": {
        "id": "e3lkbfXUJgmj"
      },
      "outputs": [],
      "source": [
        ""
      ]
    },
    {
      "cell_type": "code",
      "execution_count": null,
      "metadata": {
        "id": "n5YGY9YklbdZ"
      },
      "outputs": [],
      "source": [
        ""
      ]
    },
    {
      "cell_type": "code",
      "execution_count": null,
      "metadata": {
        "id": "5IY80LMuklN-"
      },
      "outputs": [],
      "source": [
        ""
      ]
    },
    {
      "cell_type": "markdown",
      "metadata": {
        "id": "DSxrFqBnJzpL"
      },
      "source": [
        "4.4 MODELAGEM MARCELO"
      ]
    },
    {
      "cell_type": "code",
      "execution_count": null,
      "metadata": {
        "id": "4mOUASh2TVzB"
      },
      "outputs": [],
      "source": [
        "params = {\n",
        "    \"n_estimators\": 100,\n",
        "    \"max_depth\": 6,\n",
        "    \"min_samples_split\": 5,\n",
        "    \"learning_rate\": 0.2,\n",
        "    \"loss\": \"squared_error\",\n",
        "}"
      ]
    },
    {
      "cell_type": "code",
      "source": [
        ""
      ],
      "metadata": {
        "id": "0aHaNqOP0CJg"
      },
      "execution_count": null,
      "outputs": []
    },
    {
      "cell_type": "code",
      "source": [
        ""
      ],
      "metadata": {
        "id": "rzaIZdX118Tz"
      },
      "execution_count": null,
      "outputs": []
    },
    {
      "cell_type": "code",
      "source": [
        "predict_treino_XGB={}\n",
        "predict_teste_XGB ={}\n",
        "models_XGB ={}\n",
        "for base in assets:\n",
        "  reg = xgb.XGBRegressor(objective=\"reg:squarederror\",**params)\n",
        "  models_XGB[base]=reg.fit(x_treino[base], y_treino[base])\n",
        "  predict_treino_XGB=reg.predict(x_treino[base])\n",
        "  predict_teste_XGB=reg.predict(x_teste[base])"
      ],
      "metadata": {
        "id": "OqozBxWC1hct"
      },
      "execution_count": null,
      "outputs": []
    },
    {
      "cell_type": "code",
      "source": [
        "predito[0]"
      ],
      "metadata": {
        "colab": {
          "base_uri": "https://localhost:8080/"
        },
        "id": "PzNsLyVk2qLr",
        "outputId": "22f024bc-bdb9-4cbe-f8de-30a570c53afd"
      },
      "execution_count": null,
      "outputs": [
        {
          "output_type": "execute_result",
          "data": {
            "text/plain": [
              "array([ 8.5085630e-05, -2.3663044e-05, -2.2113323e-05, ...,\n",
              "       -4.6122074e-04, -4.3457747e-04,  2.1457672e-05], dtype=float32)"
            ]
          },
          "metadata": {},
          "execution_count": 114
        }
      ]
    },
    {
      "cell_type": "code",
      "source": [
        "dict_importances=reg._Booster.get_score(importance_type=\"weight\")\n",
        "# names_vars=pd.DataFrame(list(dict_importances.keys()),columns=[\"importancia\"])\n",
        "# importancia=pd.concat\n",
        "dict_importances"
      ],
      "metadata": {
        "colab": {
          "base_uri": "https://localhost:8080/"
        },
        "id": "0O__bS_nryjW",
        "outputId": "6d9ef925-8920-429d-95ca-9f54fdf7f479"
      },
      "execution_count": null,
      "outputs": [
        {
          "output_type": "execute_result",
          "data": {
            "text/plain": [
              "{'Count': 377,\n",
              " 'Didi': 8,\n",
              " 'MACD': 17,\n",
              " 'SMA_15': 238,\n",
              " 'SMA_180': 385,\n",
              " 'SMA_30': 240,\n",
              " 'SMA_60': 261,\n",
              " 'SMA_7': 356,\n",
              " 'Volume': 252,\n",
              " 'boll_30': 18,\n",
              " 'dia_semana': 117,\n",
              " 'hora': 271,\n",
              " 'log_CMA_30': 239,\n",
              " 'log_EWM_15': 38,\n",
              " 'log_EWM_30': 36,\n",
              " 'log_SMA_14': 43,\n",
              " 'log_SMA_180': 31,\n",
              " 'log_SMA_30': 25,\n",
              " 'log_SMA_60': 24,\n",
              " 'log_SMA_7': 17,\n",
              " 'log_ret': 154,\n",
              " 'lower_shadow_15_perc': 288,\n",
              " 'lower_shadow_perc': 151,\n",
              " 'upper_shadow_15_perc': 272,\n",
              " 'upper_shadow_perc': 161,\n",
              " 'willr': 202}"
            ]
          },
          "metadata": {},
          "execution_count": 113
        }
      ]
    },
    {
      "cell_type": "code",
      "source": [
        ""
      ],
      "metadata": {
        "id": "bDLMAuaB4v6l"
      },
      "execution_count": 93,
      "outputs": []
    },
    {
      "cell_type": "code",
      "execution_count": null,
      "metadata": {
        "id": "OYZAXH41ThSh",
        "colab": {
          "base_uri": "https://localhost:8080/",
          "height": 183
        },
        "outputId": "1da9d1e3-c1ee-4f6a-e235-92f7ff0a8f65"
      },
      "outputs": [
        {
          "output_type": "error",
          "ename": "NameError",
          "evalue": "ignored",
          "traceback": [
            "\u001b[0;31m---------------------------------------------------------------------------\u001b[0m",
            "\u001b[0;31mNameError\u001b[0m                                 Traceback (most recent call last)",
            "\u001b[0;32m<ipython-input-48-1c95ef05a530>\u001b[0m in \u001b[0;36m<module>\u001b[0;34m()\u001b[0m\n\u001b[0;32m----> 1\u001b[0;31m \u001b[0mmse\u001b[0m \u001b[0;34m=\u001b[0m \u001b[0mmean_squared_error\u001b[0m\u001b[0;34m(\u001b[0m\u001b[0my_test\u001b[0m\u001b[0;34m,\u001b[0m \u001b[0mreg\u001b[0m\u001b[0;34m.\u001b[0m\u001b[0mpredict\u001b[0m\u001b[0;34m(\u001b[0m\u001b[0mX_test\u001b[0m\u001b[0;34m)\u001b[0m\u001b[0;34m)\u001b[0m\u001b[0;34m\u001b[0m\u001b[0;34m\u001b[0m\u001b[0m\n\u001b[0m\u001b[1;32m      2\u001b[0m \u001b[0mprint\u001b[0m\u001b[0;34m(\u001b[0m\u001b[0;34m\"The mean squared error (MSE) on test set: {:.4f}\"\u001b[0m\u001b[0;34m.\u001b[0m\u001b[0mformat\u001b[0m\u001b[0;34m(\u001b[0m\u001b[0mmse\u001b[0m\u001b[0;34m)\u001b[0m\u001b[0;34m)\u001b[0m\u001b[0;34m\u001b[0m\u001b[0;34m\u001b[0m\u001b[0m\n",
            "\u001b[0;31mNameError\u001b[0m: name 'mean_squared_error' is not defined"
          ]
        }
      ],
      "source": [
        "for base in assets:\n",
        "  mse = mean_squared_error(y_teste[base], reg.predict(x_teste[base]))\n",
        "  print(\"The mean squared error (MSE) on test set: {:.4f}\".format(mse))"
      ]
    },
    {
      "cell_type": "markdown",
      "source": [
        "4.45 Modelo XGB com parameters Sampler "
      ],
      "metadata": {
        "id": "Yt9MZ9YjAafq"
      }
    },
    {
      "cell_type": "code",
      "source": [
        "#Com parameter sampler"
      ],
      "metadata": {
        "id": "4g6JVrUF_3bH"
      },
      "execution_count": null,
      "outputs": []
    },
    {
      "cell_type": "code",
      "source": [
        "from sklearn.model_selection import ParameterSampler\n",
        "param_dist = {\n",
        "    \"n_estimators\": [100,500],\n",
        "    \"max_depth\": [4,6,10],\n",
        "    \"colsample_bytree\":[0.9],\n",
        "    \"min_samples_split\": [2,4,5],\n",
        "    \"reg_lambda\":[1,7],\n",
        "    \"reg_alpha\": [0,6],\n",
        "    \"scale_pos_weight\": [15],\n",
        "    \"learning_rate\": [0.2],\n",
        "    \"gamma\":[0.01,0.1,0.5]\n",
        "}\n",
        "params_set=ParameterSampler(param_dist,15,random_state=0)"
      ],
      "metadata": {
        "id": "eUvChFpVAY6f"
      },
      "execution_count": 47,
      "outputs": []
    },
    {
      "cell_type": "code",
      "source": [
        "from typing import Tuple\n",
        "import xgboost as xgb\n",
        "def rmsle(predt: np.ndarray, dtrain: xgb.DMatrix) -> Tuple[str, float]:\n",
        "    ''' Root mean squared log error metric.'''\n",
        "    y = dtrain.get_label()\n",
        "    predt[predt < -1] = -1 + 1e-6\n",
        "    elements = np.power(np.log1p(y) - np.log1p(predt), 2)\n",
        "    return 'PyRMSLE', float(np.sqrt(np.sum(elements) / len(y)))"
      ],
      "metadata": {
        "id": "8EPs4893caUC"
      },
      "execution_count": 48,
      "outputs": []
    },
    {
      "cell_type": "code",
      "source": [
        "def arruma_n_estimators(row):\n",
        "  best_iter=row[\"best_iter\"]\n",
        "  params_inicial = row[\"params_iter\"]\n",
        "  params_com_early = {**params_inicial, **{'n_estimators':best_iter +1}}\n",
        "  return params_com_early"
      ],
      "metadata": {
        "id": "Fq9aAU5pO1sW"
      },
      "execution_count": 49,
      "outputs": []
    },
    {
      "cell_type": "code",
      "source": [
        "from tqdm import tqdm_notebook\n",
        "import tqdm"
      ],
      "metadata": {
        "id": "KZVle8WMPkCC"
      },
      "execution_count": 50,
      "outputs": []
    },
    {
      "cell_type": "code",
      "source": [
        "# https://xgboost.readthedocs.io/en/stable/tutorials/custom_metric_obj.html"
      ],
      "metadata": {
        "id": "8bhqKAtFKyJ2"
      },
      "execution_count": 51,
      "outputs": []
    },
    {
      "cell_type": "code",
      "source": [
        "def roda_grid(params,x_train,y_train,eval_set,eval_metric,early_stopping_rounds=7):\n",
        "  for k,i in tqdm.tqdm(enumerate(params,1)):\n",
        "    regressor=xgb.XGBRegressor (objective=\"reg:squarederror\", seed=0,**i)\n",
        "\n",
        "    regressor.fit(x_train,y_train,eval_set=eval_set,eval_metric=eval_metric,verbose=False,early_stopping_rounds=early_stopping_rounds)\n",
        "\n",
        "    if k==1:\n",
        "      df_result=pd.DataFrame()\n",
        "      df_result[\"best_treino\"]=[regressor.evals_result()[\"validation_0\"]['PyRMSLE'][regressor.best_iteration]]\n",
        "      df_result[\"best_test\"]=[regressor.evals_result()[\"validation_1\"]['PyRMSLE'][regressor.best_iteration]]\n",
        "      df_result[\"best_iter\"]=regressor.best_iteration\n",
        "      df_result[\"Combination\"]=k\n",
        "      df_result[\"params_iter\"]=[i.copy()]\n",
        "    else:\n",
        "      aux=pd.DataFrame()\n",
        "      aux[\"best_treino\"]=[regressor.evals_result()[\"validation_0\"]['PyRMSLE'][regressor.best_iteration]]\n",
        "      aux[\"best_test\"]=[regressor.evals_result()[\"validation_1\"]['PyRMSLE'][regressor.best_iteration]]\n",
        "      aux[\"best_iter\"]=regressor.best_iteration\n",
        "      aux[\"Combination\"]=k\n",
        "      aux[\"params_iter\"]=[i.copy()]\n",
        "\n",
        "\n",
        "      df_result=df_result.append(aux).reset_index(drop=True)\n",
        "      df_result[\"params_com_early\"]=df_result.apply(arruma_n_estimators, axis=1)\n",
        "      df_result[\"diff\"]=df_result[\"best_treino\"] - df_result[\"best_test\"]\n",
        "      df_result=(df_result.sort_values(by=[\"best_test\",\"diff\", \"best_iter\"],ascending=[True,True,True]).reset_index(drop=True))\n",
        "\n",
        "  return df_result"
      ],
      "metadata": {
        "id": "zRlbHy5JPW8Z"
      },
      "execution_count": 52,
      "outputs": []
    },
    {
      "cell_type": "code",
      "source": [
        "df_result={}\n",
        "best_params={}\n",
        "eval_set={}\n",
        "for base in assets:\n",
        "  eval_set[base] = [(x_treino[base],y_treino[base]),(x_teste[base],y_teste[base])]\n",
        "  eval_metric=rmsle\n",
        "  print(base)\n",
        "  df_result[base]=roda_grid(params_set, x_treino[base], y_treino[base],eval_set[base],eval_metric=rmsle)\n",
        "  best_params[base]=df_result[base].loc[0,\"params_com_early\"]\n"
      ],
      "metadata": {
        "colab": {
          "base_uri": "https://localhost:8080/"
        },
        "id": "FcAxPPsqTfh-",
        "outputId": "5821643d-0243-489f-8d54-6be98d0e4785"
      },
      "execution_count": 56,
      "outputs": [
        {
          "metadata": {
            "tags": null
          },
          "name": "stdout",
          "output_type": "stream",
          "text": [
            "2\n"
          ]
        },
        {
          "metadata": {
            "tags": null
          },
          "name": "stderr",
          "output_type": "stream",
          "text": [
            "15it [16:41, 66.75s/it]\n"
          ]
        },
        {
          "metadata": {
            "tags": null
          },
          "name": "stdout",
          "output_type": "stream",
          "text": [
            "0\n"
          ]
        },
        {
          "metadata": {
            "tags": null
          },
          "name": "stderr",
          "output_type": "stream",
          "text": [
            "15it [15:30, 62.05s/it]\n"
          ]
        },
        {
          "metadata": {
            "tags": null
          },
          "name": "stdout",
          "output_type": "stream",
          "text": [
            "1\n"
          ]
        },
        {
          "metadata": {
            "tags": null
          },
          "name": "stderr",
          "output_type": "stream",
          "text": [
            "15it [16:27, 65.84s/it]\n"
          ]
        },
        {
          "metadata": {
            "tags": null
          },
          "name": "stdout",
          "output_type": "stream",
          "text": [
            "5\n"
          ]
        },
        {
          "metadata": {
            "tags": null
          },
          "name": "stderr",
          "output_type": "stream",
          "text": [
            "15it [15:29, 62.00s/it]\n"
          ]
        },
        {
          "metadata": {
            "tags": null
          },
          "name": "stdout",
          "output_type": "stream",
          "text": [
            "7\n"
          ]
        },
        {
          "metadata": {
            "tags": null
          },
          "name": "stderr",
          "output_type": "stream",
          "text": [
            "15it [14:45, 59.03s/it]\n"
          ]
        },
        {
          "metadata": {
            "tags": null
          },
          "name": "stdout",
          "output_type": "stream",
          "text": [
            "6\n"
          ]
        },
        {
          "metadata": {
            "tags": null
          },
          "name": "stderr",
          "output_type": "stream",
          "text": [
            "15it [14:13, 56.91s/it]\n"
          ]
        },
        {
          "metadata": {
            "tags": null
          },
          "name": "stdout",
          "output_type": "stream",
          "text": [
            "9\n"
          ]
        },
        {
          "metadata": {
            "tags": null
          },
          "name": "stderr",
          "output_type": "stream",
          "text": [
            "15it [16:13, 64.89s/it]\n"
          ]
        },
        {
          "metadata": {
            "tags": null
          },
          "name": "stdout",
          "output_type": "stream",
          "text": [
            "11\n"
          ]
        },
        {
          "metadata": {
            "tags": null
          },
          "name": "stderr",
          "output_type": "stream",
          "text": [
            "15it [15:46, 63.08s/it]\n"
          ]
        },
        {
          "metadata": {
            "tags": null
          },
          "name": "stdout",
          "output_type": "stream",
          "text": [
            "13\n"
          ]
        },
        {
          "metadata": {
            "tags": null
          },
          "name": "stderr",
          "output_type": "stream",
          "text": [
            "15it [15:45, 63.02s/it]\n"
          ]
        },
        {
          "metadata": {
            "tags": null
          },
          "name": "stdout",
          "output_type": "stream",
          "text": [
            "12\n"
          ]
        },
        {
          "metadata": {
            "tags": null
          },
          "name": "stderr",
          "output_type": "stream",
          "text": [
            "15it [16:20, 65.39s/it]\n"
          ]
        },
        {
          "metadata": {
            "tags": null
          },
          "name": "stdout",
          "output_type": "stream",
          "text": [
            "3\n"
          ]
        },
        {
          "metadata": {
            "tags": null
          },
          "name": "stderr",
          "output_type": "stream",
          "text": [
            "15it [14:59, 59.95s/it]\n"
          ]
        },
        {
          "metadata": {
            "tags": null
          },
          "name": "stdout",
          "output_type": "stream",
          "text": [
            "8\n"
          ]
        },
        {
          "output_type": "stream",
          "name": "stderr",
          "text": [
            "15it [16:28, 65.92s/it]\n"
          ]
        },
        {
          "output_type": "stream",
          "name": "stdout",
          "text": [
            "10\n"
          ]
        },
        {
          "output_type": "stream",
          "name": "stderr",
          "text": [
            "15it [13:36, 54.45s/it]\n"
          ]
        },
        {
          "output_type": "stream",
          "name": "stdout",
          "text": [
            "4\n"
          ]
        },
        {
          "output_type": "stream",
          "name": "stderr",
          "text": [
            "15it [16:14, 64.98s/it]\n"
          ]
        }
      ]
    },
    {
      "cell_type": "code",
      "source": [
        "predict_treino_XGB={}\n",
        "predict_teste_XGB ={}\n",
        "modelos ={}\n",
        "import pickle as pk\n",
        "for base in assets:\n",
        "  modelos[base] = xgb.XGBRegressor(objective=\"reg:squarederror\",**best_params[base])\n",
        "  modelos[base].fit(x_treino[base], y_treino[base],eval_metric=rmsle,eval_set=eval_set[base])\n",
        "  pk.dump(modelos[base],open('gdrive/My Drive/Colab Notebooks/Kaggle/g_research_competition/modelo_'+str(base)+'.pkl','wb'))"
      ],
      "metadata": {
        "colab": {
          "base_uri": "https://localhost:8080/"
        },
        "id": "XBIc-i0TrG80",
        "outputId": "9697fd66-f711-47fd-ce5f-975acea6d076"
      },
      "execution_count": 59,
      "outputs": [
        {
          "output_type": "stream",
          "name": "stdout",
          "text": [
            "[0]\tvalidation_0-rmse:0.400046\tvalidation_1-rmse:0.400028\tvalidation_0-PyRMSLE:0.336516\tvalidation_1-PyRMSLE:0.336519\n",
            "[1]\tvalidation_0-rmse:0.319867\tvalidation_1-rmse:0.320031\tvalidation_0-PyRMSLE:0.277676\tvalidation_1-PyRMSLE:0.277684\n",
            "[2]\tvalidation_0-rmse:0.256138\tvalidation_1-rmse:0.256039\tvalidation_0-PyRMSLE:0.227978\tvalidation_1-PyRMSLE:0.227993\n",
            "[3]\tvalidation_0-rmse:0.204839\tvalidation_1-rmse:0.20485\tvalidation_0-PyRMSLE:0.186363\tvalidation_1-PyRMSLE:0.186386\n",
            "[4]\tvalidation_0-rmse:0.163909\tvalidation_1-rmse:0.163905\tvalidation_0-PyRMSLE:0.151779\tvalidation_1-PyRMSLE:0.151812\n",
            "[5]\tvalidation_0-rmse:0.131125\tvalidation_1-rmse:0.131156\tvalidation_0-PyRMSLE:0.123226\tvalidation_1-PyRMSLE:0.123272\n",
            "[6]\tvalidation_0-rmse:0.104918\tvalidation_1-rmse:0.104967\tvalidation_0-PyRMSLE:0.099786\tvalidation_1-PyRMSLE:0.099847\n",
            "[7]\tvalidation_0-rmse:0.083957\tvalidation_1-rmse:0.084026\tvalidation_0-PyRMSLE:0.080634\tvalidation_1-PyRMSLE:0.080714\n",
            "[8]\tvalidation_0-rmse:0.067197\tvalidation_1-rmse:0.067289\tvalidation_0-PyRMSLE:0.065049\tvalidation_1-PyRMSLE:0.065153\n",
            "[9]\tvalidation_0-rmse:0.053793\tvalidation_1-rmse:0.053917\tvalidation_0-PyRMSLE:0.052411\tvalidation_1-PyRMSLE:0.052545\n",
            "[10]\tvalidation_0-rmse:0.043081\tvalidation_1-rmse:0.043242\tvalidation_0-PyRMSLE:0.042193\tvalidation_1-PyRMSLE:0.042364\n",
            "[11]\tvalidation_0-rmse:0.034522\tvalidation_1-rmse:0.03473\tvalidation_0-PyRMSLE:0.033954\tvalidation_1-PyRMSLE:0.034172\n",
            "[12]\tvalidation_0-rmse:0.027689\tvalidation_1-rmse:0.027955\tvalidation_0-PyRMSLE:0.027326\tvalidation_1-PyRMSLE:0.027601\n",
            "[13]\tvalidation_0-rmse:0.02224\tvalidation_1-rmse:0.022577\tvalidation_0-PyRMSLE:0.022009\tvalidation_1-PyRMSLE:0.022355\n",
            "[14]\tvalidation_0-rmse:0.017901\tvalidation_1-rmse:0.018327\tvalidation_0-PyRMSLE:0.017756\tvalidation_1-PyRMSLE:0.018189\n",
            "[15]\tvalidation_0-rmse:0.014457\tvalidation_1-rmse:0.014988\tvalidation_0-PyRMSLE:0.014366\tvalidation_1-PyRMSLE:0.014902\n",
            "[16]\tvalidation_0-rmse:0.011734\tvalidation_1-rmse:0.012389\tvalidation_0-PyRMSLE:0.011678\tvalidation_1-PyRMSLE:0.012337\n",
            "[17]\tvalidation_0-rmse:0.009593\tvalidation_1-rmse:0.010391\tvalidation_0-PyRMSLE:0.009559\tvalidation_1-PyRMSLE:0.010359\n",
            "[18]\tvalidation_0-rmse:0.007925\tvalidation_1-rmse:0.008882\tvalidation_0-PyRMSLE:0.007905\tvalidation_1-PyRMSLE:0.008861\n",
            "[19]\tvalidation_0-rmse:0.006641\tvalidation_1-rmse:0.007765\tvalidation_0-PyRMSLE:0.00663\tvalidation_1-PyRMSLE:0.00775\n",
            "[20]\tvalidation_0-rmse:0.005669\tvalidation_1-rmse:0.006957\tvalidation_0-PyRMSLE:0.005663\tvalidation_1-PyRMSLE:0.006945\n",
            "[21]\tvalidation_0-rmse:0.004948\tvalidation_1-rmse:0.006388\tvalidation_0-PyRMSLE:0.004945\tvalidation_1-PyRMSLE:0.006376\n",
            "[22]\tvalidation_0-rmse:0.004423\tvalidation_1-rmse:0.005995\tvalidation_0-PyRMSLE:0.004422\tvalidation_1-PyRMSLE:0.005983\n",
            "[23]\tvalidation_0-rmse:0.004053\tvalidation_1-rmse:0.005731\tvalidation_0-PyRMSLE:0.004052\tvalidation_1-PyRMSLE:0.005718\n",
            "[24]\tvalidation_0-rmse:0.003798\tvalidation_1-rmse:0.005556\tvalidation_0-PyRMSLE:0.003796\tvalidation_1-PyRMSLE:0.005542\n",
            "[25]\tvalidation_0-rmse:0.003624\tvalidation_1-rmse:0.005442\tvalidation_0-PyRMSLE:0.003623\tvalidation_1-PyRMSLE:0.005426\n",
            "[26]\tvalidation_0-rmse:0.003509\tvalidation_1-rmse:0.005367\tvalidation_0-PyRMSLE:0.003508\tvalidation_1-PyRMSLE:0.005351\n",
            "[27]\tvalidation_0-rmse:0.003433\tvalidation_1-rmse:0.00532\tvalidation_0-PyRMSLE:0.003431\tvalidation_1-PyRMSLE:0.005303\n",
            "[28]\tvalidation_0-rmse:0.003384\tvalidation_1-rmse:0.005289\tvalidation_0-PyRMSLE:0.003382\tvalidation_1-PyRMSLE:0.005272\n",
            "[29]\tvalidation_0-rmse:0.003352\tvalidation_1-rmse:0.00527\tvalidation_0-PyRMSLE:0.003349\tvalidation_1-PyRMSLE:0.005252\n",
            "[30]\tvalidation_0-rmse:0.003331\tvalidation_1-rmse:0.005258\tvalidation_0-PyRMSLE:0.003329\tvalidation_1-PyRMSLE:0.00524\n",
            "[31]\tvalidation_0-rmse:0.003318\tvalidation_1-rmse:0.00525\tvalidation_0-PyRMSLE:0.003315\tvalidation_1-PyRMSLE:0.005231\n",
            "[32]\tvalidation_0-rmse:0.003309\tvalidation_1-rmse:0.005245\tvalidation_0-PyRMSLE:0.003307\tvalidation_1-PyRMSLE:0.005226\n",
            "[33]\tvalidation_0-rmse:0.003304\tvalidation_1-rmse:0.005242\tvalidation_0-PyRMSLE:0.003301\tvalidation_1-PyRMSLE:0.005223\n",
            "[34]\tvalidation_0-rmse:0.0033\tvalidation_1-rmse:0.00524\tvalidation_0-PyRMSLE:0.003297\tvalidation_1-PyRMSLE:0.005221\n",
            "[35]\tvalidation_0-rmse:0.003298\tvalidation_1-rmse:0.005239\tvalidation_0-PyRMSLE:0.003295\tvalidation_1-PyRMSLE:0.00522\n",
            "[36]\tvalidation_0-rmse:0.003297\tvalidation_1-rmse:0.005238\tvalidation_0-PyRMSLE:0.003294\tvalidation_1-PyRMSLE:0.005219\n",
            "[37]\tvalidation_0-rmse:0.003296\tvalidation_1-rmse:0.005238\tvalidation_0-PyRMSLE:0.003293\tvalidation_1-PyRMSLE:0.005219\n",
            "[38]\tvalidation_0-rmse:0.003295\tvalidation_1-rmse:0.005238\tvalidation_0-PyRMSLE:0.003292\tvalidation_1-PyRMSLE:0.005218\n",
            "[0]\tvalidation_0-rmse:0.39997\tvalidation_1-rmse:0.400022\tvalidation_0-PyRMSLE:0.336464\tvalidation_1-PyRMSLE:0.33651\n",
            "[1]\tvalidation_0-rmse:0.319857\tvalidation_1-rmse:0.320039\tvalidation_0-PyRMSLE:0.277635\tvalidation_1-PyRMSLE:0.277685\n",
            "[2]\tvalidation_0-rmse:0.25609\tvalidation_1-rmse:0.256056\tvalidation_0-PyRMSLE:0.227948\tvalidation_1-PyRMSLE:0.228001\n",
            "[3]\tvalidation_0-rmse:0.204823\tvalidation_1-rmse:0.204873\tvalidation_0-PyRMSLE:0.186343\tvalidation_1-PyRMSLE:0.1864\n",
            "[4]\tvalidation_0-rmse:0.163888\tvalidation_1-rmse:0.163933\tvalidation_0-PyRMSLE:0.151769\tvalidation_1-PyRMSLE:0.151832\n",
            "[5]\tvalidation_0-rmse:0.131128\tvalidation_1-rmse:0.131187\tvalidation_0-PyRMSLE:0.123226\tvalidation_1-PyRMSLE:0.123296\n",
            "[6]\tvalidation_0-rmse:0.104928\tvalidation_1-rmse:0.105\tvalidation_0-PyRMSLE:0.099795\tvalidation_1-PyRMSLE:0.099875\n",
            "[7]\tvalidation_0-rmse:0.083977\tvalidation_1-rmse:0.084061\tvalidation_0-PyRMSLE:0.080654\tvalidation_1-PyRMSLE:0.080744\n",
            "[8]\tvalidation_0-rmse:0.067227\tvalidation_1-rmse:0.067324\tvalidation_0-PyRMSLE:0.06508\tvalidation_1-PyRMSLE:0.065185\n",
            "[9]\tvalidation_0-rmse:0.053837\tvalidation_1-rmse:0.053951\tvalidation_0-PyRMSLE:0.052455\tvalidation_1-PyRMSLE:0.052577\n",
            "[10]\tvalidation_0-rmse:0.043139\tvalidation_1-rmse:0.043274\tvalidation_0-PyRMSLE:0.042252\tvalidation_1-PyRMSLE:0.042395\n",
            "[11]\tvalidation_0-rmse:0.034597\tvalidation_1-rmse:0.034759\tvalidation_0-PyRMSLE:0.03403\tvalidation_1-PyRMSLE:0.0342\n",
            "[12]\tvalidation_0-rmse:0.027785\tvalidation_1-rmse:0.027979\tvalidation_0-PyRMSLE:0.027424\tvalidation_1-PyRMSLE:0.027627\n",
            "[13]\tvalidation_0-rmse:0.022362\tvalidation_1-rmse:0.022596\tvalidation_0-PyRMSLE:0.022133\tvalidation_1-PyRMSLE:0.022376\n",
            "[14]\tvalidation_0-rmse:0.018055\tvalidation_1-rmse:0.018338\tvalidation_0-PyRMSLE:0.017912\tvalidation_1-PyRMSLE:0.018203\n",
            "[15]\tvalidation_0-rmse:0.014648\tvalidation_1-rmse:0.014989\tvalidation_0-PyRMSLE:0.01456\tvalidation_1-PyRMSLE:0.014909\n",
            "[16]\tvalidation_0-rmse:0.01197\tvalidation_1-rmse:0.012378\tvalidation_0-PyRMSLE:0.011916\tvalidation_1-PyRMSLE:0.012333\n",
            "[17]\tvalidation_0-rmse:0.009882\tvalidation_1-rmse:0.010367\tvalidation_0-PyRMSLE:0.00985\tvalidation_1-PyRMSLE:0.010343\n",
            "[18]\tvalidation_0-rmse:0.008273\tvalidation_1-rmse:0.008841\tvalidation_0-PyRMSLE:0.008255\tvalidation_1-PyRMSLE:0.008831\n",
            "[19]\tvalidation_0-rmse:0.007054\tvalidation_1-rmse:0.007707\tvalidation_0-PyRMSLE:0.007044\tvalidation_1-PyRMSLE:0.007705\n",
            "[20]\tvalidation_0-rmse:0.006148\tvalidation_1-rmse:0.006882\tvalidation_0-PyRMSLE:0.006142\tvalidation_1-PyRMSLE:0.006885\n",
            "[21]\tvalidation_0-rmse:0.00549\tvalidation_1-rmse:0.006297\tvalidation_0-PyRMSLE:0.005487\tvalidation_1-PyRMSLE:0.006302\n",
            "[22]\tvalidation_0-rmse:0.005024\tvalidation_1-rmse:0.005892\tvalidation_0-PyRMSLE:0.005022\tvalidation_1-PyRMSLE:0.005898\n",
            "[23]\tvalidation_0-rmse:0.004701\tvalidation_1-rmse:0.005617\tvalidation_0-PyRMSLE:0.004699\tvalidation_1-PyRMSLE:0.005623\n",
            "[24]\tvalidation_0-rmse:0.004483\tvalidation_1-rmse:0.005433\tvalidation_0-PyRMSLE:0.004481\tvalidation_1-PyRMSLE:0.005438\n",
            "[25]\tvalidation_0-rmse:0.004337\tvalidation_1-rmse:0.005311\tvalidation_0-PyRMSLE:0.004335\tvalidation_1-PyRMSLE:0.005316\n",
            "[26]\tvalidation_0-rmse:0.004241\tvalidation_1-rmse:0.005232\tvalidation_0-PyRMSLE:0.004238\tvalidation_1-PyRMSLE:0.005236\n",
            "[27]\tvalidation_0-rmse:0.004179\tvalidation_1-rmse:0.00518\tvalidation_0-PyRMSLE:0.004175\tvalidation_1-PyRMSLE:0.005184\n",
            "[28]\tvalidation_0-rmse:0.004138\tvalidation_1-rmse:0.005146\tvalidation_0-PyRMSLE:0.004135\tvalidation_1-PyRMSLE:0.00515\n",
            "[29]\tvalidation_0-rmse:0.004112\tvalidation_1-rmse:0.005124\tvalidation_0-PyRMSLE:0.004108\tvalidation_1-PyRMSLE:0.005128\n",
            "[30]\tvalidation_0-rmse:0.004095\tvalidation_1-rmse:0.00511\tvalidation_0-PyRMSLE:0.004091\tvalidation_1-PyRMSLE:0.005113\n",
            "[31]\tvalidation_0-rmse:0.004085\tvalidation_1-rmse:0.005101\tvalidation_0-PyRMSLE:0.00408\tvalidation_1-PyRMSLE:0.005104\n",
            "[32]\tvalidation_0-rmse:0.004078\tvalidation_1-rmse:0.005095\tvalidation_0-PyRMSLE:0.004073\tvalidation_1-PyRMSLE:0.005098\n",
            "[33]\tvalidation_0-rmse:0.004073\tvalidation_1-rmse:0.005091\tvalidation_0-PyRMSLE:0.004068\tvalidation_1-PyRMSLE:0.005094\n",
            "[34]\tvalidation_0-rmse:0.00407\tvalidation_1-rmse:0.005089\tvalidation_0-PyRMSLE:0.004065\tvalidation_1-PyRMSLE:0.005091\n",
            "[35]\tvalidation_0-rmse:0.004068\tvalidation_1-rmse:0.005087\tvalidation_0-PyRMSLE:0.004064\tvalidation_1-PyRMSLE:0.005089\n",
            "[36]\tvalidation_0-rmse:0.004067\tvalidation_1-rmse:0.005086\tvalidation_0-PyRMSLE:0.004062\tvalidation_1-PyRMSLE:0.005088\n",
            "[37]\tvalidation_0-rmse:0.004067\tvalidation_1-rmse:0.005085\tvalidation_0-PyRMSLE:0.004061\tvalidation_1-PyRMSLE:0.005087\n",
            "[38]\tvalidation_0-rmse:0.004066\tvalidation_1-rmse:0.005085\tvalidation_0-PyRMSLE:0.004061\tvalidation_1-PyRMSLE:0.005087\n",
            "[39]\tvalidation_0-rmse:0.004066\tvalidation_1-rmse:0.005084\tvalidation_0-PyRMSLE:0.004061\tvalidation_1-PyRMSLE:0.005086\n",
            "[40]\tvalidation_0-rmse:0.004066\tvalidation_1-rmse:0.005084\tvalidation_0-PyRMSLE:0.00406\tvalidation_1-PyRMSLE:0.005086\n",
            "[41]\tvalidation_0-rmse:0.004065\tvalidation_1-rmse:0.005084\tvalidation_0-PyRMSLE:0.00406\tvalidation_1-PyRMSLE:0.005086\n",
            "[42]\tvalidation_0-rmse:0.004065\tvalidation_1-rmse:0.005084\tvalidation_0-PyRMSLE:0.00406\tvalidation_1-PyRMSLE:0.005086\n",
            "[43]\tvalidation_0-rmse:0.004065\tvalidation_1-rmse:0.005084\tvalidation_0-PyRMSLE:0.00406\tvalidation_1-PyRMSLE:0.005086\n",
            "[44]\tvalidation_0-rmse:0.004065\tvalidation_1-rmse:0.005084\tvalidation_0-PyRMSLE:0.00406\tvalidation_1-PyRMSLE:0.005086\n",
            "[45]\tvalidation_0-rmse:0.004065\tvalidation_1-rmse:0.005084\tvalidation_0-PyRMSLE:0.00406\tvalidation_1-PyRMSLE:0.005086\n",
            "[46]\tvalidation_0-rmse:0.004065\tvalidation_1-rmse:0.005084\tvalidation_0-PyRMSLE:0.00406\tvalidation_1-PyRMSLE:0.005085\n",
            "[0]\tvalidation_0-rmse:0.399964\tvalidation_1-rmse:0.400074\tvalidation_0-PyRMSLE:0.336481\tvalidation_1-PyRMSLE:0.336548\n",
            "[1]\tvalidation_0-rmse:0.319658\tvalidation_1-rmse:0.320074\tvalidation_0-PyRMSLE:0.277643\tvalidation_1-PyRMSLE:0.277709\n",
            "[2]\tvalidation_0-rmse:0.256211\tvalidation_1-rmse:0.256077\tvalidation_0-PyRMSLE:0.227945\tvalidation_1-PyRMSLE:0.228012\n",
            "[3]\tvalidation_0-rmse:0.204804\tvalidation_1-rmse:0.204878\tvalidation_0-PyRMSLE:0.186329\tvalidation_1-PyRMSLE:0.186397\n",
            "[4]\tvalidation_0-rmse:0.16389\tvalidation_1-rmse:0.163922\tvalidation_0-PyRMSLE:0.151743\tvalidation_1-PyRMSLE:0.151811\n",
            "[5]\tvalidation_0-rmse:0.131089\tvalidation_1-rmse:0.131159\tvalidation_0-PyRMSLE:0.123187\tvalidation_1-PyRMSLE:0.123257\n",
            "[6]\tvalidation_0-rmse:0.10488\tvalidation_1-rmse:0.10495\tvalidation_0-PyRMSLE:0.099742\tvalidation_1-PyRMSLE:0.099812\n",
            "[7]\tvalidation_0-rmse:0.083914\tvalidation_1-rmse:0.083984\tvalidation_0-PyRMSLE:0.080583\tvalidation_1-PyRMSLE:0.080655\n",
            "[8]\tvalidation_0-rmse:0.067143\tvalidation_1-rmse:0.067215\tvalidation_0-PyRMSLE:0.06499\tvalidation_1-PyRMSLE:0.065063\n",
            "[9]\tvalidation_0-rmse:0.053729\tvalidation_1-rmse:0.053804\tvalidation_0-PyRMSLE:0.05234\tvalidation_1-PyRMSLE:0.052416\n",
            "[10]\tvalidation_0-rmse:0.043001\tvalidation_1-rmse:0.043079\tvalidation_0-PyRMSLE:0.042107\tvalidation_1-PyRMSLE:0.042186\n",
            "[11]\tvalidation_0-rmse:0.034423\tvalidation_1-rmse:0.034505\tvalidation_0-PyRMSLE:0.033849\tvalidation_1-PyRMSLE:0.033932\n",
            "[12]\tvalidation_0-rmse:0.027567\tvalidation_1-rmse:0.027652\tvalidation_0-PyRMSLE:0.027199\tvalidation_1-PyRMSLE:0.027286\n",
            "[13]\tvalidation_0-rmse:0.022089\tvalidation_1-rmse:0.022179\tvalidation_0-PyRMSLE:0.021853\tvalidation_1-PyRMSLE:0.021945\n",
            "[14]\tvalidation_0-rmse:0.017715\tvalidation_1-rmse:0.017812\tvalidation_0-PyRMSLE:0.017564\tvalidation_1-PyRMSLE:0.017663\n",
            "[15]\tvalidation_0-rmse:0.014226\tvalidation_1-rmse:0.014332\tvalidation_0-PyRMSLE:0.014131\tvalidation_1-PyRMSLE:0.014238\n",
            "[16]\tvalidation_0-rmse:0.011449\tvalidation_1-rmse:0.011564\tvalidation_0-PyRMSLE:0.011388\tvalidation_1-PyRMSLE:0.011506\n",
            "[17]\tvalidation_0-rmse:0.009243\tvalidation_1-rmse:0.009371\tvalidation_0-PyRMSLE:0.009205\tvalidation_1-PyRMSLE:0.009334\n",
            "[18]\tvalidation_0-rmse:0.007498\tvalidation_1-rmse:0.00764\tvalidation_0-PyRMSLE:0.007474\tvalidation_1-PyRMSLE:0.007618\n",
            "[19]\tvalidation_0-rmse:0.006126\tvalidation_1-rmse:0.006284\tvalidation_0-PyRMSLE:0.006111\tvalidation_1-PyRMSLE:0.006272\n",
            "[20]\tvalidation_0-rmse:0.005056\tvalidation_1-rmse:0.005233\tvalidation_0-PyRMSLE:0.005047\tvalidation_1-PyRMSLE:0.005226\n",
            "[21]\tvalidation_0-rmse:0.004232\tvalidation_1-rmse:0.004428\tvalidation_0-PyRMSLE:0.004226\tvalidation_1-PyRMSLE:0.004425\n",
            "[22]\tvalidation_0-rmse:0.003607\tvalidation_1-rmse:0.003822\tvalidation_0-PyRMSLE:0.003603\tvalidation_1-PyRMSLE:0.003822\n",
            "[23]\tvalidation_0-rmse:0.003142\tvalidation_1-rmse:0.003376\tvalidation_0-PyRMSLE:0.003139\tvalidation_1-PyRMSLE:0.003377\n",
            "[24]\tvalidation_0-rmse:0.002804\tvalidation_1-rmse:0.003055\tvalidation_0-PyRMSLE:0.002802\tvalidation_1-PyRMSLE:0.003056\n",
            "[25]\tvalidation_0-rmse:0.002565\tvalidation_1-rmse:0.002828\tvalidation_0-PyRMSLE:0.002562\tvalidation_1-PyRMSLE:0.00283\n",
            "[26]\tvalidation_0-rmse:0.002399\tvalidation_1-rmse:0.002672\tvalidation_0-PyRMSLE:0.002397\tvalidation_1-PyRMSLE:0.002673\n",
            "[27]\tvalidation_0-rmse:0.002287\tvalidation_1-rmse:0.002565\tvalidation_0-PyRMSLE:0.002284\tvalidation_1-PyRMSLE:0.002567\n",
            "[28]\tvalidation_0-rmse:0.002212\tvalidation_1-rmse:0.002494\tvalidation_0-PyRMSLE:0.002209\tvalidation_1-PyRMSLE:0.002496\n",
            "[29]\tvalidation_0-rmse:0.002163\tvalidation_1-rmse:0.002446\tvalidation_0-PyRMSLE:0.00216\tvalidation_1-PyRMSLE:0.002448\n",
            "[30]\tvalidation_0-rmse:0.002131\tvalidation_1-rmse:0.002415\tvalidation_0-PyRMSLE:0.002127\tvalidation_1-PyRMSLE:0.002416\n",
            "[31]\tvalidation_0-rmse:0.00211\tvalidation_1-rmse:0.002394\tvalidation_0-PyRMSLE:0.002107\tvalidation_1-PyRMSLE:0.002395\n",
            "[32]\tvalidation_0-rmse:0.002096\tvalidation_1-rmse:0.00238\tvalidation_0-PyRMSLE:0.002093\tvalidation_1-PyRMSLE:0.002381\n",
            "[33]\tvalidation_0-rmse:0.002088\tvalidation_1-rmse:0.00237\tvalidation_0-PyRMSLE:0.002084\tvalidation_1-PyRMSLE:0.002372\n",
            "[34]\tvalidation_0-rmse:0.002082\tvalidation_1-rmse:0.002364\tvalidation_0-PyRMSLE:0.002079\tvalidation_1-PyRMSLE:0.002365\n",
            "[35]\tvalidation_0-rmse:0.002079\tvalidation_1-rmse:0.00236\tvalidation_0-PyRMSLE:0.002075\tvalidation_1-PyRMSLE:0.002361\n",
            "[36]\tvalidation_0-rmse:0.002076\tvalidation_1-rmse:0.002357\tvalidation_0-PyRMSLE:0.002073\tvalidation_1-PyRMSLE:0.002358\n",
            "[37]\tvalidation_0-rmse:0.002075\tvalidation_1-rmse:0.002355\tvalidation_0-PyRMSLE:0.002071\tvalidation_1-PyRMSLE:0.002356\n",
            "[38]\tvalidation_0-rmse:0.002074\tvalidation_1-rmse:0.002354\tvalidation_0-PyRMSLE:0.00207\tvalidation_1-PyRMSLE:0.002355\n",
            "[39]\tvalidation_0-rmse:0.002073\tvalidation_1-rmse:0.002353\tvalidation_0-PyRMSLE:0.00207\tvalidation_1-PyRMSLE:0.002354\n",
            "[40]\tvalidation_0-rmse:0.002073\tvalidation_1-rmse:0.002352\tvalidation_0-PyRMSLE:0.002069\tvalidation_1-PyRMSLE:0.002353\n",
            "[41]\tvalidation_0-rmse:0.002073\tvalidation_1-rmse:0.002351\tvalidation_0-PyRMSLE:0.002069\tvalidation_1-PyRMSLE:0.002353\n",
            "[42]\tvalidation_0-rmse:0.002073\tvalidation_1-rmse:0.002351\tvalidation_0-PyRMSLE:0.002069\tvalidation_1-PyRMSLE:0.002352\n",
            "[43]\tvalidation_0-rmse:0.002073\tvalidation_1-rmse:0.002351\tvalidation_0-PyRMSLE:0.002069\tvalidation_1-PyRMSLE:0.002352\n",
            "[44]\tvalidation_0-rmse:0.002072\tvalidation_1-rmse:0.002351\tvalidation_0-PyRMSLE:0.002069\tvalidation_1-PyRMSLE:0.002352\n",
            "[45]\tvalidation_0-rmse:0.002072\tvalidation_1-rmse:0.00235\tvalidation_0-PyRMSLE:0.002069\tvalidation_1-PyRMSLE:0.002351\n",
            "[0]\tvalidation_0-rmse:0.40002\tvalidation_1-rmse:0.400061\tvalidation_0-PyRMSLE:0.336523\tvalidation_1-PyRMSLE:0.336563\n",
            "[1]\tvalidation_0-rmse:0.319815\tvalidation_1-rmse:0.320068\tvalidation_0-PyRMSLE:0.277682\tvalidation_1-PyRMSLE:0.277732\n",
            "[2]\tvalidation_0-rmse:0.256157\tvalidation_1-rmse:0.25608\tvalidation_0-PyRMSLE:0.227983\tvalidation_1-PyRMSLE:0.228045\n",
            "[3]\tvalidation_0-rmse:0.204834\tvalidation_1-rmse:0.204897\tvalidation_0-PyRMSLE:0.186367\tvalidation_1-PyRMSLE:0.186444\n",
            "[4]\tvalidation_0-rmse:0.163902\tvalidation_1-rmse:0.163961\tvalidation_0-PyRMSLE:0.151783\tvalidation_1-PyRMSLE:0.151877\n",
            "[5]\tvalidation_0-rmse:0.13113\tvalidation_1-rmse:0.131222\tvalidation_0-PyRMSLE:0.12323\tvalidation_1-PyRMSLE:0.123347\n",
            "[6]\tvalidation_0-rmse:0.104919\tvalidation_1-rmse:0.105045\tvalidation_0-PyRMSLE:0.099789\tvalidation_1-PyRMSLE:0.099935\n",
            "[7]\tvalidation_0-rmse:0.083959\tvalidation_1-rmse:0.084122\tvalidation_0-PyRMSLE:0.080636\tvalidation_1-PyRMSLE:0.080818\n",
            "[8]\tvalidation_0-rmse:0.067197\tvalidation_1-rmse:0.067405\tvalidation_0-PyRMSLE:0.065051\tvalidation_1-PyRMSLE:0.065278\n",
            "[9]\tvalidation_0-rmse:0.053794\tvalidation_1-rmse:0.054059\tvalidation_0-PyRMSLE:0.052413\tvalidation_1-PyRMSLE:0.052695\n",
            "[10]\tvalidation_0-rmse:0.043082\tvalidation_1-rmse:0.043417\tvalidation_0-PyRMSLE:0.042195\tvalidation_1-PyRMSLE:0.042545\n",
            "[11]\tvalidation_0-rmse:0.034524\tvalidation_1-rmse:0.034945\tvalidation_0-PyRMSLE:0.033956\tvalidation_1-PyRMSLE:0.034391\n",
            "[12]\tvalidation_0-rmse:0.027691\tvalidation_1-rmse:0.028219\tvalidation_0-PyRMSLE:0.027329\tvalidation_1-PyRMSLE:0.027869\n",
            "[13]\tvalidation_0-rmse:0.022242\tvalidation_1-rmse:0.022901\tvalidation_0-PyRMSLE:0.022013\tvalidation_1-PyRMSLE:0.022681\n",
            "[14]\tvalidation_0-rmse:0.017905\tvalidation_1-rmse:0.018722\tvalidation_0-PyRMSLE:0.017762\tvalidation_1-PyRMSLE:0.018584\n",
            "[15]\tvalidation_0-rmse:0.014463\tvalidation_1-rmse:0.015467\tvalidation_0-PyRMSLE:0.014374\tvalidation_1-PyRMSLE:0.015379\n",
            "[16]\tvalidation_0-rmse:0.011741\tvalidation_1-rmse:0.012962\tvalidation_0-PyRMSLE:0.011687\tvalidation_1-PyRMSLE:0.012905\n",
            "[17]\tvalidation_0-rmse:0.009602\tvalidation_1-rmse:0.011065\tvalidation_0-PyRMSLE:0.009571\tvalidation_1-PyRMSLE:0.011026\n",
            "[18]\tvalidation_0-rmse:0.007936\tvalidation_1-rmse:0.009659\tvalidation_0-PyRMSLE:0.00792\tvalidation_1-PyRMSLE:0.009628\n",
            "[19]\tvalidation_0-rmse:0.006655\tvalidation_1-rmse:0.008641\tvalidation_0-PyRMSLE:0.006647\tvalidation_1-PyRMSLE:0.008613\n",
            "[20]\tvalidation_0-rmse:0.005685\tvalidation_1-rmse:0.007921\tvalidation_0-PyRMSLE:0.005683\tvalidation_1-PyRMSLE:0.007893\n",
            "[21]\tvalidation_0-rmse:0.004967\tvalidation_1-rmse:0.007424\tvalidation_0-PyRMSLE:0.004968\tvalidation_1-PyRMSLE:0.007395\n",
            "[22]\tvalidation_0-rmse:0.004446\tvalidation_1-rmse:0.007088\tvalidation_0-PyRMSLE:0.004449\tvalidation_1-PyRMSLE:0.007058\n",
            "[23]\tvalidation_0-rmse:0.004078\tvalidation_1-rmse:0.006865\tvalidation_0-PyRMSLE:0.004082\tvalidation_1-PyRMSLE:0.006833\n",
            "[24]\tvalidation_0-rmse:0.003824\tvalidation_1-rmse:0.006719\tvalidation_0-PyRMSLE:0.003828\tvalidation_1-PyRMSLE:0.006684\n",
            "[25]\tvalidation_0-rmse:0.003652\tvalidation_1-rmse:0.006623\tvalidation_0-PyRMSLE:0.003657\tvalidation_1-PyRMSLE:0.006588\n",
            "[26]\tvalidation_0-rmse:0.003537\tvalidation_1-rmse:0.006562\tvalidation_0-PyRMSLE:0.003542\tvalidation_1-PyRMSLE:0.006525\n",
            "[27]\tvalidation_0-rmse:0.003462\tvalidation_1-rmse:0.006522\tvalidation_0-PyRMSLE:0.003467\tvalidation_1-PyRMSLE:0.006485\n",
            "[28]\tvalidation_0-rmse:0.003413\tvalidation_1-rmse:0.006497\tvalidation_0-PyRMSLE:0.003418\tvalidation_1-PyRMSLE:0.006459\n",
            "[29]\tvalidation_0-rmse:0.003382\tvalidation_1-rmse:0.006481\tvalidation_0-PyRMSLE:0.003386\tvalidation_1-PyRMSLE:0.006442\n",
            "[30]\tvalidation_0-rmse:0.003361\tvalidation_1-rmse:0.006471\tvalidation_0-PyRMSLE:0.003365\tvalidation_1-PyRMSLE:0.006431\n",
            "[31]\tvalidation_0-rmse:0.003348\tvalidation_1-rmse:0.006464\tvalidation_0-PyRMSLE:0.003352\tvalidation_1-PyRMSLE:0.006424\n",
            "[32]\tvalidation_0-rmse:0.003339\tvalidation_1-rmse:0.00646\tvalidation_0-PyRMSLE:0.003343\tvalidation_1-PyRMSLE:0.00642\n",
            "[33]\tvalidation_0-rmse:0.003334\tvalidation_1-rmse:0.006457\tvalidation_0-PyRMSLE:0.003338\tvalidation_1-PyRMSLE:0.006417\n",
            "[34]\tvalidation_0-rmse:0.003331\tvalidation_1-rmse:0.006456\tvalidation_0-PyRMSLE:0.003334\tvalidation_1-PyRMSLE:0.006415\n",
            "[35]\tvalidation_0-rmse:0.003328\tvalidation_1-rmse:0.006455\tvalidation_0-PyRMSLE:0.003332\tvalidation_1-PyRMSLE:0.006414\n",
            "[36]\tvalidation_0-rmse:0.003327\tvalidation_1-rmse:0.006454\tvalidation_0-PyRMSLE:0.00333\tvalidation_1-PyRMSLE:0.006413\n",
            "[37]\tvalidation_0-rmse:0.003326\tvalidation_1-rmse:0.006454\tvalidation_0-PyRMSLE:0.003329\tvalidation_1-PyRMSLE:0.006413\n",
            "[38]\tvalidation_0-rmse:0.003325\tvalidation_1-rmse:0.006453\tvalidation_0-PyRMSLE:0.003329\tvalidation_1-PyRMSLE:0.006413\n",
            "[39]\tvalidation_0-rmse:0.003325\tvalidation_1-rmse:0.006453\tvalidation_0-PyRMSLE:0.003328\tvalidation_1-PyRMSLE:0.006412\n",
            "[0]\tvalidation_0-rmse:0.400112\tvalidation_1-rmse:0.399926\tvalidation_0-PyRMSLE:0.336688\tvalidation_1-PyRMSLE:0.336441\n",
            "[1]\tvalidation_0-rmse:0.320099\tvalidation_1-rmse:0.319959\tvalidation_0-PyRMSLE:0.2779\tvalidation_1-PyRMSLE:0.27763\n",
            "[2]\tvalidation_0-rmse:0.256304\tvalidation_1-rmse:0.255994\tvalidation_0-PyRMSLE:0.228263\tvalidation_1-PyRMSLE:0.227965\n",
            "[3]\tvalidation_0-rmse:0.20511\tvalidation_1-rmse:0.204833\tvalidation_0-PyRMSLE:0.186718\tvalidation_1-PyRMSLE:0.186385\n",
            "[4]\tvalidation_0-rmse:0.164256\tvalidation_1-rmse:0.16392\tvalidation_0-PyRMSLE:0.152219\tvalidation_1-PyRMSLE:0.151842\n",
            "[5]\tvalidation_0-rmse:0.131583\tvalidation_1-rmse:0.131206\tvalidation_0-PyRMSLE:0.12377\tvalidation_1-PyRMSLE:0.123338\n",
            "[6]\tvalidation_0-rmse:0.1055\tvalidation_1-rmse:0.105059\tvalidation_0-PyRMSLE:0.100455\tvalidation_1-PyRMSLE:0.099955\n",
            "[7]\tvalidation_0-rmse:0.084694\tvalidation_1-rmse:0.084169\tvalidation_0-PyRMSLE:0.081456\tvalidation_1-PyRMSLE:0.080873\n",
            "[8]\tvalidation_0-rmse:0.06812\tvalidation_1-rmse:0.067492\tvalidation_0-PyRMSLE:0.06606\tvalidation_1-PyRMSLE:0.065373\n",
            "[9]\tvalidation_0-rmse:0.05495\tvalidation_1-rmse:0.054195\tvalidation_0-PyRMSLE:0.053653\tvalidation_1-PyRMSLE:0.052838\n",
            "[10]\tvalidation_0-rmse:0.04452\tvalidation_1-rmse:0.043612\tvalidation_0-PyRMSLE:0.043717\tvalidation_1-PyRMSLE:0.042746\n",
            "[11]\tvalidation_0-rmse:0.036306\tvalidation_1-rmse:0.035211\tvalidation_0-PyRMSLE:0.03582\tvalidation_1-PyRMSLE:0.034662\n",
            "[12]\tvalidation_0-rmse:0.029887\tvalidation_1-rmse:0.028571\tvalidation_0-PyRMSLE:0.029603\tvalidation_1-PyRMSLE:0.028224\n",
            "[13]\tvalidation_0-rmse:0.024925\tvalidation_1-rmse:0.023356\tvalidation_0-PyRMSLE:0.02477\tvalidation_1-PyRMSLE:0.023136\n",
            "[14]\tvalidation_0-rmse:0.021144\tvalidation_1-rmse:0.019293\tvalidation_0-PyRMSLE:0.021068\tvalidation_1-PyRMSLE:0.019151\n",
            "[15]\tvalidation_0-rmse:0.018319\tvalidation_1-rmse:0.016171\tvalidation_0-PyRMSLE:0.01829\tvalidation_1-PyRMSLE:0.016075\n",
            "[16]\tvalidation_0-rmse:0.016257\tvalidation_1-rmse:0.013814\tvalidation_0-PyRMSLE:0.016254\tvalidation_1-PyRMSLE:0.013744\n",
            "[17]\tvalidation_0-rmse:0.014787\tvalidation_1-rmse:0.012071\tvalidation_0-PyRMSLE:0.014797\tvalidation_1-PyRMSLE:0.012013\n",
            "[18]\tvalidation_0-rmse:0.013765\tvalidation_1-rmse:0.010812\tvalidation_0-PyRMSLE:0.013779\tvalidation_1-PyRMSLE:0.010759\n",
            "[19]\tvalidation_0-rmse:0.013068\tvalidation_1-rmse:0.009927\tvalidation_0-PyRMSLE:0.013083\tvalidation_1-PyRMSLE:0.009873\n",
            "[20]\tvalidation_0-rmse:0.012602\tvalidation_1-rmse:0.009319\tvalidation_0-PyRMSLE:0.012615\tvalidation_1-PyRMSLE:0.009263\n",
            "[21]\tvalidation_0-rmse:0.012294\tvalidation_1-rmse:0.00891\tvalidation_0-PyRMSLE:0.012304\tvalidation_1-PyRMSLE:0.008851\n",
            "[22]\tvalidation_0-rmse:0.012092\tvalidation_1-rmse:0.00864\tvalidation_0-PyRMSLE:0.012101\tvalidation_1-PyRMSLE:0.008578\n",
            "[23]\tvalidation_0-rmse:0.011961\tvalidation_1-rmse:0.008465\tvalidation_0-PyRMSLE:0.011967\tvalidation_1-PyRMSLE:0.008399\n",
            "[24]\tvalidation_0-rmse:0.011877\tvalidation_1-rmse:0.008351\tvalidation_0-PyRMSLE:0.011881\tvalidation_1-PyRMSLE:0.008284\n",
            "[25]\tvalidation_0-rmse:0.011822\tvalidation_1-rmse:0.008279\tvalidation_0-PyRMSLE:0.011825\tvalidation_1-PyRMSLE:0.00821\n",
            "[26]\tvalidation_0-rmse:0.011787\tvalidation_1-rmse:0.008234\tvalidation_0-PyRMSLE:0.011788\tvalidation_1-PyRMSLE:0.008163\n",
            "[27]\tvalidation_0-rmse:0.011765\tvalidation_1-rmse:0.008205\tvalidation_0-PyRMSLE:0.011764\tvalidation_1-PyRMSLE:0.008133\n",
            "[28]\tvalidation_0-rmse:0.01175\tvalidation_1-rmse:0.008187\tvalidation_0-PyRMSLE:0.011749\tvalidation_1-PyRMSLE:0.008114\n",
            "[29]\tvalidation_0-rmse:0.011741\tvalidation_1-rmse:0.008176\tvalidation_0-PyRMSLE:0.011739\tvalidation_1-PyRMSLE:0.008102\n",
            "[30]\tvalidation_0-rmse:0.011735\tvalidation_1-rmse:0.008169\tvalidation_0-PyRMSLE:0.011732\tvalidation_1-PyRMSLE:0.008095\n",
            "[31]\tvalidation_0-rmse:0.011731\tvalidation_1-rmse:0.008165\tvalidation_0-PyRMSLE:0.011728\tvalidation_1-PyRMSLE:0.00809\n",
            "[32]\tvalidation_0-rmse:0.011729\tvalidation_1-rmse:0.008163\tvalidation_0-PyRMSLE:0.011725\tvalidation_1-PyRMSLE:0.008088\n",
            "[33]\tvalidation_0-rmse:0.011727\tvalidation_1-rmse:0.008161\tvalidation_0-PyRMSLE:0.011723\tvalidation_1-PyRMSLE:0.008086\n",
            "[34]\tvalidation_0-rmse:0.011726\tvalidation_1-rmse:0.008161\tvalidation_0-PyRMSLE:0.011722\tvalidation_1-PyRMSLE:0.008085\n",
            "[35]\tvalidation_0-rmse:0.011726\tvalidation_1-rmse:0.00816\tvalidation_0-PyRMSLE:0.011721\tvalidation_1-PyRMSLE:0.008085\n",
            "[36]\tvalidation_0-rmse:0.011725\tvalidation_1-rmse:0.00816\tvalidation_0-PyRMSLE:0.01172\tvalidation_1-PyRMSLE:0.008084\n",
            "[0]\tvalidation_0-rmse:0.399968\tvalidation_1-rmse:0.399994\tvalidation_0-PyRMSLE:0.336479\tvalidation_1-PyRMSLE:0.336473\n",
            "[1]\tvalidation_0-rmse:0.319752\tvalidation_1-rmse:0.319998\tvalidation_0-PyRMSLE:0.277641\tvalidation_1-PyRMSLE:0.277637\n",
            "[2]\tvalidation_0-rmse:0.25617\tvalidation_1-rmse:0.256004\tvalidation_0-PyRMSLE:0.227945\tvalidation_1-PyRMSLE:0.227942\n",
            "[3]\tvalidation_0-rmse:0.20481\tvalidation_1-rmse:0.204809\tvalidation_0-PyRMSLE:0.18633\tvalidation_1-PyRMSLE:0.186329\n",
            "[4]\tvalidation_0-rmse:0.163893\tvalidation_1-rmse:0.163856\tvalidation_0-PyRMSLE:0.151745\tvalidation_1-PyRMSLE:0.151747\n",
            "[5]\tvalidation_0-rmse:0.131101\tvalidation_1-rmse:0.131096\tvalidation_0-PyRMSLE:0.123191\tvalidation_1-PyRMSLE:0.123196\n",
            "[6]\tvalidation_0-rmse:0.104885\tvalidation_1-rmse:0.104891\tvalidation_0-PyRMSLE:0.099747\tvalidation_1-PyRMSLE:0.099757\n",
            "[7]\tvalidation_0-rmse:0.08392\tvalidation_1-rmse:0.083931\tvalidation_0-PyRMSLE:0.080591\tvalidation_1-PyRMSLE:0.080605\n",
            "[8]\tvalidation_0-rmse:0.067151\tvalidation_1-rmse:0.067169\tvalidation_0-PyRMSLE:0.064999\tvalidation_1-PyRMSLE:0.06502\n",
            "[9]\tvalidation_0-rmse:0.05374\tvalidation_1-rmse:0.053766\tvalidation_0-PyRMSLE:0.052352\tvalidation_1-PyRMSLE:0.052381\n",
            "[10]\tvalidation_0-rmse:0.043016\tvalidation_1-rmse:0.043052\tvalidation_0-PyRMSLE:0.042123\tvalidation_1-PyRMSLE:0.042162\n",
            "[11]\tvalidation_0-rmse:0.034442\tvalidation_1-rmse:0.034491\tvalidation_0-PyRMSLE:0.033869\tvalidation_1-PyRMSLE:0.033921\n",
            "[12]\tvalidation_0-rmse:0.027591\tvalidation_1-rmse:0.027655\tvalidation_0-PyRMSLE:0.027223\tvalidation_1-PyRMSLE:0.027291\n",
            "[13]\tvalidation_0-rmse:0.022118\tvalidation_1-rmse:0.022202\tvalidation_0-PyRMSLE:0.021884\tvalidation_1-PyRMSLE:0.021971\n",
            "[14]\tvalidation_0-rmse:0.017751\tvalidation_1-rmse:0.01786\tvalidation_0-PyRMSLE:0.017602\tvalidation_1-PyRMSLE:0.017714\n",
            "[15]\tvalidation_0-rmse:0.014272\tvalidation_1-rmse:0.014411\tvalidation_0-PyRMSLE:0.014178\tvalidation_1-PyRMSLE:0.01432\n",
            "[16]\tvalidation_0-rmse:0.011505\tvalidation_1-rmse:0.011681\tvalidation_0-PyRMSLE:0.011446\tvalidation_1-PyRMSLE:0.011625\n",
            "[17]\tvalidation_0-rmse:0.009313\tvalidation_1-rmse:0.009533\tvalidation_0-PyRMSLE:0.009276\tvalidation_1-PyRMSLE:0.009499\n",
            "[18]\tvalidation_0-rmse:0.007584\tvalidation_1-rmse:0.007857\tvalidation_0-PyRMSLE:0.007562\tvalidation_1-PyRMSLE:0.007837\n",
            "[19]\tvalidation_0-rmse:0.006231\tvalidation_1-rmse:0.006564\tvalidation_0-PyRMSLE:0.006218\tvalidation_1-PyRMSLE:0.006552\n",
            "[20]\tvalidation_0-rmse:0.005183\tvalidation_1-rmse:0.005581\tvalidation_0-PyRMSLE:0.005175\tvalidation_1-PyRMSLE:0.005575\n",
            "[21]\tvalidation_0-rmse:0.004382\tvalidation_1-rmse:0.00485\tvalidation_0-PyRMSLE:0.004378\tvalidation_1-PyRMSLE:0.004847\n",
            "[22]\tvalidation_0-rmse:0.003782\tvalidation_1-rmse:0.004318\tvalidation_0-PyRMSLE:0.00378\tvalidation_1-PyRMSLE:0.004316\n",
            "[23]\tvalidation_0-rmse:0.003342\tvalidation_1-rmse:0.00394\tvalidation_0-PyRMSLE:0.00334\tvalidation_1-PyRMSLE:0.003939\n",
            "[24]\tvalidation_0-rmse:0.003027\tvalidation_1-rmse:0.003678\tvalidation_0-PyRMSLE:0.003026\tvalidation_1-PyRMSLE:0.003678\n",
            "[25]\tvalidation_0-rmse:0.002806\tvalidation_1-rmse:0.003501\tvalidation_0-PyRMSLE:0.002806\tvalidation_1-PyRMSLE:0.0035\n",
            "[26]\tvalidation_0-rmse:0.002656\tvalidation_1-rmse:0.003383\tvalidation_0-PyRMSLE:0.002655\tvalidation_1-PyRMSLE:0.003382\n",
            "[27]\tvalidation_0-rmse:0.002555\tvalidation_1-rmse:0.003305\tvalidation_0-PyRMSLE:0.002554\tvalidation_1-PyRMSLE:0.003304\n",
            "[28]\tvalidation_0-rmse:0.002488\tvalidation_1-rmse:0.003255\tvalidation_0-PyRMSLE:0.002487\tvalidation_1-PyRMSLE:0.003253\n",
            "[29]\tvalidation_0-rmse:0.002444\tvalidation_1-rmse:0.003222\tvalidation_0-PyRMSLE:0.002443\tvalidation_1-PyRMSLE:0.003221\n",
            "[30]\tvalidation_0-rmse:0.002416\tvalidation_1-rmse:0.003201\tvalidation_0-PyRMSLE:0.002415\tvalidation_1-PyRMSLE:0.0032\n",
            "[31]\tvalidation_0-rmse:0.002398\tvalidation_1-rmse:0.003188\tvalidation_0-PyRMSLE:0.002396\tvalidation_1-PyRMSLE:0.003186\n",
            "[32]\tvalidation_0-rmse:0.002386\tvalidation_1-rmse:0.00318\tvalidation_0-PyRMSLE:0.002384\tvalidation_1-PyRMSLE:0.003177\n",
            "[33]\tvalidation_0-rmse:0.002378\tvalidation_1-rmse:0.003174\tvalidation_0-PyRMSLE:0.002377\tvalidation_1-PyRMSLE:0.003172\n",
            "[34]\tvalidation_0-rmse:0.002373\tvalidation_1-rmse:0.003171\tvalidation_0-PyRMSLE:0.002372\tvalidation_1-PyRMSLE:0.003169\n",
            "[35]\tvalidation_0-rmse:0.00237\tvalidation_1-rmse:0.003169\tvalidation_0-PyRMSLE:0.002369\tvalidation_1-PyRMSLE:0.003166\n",
            "[36]\tvalidation_0-rmse:0.002368\tvalidation_1-rmse:0.003167\tvalidation_0-PyRMSLE:0.002367\tvalidation_1-PyRMSLE:0.003165\n",
            "[37]\tvalidation_0-rmse:0.002367\tvalidation_1-rmse:0.003166\tvalidation_0-PyRMSLE:0.002365\tvalidation_1-PyRMSLE:0.003164\n",
            "[38]\tvalidation_0-rmse:0.002366\tvalidation_1-rmse:0.003166\tvalidation_0-PyRMSLE:0.002364\tvalidation_1-PyRMSLE:0.003163\n",
            "[0]\tvalidation_0-rmse:0.400049\tvalidation_1-rmse:0.400068\tvalidation_0-PyRMSLE:0.336513\tvalidation_1-PyRMSLE:0.336556\n",
            "[1]\tvalidation_0-rmse:0.319875\tvalidation_1-rmse:0.320071\tvalidation_0-PyRMSLE:0.277673\tvalidation_1-PyRMSLE:0.277719\n",
            "[2]\tvalidation_0-rmse:0.256121\tvalidation_1-rmse:0.256076\tvalidation_0-PyRMSLE:0.227974\tvalidation_1-PyRMSLE:0.228024\n",
            "[3]\tvalidation_0-rmse:0.20484\tvalidation_1-rmse:0.204883\tvalidation_0-PyRMSLE:0.186358\tvalidation_1-PyRMSLE:0.186413\n",
            "[4]\tvalidation_0-rmse:0.163902\tvalidation_1-rmse:0.163932\tvalidation_0-PyRMSLE:0.151773\tvalidation_1-PyRMSLE:0.151834\n",
            "[5]\tvalidation_0-rmse:0.131118\tvalidation_1-rmse:0.131178\tvalidation_0-PyRMSLE:0.123219\tvalidation_1-PyRMSLE:0.123288\n",
            "[6]\tvalidation_0-rmse:0.104911\tvalidation_1-rmse:0.10498\tvalidation_0-PyRMSLE:0.099777\tvalidation_1-PyRMSLE:0.099856\n",
            "[7]\tvalidation_0-rmse:0.083949\tvalidation_1-rmse:0.084031\tvalidation_0-PyRMSLE:0.080624\tvalidation_1-PyRMSLE:0.080714\n",
            "[8]\tvalidation_0-rmse:0.067184\tvalidation_1-rmse:0.067282\tvalidation_0-PyRMSLE:0.065037\tvalidation_1-PyRMSLE:0.065142\n",
            "[9]\tvalidation_0-rmse:0.053779\tvalidation_1-rmse:0.053896\tvalidation_0-PyRMSLE:0.052396\tvalidation_1-PyRMSLE:0.052519\n",
            "[10]\tvalidation_0-rmse:0.043064\tvalidation_1-rmse:0.043203\tvalidation_0-PyRMSLE:0.042174\tvalidation_1-PyRMSLE:0.042321\n",
            "[11]\tvalidation_0-rmse:0.0345\tvalidation_1-rmse:0.034668\tvalidation_0-PyRMSLE:0.033931\tvalidation_1-PyRMSLE:0.034106\n",
            "[12]\tvalidation_0-rmse:0.027662\tvalidation_1-rmse:0.027866\tvalidation_0-PyRMSLE:0.027299\tvalidation_1-PyRMSLE:0.027509\n",
            "[13]\tvalidation_0-rmse:0.022207\tvalidation_1-rmse:0.022455\tvalidation_0-PyRMSLE:0.021976\tvalidation_1-PyRMSLE:0.022231\n",
            "[14]\tvalidation_0-rmse:0.017861\tvalidation_1-rmse:0.018163\tvalidation_0-PyRMSLE:0.017715\tvalidation_1-PyRMSLE:0.018024\n",
            "[15]\tvalidation_0-rmse:0.014407\tvalidation_1-rmse:0.014767\tvalidation_0-PyRMSLE:0.014316\tvalidation_1-PyRMSLE:0.014682\n",
            "[16]\tvalidation_0-rmse:0.011672\tvalidation_1-rmse:0.012111\tvalidation_0-PyRMSLE:0.011616\tvalidation_1-PyRMSLE:0.01206\n",
            "[17]\tvalidation_0-rmse:0.009518\tvalidation_1-rmse:0.010048\tvalidation_0-PyRMSLE:0.009484\tvalidation_1-PyRMSLE:0.010019\n",
            "[18]\tvalidation_0-rmse:0.007835\tvalidation_1-rmse:0.008467\tvalidation_0-PyRMSLE:0.007815\tvalidation_1-PyRMSLE:0.008452\n",
            "[19]\tvalidation_0-rmse:0.006534\tvalidation_1-rmse:0.007277\tvalidation_0-PyRMSLE:0.006523\tvalidation_1-PyRMSLE:0.007269\n",
            "[20]\tvalidation_0-rmse:0.005543\tvalidation_1-rmse:0.006399\tvalidation_0-PyRMSLE:0.005537\tvalidation_1-PyRMSLE:0.006396\n",
            "[21]\tvalidation_0-rmse:0.004803\tvalidation_1-rmse:0.005768\tvalidation_0-PyRMSLE:0.0048\tvalidation_1-PyRMSLE:0.005767\n",
            "[22]\tvalidation_0-rmse:0.004262\tvalidation_1-rmse:0.005324\tvalidation_0-PyRMSLE:0.004261\tvalidation_1-PyRMSLE:0.005324\n",
            "[23]\tvalidation_0-rmse:0.003877\tvalidation_1-rmse:0.005019\tvalidation_0-PyRMSLE:0.003876\tvalidation_1-PyRMSLE:0.005019\n",
            "[24]\tvalidation_0-rmse:0.003608\tvalidation_1-rmse:0.004813\tvalidation_0-PyRMSLE:0.003608\tvalidation_1-PyRMSLE:0.004813\n",
            "[25]\tvalidation_0-rmse:0.003426\tvalidation_1-rmse:0.004677\tvalidation_0-PyRMSLE:0.003426\tvalidation_1-PyRMSLE:0.004676\n",
            "[26]\tvalidation_0-rmse:0.003304\tvalidation_1-rmse:0.004587\tvalidation_0-PyRMSLE:0.003303\tvalidation_1-PyRMSLE:0.004586\n",
            "[27]\tvalidation_0-rmse:0.003223\tvalidation_1-rmse:0.004528\tvalidation_0-PyRMSLE:0.003222\tvalidation_1-PyRMSLE:0.004527\n",
            "[28]\tvalidation_0-rmse:0.00317\tvalidation_1-rmse:0.00449\tvalidation_0-PyRMSLE:0.003169\tvalidation_1-PyRMSLE:0.004488\n",
            "[29]\tvalidation_0-rmse:0.003136\tvalidation_1-rmse:0.004466\tvalidation_0-PyRMSLE:0.003135\tvalidation_1-PyRMSLE:0.004464\n",
            "[30]\tvalidation_0-rmse:0.003114\tvalidation_1-rmse:0.00445\tvalidation_0-PyRMSLE:0.003113\tvalidation_1-PyRMSLE:0.004447\n",
            "[31]\tvalidation_0-rmse:0.0031\tvalidation_1-rmse:0.004439\tvalidation_0-PyRMSLE:0.003098\tvalidation_1-PyRMSLE:0.004437\n",
            "[32]\tvalidation_0-rmse:0.003091\tvalidation_1-rmse:0.004433\tvalidation_0-PyRMSLE:0.003089\tvalidation_1-PyRMSLE:0.00443\n",
            "[33]\tvalidation_0-rmse:0.003085\tvalidation_1-rmse:0.004429\tvalidation_0-PyRMSLE:0.003083\tvalidation_1-PyRMSLE:0.004426\n",
            "[34]\tvalidation_0-rmse:0.003081\tvalidation_1-rmse:0.004426\tvalidation_0-PyRMSLE:0.003079\tvalidation_1-PyRMSLE:0.004423\n",
            "[35]\tvalidation_0-rmse:0.003079\tvalidation_1-rmse:0.004424\tvalidation_0-PyRMSLE:0.003077\tvalidation_1-PyRMSLE:0.004421\n",
            "[36]\tvalidation_0-rmse:0.003077\tvalidation_1-rmse:0.004423\tvalidation_0-PyRMSLE:0.003075\tvalidation_1-PyRMSLE:0.00442\n",
            "[37]\tvalidation_0-rmse:0.003073\tvalidation_1-rmse:0.004419\tvalidation_0-PyRMSLE:0.003071\tvalidation_1-PyRMSLE:0.004415\n",
            "[38]\tvalidation_0-rmse:0.003072\tvalidation_1-rmse:0.004418\tvalidation_0-PyRMSLE:0.00307\tvalidation_1-PyRMSLE:0.004415\n",
            "[39]\tvalidation_0-rmse:0.003072\tvalidation_1-rmse:0.004418\tvalidation_0-PyRMSLE:0.00307\tvalidation_1-PyRMSLE:0.004415\n",
            "[40]\tvalidation_0-rmse:0.003072\tvalidation_1-rmse:0.004418\tvalidation_0-PyRMSLE:0.00307\tvalidation_1-PyRMSLE:0.004414\n",
            "[0]\tvalidation_0-rmse:0.399998\tvalidation_1-rmse:0.400029\tvalidation_0-PyRMSLE:0.336503\tvalidation_1-PyRMSLE:0.336521\n",
            "[1]\tvalidation_0-rmse:0.319963\tvalidation_1-rmse:0.320042\tvalidation_0-PyRMSLE:0.277675\tvalidation_1-PyRMSLE:0.277693\n",
            "[2]\tvalidation_0-rmse:0.256091\tvalidation_1-rmse:0.256058\tvalidation_0-PyRMSLE:0.22799\tvalidation_1-PyRMSLE:0.228009\n",
            "[3]\tvalidation_0-rmse:0.204859\tvalidation_1-rmse:0.204875\tvalidation_0-PyRMSLE:0.186388\tvalidation_1-PyRMSLE:0.186407\n",
            "[4]\tvalidation_0-rmse:0.163925\tvalidation_1-rmse:0.163936\tvalidation_0-PyRMSLE:0.151818\tvalidation_1-PyRMSLE:0.151839\n",
            "[5]\tvalidation_0-rmse:0.131172\tvalidation_1-rmse:0.131192\tvalidation_0-PyRMSLE:0.123282\tvalidation_1-PyRMSLE:0.123305\n",
            "[6]\tvalidation_0-rmse:0.104983\tvalidation_1-rmse:0.105006\tvalidation_0-PyRMSLE:0.099859\tvalidation_1-PyRMSLE:0.099885\n",
            "[7]\tvalidation_0-rmse:0.084044\tvalidation_1-rmse:0.084071\tvalidation_0-PyRMSLE:0.080729\tvalidation_1-PyRMSLE:0.080758\n",
            "[8]\tvalidation_0-rmse:0.067308\tvalidation_1-rmse:0.067339\tvalidation_0-PyRMSLE:0.06517\tvalidation_1-PyRMSLE:0.065204\n",
            "[9]\tvalidation_0-rmse:0.053936\tvalidation_1-rmse:0.053973\tvalidation_0-PyRMSLE:0.052564\tvalidation_1-PyRMSLE:0.052602\n",
            "[10]\tvalidation_0-rmse:0.043261\tvalidation_1-rmse:0.043305\tvalidation_0-PyRMSLE:0.042384\tvalidation_1-PyRMSLE:0.042429\n",
            "[11]\tvalidation_0-rmse:0.034748\tvalidation_1-rmse:0.034801\tvalidation_0-PyRMSLE:0.034192\tvalidation_1-PyRMSLE:0.034244\n",
            "[12]\tvalidation_0-rmse:0.027972\tvalidation_1-rmse:0.028035\tvalidation_0-PyRMSLE:0.027622\tvalidation_1-PyRMSLE:0.027684\n",
            "[13]\tvalidation_0-rmse:0.022593\tvalidation_1-rmse:0.022668\tvalidation_0-PyRMSLE:0.022376\tvalidation_1-PyRMSLE:0.02245\n",
            "[14]\tvalidation_0-rmse:0.01834\tvalidation_1-rmse:0.018431\tvalidation_0-PyRMSLE:0.018209\tvalidation_1-PyRMSLE:0.018297\n",
            "[15]\tvalidation_0-rmse:0.014998\tvalidation_1-rmse:0.015107\tvalidation_0-PyRMSLE:0.014922\tvalidation_1-PyRMSLE:0.015027\n",
            "[16]\tvalidation_0-rmse:0.012396\tvalidation_1-rmse:0.012524\tvalidation_0-PyRMSLE:0.012355\tvalidation_1-PyRMSLE:0.012478\n",
            "[17]\tvalidation_0-rmse:0.010393\tvalidation_1-rmse:0.010544\tvalidation_0-PyRMSLE:0.010374\tvalidation_1-PyRMSLE:0.010519\n",
            "[18]\tvalidation_0-rmse:0.008878\tvalidation_1-rmse:0.009051\tvalidation_0-PyRMSLE:0.008873\tvalidation_1-PyRMSLE:0.009039\n",
            "[19]\tvalidation_0-rmse:0.007754\tvalidation_1-rmse:0.00795\tvalidation_0-PyRMSLE:0.007758\tvalidation_1-PyRMSLE:0.007945\n",
            "[20]\tvalidation_0-rmse:0.00694\tvalidation_1-rmse:0.007157\tvalidation_0-PyRMSLE:0.006948\tvalidation_1-PyRMSLE:0.007155\n",
            "[21]\tvalidation_0-rmse:0.006364\tvalidation_1-rmse:0.006599\tvalidation_0-PyRMSLE:0.006375\tvalidation_1-PyRMSLE:0.006598\n",
            "[22]\tvalidation_0-rmse:0.005967\tvalidation_1-rmse:0.006215\tvalidation_0-PyRMSLE:0.005979\tvalidation_1-PyRMSLE:0.006215\n",
            "[23]\tvalidation_0-rmse:0.005698\tvalidation_1-rmse:0.005956\tvalidation_0-PyRMSLE:0.00571\tvalidation_1-PyRMSLE:0.005956\n",
            "[24]\tvalidation_0-rmse:0.005519\tvalidation_1-rmse:0.005785\tvalidation_0-PyRMSLE:0.005531\tvalidation_1-PyRMSLE:0.005783\n",
            "[25]\tvalidation_0-rmse:0.005401\tvalidation_1-rmse:0.005672\tvalidation_0-PyRMSLE:0.005413\tvalidation_1-PyRMSLE:0.00567\n",
            "[26]\tvalidation_0-rmse:0.005324\tvalidation_1-rmse:0.005598\tvalidation_0-PyRMSLE:0.005336\tvalidation_1-PyRMSLE:0.005596\n",
            "[27]\tvalidation_0-rmse:0.005275\tvalidation_1-rmse:0.005551\tvalidation_0-PyRMSLE:0.005286\tvalidation_1-PyRMSLE:0.005547\n",
            "[28]\tvalidation_0-rmse:0.005243\tvalidation_1-rmse:0.00552\tvalidation_0-PyRMSLE:0.005254\tvalidation_1-PyRMSLE:0.005516\n",
            "[29]\tvalidation_0-rmse:0.005222\tvalidation_1-rmse:0.0055\tvalidation_0-PyRMSLE:0.005233\tvalidation_1-PyRMSLE:0.005496\n",
            "[30]\tvalidation_0-rmse:0.005209\tvalidation_1-rmse:0.005487\tvalidation_0-PyRMSLE:0.005219\tvalidation_1-PyRMSLE:0.005483\n",
            "[31]\tvalidation_0-rmse:0.0052\tvalidation_1-rmse:0.005479\tvalidation_0-PyRMSLE:0.00521\tvalidation_1-PyRMSLE:0.005474\n",
            "[32]\tvalidation_0-rmse:0.005195\tvalidation_1-rmse:0.005474\tvalidation_0-PyRMSLE:0.005205\tvalidation_1-PyRMSLE:0.005469\n",
            "[33]\tvalidation_0-rmse:0.005191\tvalidation_1-rmse:0.00547\tvalidation_0-PyRMSLE:0.005201\tvalidation_1-PyRMSLE:0.005465\n",
            "[34]\tvalidation_0-rmse:0.005189\tvalidation_1-rmse:0.005468\tvalidation_0-PyRMSLE:0.005199\tvalidation_1-PyRMSLE:0.005463\n",
            "[35]\tvalidation_0-rmse:0.005188\tvalidation_1-rmse:0.005467\tvalidation_0-PyRMSLE:0.005197\tvalidation_1-PyRMSLE:0.005461\n",
            "[36]\tvalidation_0-rmse:0.005187\tvalidation_1-rmse:0.005466\tvalidation_0-PyRMSLE:0.005196\tvalidation_1-PyRMSLE:0.00546\n",
            "[37]\tvalidation_0-rmse:0.005186\tvalidation_1-rmse:0.005465\tvalidation_0-PyRMSLE:0.005196\tvalidation_1-PyRMSLE:0.00546\n",
            "[38]\tvalidation_0-rmse:0.005186\tvalidation_1-rmse:0.005465\tvalidation_0-PyRMSLE:0.005195\tvalidation_1-PyRMSLE:0.005459\n",
            "[39]\tvalidation_0-rmse:0.005186\tvalidation_1-rmse:0.005464\tvalidation_0-PyRMSLE:0.005195\tvalidation_1-PyRMSLE:0.005459\n",
            "[40]\tvalidation_0-rmse:0.005186\tvalidation_1-rmse:0.005464\tvalidation_0-PyRMSLE:0.005195\tvalidation_1-PyRMSLE:0.005459\n",
            "[41]\tvalidation_0-rmse:0.005185\tvalidation_1-rmse:0.005464\tvalidation_0-PyRMSLE:0.005195\tvalidation_1-PyRMSLE:0.005459\n",
            "[42]\tvalidation_0-rmse:0.005185\tvalidation_1-rmse:0.005464\tvalidation_0-PyRMSLE:0.005195\tvalidation_1-PyRMSLE:0.005458\n",
            "[0]\tvalidation_0-rmse:0.399958\tvalidation_1-rmse:0.400102\tvalidation_0-PyRMSLE:0.336493\tvalidation_1-PyRMSLE:0.336593\n",
            "[1]\tvalidation_0-rmse:0.319846\tvalidation_1-rmse:0.320113\tvalidation_0-PyRMSLE:0.277661\tvalidation_1-PyRMSLE:0.277764\n",
            "[2]\tvalidation_0-rmse:0.256138\tvalidation_1-rmse:0.256128\tvalidation_0-PyRMSLE:0.22797\tvalidation_1-PyRMSLE:0.228078\n",
            "[3]\tvalidation_0-rmse:0.20483\tvalidation_1-rmse:0.204944\tvalidation_0-PyRMSLE:0.186362\tvalidation_1-PyRMSLE:0.186475\n",
            "[4]\tvalidation_0-rmse:0.163905\tvalidation_1-rmse:0.164001\tvalidation_0-PyRMSLE:0.151786\tvalidation_1-PyRMSLE:0.151905\n",
            "[5]\tvalidation_0-rmse:0.131144\tvalidation_1-rmse:0.131257\tvalidation_0-PyRMSLE:0.123242\tvalidation_1-PyRMSLE:0.123369\n",
            "[6]\tvalidation_0-rmse:0.10494\tvalidation_1-rmse:0.105069\tvalidation_0-PyRMSLE:0.09981\tvalidation_1-PyRMSLE:0.099947\n",
            "[7]\tvalidation_0-rmse:0.08399\tvalidation_1-rmse:0.084132\tvalidation_0-PyRMSLE:0.080668\tvalidation_1-PyRMSLE:0.080818\n",
            "[8]\tvalidation_0-rmse:0.067239\tvalidation_1-rmse:0.067397\tvalidation_0-PyRMSLE:0.065095\tvalidation_1-PyRMSLE:0.06526\n",
            "[9]\tvalidation_0-rmse:0.053851\tvalidation_1-rmse:0.054028\tvalidation_0-PyRMSLE:0.05247\tvalidation_1-PyRMSLE:0.052655\n",
            "[10]\tvalidation_0-rmse:0.043154\tvalidation_1-rmse:0.043356\tvalidation_0-PyRMSLE:0.042268\tvalidation_1-PyRMSLE:0.042478\n",
            "[11]\tvalidation_0-rmse:0.034615\tvalidation_1-rmse:0.034847\tvalidation_0-PyRMSLE:0.034049\tvalidation_1-PyRMSLE:0.034288\n",
            "[12]\tvalidation_0-rmse:0.027807\tvalidation_1-rmse:0.028076\tvalidation_0-PyRMSLE:0.027446\tvalidation_1-PyRMSLE:0.027722\n",
            "[13]\tvalidation_0-rmse:0.022388\tvalidation_1-rmse:0.022702\tvalidation_0-PyRMSLE:0.022159\tvalidation_1-PyRMSLE:0.02248\n",
            "[14]\tvalidation_0-rmse:0.018087\tvalidation_1-rmse:0.018455\tvalidation_0-PyRMSLE:0.017942\tvalidation_1-PyRMSLE:0.018318\n",
            "[15]\tvalidation_0-rmse:0.014688\tvalidation_1-rmse:0.01512\tvalidation_0-PyRMSLE:0.014597\tvalidation_1-PyRMSLE:0.015037\n",
            "[16]\tvalidation_0-rmse:0.012017\tvalidation_1-rmse:0.012525\tvalidation_0-PyRMSLE:0.01196\tvalidation_1-PyRMSLE:0.012475\n",
            "[17]\tvalidation_0-rmse:0.009939\tvalidation_1-rmse:0.01053\tvalidation_0-PyRMSLE:0.009903\tvalidation_1-PyRMSLE:0.010501\n",
            "[18]\tvalidation_0-rmse:0.008341\tvalidation_1-rmse:0.009022\tvalidation_0-PyRMSLE:0.008317\tvalidation_1-PyRMSLE:0.009005\n",
            "[19]\tvalidation_0-rmse:0.007133\tvalidation_1-rmse:0.007904\tvalidation_0-PyRMSLE:0.007116\tvalidation_1-PyRMSLE:0.007893\n",
            "[20]\tvalidation_0-rmse:0.006238\tvalidation_1-rmse:0.007094\tvalidation_0-PyRMSLE:0.006225\tvalidation_1-PyRMSLE:0.007087\n",
            "[21]\tvalidation_0-rmse:0.005591\tvalidation_1-rmse:0.006521\tvalidation_0-PyRMSLE:0.005579\tvalidation_1-PyRMSLE:0.006515\n",
            "[22]\tvalidation_0-rmse:0.005134\tvalidation_1-rmse:0.006124\tvalidation_0-PyRMSLE:0.005122\tvalidation_1-PyRMSLE:0.006118\n",
            "[23]\tvalidation_0-rmse:0.004819\tvalidation_1-rmse:0.005855\tvalidation_0-PyRMSLE:0.004807\tvalidation_1-PyRMSLE:0.005848\n",
            "[24]\tvalidation_0-rmse:0.004606\tvalidation_1-rmse:0.005674\tvalidation_0-PyRMSLE:0.004593\tvalidation_1-PyRMSLE:0.005667\n",
            "[25]\tvalidation_0-rmse:0.004464\tvalidation_1-rmse:0.005555\tvalidation_0-PyRMSLE:0.004451\tvalidation_1-PyRMSLE:0.005546\n",
            "[26]\tvalidation_0-rmse:0.004371\tvalidation_1-rmse:0.005476\tvalidation_0-PyRMSLE:0.004357\tvalidation_1-PyRMSLE:0.005467\n",
            "[27]\tvalidation_0-rmse:0.00431\tvalidation_1-rmse:0.005424\tvalidation_0-PyRMSLE:0.004296\tvalidation_1-PyRMSLE:0.005414\n",
            "[28]\tvalidation_0-rmse:0.004271\tvalidation_1-rmse:0.00539\tvalidation_0-PyRMSLE:0.004256\tvalidation_1-PyRMSLE:0.00538\n",
            "[29]\tvalidation_0-rmse:0.004246\tvalidation_1-rmse:0.005368\tvalidation_0-PyRMSLE:0.00423\tvalidation_1-PyRMSLE:0.005357\n",
            "[30]\tvalidation_0-rmse:0.00423\tvalidation_1-rmse:0.005353\tvalidation_0-PyRMSLE:0.004214\tvalidation_1-PyRMSLE:0.005342\n",
            "[31]\tvalidation_0-rmse:0.004219\tvalidation_1-rmse:0.005343\tvalidation_0-PyRMSLE:0.004203\tvalidation_1-PyRMSLE:0.005332\n",
            "[32]\tvalidation_0-rmse:0.004212\tvalidation_1-rmse:0.005337\tvalidation_0-PyRMSLE:0.004196\tvalidation_1-PyRMSLE:0.005325\n",
            "[33]\tvalidation_0-rmse:0.004208\tvalidation_1-rmse:0.005333\tvalidation_0-PyRMSLE:0.004192\tvalidation_1-PyRMSLE:0.005321\n",
            "[34]\tvalidation_0-rmse:0.004205\tvalidation_1-rmse:0.00533\tvalidation_0-PyRMSLE:0.004189\tvalidation_1-PyRMSLE:0.005318\n",
            "[35]\tvalidation_0-rmse:0.004204\tvalidation_1-rmse:0.005328\tvalidation_0-PyRMSLE:0.004187\tvalidation_1-PyRMSLE:0.005316\n",
            "[36]\tvalidation_0-rmse:0.004202\tvalidation_1-rmse:0.005326\tvalidation_0-PyRMSLE:0.004186\tvalidation_1-PyRMSLE:0.005314\n",
            "[37]\tvalidation_0-rmse:0.004202\tvalidation_1-rmse:0.005325\tvalidation_0-PyRMSLE:0.004185\tvalidation_1-PyRMSLE:0.005313\n",
            "[38]\tvalidation_0-rmse:0.004201\tvalidation_1-rmse:0.005325\tvalidation_0-PyRMSLE:0.004184\tvalidation_1-PyRMSLE:0.005312\n",
            "[39]\tvalidation_0-rmse:0.004201\tvalidation_1-rmse:0.005324\tvalidation_0-PyRMSLE:0.004184\tvalidation_1-PyRMSLE:0.005312\n",
            "[40]\tvalidation_0-rmse:0.004201\tvalidation_1-rmse:0.005324\tvalidation_0-PyRMSLE:0.004184\tvalidation_1-PyRMSLE:0.005312\n",
            "[41]\tvalidation_0-rmse:0.004201\tvalidation_1-rmse:0.005324\tvalidation_0-PyRMSLE:0.004184\tvalidation_1-PyRMSLE:0.005311\n",
            "[0]\tvalidation_0-rmse:0.400031\tvalidation_1-rmse:0.400096\tvalidation_0-PyRMSLE:0.336518\tvalidation_1-PyRMSLE:0.336592\n",
            "[1]\tvalidation_0-rmse:0.319921\tvalidation_1-rmse:0.320109\tvalidation_0-PyRMSLE:0.277689\tvalidation_1-PyRMSLE:0.277765\n",
            "[2]\tvalidation_0-rmse:0.25611\tvalidation_1-rmse:0.256126\tvalidation_0-PyRMSLE:0.228002\tvalidation_1-PyRMSLE:0.228082\n",
            "[3]\tvalidation_0-rmse:0.204869\tvalidation_1-rmse:0.204946\tvalidation_0-PyRMSLE:0.186399\tvalidation_1-PyRMSLE:0.186482\n",
            "[4]\tvalidation_0-rmse:0.163945\tvalidation_1-rmse:0.164008\tvalidation_0-PyRMSLE:0.151828\tvalidation_1-PyRMSLE:0.151917\n",
            "[5]\tvalidation_0-rmse:0.131182\tvalidation_1-rmse:0.131268\tvalidation_0-PyRMSLE:0.12329\tvalidation_1-PyRMSLE:0.123386\n",
            "[6]\tvalidation_0-rmse:0.104991\tvalidation_1-rmse:0.105088\tvalidation_0-PyRMSLE:0.099867\tvalidation_1-PyRMSLE:0.09997\n",
            "[7]\tvalidation_0-rmse:0.084051\tvalidation_1-rmse:0.084158\tvalidation_0-PyRMSLE:0.080736\tvalidation_1-PyRMSLE:0.080849\n",
            "[8]\tvalidation_0-rmse:0.067314\tvalidation_1-rmse:0.067433\tvalidation_0-PyRMSLE:0.065176\tvalidation_1-PyRMSLE:0.065301\n",
            "[9]\tvalidation_0-rmse:0.053941\tvalidation_1-rmse:0.054076\tvalidation_0-PyRMSLE:0.052567\tvalidation_1-PyRMSLE:0.052708\n",
            "[10]\tvalidation_0-rmse:0.043265\tvalidation_1-rmse:0.043419\tvalidation_0-PyRMSLE:0.042386\tvalidation_1-PyRMSLE:0.042546\n",
            "[11]\tvalidation_0-rmse:0.034751\tvalidation_1-rmse:0.034929\tvalidation_0-PyRMSLE:0.034191\tvalidation_1-PyRMSLE:0.034375\n",
            "[12]\tvalidation_0-rmse:0.027974\tvalidation_1-rmse:0.02818\tvalidation_0-PyRMSLE:0.027619\tvalidation_1-PyRMSLE:0.027832\n",
            "[13]\tvalidation_0-rmse:0.022593\tvalidation_1-rmse:0.022834\tvalidation_0-PyRMSLE:0.02237\tvalidation_1-PyRMSLE:0.022617\n",
            "[14]\tvalidation_0-rmse:0.018337\tvalidation_1-rmse:0.018621\tvalidation_0-PyRMSLE:0.018199\tvalidation_1-PyRMSLE:0.018488\n",
            "[15]\tvalidation_0-rmse:0.014992\tvalidation_1-rmse:0.015325\tvalidation_0-PyRMSLE:0.014908\tvalidation_1-PyRMSLE:0.015246\n",
            "[16]\tvalidation_0-rmse:0.012386\tvalidation_1-rmse:0.012774\tvalidation_0-PyRMSLE:0.012335\tvalidation_1-PyRMSLE:0.012728\n",
            "[17]\tvalidation_0-rmse:0.01038\tvalidation_1-rmse:0.010828\tvalidation_0-PyRMSLE:0.01035\tvalidation_1-PyRMSLE:0.010802\n",
            "[18]\tvalidation_0-rmse:0.00886\tvalidation_1-rmse:0.00937\tvalidation_0-PyRMSLE:0.008842\tvalidation_1-PyRMSLE:0.009356\n",
            "[19]\tvalidation_0-rmse:0.007732\tvalidation_1-rmse:0.008302\tvalidation_0-PyRMSLE:0.00772\tvalidation_1-PyRMSLE:0.008294\n",
            "[20]\tvalidation_0-rmse:0.006914\tvalidation_1-rmse:0.007537\tvalidation_0-PyRMSLE:0.006905\tvalidation_1-PyRMSLE:0.007532\n",
            "[21]\tvalidation_0-rmse:0.006334\tvalidation_1-rmse:0.007003\tvalidation_0-PyRMSLE:0.006327\tvalidation_1-PyRMSLE:0.006998\n",
            "[22]\tvalidation_0-rmse:0.005933\tvalidation_1-rmse:0.006636\tvalidation_0-PyRMSLE:0.005926\tvalidation_1-PyRMSLE:0.006632\n",
            "[23]\tvalidation_0-rmse:0.005661\tvalidation_1-rmse:0.006389\tvalidation_0-PyRMSLE:0.005654\tvalidation_1-PyRMSLE:0.006384\n",
            "[24]\tvalidation_0-rmse:0.00548\tvalidation_1-rmse:0.006225\tvalidation_0-PyRMSLE:0.005472\tvalidation_1-PyRMSLE:0.006219\n",
            "[25]\tvalidation_0-rmse:0.005361\tvalidation_1-rmse:0.006116\tvalidation_0-PyRMSLE:0.005352\tvalidation_1-PyRMSLE:0.006109\n",
            "[26]\tvalidation_0-rmse:0.005278\tvalidation_1-rmse:0.006043\tvalidation_0-PyRMSLE:0.005269\tvalidation_1-PyRMSLE:0.006035\n",
            "[27]\tvalidation_0-rmse:0.005224\tvalidation_1-rmse:0.005994\tvalidation_0-PyRMSLE:0.005213\tvalidation_1-PyRMSLE:0.005985\n",
            "[28]\tvalidation_0-rmse:0.005191\tvalidation_1-rmse:0.005964\tvalidation_0-PyRMSLE:0.00518\tvalidation_1-PyRMSLE:0.005955\n",
            "[29]\tvalidation_0-rmse:0.00517\tvalidation_1-rmse:0.005945\tvalidation_0-PyRMSLE:0.005159\tvalidation_1-PyRMSLE:0.005935\n",
            "[30]\tvalidation_0-rmse:0.005156\tvalidation_1-rmse:0.005932\tvalidation_0-PyRMSLE:0.005145\tvalidation_1-PyRMSLE:0.005922\n",
            "[31]\tvalidation_0-rmse:0.005147\tvalidation_1-rmse:0.005924\tvalidation_0-PyRMSLE:0.005136\tvalidation_1-PyRMSLE:0.005914\n",
            "[32]\tvalidation_0-rmse:0.005142\tvalidation_1-rmse:0.005919\tvalidation_0-PyRMSLE:0.00513\tvalidation_1-PyRMSLE:0.005908\n",
            "[33]\tvalidation_0-rmse:0.005138\tvalidation_1-rmse:0.005915\tvalidation_0-PyRMSLE:0.005126\tvalidation_1-PyRMSLE:0.005904\n",
            "[34]\tvalidation_0-rmse:0.005136\tvalidation_1-rmse:0.005913\tvalidation_0-PyRMSLE:0.005124\tvalidation_1-PyRMSLE:0.005901\n",
            "[35]\tvalidation_0-rmse:0.005134\tvalidation_1-rmse:0.005911\tvalidation_0-PyRMSLE:0.005122\tvalidation_1-PyRMSLE:0.0059\n",
            "[36]\tvalidation_0-rmse:0.005133\tvalidation_1-rmse:0.00591\tvalidation_0-PyRMSLE:0.005121\tvalidation_1-PyRMSLE:0.005899\n",
            "[37]\tvalidation_0-rmse:0.005133\tvalidation_1-rmse:0.005909\tvalidation_0-PyRMSLE:0.00512\tvalidation_1-PyRMSLE:0.005898\n",
            "[38]\tvalidation_0-rmse:0.005132\tvalidation_1-rmse:0.005909\tvalidation_0-PyRMSLE:0.00512\tvalidation_1-PyRMSLE:0.005897\n",
            "[39]\tvalidation_0-rmse:0.005132\tvalidation_1-rmse:0.005908\tvalidation_0-PyRMSLE:0.00512\tvalidation_1-PyRMSLE:0.005897\n",
            "[40]\tvalidation_0-rmse:0.005132\tvalidation_1-rmse:0.005908\tvalidation_0-PyRMSLE:0.005119\tvalidation_1-PyRMSLE:0.005896\n",
            "[0]\tvalidation_0-rmse:0.399993\tvalidation_1-rmse:0.400019\tvalidation_0-PyRMSLE:0.336486\tvalidation_1-PyRMSLE:0.336503\n",
            "[1]\tvalidation_0-rmse:0.319909\tvalidation_1-rmse:0.32003\tvalidation_0-PyRMSLE:0.277656\tvalidation_1-PyRMSLE:0.277674\n",
            "[2]\tvalidation_0-rmse:0.25608\tvalidation_1-rmse:0.256041\tvalidation_0-PyRMSLE:0.227968\tvalidation_1-PyRMSLE:0.227987\n",
            "[3]\tvalidation_0-rmse:0.204836\tvalidation_1-rmse:0.204856\tvalidation_0-PyRMSLE:0.186362\tvalidation_1-PyRMSLE:0.186382\n",
            "[4]\tvalidation_0-rmse:0.1639\tvalidation_1-rmse:0.163912\tvalidation_0-PyRMSLE:0.151789\tvalidation_1-PyRMSLE:0.15181\n",
            "[5]\tvalidation_0-rmse:0.131141\tvalidation_1-rmse:0.131163\tvalidation_0-PyRMSLE:0.123247\tvalidation_1-PyRMSLE:0.12327\n",
            "[6]\tvalidation_0-rmse:0.104947\tvalidation_1-rmse:0.104971\tvalidation_0-PyRMSLE:0.099818\tvalidation_1-PyRMSLE:0.099844\n",
            "[7]\tvalidation_0-rmse:0.084\tvalidation_1-rmse:0.084027\tvalidation_0-PyRMSLE:0.080679\tvalidation_1-PyRMSLE:0.080708\n",
            "[8]\tvalidation_0-rmse:0.067253\tvalidation_1-rmse:0.067284\tvalidation_0-PyRMSLE:0.06511\tvalidation_1-PyRMSLE:0.065142\n",
            "[9]\tvalidation_0-rmse:0.053868\tvalidation_1-rmse:0.053904\tvalidation_0-PyRMSLE:0.05249\tvalidation_1-PyRMSLE:0.052527\n",
            "[10]\tvalidation_0-rmse:0.043177\tvalidation_1-rmse:0.043219\tvalidation_0-PyRMSLE:0.042293\tvalidation_1-PyRMSLE:0.042336\n",
            "[11]\tvalidation_0-rmse:0.034644\tvalidation_1-rmse:0.034694\tvalidation_0-PyRMSLE:0.03408\tvalidation_1-PyRMSLE:0.03413\n",
            "[12]\tvalidation_0-rmse:0.027843\tvalidation_1-rmse:0.027902\tvalidation_0-PyRMSLE:0.027485\tvalidation_1-PyRMSLE:0.027544\n",
            "[13]\tvalidation_0-rmse:0.022433\tvalidation_1-rmse:0.022503\tvalidation_0-PyRMSLE:0.022208\tvalidation_1-PyRMSLE:0.022278\n",
            "[14]\tvalidation_0-rmse:0.018143\tvalidation_1-rmse:0.018226\tvalidation_0-PyRMSLE:0.018003\tvalidation_1-PyRMSLE:0.018086\n",
            "[15]\tvalidation_0-rmse:0.014757\tvalidation_1-rmse:0.014856\tvalidation_0-PyRMSLE:0.014672\tvalidation_1-PyRMSLE:0.01477\n",
            "[16]\tvalidation_0-rmse:0.012103\tvalidation_1-rmse:0.012221\tvalidation_0-PyRMSLE:0.012052\tvalidation_1-PyRMSLE:0.012168\n",
            "[17]\tvalidation_0-rmse:0.010042\tvalidation_1-rmse:0.010181\tvalidation_0-PyRMSLE:0.010013\tvalidation_1-PyRMSLE:0.01015\n",
            "[18]\tvalidation_0-rmse:0.008464\tvalidation_1-rmse:0.008626\tvalidation_0-PyRMSLE:0.008448\tvalidation_1-PyRMSLE:0.008607\n",
            "[19]\tvalidation_0-rmse:0.007276\tvalidation_1-rmse:0.007462\tvalidation_0-PyRMSLE:0.007268\tvalidation_1-PyRMSLE:0.00745\n",
            "[20]\tvalidation_0-rmse:0.006401\tvalidation_1-rmse:0.00661\tvalidation_0-PyRMSLE:0.006398\tvalidation_1-PyRMSLE:0.006602\n",
            "[21]\tvalidation_0-rmse:0.005773\tvalidation_1-rmse:0.006002\tvalidation_0-PyRMSLE:0.005772\tvalidation_1-PyRMSLE:0.005995\n",
            "[22]\tvalidation_0-rmse:0.005331\tvalidation_1-rmse:0.005577\tvalidation_0-PyRMSLE:0.005331\tvalidation_1-PyRMSLE:0.00557\n",
            "[23]\tvalidation_0-rmse:0.005029\tvalidation_1-rmse:0.005287\tvalidation_0-PyRMSLE:0.005029\tvalidation_1-PyRMSLE:0.00528\n",
            "[24]\tvalidation_0-rmse:0.004825\tvalidation_1-rmse:0.005092\tvalidation_0-PyRMSLE:0.004825\tvalidation_1-PyRMSLE:0.005085\n",
            "[25]\tvalidation_0-rmse:0.00469\tvalidation_1-rmse:0.004964\tvalidation_0-PyRMSLE:0.004689\tvalidation_1-PyRMSLE:0.004956\n",
            "[26]\tvalidation_0-rmse:0.004601\tvalidation_1-rmse:0.00488\tvalidation_0-PyRMSLE:0.0046\tvalidation_1-PyRMSLE:0.004871\n",
            "[27]\tvalidation_0-rmse:0.004544\tvalidation_1-rmse:0.004825\tvalidation_0-PyRMSLE:0.004542\tvalidation_1-PyRMSLE:0.004815\n",
            "[28]\tvalidation_0-rmse:0.004507\tvalidation_1-rmse:0.004789\tvalidation_0-PyRMSLE:0.004505\tvalidation_1-PyRMSLE:0.004779\n",
            "[29]\tvalidation_0-rmse:0.004483\tvalidation_1-rmse:0.004766\tvalidation_0-PyRMSLE:0.00448\tvalidation_1-PyRMSLE:0.004756\n",
            "[30]\tvalidation_0-rmse:0.004467\tvalidation_1-rmse:0.004751\tvalidation_0-PyRMSLE:0.004465\tvalidation_1-PyRMSLE:0.004741\n",
            "[31]\tvalidation_0-rmse:0.004457\tvalidation_1-rmse:0.004742\tvalidation_0-PyRMSLE:0.004455\tvalidation_1-PyRMSLE:0.004731\n",
            "[32]\tvalidation_0-rmse:0.004451\tvalidation_1-rmse:0.004736\tvalidation_0-PyRMSLE:0.004448\tvalidation_1-PyRMSLE:0.004725\n",
            "[33]\tvalidation_0-rmse:0.004447\tvalidation_1-rmse:0.004732\tvalidation_0-PyRMSLE:0.004444\tvalidation_1-PyRMSLE:0.004721\n",
            "[34]\tvalidation_0-rmse:0.004444\tvalidation_1-rmse:0.004729\tvalidation_0-PyRMSLE:0.004441\tvalidation_1-PyRMSLE:0.004718\n",
            "[35]\tvalidation_0-rmse:0.004443\tvalidation_1-rmse:0.004728\tvalidation_0-PyRMSLE:0.004439\tvalidation_1-PyRMSLE:0.004716\n",
            "[36]\tvalidation_0-rmse:0.004442\tvalidation_1-rmse:0.004726\tvalidation_0-PyRMSLE:0.004438\tvalidation_1-PyRMSLE:0.004715\n",
            "[37]\tvalidation_0-rmse:0.004441\tvalidation_1-rmse:0.004726\tvalidation_0-PyRMSLE:0.004438\tvalidation_1-PyRMSLE:0.004714\n",
            "[38]\tvalidation_0-rmse:0.004441\tvalidation_1-rmse:0.004725\tvalidation_0-PyRMSLE:0.004437\tvalidation_1-PyRMSLE:0.004714\n",
            "[39]\tvalidation_0-rmse:0.00444\tvalidation_1-rmse:0.004725\tvalidation_0-PyRMSLE:0.004437\tvalidation_1-PyRMSLE:0.004713\n",
            "[0]\tvalidation_0-rmse:0.399977\tvalidation_1-rmse:0.400147\tvalidation_0-PyRMSLE:0.336497\tvalidation_1-PyRMSLE:0.336677\n",
            "[1]\tvalidation_0-rmse:0.319988\tvalidation_1-rmse:0.320185\tvalidation_0-PyRMSLE:0.277679\tvalidation_1-PyRMSLE:0.277871\n",
            "[2]\tvalidation_0-rmse:0.256066\tvalidation_1-rmse:0.256226\tvalidation_0-PyRMSLE:0.228005\tvalidation_1-PyRMSLE:0.228212\n",
            "[3]\tvalidation_0-rmse:0.204869\tvalidation_1-rmse:0.205073\tvalidation_0-PyRMSLE:0.186414\tvalidation_1-PyRMSLE:0.18664\n",
            "[4]\tvalidation_0-rmse:0.163963\tvalidation_1-rmse:0.164169\tvalidation_0-PyRMSLE:0.151857\tvalidation_1-PyRMSLE:0.152107\n",
            "[5]\tvalidation_0-rmse:0.131213\tvalidation_1-rmse:0.131468\tvalidation_0-PyRMSLE:0.123336\tvalidation_1-PyRMSLE:0.123616\n",
            "[6]\tvalidation_0-rmse:0.105045\tvalidation_1-rmse:0.105335\tvalidation_0-PyRMSLE:0.099931\tvalidation_1-PyRMSLE:0.100248\n",
            "[7]\tvalidation_0-rmse:0.084125\tvalidation_1-rmse:0.084463\tvalidation_0-PyRMSLE:0.080821\tvalidation_1-PyRMSLE:0.081185\n",
            "[8]\tvalidation_0-rmse:0.067411\tvalidation_1-rmse:0.067807\tvalidation_0-PyRMSLE:0.065285\tvalidation_1-PyRMSLE:0.065707\n",
            "[9]\tvalidation_0-rmse:0.054069\tvalidation_1-rmse:0.054537\tvalidation_0-PyRMSLE:0.052708\tvalidation_1-PyRMSLE:0.053201\n",
            "[10]\tvalidation_0-rmse:0.043429\tvalidation_1-rmse:0.043987\tvalidation_0-PyRMSLE:0.042563\tvalidation_1-PyRMSLE:0.043145\n",
            "[11]\tvalidation_0-rmse:0.034962\tvalidation_1-rmse:0.035626\tvalidation_0-PyRMSLE:0.034414\tvalidation_1-PyRMSLE:0.035103\n",
            "[12]\tvalidation_0-rmse:0.028236\tvalidation_1-rmse:0.029032\tvalidation_0-PyRMSLE:0.027895\tvalidation_1-PyRMSLE:0.028715\n",
            "[13]\tvalidation_0-rmse:0.022919\tvalidation_1-rmse:0.023871\tvalidation_0-PyRMSLE:0.022712\tvalidation_1-PyRMSLE:0.023685\n",
            "[14]\tvalidation_0-rmse:0.01874\tvalidation_1-rmse:0.019873\tvalidation_0-PyRMSLE:0.01862\tvalidation_1-PyRMSLE:0.019769\n",
            "[15]\tvalidation_0-rmse:0.015484\tvalidation_1-rmse:0.016819\tvalidation_0-PyRMSLE:0.01542\tvalidation_1-PyRMSLE:0.016765\n",
            "[16]\tvalidation_0-rmse:0.012983\tvalidation_1-rmse:0.014527\tvalidation_0-PyRMSLE:0.01295\tvalidation_1-PyRMSLE:0.014504\n",
            "[17]\tvalidation_0-rmse:0.011086\tvalidation_1-rmse:0.012844\tvalidation_0-PyRMSLE:0.011076\tvalidation_1-PyRMSLE:0.012838\n",
            "[18]\tvalidation_0-rmse:0.009679\tvalidation_1-rmse:0.011637\tvalidation_0-PyRMSLE:0.009683\tvalidation_1-PyRMSLE:0.01164\n",
            "[19]\tvalidation_0-rmse:0.00866\tvalidation_1-rmse:0.010791\tvalidation_0-PyRMSLE:0.008671\tvalidation_1-PyRMSLE:0.010797\n",
            "[20]\tvalidation_0-rmse:0.007938\tvalidation_1-rmse:0.010211\tvalidation_0-PyRMSLE:0.007954\tvalidation_1-PyRMSLE:0.010218\n",
            "[21]\tvalidation_0-rmse:0.007441\tvalidation_1-rmse:0.00982\tvalidation_0-PyRMSLE:0.007458\tvalidation_1-PyRMSLE:0.009825\n",
            "[22]\tvalidation_0-rmse:0.007098\tvalidation_1-rmse:0.00956\tvalidation_0-PyRMSLE:0.007115\tvalidation_1-PyRMSLE:0.009563\n",
            "[23]\tvalidation_0-rmse:0.006872\tvalidation_1-rmse:0.009388\tvalidation_0-PyRMSLE:0.00689\tvalidation_1-PyRMSLE:0.00939\n",
            "[24]\tvalidation_0-rmse:0.006725\tvalidation_1-rmse:0.009276\tvalidation_0-PyRMSLE:0.006742\tvalidation_1-PyRMSLE:0.009276\n",
            "[25]\tvalidation_0-rmse:0.006629\tvalidation_1-rmse:0.009203\tvalidation_0-PyRMSLE:0.006645\tvalidation_1-PyRMSLE:0.009201\n",
            "[26]\tvalidation_0-rmse:0.006566\tvalidation_1-rmse:0.009155\tvalidation_0-PyRMSLE:0.006582\tvalidation_1-PyRMSLE:0.009152\n",
            "[27]\tvalidation_0-rmse:0.006526\tvalidation_1-rmse:0.009124\tvalidation_0-PyRMSLE:0.006541\tvalidation_1-PyRMSLE:0.00912\n",
            "[28]\tvalidation_0-rmse:0.006501\tvalidation_1-rmse:0.009103\tvalidation_0-PyRMSLE:0.006515\tvalidation_1-PyRMSLE:0.009098\n",
            "[29]\tvalidation_0-rmse:0.006483\tvalidation_1-rmse:0.00909\tvalidation_0-PyRMSLE:0.006498\tvalidation_1-PyRMSLE:0.009084\n",
            "[30]\tvalidation_0-rmse:0.006473\tvalidation_1-rmse:0.009081\tvalidation_0-PyRMSLE:0.006487\tvalidation_1-PyRMSLE:0.009075\n",
            "[31]\tvalidation_0-rmse:0.006466\tvalidation_1-rmse:0.009075\tvalidation_0-PyRMSLE:0.00648\tvalidation_1-PyRMSLE:0.009068\n",
            "[32]\tvalidation_0-rmse:0.006462\tvalidation_1-rmse:0.009071\tvalidation_0-PyRMSLE:0.006475\tvalidation_1-PyRMSLE:0.009064\n",
            "[33]\tvalidation_0-rmse:0.006459\tvalidation_1-rmse:0.009068\tvalidation_0-PyRMSLE:0.006472\tvalidation_1-PyRMSLE:0.009061\n",
            "[34]\tvalidation_0-rmse:0.006457\tvalidation_1-rmse:0.009067\tvalidation_0-PyRMSLE:0.00647\tvalidation_1-PyRMSLE:0.009059\n",
            "[35]\tvalidation_0-rmse:0.006456\tvalidation_1-rmse:0.009065\tvalidation_0-PyRMSLE:0.006469\tvalidation_1-PyRMSLE:0.009058\n",
            "[36]\tvalidation_0-rmse:0.006456\tvalidation_1-rmse:0.009064\tvalidation_0-PyRMSLE:0.006468\tvalidation_1-PyRMSLE:0.009057\n",
            "[37]\tvalidation_0-rmse:0.006455\tvalidation_1-rmse:0.009064\tvalidation_0-PyRMSLE:0.006468\tvalidation_1-PyRMSLE:0.009056\n",
            "[38]\tvalidation_0-rmse:0.006455\tvalidation_1-rmse:0.009063\tvalidation_0-PyRMSLE:0.006467\tvalidation_1-PyRMSLE:0.009055\n",
            "[39]\tvalidation_0-rmse:0.006454\tvalidation_1-rmse:0.009063\tvalidation_0-PyRMSLE:0.006467\tvalidation_1-PyRMSLE:0.009055\n",
            "[40]\tvalidation_0-rmse:0.006454\tvalidation_1-rmse:0.009063\tvalidation_0-PyRMSLE:0.006467\tvalidation_1-PyRMSLE:0.009055\n",
            "[41]\tvalidation_0-rmse:0.00645\tvalidation_1-rmse:0.009063\tvalidation_0-PyRMSLE:0.006462\tvalidation_1-PyRMSLE:0.009055\n",
            "[42]\tvalidation_0-rmse:0.00645\tvalidation_1-rmse:0.009063\tvalidation_0-PyRMSLE:0.006462\tvalidation_1-PyRMSLE:0.009054\n",
            "[0]\tvalidation_0-rmse:0.398687\tvalidation_1-rmse:0.400447\tvalidation_0-PyRMSLE:0.335195\tvalidation_1-PyRMSLE:0.336844\n",
            "[1]\tvalidation_0-rmse:0.319033\tvalidation_1-rmse:0.320097\tvalidation_0-PyRMSLE:0.276644\tvalidation_1-PyRMSLE:0.27776\n",
            "[2]\tvalidation_0-rmse:0.255385\tvalidation_1-rmse:0.256367\tvalidation_0-PyRMSLE:0.22724\tvalidation_1-PyRMSLE:0.228281\n",
            "[3]\tvalidation_0-rmse:0.204392\tvalidation_1-rmse:0.204849\tvalidation_0-PyRMSLE:0.185862\tvalidation_1-PyRMSLE:0.186412\n",
            "[4]\tvalidation_0-rmse:0.163662\tvalidation_1-rmse:0.164079\tvalidation_0-PyRMSLE:0.151536\tvalidation_1-PyRMSLE:0.151989\n",
            "[5]\tvalidation_0-rmse:0.131118\tvalidation_1-rmse:0.131063\tvalidation_0-PyRMSLE:0.123159\tvalidation_1-PyRMSLE:0.123217\n",
            "[6]\tvalidation_0-rmse:0.105104\tvalidation_1-rmse:0.104995\tvalidation_0-PyRMSLE:0.099949\tvalidation_1-PyRMSLE:0.099901\n",
            "[7]\tvalidation_0-rmse:0.084262\tvalidation_1-rmse:0.084011\tvalidation_0-PyRMSLE:0.080946\tvalidation_1-PyRMSLE:0.080729\n",
            "[8]\tvalidation_0-rmse:0.067738\tvalidation_1-rmse:0.067369\tvalidation_0-PyRMSLE:0.065585\tvalidation_1-PyRMSLE:0.065258\n",
            "[9]\tvalidation_0-rmse:0.054476\tvalidation_1-rmse:0.054027\tvalidation_0-PyRMSLE:0.0531\tvalidation_1-PyRMSLE:0.05268\n",
            "[10]\tvalidation_0-rmse:0.04399\tvalidation_1-rmse:0.043426\tvalidation_0-PyRMSLE:0.043118\tvalidation_1-PyRMSLE:0.04257\n",
            "[11]\tvalidation_0-rmse:0.035711\tvalidation_1-rmse:0.035011\tvalidation_0-PyRMSLE:0.035154\tvalidation_1-PyRMSLE:0.034472\n",
            "[12]\tvalidation_0-rmse:0.029045\tvalidation_1-rmse:0.028287\tvalidation_0-PyRMSLE:0.028703\tvalidation_1-PyRMSLE:0.027954\n",
            "[13]\tvalidation_0-rmse:0.023805\tvalidation_1-rmse:0.023025\tvalidation_0-PyRMSLE:0.023588\tvalidation_1-PyRMSLE:0.022822\n",
            "[14]\tvalidation_0-rmse:0.019798\tvalidation_1-rmse:0.0189\tvalidation_0-PyRMSLE:0.019668\tvalidation_1-PyRMSLE:0.01878\n",
            "[15]\tvalidation_0-rmse:0.016609\tvalidation_1-rmse:0.015599\tvalidation_0-PyRMSLE:0.016534\tvalidation_1-PyRMSLE:0.015532\n",
            "[16]\tvalidation_0-rmse:0.014281\tvalidation_1-rmse:0.013097\tvalidation_0-PyRMSLE:0.014226\tvalidation_1-PyRMSLE:0.013061\n",
            "[17]\tvalidation_0-rmse:0.012571\tvalidation_1-rmse:0.011293\tvalidation_0-PyRMSLE:0.012531\tvalidation_1-PyRMSLE:0.011275\n",
            "[18]\tvalidation_0-rmse:0.011206\tvalidation_1-rmse:0.010042\tvalidation_0-PyRMSLE:0.011167\tvalidation_1-PyRMSLE:0.010033\n",
            "[19]\tvalidation_0-rmse:0.010264\tvalidation_1-rmse:0.009111\tvalidation_0-PyRMSLE:0.010225\tvalidation_1-PyRMSLE:0.009105\n",
            "[20]\tvalidation_0-rmse:0.009652\tvalidation_1-rmse:0.008466\tvalidation_0-PyRMSLE:0.009611\tvalidation_1-PyRMSLE:0.008462\n",
            "[21]\tvalidation_0-rmse:0.009241\tvalidation_1-rmse:0.008035\tvalidation_0-PyRMSLE:0.009194\tvalidation_1-PyRMSLE:0.00803\n",
            "[22]\tvalidation_0-rmse:0.008965\tvalidation_1-rmse:0.007753\tvalidation_0-PyRMSLE:0.008915\tvalidation_1-PyRMSLE:0.007746\n",
            "[23]\tvalidation_0-rmse:0.008787\tvalidation_1-rmse:0.007572\tvalidation_0-PyRMSLE:0.00873\tvalidation_1-PyRMSLE:0.007564\n",
            "[24]\tvalidation_0-rmse:0.008669\tvalidation_1-rmse:0.007459\tvalidation_0-PyRMSLE:0.008609\tvalidation_1-PyRMSLE:0.007449\n",
            "[25]\tvalidation_0-rmse:0.008593\tvalidation_1-rmse:0.007389\tvalidation_0-PyRMSLE:0.00853\tvalidation_1-PyRMSLE:0.007378\n",
            "[26]\tvalidation_0-rmse:0.008473\tvalidation_1-rmse:0.007356\tvalidation_0-PyRMSLE:0.008407\tvalidation_1-PyRMSLE:0.007344\n",
            "[27]\tvalidation_0-rmse:0.008293\tvalidation_1-rmse:0.007326\tvalidation_0-PyRMSLE:0.008231\tvalidation_1-PyRMSLE:0.007313\n",
            "[28]\tvalidation_0-rmse:0.008189\tvalidation_1-rmse:0.007311\tvalidation_0-PyRMSLE:0.008128\tvalidation_1-PyRMSLE:0.007298\n",
            "[29]\tvalidation_0-rmse:0.008066\tvalidation_1-rmse:0.007297\tvalidation_0-PyRMSLE:0.008009\tvalidation_1-PyRMSLE:0.007282\n",
            "[30]\tvalidation_0-rmse:0.008015\tvalidation_1-rmse:0.007297\tvalidation_0-PyRMSLE:0.007956\tvalidation_1-PyRMSLE:0.007282\n",
            "[31]\tvalidation_0-rmse:0.008011\tvalidation_1-rmse:0.007296\tvalidation_0-PyRMSLE:0.007949\tvalidation_1-PyRMSLE:0.007281\n",
            "[32]\tvalidation_0-rmse:0.008007\tvalidation_1-rmse:0.007296\tvalidation_0-PyRMSLE:0.007944\tvalidation_1-PyRMSLE:0.00728\n",
            "[0]\tvalidation_0-rmse:0.400017\tvalidation_1-rmse:0.400011\tvalidation_0-PyRMSLE:0.336558\tvalidation_1-PyRMSLE:0.336584\n",
            "[1]\tvalidation_0-rmse:0.319957\tvalidation_1-rmse:0.32007\tvalidation_0-PyRMSLE:0.277744\tvalidation_1-PyRMSLE:0.277796\n",
            "[2]\tvalidation_0-rmse:0.256156\tvalidation_1-rmse:0.256132\tvalidation_0-PyRMSLE:0.228076\tvalidation_1-PyRMSLE:0.22816\n",
            "[3]\tvalidation_0-rmse:0.204933\tvalidation_1-rmse:0.205008\tvalidation_0-PyRMSLE:0.186493\tvalidation_1-PyRMSLE:0.186617\n",
            "[4]\tvalidation_0-rmse:0.164039\tvalidation_1-rmse:0.164141\tvalidation_0-PyRMSLE:0.151946\tvalidation_1-PyRMSLE:0.152121\n",
            "[5]\tvalidation_0-rmse:0.131305\tvalidation_1-rmse:0.131487\tvalidation_0-PyRMSLE:0.123438\tvalidation_1-PyRMSLE:0.123674\n",
            "[6]\tvalidation_0-rmse:0.105151\tvalidation_1-rmse:0.105414\tvalidation_0-PyRMSLE:0.10005\tvalidation_1-PyRMSLE:0.100364\n",
            "[7]\tvalidation_0-rmse:0.084256\tvalidation_1-rmse:0.084616\tvalidation_0-PyRMSLE:0.080962\tvalidation_1-PyRMSLE:0.081372\n",
            "[8]\tvalidation_0-rmse:0.067571\tvalidation_1-rmse:0.068055\tvalidation_0-PyRMSLE:0.065454\tvalidation_1-PyRMSLE:0.065984\n",
            "[9]\tvalidation_0-rmse:0.054265\tvalidation_1-rmse:0.054899\tvalidation_0-PyRMSLE:0.052911\tvalidation_1-PyRMSLE:0.053588\n",
            "[10]\tvalidation_0-rmse:0.04367\tvalidation_1-rmse:0.044488\tvalidation_0-PyRMSLE:0.042809\tvalidation_1-PyRMSLE:0.043666\n",
            "[11]\tvalidation_0-rmse:0.035255\tvalidation_1-rmse:0.036297\tvalidation_0-PyRMSLE:0.034713\tvalidation_1-PyRMSLE:0.035786\n",
            "[12]\tvalidation_0-rmse:0.028597\tvalidation_1-rmse:0.029905\tvalidation_0-PyRMSLE:0.028259\tvalidation_1-PyRMSLE:0.02959\n",
            "[13]\tvalidation_0-rmse:0.023361\tvalidation_1-rmse:0.024975\tvalidation_0-PyRMSLE:0.023153\tvalidation_1-PyRMSLE:0.024781\n",
            "[14]\tvalidation_0-rmse:0.019276\tvalidation_1-rmse:0.021233\tvalidation_0-PyRMSLE:0.01915\tvalidation_1-PyRMSLE:0.02111\n",
            "[15]\tvalidation_0-rmse:0.016121\tvalidation_1-rmse:0.018447\tvalidation_0-PyRMSLE:0.016047\tvalidation_1-PyRMSLE:0.018362\n",
            "[16]\tvalidation_0-rmse:0.013732\tvalidation_1-rmse:0.016424\tvalidation_0-PyRMSLE:0.013687\tvalidation_1-PyRMSLE:0.016357\n",
            "[17]\tvalidation_0-rmse:0.011953\tvalidation_1-rmse:0.01499\tvalidation_0-PyRMSLE:0.011926\tvalidation_1-PyRMSLE:0.014929\n",
            "[18]\tvalidation_0-rmse:0.010661\tvalidation_1-rmse:0.013998\tvalidation_0-PyRMSLE:0.010641\tvalidation_1-PyRMSLE:0.013937\n",
            "[19]\tvalidation_0-rmse:0.009744\tvalidation_1-rmse:0.013328\tvalidation_0-PyRMSLE:0.009727\tvalidation_1-PyRMSLE:0.013262\n",
            "[20]\tvalidation_0-rmse:0.009108\tvalidation_1-rmse:0.012883\tvalidation_0-PyRMSLE:0.009091\tvalidation_1-PyRMSLE:0.012812\n",
            "[21]\tvalidation_0-rmse:0.008677\tvalidation_1-rmse:0.012592\tvalidation_0-PyRMSLE:0.008659\tvalidation_1-PyRMSLE:0.012516\n",
            "[22]\tvalidation_0-rmse:0.008389\tvalidation_1-rmse:0.012404\tvalidation_0-PyRMSLE:0.008369\tvalidation_1-PyRMSLE:0.012324\n",
            "[23]\tvalidation_0-rmse:0.008199\tvalidation_1-rmse:0.012283\tvalidation_0-PyRMSLE:0.008177\tvalidation_1-PyRMSLE:0.012199\n",
            "[24]\tvalidation_0-rmse:0.008076\tvalidation_1-rmse:0.012206\tvalidation_0-PyRMSLE:0.008052\tvalidation_1-PyRMSLE:0.012119\n",
            "[25]\tvalidation_0-rmse:0.007995\tvalidation_1-rmse:0.012157\tvalidation_0-PyRMSLE:0.00797\tvalidation_1-PyRMSLE:0.012068\n",
            "[26]\tvalidation_0-rmse:0.007943\tvalidation_1-rmse:0.012126\tvalidation_0-PyRMSLE:0.007917\tvalidation_1-PyRMSLE:0.012035\n",
            "[27]\tvalidation_0-rmse:0.007909\tvalidation_1-rmse:0.012107\tvalidation_0-PyRMSLE:0.007882\tvalidation_1-PyRMSLE:0.012015\n",
            "[28]\tvalidation_0-rmse:0.007888\tvalidation_1-rmse:0.012095\tvalidation_0-PyRMSLE:0.00786\tvalidation_1-PyRMSLE:0.012002\n",
            "[29]\tvalidation_0-rmse:0.007874\tvalidation_1-rmse:0.012088\tvalidation_0-PyRMSLE:0.007846\tvalidation_1-PyRMSLE:0.011993\n",
            "[30]\tvalidation_0-rmse:0.007865\tvalidation_1-rmse:0.012084\tvalidation_0-PyRMSLE:0.007836\tvalidation_1-PyRMSLE:0.011988\n",
            "[31]\tvalidation_0-rmse:0.007859\tvalidation_1-rmse:0.012081\tvalidation_0-PyRMSLE:0.00783\tvalidation_1-PyRMSLE:0.011985\n",
            "[32]\tvalidation_0-rmse:0.007856\tvalidation_1-rmse:0.01208\tvalidation_0-PyRMSLE:0.007826\tvalidation_1-PyRMSLE:0.011983\n",
            "[33]\tvalidation_0-rmse:0.007853\tvalidation_1-rmse:0.012079\tvalidation_0-PyRMSLE:0.007823\tvalidation_1-PyRMSLE:0.011982\n",
            "[34]\tvalidation_0-rmse:0.007852\tvalidation_1-rmse:0.012079\tvalidation_0-PyRMSLE:0.007822\tvalidation_1-PyRMSLE:0.011981\n",
            "[35]\tvalidation_0-rmse:0.007851\tvalidation_1-rmse:0.012078\tvalidation_0-PyRMSLE:0.00782\tvalidation_1-PyRMSLE:0.011981\n",
            "[36]\tvalidation_0-rmse:0.00785\tvalidation_1-rmse:0.012078\tvalidation_0-PyRMSLE:0.00782\tvalidation_1-PyRMSLE:0.01198\n"
          ]
        }
      ]
    },
    {
      "cell_type": "code",
      "source": [
        "\n",
        "for base in assets:\n",
        "  del modelos[base]"
      ],
      "metadata": {
        "id": "N2X9vCwHAitK"
      },
      "execution_count": 75,
      "outputs": []
    },
    {
      "cell_type": "code",
      "source": [
        "pk.dump(assets,open('gdrive/My Drive/Colab Notebooks/Kaggle/g_research_competition/base_mod.pkl','wb'))"
      ],
      "metadata": {
        "id": "05xxUsP_EKR7"
      },
      "execution_count": 76,
      "outputs": []
    },
    {
      "cell_type": "code",
      "source": [
        "# dict_importances=modelos[0]._Booster.get_score(importance_type=\"weight\")\n",
        "# names_vars= pd.DataFrame(list(dict_importances.keys()),columns=[\"Vars\"])\n",
        "# importancia_vars = pd.DataFrame(list(dict_importances.values()),columns=[\"importancia\"])\n",
        "# importancia=pd.concat([names_vars,importancia_vars],axis=1).sort_values(by=\"importancia\")\n",
        "# import matplotlib.pyplot as plt\n",
        "# %matplotlib inline\n",
        "# plt.figure(figsize=(10,20))\n",
        "# plt.barh(importancia[\"Vars\"],importancia[\"importancia\"])"
      ],
      "metadata": {
        "id": "7uCT0T0mTTze"
      },
      "execution_count": 77,
      "outputs": []
    },
    {
      "cell_type": "code",
      "source": [
        "x_valid = {x: assets[x].loc[totimestamp(\"01/07/2021\"):totimestamp(\"01/09/2021\")].drop(['Open', 'High', 'Low', 'Close', 'VWAP','Target'], axis=1) for x in assets.keys()}"
      ],
      "metadata": {
        "id": "NDGTFVdc47Ez"
      },
      "execution_count": 87,
      "outputs": []
    },
    {
      "cell_type": "code",
      "source": [
        "y_valid={x: np.array(assets[x].loc[totimestamp(\"01/07/2021\"):totimestamp(\"01/09/2021\")][\"Target\"]) for x in assets.keys()}"
      ],
      "metadata": {
        "id": "oYz7AepaYJHY"
      },
      "execution_count": 89,
      "outputs": []
    },
    {
      "cell_type": "code",
      "source": [
        "predito_valid={}\n",
        "for base in assets:\n",
        "  modelo=pk.load(open('gdrive/My Drive/Colab Notebooks/Kaggle/g_research_competition/modelo_'+str(base)+'.pkl','rb'))\n",
        "  predito_valid[base]=modelo.predict(assets[base].loc[totimestamp(\"01/07/2021\"):totimestamp(\"01/09/2021\")].drop(['Open', 'High', 'Low', 'Close', 'VWAP','Target'], axis=1))\n"
      ],
      "metadata": {
        "id": "gRmFNhhb46ab"
      },
      "execution_count": 90,
      "outputs": []
    },
    {
      "cell_type": "code",
      "source": [
        " predito_valid[0]"
      ],
      "metadata": {
        "colab": {
          "base_uri": "https://localhost:8080/"
        },
        "id": "BodBVkRSZbYR",
        "outputId": "72f58d6a-7201-457c-8891-e98e3af5c3c2"
      },
      "execution_count": 91,
      "outputs": [
        {
          "output_type": "execute_result",
          "data": {
            "text/plain": [
              "array([6.318092e-05, 6.318092e-05, 6.318092e-05, ..., 6.318092e-05,\n",
              "       6.318092e-05, 6.318092e-05], dtype=float32)"
            ]
          },
          "metadata": {},
          "execution_count": 91
        }
      ]
    },
    {
      "cell_type": "code",
      "source": [
        "from sklearn.metrics import mean_squared_error\n",
        "[{\"Valid\":mean_squared_error(predito_valid[0],y_valid[0])}]"
      ],
      "metadata": {
        "colab": {
          "base_uri": "https://localhost:8080/"
        },
        "id": "O8QFavOWZsnr",
        "outputId": "5bfb3e51-5aca-4175-d9ef-549c26401c8a"
      },
      "execution_count": 94,
      "outputs": [
        {
          "output_type": "execute_result",
          "data": {
            "text/plain": [
              "[{'Valid': 4.5249963e-06}]"
            ]
          },
          "metadata": {},
          "execution_count": 94
        }
      ]
    },
    {
      "cell_type": "code",
      "source": [
        ""
      ],
      "metadata": {
        "id": "uuQgKLoyZhQ8"
      },
      "execution_count": null,
      "outputs": []
    },
    {
      "cell_type": "markdown",
      "metadata": {
        "id": "zVGyGSjqJgmj"
      },
      "source": [
        "# 5. Avaliação dos resultados"
      ]
    },
    {
      "cell_type": "code",
      "execution_count": null,
      "metadata": {
        "id": "jr2WcjFvJgmj"
      },
      "outputs": [],
      "source": [
        "\n",
        "\n",
        "\n",
        "\n"
      ]
    }
  ],
  "metadata": {
    "colab": {
      "collapsed_sections": [],
      "name": "Cópia de criptotroxa.ipynb",
      "provenance": [],
      "include_colab_link": true
    },
    "kernelspec": {
      "display_name": "Python 3",
      "language": "python",
      "name": "python3"
    },
    "language_info": {
      "codemirror_mode": {
        "name": "ipython",
        "version": 3
      },
      "file_extension": ".py",
      "mimetype": "text/x-python",
      "name": "python",
      "nbconvert_exporter": "python",
      "pygments_lexer": "ipython3",
      "version": "3.7.12"
    }
  },
  "nbformat": 4,
  "nbformat_minor": 0
}